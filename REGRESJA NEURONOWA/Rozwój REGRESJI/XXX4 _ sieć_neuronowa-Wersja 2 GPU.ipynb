{
 "cells": [
  {
   "cell_type": "markdown",
   "metadata": {},
   "source": [
    "<span style=\"font-size: 150%;color:white;background:#38761d\"> A task for the recruitment process\n",
    "\n",
    "<span style=\"font-size: 150%;color:white;background:red\">Wojciech Moszczyński\n",
    "\n",
    "\n",
    "\n",
    "<span style=\"font-size: 300%;color:white;background:#38761d\">neural network   \n",
    "    \n",
    "    from:\n",
    "https://archive.ics.uci.edu/ml/datasets/Sales_Transactions_Dataset_Weekly.\n",
    "\n",
    "\n",
    "<span style=\"font-size: 150%;color:#0c343d;background:#fff2cc\"> For the first 10 products, please conduct the exploratory analysis and compute the forecast for the next 7 weeks.  "
   ]
  },
  {
   "cell_type": "code",
   "execution_count": 1,
   "metadata": {},
   "outputs": [],
   "source": [
    "import pandas as pd\n",
    "import numpy as np\n",
    "%matplotlib inline\n",
    "import seaborn as sns\n",
    "import matplotlib.pyplot as plt\n",
    "import torch\n",
    "\n",
    "import warnings \n",
    "warnings.filterwarnings(\"ignore\")\n",
    "\n",
    "device = torch.device('cuda') \n",
    "\n",
    "from sklearn.metrics import mean_squared_log_error"
   ]
  },
  {
   "cell_type": "code",
   "execution_count": 2,
   "metadata": {},
   "outputs": [
    {
     "name": "stdout",
     "output_type": "stream",
     "text": [
      "Timestamp    datetime64[ns]\n",
      "Value                 int64\n",
      "dtype: object\n"
     ]
    },
    {
     "data": {
      "text/html": [
       "<div>\n",
       "<style scoped>\n",
       "    .dataframe tbody tr th:only-of-type {\n",
       "        vertical-align: middle;\n",
       "    }\n",
       "\n",
       "    .dataframe tbody tr th {\n",
       "        vertical-align: top;\n",
       "    }\n",
       "\n",
       "    .dataframe thead th {\n",
       "        text-align: right;\n",
       "    }\n",
       "</style>\n",
       "<table border=\"1\" class=\"dataframe\">\n",
       "  <thead>\n",
       "    <tr style=\"text-align: right;\">\n",
       "      <th></th>\n",
       "      <th>Timestamp</th>\n",
       "      <th>Value</th>\n",
       "    </tr>\n",
       "  </thead>\n",
       "  <tbody>\n",
       "    <tr>\n",
       "      <td>0</td>\n",
       "      <td>2020-05-01 00:00:00.000</td>\n",
       "      <td>0</td>\n",
       "    </tr>\n",
       "    <tr>\n",
       "      <td>1</td>\n",
       "      <td>2020-05-01 00:00:10.000</td>\n",
       "      <td>10</td>\n",
       "    </tr>\n",
       "    <tr>\n",
       "      <td>2</td>\n",
       "      <td>2020-05-01 00:00:20.000</td>\n",
       "      <td>20</td>\n",
       "    </tr>\n",
       "    <tr>\n",
       "      <td>3</td>\n",
       "      <td>2020-05-01 00:00:29.985</td>\n",
       "      <td>30</td>\n",
       "    </tr>\n",
       "  </tbody>\n",
       "</table>\n",
       "</div>"
      ],
      "text/plain": [
       "                Timestamp  Value\n",
       "0 2020-05-01 00:00:00.000      0\n",
       "1 2020-05-01 00:00:10.000     10\n",
       "2 2020-05-01 00:00:20.000     20\n",
       "3 2020-05-01 00:00:29.985     30"
      ]
     },
     "execution_count": 2,
     "metadata": {},
     "output_type": "execute_result"
    }
   ],
   "source": [
    "df = pd.read_excel('/media/wojciech/D6DE33C1DE339927/1A/dane1.xlsx')    \n",
    "print(df.dtypes)\n",
    "df.head(4)"
   ]
  },
  {
   "cell_type": "code",
   "execution_count": 3,
   "metadata": {},
   "outputs": [],
   "source": [
    "df['Timestamp'] = pd.to_datetime(df['Timestamp'])"
   ]
  },
  {
   "cell_type": "code",
   "execution_count": 4,
   "metadata": {},
   "outputs": [
    {
     "data": {
      "text/html": [
       "<div>\n",
       "<style scoped>\n",
       "    .dataframe tbody tr th:only-of-type {\n",
       "        vertical-align: middle;\n",
       "    }\n",
       "\n",
       "    .dataframe tbody tr th {\n",
       "        vertical-align: top;\n",
       "    }\n",
       "\n",
       "    .dataframe thead th {\n",
       "        text-align: right;\n",
       "    }\n",
       "</style>\n",
       "<table border=\"1\" class=\"dataframe\">\n",
       "  <thead>\n",
       "    <tr style=\"text-align: right;\">\n",
       "      <th></th>\n",
       "      <th>Timestamp</th>\n",
       "      <th>Value</th>\n",
       "      <th>hour</th>\n",
       "      <th>minute</th>\n",
       "      <th>second</th>\n",
       "    </tr>\n",
       "  </thead>\n",
       "  <tbody>\n",
       "    <tr>\n",
       "      <td>0</td>\n",
       "      <td>2020-05-01 00:00:00</td>\n",
       "      <td>0</td>\n",
       "      <td>0.0</td>\n",
       "      <td>0.0</td>\n",
       "      <td>0.0</td>\n",
       "    </tr>\n",
       "    <tr>\n",
       "      <td>1</td>\n",
       "      <td>2020-05-01 00:00:10</td>\n",
       "      <td>10</td>\n",
       "      <td>0.0</td>\n",
       "      <td>0.0</td>\n",
       "      <td>10.0</td>\n",
       "    </tr>\n",
       "    <tr>\n",
       "      <td>2</td>\n",
       "      <td>2020-05-01 00:00:20</td>\n",
       "      <td>20</td>\n",
       "      <td>0.0</td>\n",
       "      <td>0.0</td>\n",
       "      <td>20.0</td>\n",
       "    </tr>\n",
       "  </tbody>\n",
       "</table>\n",
       "</div>"
      ],
      "text/plain": [
       "            Timestamp  Value  hour  minute  second\n",
       "0 2020-05-01 00:00:00      0   0.0     0.0     0.0\n",
       "1 2020-05-01 00:00:10     10   0.0     0.0    10.0\n",
       "2 2020-05-01 00:00:20     20   0.0     0.0    20.0"
      ]
     },
     "execution_count": 4,
     "metadata": {},
     "output_type": "execute_result"
    }
   ],
   "source": [
    "\n",
    "df['hour']= df['Timestamp'].dt.hour.astype(np.float32)\n",
    "df['minute']= df['Timestamp'].dt.minute.astype(np.float32)\n",
    "df['second']= df['Timestamp'].dt.second.astype(np.float32)\n",
    "\n",
    "df.head(3)"
   ]
  },
  {
   "cell_type": "code",
   "execution_count": 5,
   "metadata": {},
   "outputs": [],
   "source": [
    "df = df.dropna(how='any')"
   ]
  },
  {
   "cell_type": "code",
   "execution_count": 6,
   "metadata": {},
   "outputs": [
    {
     "data": {
      "text/plain": [
       "Index(['Timestamp', 'Value', 'hour', 'minute', 'second'], dtype='object')"
      ]
     },
     "execution_count": 6,
     "metadata": {},
     "output_type": "execute_result"
    }
   ],
   "source": [
    "df.columns"
   ]
  },
  {
   "cell_type": "code",
   "execution_count": 7,
   "metadata": {},
   "outputs": [
    {
     "data": {
      "text/plain": [
       "(501, 5)"
      ]
     },
     "execution_count": 7,
     "metadata": {},
     "output_type": "execute_result"
    }
   ],
   "source": [
    "df.shape"
   ]
  },
  {
   "cell_type": "code",
   "execution_count": 8,
   "metadata": {},
   "outputs": [
    {
     "name": "stdout",
     "output_type": "stream",
     "text": [
      "max: 100\n",
      "min: 0\n"
     ]
    },
    {
     "data": {
      "text/plain": [
       "<matplotlib.axes._subplots.AxesSubplot at 0x7f7f855fc750>"
      ]
     },
     "execution_count": 8,
     "metadata": {},
     "output_type": "execute_result"
    },
    {
     "data": {
      "image/png": "[encoded data removed]",
      "text/plain": [
       "<Figure size 432x288 with 1 Axes>"
      ]
     },
     "metadata": {
      "needs_background": "light"
     },
     "output_type": "display_data"
    }
   ],
   "source": [
    "print('max:',df['Value'].max())\n",
    "print('min:',df['Value'].min())\n",
    "\n",
    "sns.distplot(np.array(df['Value']))"
   ]
  },
  {
   "cell_type": "markdown",
   "metadata": {},
   "source": [
    "<span style=\"font-size: 110%;color:#0c343d;background:#fff2cc\">The population "
   ]
  },
  {
   "cell_type": "markdown",
   "metadata": {},
   "source": [
    "<span style=\"font-size: 110%;color:#0c343d;background:#fff2cc\">Then we "
   ]
  },
  {
   "cell_type": "markdown",
   "metadata": {},
   "source": [
    "<span style=\"font-size: 210%;color:#0c343d;background:#fff2cc\"> We create \n",
    "    \n",
    "<span style=\"font-size: 110%;color:#0c343d;background:#fff2cc\">Now I creat"
   ]
  },
  {
   "cell_type": "markdown",
   "metadata": {},
   "source": [
    "<span style=\"font-size: 110%;color:#0c343d;background:#fff2cc\">Describing variables before scaling"
   ]
  },
  {
   "cell_type": "code",
   "execution_count": 9,
   "metadata": {},
   "outputs": [],
   "source": [
    "x = df['second']\n",
    "y = df['Value']"
   ]
  },
  {
   "cell_type": "markdown",
   "metadata": {},
   "source": [
    "<span style=\"font-size: 110%;color:#0c343d;background:#fff2cc\">I download data - I do not need standardized sales because the primary data is enough for me."
   ]
  },
  {
   "cell_type": "markdown",
   "metadata": {},
   "source": [
    "<span style=\"font-size: 140%;color:#0c343d;background:#fff2cc\">Dividing time series data into training and test sets.\n",
    "\n",
    "<span style=\"font-size: 110%;color:#0c343d;background:#fff2cc\">I split the set for training data for the first 42 weeks, then I separate the 44 and 45 test data set. Finally, as instructed, I allow a period of 7 weeks to make a forecast for 10 products. This will be the week: 45, 46, 47, 48, 49, 50, 51, 52. I will use this data at the end of the task when I have my model ready."
   ]
  },
  {
   "cell_type": "code",
   "execution_count": 10,
   "metadata": {},
   "outputs": [
    {
     "data": {
      "text/plain": [
       "0.0    361\n",
       "1.0    140\n",
       "Name: hour, dtype: int64"
      ]
     },
     "execution_count": 10,
     "metadata": {},
     "output_type": "execute_result"
    }
   ],
   "source": [
    "df['hour'].value_counts()"
   ]
  },
  {
   "cell_type": "code",
   "execution_count": 11,
   "metadata": {},
   "outputs": [],
   "source": [
    "del df['Timestamp'] "
   ]
  },
  {
   "cell_type": "code",
   "execution_count": 12,
   "metadata": {},
   "outputs": [],
   "source": [
    "train = df[df['hour'] == 0]\n",
    "test = df[df['hour'] == 1]"
   ]
  },
  {
   "cell_type": "code",
   "execution_count": 13,
   "metadata": {},
   "outputs": [
    {
     "data": {
      "text/html": [
       "<div>\n",
       "<style scoped>\n",
       "    .dataframe tbody tr th:only-of-type {\n",
       "        vertical-align: middle;\n",
       "    }\n",
       "\n",
       "    .dataframe tbody tr th {\n",
       "        vertical-align: top;\n",
       "    }\n",
       "\n",
       "    .dataframe thead th {\n",
       "        text-align: right;\n",
       "    }\n",
       "</style>\n",
       "<table border=\"1\" class=\"dataframe\">\n",
       "  <thead>\n",
       "    <tr style=\"text-align: right;\">\n",
       "      <th></th>\n",
       "      <th>Value</th>\n",
       "      <th>hour</th>\n",
       "      <th>minute</th>\n",
       "      <th>second</th>\n",
       "    </tr>\n",
       "  </thead>\n",
       "  <tbody>\n",
       "    <tr>\n",
       "      <td>361</td>\n",
       "      <td>10</td>\n",
       "      <td>1.0</td>\n",
       "      <td>0.0</td>\n",
       "      <td>8.0</td>\n",
       "    </tr>\n",
       "    <tr>\n",
       "      <td>362</td>\n",
       "      <td>20</td>\n",
       "      <td>1.0</td>\n",
       "      <td>0.0</td>\n",
       "      <td>18.0</td>\n",
       "    </tr>\n",
       "    <tr>\n",
       "      <td>363</td>\n",
       "      <td>30</td>\n",
       "      <td>1.0</td>\n",
       "      <td>0.0</td>\n",
       "      <td>28.0</td>\n",
       "    </tr>\n",
       "  </tbody>\n",
       "</table>\n",
       "</div>"
      ],
      "text/plain": [
       "     Value  hour  minute  second\n",
       "361     10   1.0     0.0     8.0\n",
       "362     20   1.0     0.0    18.0\n",
       "363     30   1.0     0.0    28.0"
      ]
     },
     "execution_count": 13,
     "metadata": {},
     "output_type": "execute_result"
    }
   ],
   "source": [
    "test.head(3)"
   ]
  },
  {
   "cell_type": "code",
   "execution_count": 14,
   "metadata": {},
   "outputs": [
    {
     "data": {
      "text/html": [
       "<div>\n",
       "<style scoped>\n",
       "    .dataframe tbody tr th:only-of-type {\n",
       "        vertical-align: middle;\n",
       "    }\n",
       "\n",
       "    .dataframe tbody tr th {\n",
       "        vertical-align: top;\n",
       "    }\n",
       "\n",
       "    .dataframe thead th {\n",
       "        text-align: right;\n",
       "    }\n",
       "</style>\n",
       "<table border=\"1\" class=\"dataframe\">\n",
       "  <thead>\n",
       "    <tr style=\"text-align: right;\">\n",
       "      <th></th>\n",
       "      <th>Value</th>\n",
       "      <th>hour</th>\n",
       "      <th>minute</th>\n",
       "      <th>second</th>\n",
       "    </tr>\n",
       "  </thead>\n",
       "  <tbody>\n",
       "    <tr>\n",
       "      <td>0</td>\n",
       "      <td>0</td>\n",
       "      <td>0.0</td>\n",
       "      <td>0.0</td>\n",
       "      <td>0.0</td>\n",
       "    </tr>\n",
       "    <tr>\n",
       "      <td>1</td>\n",
       "      <td>10</td>\n",
       "      <td>0.0</td>\n",
       "      <td>0.0</td>\n",
       "      <td>10.0</td>\n",
       "    </tr>\n",
       "    <tr>\n",
       "      <td>2</td>\n",
       "      <td>20</td>\n",
       "      <td>0.0</td>\n",
       "      <td>0.0</td>\n",
       "      <td>20.0</td>\n",
       "    </tr>\n",
       "  </tbody>\n",
       "</table>\n",
       "</div>"
      ],
      "text/plain": [
       "   Value  hour  minute  second\n",
       "0      0   0.0     0.0     0.0\n",
       "1     10   0.0     0.0    10.0\n",
       "2     20   0.0     0.0    20.0"
      ]
     },
     "execution_count": 14,
     "metadata": {},
     "output_type": "execute_result"
    }
   ],
   "source": [
    "train.head(3)"
   ]
  },
  {
   "cell_type": "code",
   "execution_count": 15,
   "metadata": {},
   "outputs": [],
   "source": [
    "Xtrain, Xtest = train.drop(['Value'], axis=1), test.drop(['Value'], axis=1) \n",
    "ytrain, ytest = train['Value'].values, test['Value'].values                  "
   ]
  },
  {
   "cell_type": "markdown",
   "metadata": {},
   "source": [
    "<span style=\"font-size: 110%;color:#0c343d;background:#fff2cc\">Score (quantity of sales) before scaling</span>  "
   ]
  },
  {
   "cell_type": "code",
   "execution_count": 16,
   "metadata": {},
   "outputs": [
    {
     "data": {
      "text/plain": [
       "array([ 0, 10, 20, 30, 40])"
      ]
     },
     "execution_count": 16,
     "metadata": {},
     "output_type": "execute_result"
    }
   ],
   "source": [
    "ytrain[:5]"
   ]
  },
  {
   "cell_type": "code",
   "execution_count": 17,
   "metadata": {},
   "outputs": [
    {
     "data": {
      "text/plain": [
       "array([10, 20, 30, 40, 50])"
      ]
     },
     "execution_count": 17,
     "metadata": {},
     "output_type": "execute_result"
    }
   ],
   "source": [
    "ytest[:5]"
   ]
  },
  {
   "cell_type": "markdown",
   "metadata": {},
   "source": [
    "<span style=\"font-size: 110%;color:#0c343d;background:#fff2cc\">Describing variables before scaling"
   ]
  },
  {
   "cell_type": "code",
   "execution_count": 18,
   "metadata": {},
   "outputs": [
    {
     "data": {
      "text/html": [
       "<div>\n",
       "<style scoped>\n",
       "    .dataframe tbody tr th:only-of-type {\n",
       "        vertical-align: middle;\n",
       "    }\n",
       "\n",
       "    .dataframe tbody tr th {\n",
       "        vertical-align: top;\n",
       "    }\n",
       "\n",
       "    .dataframe thead th {\n",
       "        text-align: right;\n",
       "    }\n",
       "</style>\n",
       "<table border=\"1\" class=\"dataframe\">\n",
       "  <thead>\n",
       "    <tr style=\"text-align: right;\">\n",
       "      <th></th>\n",
       "      <th>hour</th>\n",
       "      <th>minute</th>\n",
       "      <th>second</th>\n",
       "    </tr>\n",
       "  </thead>\n",
       "  <tbody>\n",
       "    <tr>\n",
       "      <td>0</td>\n",
       "      <td>0.0</td>\n",
       "      <td>0.0</td>\n",
       "      <td>0.0</td>\n",
       "    </tr>\n",
       "    <tr>\n",
       "      <td>1</td>\n",
       "      <td>0.0</td>\n",
       "      <td>0.0</td>\n",
       "      <td>10.0</td>\n",
       "    </tr>\n",
       "    <tr>\n",
       "      <td>2</td>\n",
       "      <td>0.0</td>\n",
       "      <td>0.0</td>\n",
       "      <td>20.0</td>\n",
       "    </tr>\n",
       "  </tbody>\n",
       "</table>\n",
       "</div>"
      ],
      "text/plain": [
       "   hour  minute  second\n",
       "0   0.0     0.0     0.0\n",
       "1   0.0     0.0    10.0\n",
       "2   0.0     0.0    20.0"
      ]
     },
     "execution_count": 18,
     "metadata": {},
     "output_type": "execute_result"
    }
   ],
   "source": [
    "Xtrain[:3]"
   ]
  },
  {
   "cell_type": "code",
   "execution_count": 19,
   "metadata": {},
   "outputs": [
    {
     "data": {
      "text/html": [
       "<div>\n",
       "<style scoped>\n",
       "    .dataframe tbody tr th:only-of-type {\n",
       "        vertical-align: middle;\n",
       "    }\n",
       "\n",
       "    .dataframe tbody tr th {\n",
       "        vertical-align: top;\n",
       "    }\n",
       "\n",
       "    .dataframe thead th {\n",
       "        text-align: right;\n",
       "    }\n",
       "</style>\n",
       "<table border=\"1\" class=\"dataframe\">\n",
       "  <thead>\n",
       "    <tr style=\"text-align: right;\">\n",
       "      <th></th>\n",
       "      <th>hour</th>\n",
       "      <th>minute</th>\n",
       "      <th>second</th>\n",
       "    </tr>\n",
       "  </thead>\n",
       "  <tbody>\n",
       "    <tr>\n",
       "      <td>361</td>\n",
       "      <td>1.0</td>\n",
       "      <td>0.0</td>\n",
       "      <td>8.0</td>\n",
       "    </tr>\n",
       "    <tr>\n",
       "      <td>362</td>\n",
       "      <td>1.0</td>\n",
       "      <td>0.0</td>\n",
       "      <td>18.0</td>\n",
       "    </tr>\n",
       "    <tr>\n",
       "      <td>363</td>\n",
       "      <td>1.0</td>\n",
       "      <td>0.0</td>\n",
       "      <td>28.0</td>\n",
       "    </tr>\n",
       "  </tbody>\n",
       "</table>\n",
       "</div>"
      ],
      "text/plain": [
       "     hour  minute  second\n",
       "361   1.0     0.0     8.0\n",
       "362   1.0     0.0    18.0\n",
       "363   1.0     0.0    28.0"
      ]
     },
     "execution_count": 19,
     "metadata": {},
     "output_type": "execute_result"
    }
   ],
   "source": [
    "Xtest[:3]"
   ]
  },
  {
   "cell_type": "markdown",
   "metadata": {},
   "source": [
    "<span style=\"font-size: 140%;color:#0c343d;background:#fff2cc\"> Scaling (normalization) of the X value\n",
    "\n",
    "<span style=\"font-size: 110%;color:#0c343d;background:#fff2cc\">X should never be too big. Ideally, it should be in the range [-1, 1]. If this is not the case, normalize the input."
   ]
  },
  {
   "cell_type": "raw",
   "metadata": {},
   "source": [
    "from sklearn.preprocessing import StandardScaler\n",
    "\n",
    "sc = StandardScaler()\n",
    "Xtrain = sc.fit_transform(Xtrain)\n",
    "\n",
    "print(np.round(Xtrain.std(), decimals=2), np.round(Xtrain.mean(), decimals=2))"
   ]
  },
  {
   "cell_type": "raw",
   "metadata": {},
   "source": [
    "from sklearn.preprocessing import StandardScaler\n",
    "\n",
    "sc = StandardScaler()\n",
    "Xtest = sc.fit_transform(Xtest)\n",
    "\n",
    "print(np.round(Xtest.std(), decimals=2), np.round(Xtest.mean(), decimals=2))"
   ]
  },
  {
   "cell_type": "raw",
   "metadata": {},
   "source": [
    "ytrain.value_counts()"
   ]
  },
  {
   "cell_type": "raw",
   "metadata": {},
   "source": [
    "ytrain = (ytrain / 100)  # max test score is 100\n",
    "#print(y.head(3))\n",
    "print(np.round(ytrain.std(), decimals=2), np.round(ytrain.mean(), decimals=2))"
   ]
  },
  {
   "cell_type": "markdown",
   "metadata": {},
   "source": [
    "ytest = (ytest / 100)  # max test score is 100\n",
    "#print(y.head(3))\n",
    "print(np.round(ytest.std(), decimals=2), np.round(ytest.mean(), decimals=2))"
   ]
  },
  {
   "cell_type": "markdown",
   "metadata": {},
   "source": [
    "<span style=\"font-size: 140%;color:#0c343d;background:#fff2cc\"> Creates random input and output"
   ]
  },
  {
   "cell_type": "code",
   "execution_count": 20,
   "metadata": {},
   "outputs": [
    {
     "name": "stdout",
     "output_type": "stream",
     "text": [
      "tensor([[ 0.,  0.,  0.],\n",
      "        [ 0.,  0., 10.],\n",
      "        [ 0.,  0., 20.]], device='cuda:0')\n"
     ]
    }
   ],
   "source": [
    "Xtrain = Xtrain.values \n",
    "Xtrain = torch.tensor(Xtrain).cuda()\n",
    "print(Xtrain[:3])"
   ]
  },
  {
   "cell_type": "code",
   "execution_count": 21,
   "metadata": {},
   "outputs": [
    {
     "name": "stdout",
     "output_type": "stream",
     "text": [
      "tensor([[ 0.,  0.,  0.],\n",
      "        [ 0.,  0., 10.],\n",
      "        [ 0.,  0., 20.]], device='cuda:0')\n"
     ]
    }
   ],
   "source": [
    "Xtrain = Xtrain.type(torch.FloatTensor).cuda()\n",
    "print(Xtrain[:3])"
   ]
  },
  {
   "cell_type": "code",
   "execution_count": 22,
   "metadata": {},
   "outputs": [
    {
     "name": "stdout",
     "output_type": "stream",
     "text": [
      "tensor([[ 1.,  0.,  8.],\n",
      "        [ 1.,  0., 18.],\n",
      "        [ 1.,  0., 28.]], device='cuda:0')\n"
     ]
    }
   ],
   "source": [
    "Xtest = Xtest.values       #- jak była normalizacja to to nie działa\n",
    "Xtest = torch.tensor(Xtest).cuda()\n",
    "print(Xtest[:3])"
   ]
  },
  {
   "cell_type": "code",
   "execution_count": 23,
   "metadata": {},
   "outputs": [
    {
     "name": "stdout",
     "output_type": "stream",
     "text": [
      "tensor([[ 1.,  0.,  8.],\n",
      "        [ 1.,  0., 18.],\n",
      "        [ 1.,  0., 28.]], device='cuda:0')\n"
     ]
    }
   ],
   "source": [
    "Xtest = Xtest.type(torch.FloatTensor).cuda()\n",
    "print(Xtest[:3])"
   ]
  },
  {
   "cell_type": "code",
   "execution_count": 24,
   "metadata": {},
   "outputs": [
    {
     "name": "stdout",
     "output_type": "stream",
     "text": [
      "tensor([ 0, 10, 20], device='cuda:0')\n"
     ]
    }
   ],
   "source": [
    "ytrain = torch.tensor(ytrain).cuda()\n",
    "print(ytrain[:3])"
   ]
  },
  {
   "cell_type": "code",
   "execution_count": 25,
   "metadata": {},
   "outputs": [
    {
     "name": "stdout",
     "output_type": "stream",
     "text": [
      "tensor([10, 20, 30], device='cuda:0')\n"
     ]
    }
   ],
   "source": [
    "ytest = torch.tensor(ytest).cuda()\n",
    "print(ytest[:3])"
   ]
  },
  {
   "cell_type": "markdown",
   "metadata": {},
   "source": [
    "<span style=\"font-size: 110%;color:#0c343d;background:#fff2cc\">training variables"
   ]
  },
  {
   "cell_type": "code",
   "execution_count": 26,
   "metadata": {},
   "outputs": [],
   "source": [
    "ytrain = ytrain.type(torch.FloatTensor).cuda()"
   ]
  },
  {
   "cell_type": "code",
   "execution_count": 27,
   "metadata": {},
   "outputs": [
    {
     "name": "stdout",
     "output_type": "stream",
     "text": [
      "Xtrain: torch.Size([361, 3])\n",
      "ytrain: torch.Size([361])\n"
     ]
    }
   ],
   "source": [
    "print('Xtrain:',Xtrain.shape)\n",
    "print('ytrain:',ytrain.shape)"
   ]
  },
  {
   "cell_type": "markdown",
   "metadata": {},
   "source": [
    "<span style=\"font-size: 110%;color:#0c343d;background:#fff2cc\">Add one dimension to the result vector"
   ]
  },
  {
   "cell_type": "code",
   "execution_count": 28,
   "metadata": {},
   "outputs": [
    {
     "data": {
      "text/plain": [
       "torch.Size([361, 1])"
      ]
     },
     "execution_count": 28,
     "metadata": {},
     "output_type": "execute_result"
    }
   ],
   "source": [
    "ytrain = ytrain.view(ytrain.shape[0],1).cuda()\n",
    "ytrain.shape"
   ]
  },
  {
   "cell_type": "code",
   "execution_count": 29,
   "metadata": {},
   "outputs": [
    {
     "data": {
      "text/plain": [
       "tensor([[ 0.,  0.,  0.],\n",
       "        [ 0.,  0., 10.],\n",
       "        [ 0.,  0., 20.],\n",
       "        ...,\n",
       "        [ 0., 59., 38.],\n",
       "        [ 0., 59., 48.],\n",
       "        [ 0., 59., 58.]], device='cuda:0')"
      ]
     },
     "execution_count": 29,
     "metadata": {},
     "output_type": "execute_result"
    }
   ],
   "source": [
    "Xtrain"
   ]
  },
  {
   "cell_type": "markdown",
   "metadata": {},
   "source": [
    "<span style=\"font-size: 110%;color:#0c343d;background:#fff2cc\">TEST VARIABLES"
   ]
  },
  {
   "cell_type": "code",
   "execution_count": 30,
   "metadata": {},
   "outputs": [],
   "source": [
    "ytest = ytest.type(torch.FloatTensor)"
   ]
  },
  {
   "cell_type": "code",
   "execution_count": 31,
   "metadata": {},
   "outputs": [
    {
     "name": "stdout",
     "output_type": "stream",
     "text": [
      "Xtest: torch.Size([140, 3])\n",
      "ytest: torch.Size([140])\n"
     ]
    }
   ],
   "source": [
    "print('Xtest:',Xtest.shape)\n",
    "print('ytest:',ytest.shape)"
   ]
  },
  {
   "cell_type": "markdown",
   "metadata": {},
   "source": [
    "<span style=\"font-size: 110%;color:#0c343d;background:#fff2cc\">Add one dimension to the result vector"
   ]
  },
  {
   "cell_type": "code",
   "execution_count": 32,
   "metadata": {},
   "outputs": [
    {
     "data": {
      "text/plain": [
       "torch.Size([140, 1])"
      ]
     },
     "execution_count": 32,
     "metadata": {},
     "output_type": "execute_result"
    }
   ],
   "source": [
    "ytest = ytest.view(ytest.shape[0],1)\n",
    "ytest.shape"
   ]
  },
  {
   "cell_type": "code",
   "execution_count": 33,
   "metadata": {},
   "outputs": [
    {
     "data": {
      "text/plain": [
       "tensor([[ 1.,  0.,  8.],\n",
       "        [ 1.,  0., 18.],\n",
       "        [ 1.,  0., 28.],\n",
       "        [ 1.,  0., 38.]], device='cuda:0')"
      ]
     },
     "execution_count": 33,
     "metadata": {},
     "output_type": "execute_result"
    }
   ],
   "source": [
    "Xtest[:4]"
   ]
  },
  {
   "cell_type": "code",
   "execution_count": 34,
   "metadata": {},
   "outputs": [
    {
     "name": "stdout",
     "output_type": "stream",
     "text": [
      "Xtrain:  torch.Size([361, 3])\n",
      "Xtest:   torch.Size([140, 3])\n",
      "----------------------------------------------------\n",
      "ytrain:  torch.Size([361, 1])\n",
      "ytest:   torch.Size([140, 1])\n"
     ]
    }
   ],
   "source": [
    "print('Xtrain: ',Xtrain.shape)\n",
    "print('Xtest:  ',Xtest.shape)\n",
    "print('----------------------------------------------------')\n",
    "print('ytrain: ',ytrain.shape)\n",
    "print('ytest:  ',ytest.shape)"
   ]
  },
  {
   "cell_type": "markdown",
   "metadata": {},
   "source": [
    "<span style=\"font-size: 140%;color:#0c343d;background:#fff2cc\">Definition of the shape of the network"
   ]
  },
  {
   "cell_type": "code",
   "execution_count": 35,
   "metadata": {},
   "outputs": [],
   "source": [
    "N, D_in = Xtrain.shape\n",
    "N, D_out = ytrain.shape\n",
    "\n",
    "H = 500                            ## the number of dimensions of the inner layer\n",
    "device = torch.device('cuda')"
   ]
  },
  {
   "cell_type": "code",
   "execution_count": null,
   "metadata": {},
   "outputs": [],
   "source": []
  },
  {
   "cell_type": "markdown",
   "metadata": {},
   "source": [
    "# definiowanie sieci sposób 'append'"
   ]
  },
  {
   "cell_type": "code",
   "execution_count": 36,
   "metadata": {},
   "outputs": [],
   "source": [
    "import torch.nn as nn\n",
    "\n",
    "layers = []\n",
    "layers.append(nn.Linear(D_in, H))   # INPUT Linear\n",
    "\n",
    "\n",
    "layers.append(nn.LeakyReLU())    ## LeakyReLU\n",
    "# normalizacja warstwy\n",
    "#layers.append(nn.BatchNorm1d(H)),\n",
    "# Apply dropout to prevent overfitting\n",
    "#layers.append(nn.Dropout(0.9)),         \n",
    "\n",
    "\n",
    "layers.append(nn.LeakyReLU())    ## LeakyReLU\n",
    "# normalizacja warstwy\n",
    "#layers.append(nn.BatchNorm1d(H)),\n",
    "# Apply dropout to prevent overfitting\n",
    "#layers.append(nn.Dropout(0.5)), \n",
    "\n",
    "\n",
    "#layers.append(nn.Sigmoid())  ## Sigmoid\n",
    "# normalizacja warstwy\n",
    "#layers.append(nn.BatchNorm1d(H)),\n",
    "# Apply dropout to prevent overfitting\n",
    "#layers.append(nn.Dropout(0.4)), \n",
    "\n",
    "\n",
    "layers.append(nn.ReLU(inplace=True))  ## ReLU\n",
    "# normalizacja warstwy\n",
    "layers.append(nn.BatchNorm1d(H)),\n",
    "# Apply dropout to prevent overfitting\n",
    "layers.append(nn.Dropout(0.4)), \n",
    "\n",
    "\n",
    "layers.append(nn.Linear(H, D_out))\n",
    "\n",
    "\n",
    "net = nn.Sequential(*layers).to(device)"
   ]
  },
  {
   "cell_type": "markdown",
   "metadata": {},
   "source": [
    "# Definiowanie sieci sposób bezpośredni"
   ]
  },
  {
   "cell_type": "raw",
   "metadata": {},
   "source": [
    "net = torch.nn.Sequential(\n",
    "        torch.nn.Linear(D_in,  H),   # INPUT LeakyReLU\n",
    "        torch.nn.LeakyReLU(),\n",
    "        # normalizacja warstwy\n",
    "        torch.nn.BatchNorm1d(H),\n",
    "        torch.nn.Dropout(0.9),         # Apply dropout to prevent overfitting\n",
    "        \n",
    "        torch.nn.Linear(H, H),        # inner LeakyReLU\n",
    "        torch.nn.LeakyReLU(),\n",
    "        # normalizacja warstwy\n",
    "        torch.nn.BatchNorm1d(H),\n",
    "        torch.nn.Dropout(0.5),          # Apply dropout to prevent overfitting\n",
    "        \n",
    "        torch.nn.Linear(H, H),        # inner Sigmoid\n",
    "        torch.nn.Sigmoid(),\n",
    "        # normalizacja warstwy\n",
    "        torch.nn.BatchNorm1d(H),         # Apply batch normalization\n",
    "        torch.nn.Dropout(0.6),           # Apply dropout to prevent overfitting\n",
    "        \n",
    "        torch.nn.Linear(H, H),        # inner Relu\n",
    "        torch.nn.ReLU(inplace=True),          \n",
    "        torch.nn.Linear(H, D_out),    # output layer\n",
    "    ).to(device)  "
   ]
  },
  {
   "cell_type": "code",
   "execution_count": 37,
   "metadata": {},
   "outputs": [
    {
     "data": {
      "text/plain": [
       "tensor([[ 2.9996e+00],\n",
       "        [-2.4714e+00],\n",
       "        [-2.0009e+00],\n",
       "        [-1.0877e+00],\n",
       "        [-1.8902e+00],\n",
       "        [ 1.5422e-01],\n",
       "        [-1.6141e+00],\n",
       "        [-1.6387e+00],\n",
       "        [-1.4931e+00],\n",
       "        [-1.1961e+00],\n",
       "        [-8.8864e-01],\n",
       "        [-5.9072e-01],\n",
       "        [ 7.5020e-02],\n",
       "        [-1.2743e+00],\n",
       "        [-1.1617e+00],\n",
       "        [-8.3742e-01],\n",
       "        [-6.5890e-01],\n",
       "        [-6.4407e-01],\n",
       "        [-4.4795e-01],\n",
       "        [-1.4316e+00],\n",
       "        [-1.2166e+00],\n",
       "        [-1.3758e+00],\n",
       "        [-1.2850e-01],\n",
       "        [-1.6158e+00],\n",
       "        [-1.2585e+00],\n",
       "        [-1.0560e+00],\n",
       "        [-2.0247e+00],\n",
       "        [-1.7960e+00],\n",
       "        [-9.1817e-01],\n",
       "        [-6.8047e-01],\n",
       "        [ 8.0100e-01],\n",
       "        [-1.3539e+00],\n",
       "        [-8.2735e-01],\n",
       "        [-4.2327e-01],\n",
       "        [-2.5080e-01],\n",
       "        [-4.9652e-02],\n",
       "        [ 8.3529e-01],\n",
       "        [-1.2846e+00],\n",
       "        [-1.6916e+00],\n",
       "        [-8.3347e-01],\n",
       "        [-5.5071e-01],\n",
       "        [-1.0446e+00],\n",
       "        [ 8.6999e-01],\n",
       "        [-1.3129e+00],\n",
       "        [-1.3954e+00],\n",
       "        [-6.4287e-01],\n",
       "        [-1.4166e+00],\n",
       "        [-5.0295e-01],\n",
       "        [-8.4731e-01],\n",
       "        [-6.0645e-01],\n",
       "        [-2.2178e-01],\n",
       "        [-1.4991e+00],\n",
       "        [-3.8770e-01],\n",
       "        [-1.2188e+00],\n",
       "        [-4.2914e-02],\n",
       "        [-1.0456e+00],\n",
       "        [-9.5597e-01],\n",
       "        [-4.8921e-01],\n",
       "        [-7.7228e-01],\n",
       "        [-4.0951e-01],\n",
       "        [ 1.2546e-01],\n",
       "        [-1.1650e+00],\n",
       "        [-7.8885e-01],\n",
       "        [ 1.5678e-01],\n",
       "        [-7.5583e-01],\n",
       "        [ 1.6389e-01],\n",
       "        [-1.1745e+00],\n",
       "        [-7.1872e-01],\n",
       "        [-4.3231e-01],\n",
       "        [-6.9182e-01],\n",
       "        [-5.2347e-01],\n",
       "        [-4.0843e-01],\n",
       "        [-4.9656e-01],\n",
       "        [-7.7188e-01],\n",
       "        [-6.4776e-01],\n",
       "        [-7.1083e-01],\n",
       "        [-5.7696e-01],\n",
       "        [-2.2204e-01],\n",
       "        [-1.1565e-01],\n",
       "        [-7.7065e-01],\n",
       "        [-8.2296e-01],\n",
       "        [-1.6305e-01],\n",
       "        [-3.4288e-01],\n",
       "        [ 1.1474e-01],\n",
       "        [-2.1602e-01],\n",
       "        [-9.6927e-01],\n",
       "        [-7.5256e-01],\n",
       "        [-8.0127e-01],\n",
       "        [-5.7074e-01],\n",
       "        [ 2.9749e-02],\n",
       "        [ 1.5145e-01],\n",
       "        [-1.5002e+00],\n",
       "        [-8.3190e-01],\n",
       "        [-4.0859e-01],\n",
       "        [-3.7368e-01],\n",
       "        [-6.4295e-01],\n",
       "        [ 4.2458e-01],\n",
       "        [-3.0735e-01],\n",
       "        [-6.1257e-01],\n",
       "        [-6.6990e-01],\n",
       "        [-3.7433e-01],\n",
       "        [-5.5249e-01],\n",
       "        [ 5.7767e-01],\n",
       "        [-1.4702e-01],\n",
       "        [-4.6314e-01],\n",
       "        [-6.3899e-01],\n",
       "        [-5.1966e-01],\n",
       "        [ 4.7621e-01],\n",
       "        [ 2.2466e-01],\n",
       "        [-9.8034e-01],\n",
       "        [-8.5841e-01],\n",
       "        [-1.0633e+00],\n",
       "        [-1.9806e-01],\n",
       "        [ 1.8829e-01],\n",
       "        [ 2.2396e-02],\n",
       "        [-7.9546e-01],\n",
       "        [-7.5233e-01],\n",
       "        [-7.1030e-01],\n",
       "        [-1.0502e+00],\n",
       "        [ 7.9179e-02],\n",
       "        [ 2.6808e-01],\n",
       "        [-4.1752e-01],\n",
       "        [-2.8567e-01],\n",
       "        [-4.9114e-01],\n",
       "        [-5.9748e-01],\n",
       "        [ 2.9839e-01],\n",
       "        [ 3.3242e-01],\n",
       "        [-1.2648e+00],\n",
       "        [-4.6795e-01],\n",
       "        [-2.4748e-01],\n",
       "        [-3.1235e-01],\n",
       "        [ 5.8509e-02],\n",
       "        [-2.0132e-01],\n",
       "        [-7.8427e-01],\n",
       "        [ 6.5773e-02],\n",
       "        [-4.7865e-01],\n",
       "        [-1.9131e-01],\n",
       "        [ 6.2682e-01],\n",
       "        [ 2.4001e-01],\n",
       "        [-6.6664e-01],\n",
       "        [-2.8205e-01],\n",
       "        [-3.2744e-01],\n",
       "        [-6.8460e-02],\n",
       "        [ 1.9114e-01],\n",
       "        [-3.2630e-01],\n",
       "        [-3.2494e-01],\n",
       "        [-2.3156e-01],\n",
       "        [-2.2803e-01],\n",
       "        [-1.4998e-01],\n",
       "        [ 1.1636e-01],\n",
       "        [-1.2571e-01],\n",
       "        [-7.7283e-01],\n",
       "        [-3.7867e-01],\n",
       "        [ 5.6939e-03],\n",
       "        [-8.4575e-02],\n",
       "        [-8.1094e-02],\n",
       "        [ 3.6039e-01],\n",
       "        [-3.6024e-01],\n",
       "        [-8.5425e-02],\n",
       "        [-3.5624e-01],\n",
       "        [-3.4231e-01],\n",
       "        [-4.5297e-02],\n",
       "        [ 8.6970e-01],\n",
       "        [-7.1310e-01],\n",
       "        [-4.4155e-01],\n",
       "        [-4.4634e-01],\n",
       "        [-1.0157e-01],\n",
       "        [ 6.7595e-02],\n",
       "        [ 2.7020e-01],\n",
       "        [-1.3668e+00],\n",
       "        [-2.1066e-01],\n",
       "        [-2.7916e-01],\n",
       "        [ 1.0177e-01],\n",
       "        [-5.1484e-01],\n",
       "        [ 1.4470e-01],\n",
       "        [-5.1672e-01],\n",
       "        [-3.4846e-01],\n",
       "        [-1.1400e-01],\n",
       "        [-3.0958e-02],\n",
       "        [-2.0357e-01],\n",
       "        [ 1.9078e-01],\n",
       "        [-4.8404e-01],\n",
       "        [-5.0325e-01],\n",
       "        [-2.2230e-01],\n",
       "        [ 2.7311e-01],\n",
       "        [ 3.7050e-01],\n",
       "        [ 4.3339e-01],\n",
       "        [-4.7749e-01],\n",
       "        [-2.8753e-01],\n",
       "        [-2.6414e-01],\n",
       "        [ 1.1744e-01],\n",
       "        [ 9.5575e-02],\n",
       "        [ 3.7093e-01],\n",
       "        [-2.9959e-01],\n",
       "        [ 2.7413e-02],\n",
       "        [ 3.9342e-02],\n",
       "        [ 1.4289e-01],\n",
       "        [ 4.1716e-01],\n",
       "        [-1.2440e-01],\n",
       "        [-8.1028e-01],\n",
       "        [-3.4674e-01],\n",
       "        [-2.2731e-01],\n",
       "        [ 3.1649e-01],\n",
       "        [ 6.0203e-01],\n",
       "        [ 2.1594e-01],\n",
       "        [-1.0125e-01],\n",
       "        [ 1.2306e-01],\n",
       "        [-3.4569e-01],\n",
       "        [-1.0730e-01],\n",
       "        [ 2.9575e-01],\n",
       "        [ 3.7821e-02],\n",
       "        [-4.5521e-02],\n",
       "        [-5.5917e-02],\n",
       "        [ 2.3919e-01],\n",
       "        [ 1.1904e-01],\n",
       "        [ 2.6241e-01],\n",
       "        [ 4.9815e-01],\n",
       "        [ 3.4425e-01],\n",
       "        [-3.5134e-01],\n",
       "        [-1.8711e-02],\n",
       "        [ 2.2174e-01],\n",
       "        [ 5.9633e-01],\n",
       "        [ 8.4013e-02],\n",
       "        [ 1.1874e-01],\n",
       "        [-2.9985e-01],\n",
       "        [ 2.5283e-01],\n",
       "        [ 2.3299e-01],\n",
       "        [ 6.5140e-01],\n",
       "        [ 5.9317e-01],\n",
       "        [ 9.1103e-01],\n",
       "        [-3.1774e-01],\n",
       "        [ 2.5496e-01],\n",
       "        [ 1.4946e-01],\n",
       "        [ 4.8858e-01],\n",
       "        [ 1.0126e+00],\n",
       "        [ 2.1666e-01],\n",
       "        [-1.8226e-01],\n",
       "        [ 1.5564e-01],\n",
       "        [ 9.1779e-02],\n",
       "        [ 7.8740e-01],\n",
       "        [ 3.7017e-01],\n",
       "        [-7.4551e-02],\n",
       "        [-3.3468e-01],\n",
       "        [ 1.7209e-01],\n",
       "        [ 4.0379e-01],\n",
       "        [ 9.1221e-01],\n",
       "        [ 8.2889e-01],\n",
       "        [ 6.8748e-01],\n",
       "        [-3.7390e-04],\n",
       "        [ 2.7295e-01],\n",
       "        [ 5.8220e-01],\n",
       "        [ 5.1179e-01],\n",
       "        [ 8.3109e-01],\n",
       "        [-7.8686e-01],\n",
       "        [ 1.2005e-01],\n",
       "        [ 3.7941e-01],\n",
       "        [ 4.7096e-01],\n",
       "        [ 9.5468e-01],\n",
       "        [ 3.4780e-01],\n",
       "        [ 1.6446e-01],\n",
       "        [-7.7007e-02],\n",
       "        [ 1.1646e-01],\n",
       "        [ 3.2044e-01],\n",
       "        [ 9.3650e-01],\n",
       "        [ 9.3389e-01],\n",
       "        [ 7.2192e-01],\n",
       "        [ 2.4248e-01],\n",
       "        [ 4.7787e-01],\n",
       "        [ 4.8809e-01],\n",
       "        [ 7.0701e-01],\n",
       "        [ 1.2234e+00],\n",
       "        [ 2.3841e-02],\n",
       "        [ 5.4435e-01],\n",
       "        [ 5.9550e-01],\n",
       "        [ 4.7400e-01],\n",
       "        [ 7.7582e-01],\n",
       "        [ 4.7956e-01],\n",
       "        [ 1.2656e+00],\n",
       "        [ 2.7432e-01],\n",
       "        [ 6.4738e-01],\n",
       "        [ 8.1827e-01],\n",
       "        [ 9.8611e-01],\n",
       "        [ 1.3901e+00],\n",
       "        [ 2.1491e+00],\n",
       "        [ 1.1578e+00],\n",
       "        [ 4.4731e-01],\n",
       "        [ 7.6200e-01],\n",
       "        [ 9.7812e-01],\n",
       "        [ 1.3610e+00],\n",
       "        [ 4.6392e-01],\n",
       "        [-4.0223e-01],\n",
       "        [ 8.6978e-01],\n",
       "        [ 7.9565e-01],\n",
       "        [ 1.5701e+00],\n",
       "        [ 3.8245e-01],\n",
       "        [-4.1993e-01],\n",
       "        [ 1.3955e-01],\n",
       "        [ 6.5247e-02],\n",
       "        [ 9.3043e-01],\n",
       "        [ 8.1093e-01],\n",
       "        [ 4.7844e-01],\n",
       "        [ 3.2017e-01],\n",
       "        [ 1.6395e-01],\n",
       "        [ 9.0788e-02],\n",
       "        [-1.3049e-01],\n",
       "        [ 1.2082e+00],\n",
       "        [ 1.4635e+00],\n",
       "        [ 1.8025e+00],\n",
       "        [ 1.2061e+00],\n",
       "        [ 3.7733e-01],\n",
       "        [ 1.2206e+00],\n",
       "        [ 4.8737e-01],\n",
       "        [-3.7090e-01],\n",
       "        [ 6.5797e-01],\n",
       "        [ 8.3356e-01],\n",
       "        [ 4.6452e-01],\n",
       "        [ 2.1491e-01],\n",
       "        [ 9.9128e-01],\n",
       "        [ 1.6355e+00],\n",
       "        [-1.0409e-01],\n",
       "        [ 6.4527e-01],\n",
       "        [ 1.9102e-01],\n",
       "        [ 1.2134e+00],\n",
       "        [ 7.6541e-01],\n",
       "        [ 8.0672e-01],\n",
       "        [ 1.9538e+00],\n",
       "        [ 4.6406e-02],\n",
       "        [ 1.9131e-01],\n",
       "        [ 8.2080e-01],\n",
       "        [ 7.4995e-01],\n",
       "        [ 1.1580e+00],\n",
       "        [ 2.0410e+00],\n",
       "        [ 1.4002e+00],\n",
       "        [ 3.1205e-01],\n",
       "        [-3.1558e-02],\n",
       "        [ 4.9848e-01],\n",
       "        [ 1.7318e+00],\n",
       "        [-1.2460e+00],\n",
       "        [ 5.3359e-01],\n",
       "        [ 5.2498e-01],\n",
       "        [ 1.5968e+00],\n",
       "        [ 1.2775e+00],\n",
       "        [ 1.3420e+00],\n",
       "        [ 2.7720e-01],\n",
       "        [ 1.0063e+00],\n",
       "        [ 1.2027e+00],\n",
       "        [ 6.0033e-01],\n",
       "        [ 2.4372e+00],\n",
       "        [ 7.9332e-01],\n",
       "        [ 6.4640e-01],\n",
       "        [ 5.8043e-01],\n",
       "        [ 1.9234e+00],\n",
       "        [ 1.0361e+00],\n",
       "        [ 1.0361e+00],\n",
       "        [ 1.6517e+00],\n",
       "        [ 2.2589e+00],\n",
       "        [ 8.1272e-01],\n",
       "        [ 7.3998e-01],\n",
       "        [ 5.3935e-01],\n",
       "        [ 1.3151e+00],\n",
       "        [ 2.1220e+00]], device='cuda:0', grad_fn=<AddmmBackward>)"
      ]
     },
     "execution_count": 37,
     "metadata": {},
     "output_type": "execute_result"
    }
   ],
   "source": [
    "net(Xtrain)"
   ]
  },
  {
   "cell_type": "markdown",
   "metadata": {},
   "source": [
    "<span style=\"font-size: 160%;color:#0c343d;background:#fff2cc\"> Optimizer\n",
    "\n",
    "\n",
    "<span style=\"font-size: 110%;color:#0c343d;background:#fff2cc\">lr: Speed of learning -> The speed at which our model updates the weights in the cells each time backward propagation is carried out\n"
   ]
  },
  {
   "cell_type": "code",
   "execution_count": 38,
   "metadata": {},
   "outputs": [],
   "source": [
    "#optimizer = torch.optim.SGD(net.parameters(), lr=0.01, momentum=0, dampening=0, weight_decay=0, nesterov=False) #-2.401\n",
    "#optimizer = torch.optim.SGD(net.parameters(), lr=0.1) #-4.086\n",
    "optimizer = torch.optim.Adam(net.parameters(), lr=0.001) #-5.298\n",
    "#optimizer = torch.optim.Adamax(net.parameters(), lr=0.01) #-6.610\n",
    "#optimizer = torch.optim.ASGD(net.parameters(), lr=0.001, lambd=0.001, alpha=0.35, t0=000000.0) #-2.315\n",
    "#optimizer = torch.optim.LBFGS(net.parameters(), lr=0.01, max_iter=20, max_eval=None, tolerance_grad=1e-05, tolerance_change=1e-09, history_size=100, line_search_fn=None)\n",
    "#optimizer = torch.optim.RMSprop(net.parameters(), lr=0.01, alpha=0.99, eps=1e-08) #-5.152\n",
    "#optimizer = torch.optim.Rprop(net.parameters(), lr=0.01, etas=(0.5, 1.2), step_sizes=(1e-06, 50))  #R2:-7.388"
   ]
  },
  {
   "cell_type": "markdown",
   "metadata": {},
   "source": [
    "<span style=\"font-size: 160%;color:#0c343d;background:#fff2cc\">Loss function"
   ]
  },
  {
   "cell_type": "code",
   "execution_count": 39,
   "metadata": {},
   "outputs": [],
   "source": [
    "loss_func = torch.nn.MSELoss() #89\n",
    "#loss_func = torch.nn.L1Loss() #90\n",
    "#loss_func = torch.nn.CTCLoss(blank=0, reduction='mean', zero_infinity=False)\n",
    "#loss_func =torch.nn.NLLLoss(weight=None, size_average=None, ignore_index=-100, reduce=None, reduction='mean')\n",
    "#loss_func =torch.nn.PoissonNLLLoss(log_input=True, full=False, size_average=None, eps=1e-08, reduce=None, reduction='mean')\n",
    "#loss_func =torch.nn.KLDivLoss(size_average=None, reduce=None, reduction='mean', log_target=False)\n",
    "#loss_func =torch.nn.BCELoss(weight=None, size_average=None, reduce=None, reduction='mean')\n",
    "#loss_func =torch.nn.BCEWithLogitsLoss(weight=None, size_average=None, reduce=None, reduction='mean', pos_weight=None)\n",
    "#loss_func =torch.nn.MarginRankingLoss(margin=0.0, size_average=None, reduce=None, reduction='mean')\n",
    "#loss_func =torch.nn.HingeEmbeddingLoss(margin=1.0, size_average=None, reduce=None, reduction='mean')\n",
    "#loss_func =torch.nn.HuberLoss(reduction='mean', delta=1.0)\n",
    "#loss_func = torch.nn.Flatten(start_dim=1, end_dim=-1)"
   ]
  },
  {
   "cell_type": "markdown",
   "metadata": {},
   "source": [
    "<span style=\"font-size: 160%;color:#0c343d;background:#fff2cc\">Defining the learning process and learning"
   ]
  },
  {
   "cell_type": "code",
   "execution_count": 40,
   "metadata": {},
   "outputs": [
    {
     "name": "stdout",
     "output_type": "stream",
     "text": [
      "0 3344.282470703125\n",
      "10000 849.9089965820312\n",
      "20000 832.2877197265625\n",
      "30000 823.9874267578125\n",
      "40000 823.41455078125\n",
      "50000 837.6416015625\n",
      "60000 839.7310180664062\n",
      "70000 844.98095703125\n",
      "80000 842.1117553710938\n",
      "90000 825.0916748046875\n"
     ]
    }
   ],
   "source": [
    "inputs = Xtrain                          \n",
    "outputs = ytrain\n",
    "for i in range(100000):                         \n",
    "   prediction = net(inputs)\n",
    "   loss = loss_func(prediction, outputs) \n",
    "   optimizer.zero_grad()\n",
    "   loss.backward()        \n",
    "   optimizer.step()       \n",
    "\n",
    "   if i % 10000 == 0:  \n",
    "      print(i, loss.item())    "
   ]
  },
  {
   "cell_type": "markdown",
   "metadata": {},
   "source": [
    "###  Forecast based on the model\n",
    "-  substitute the same equations that were in the model\n",
    "-  The following loss result shows the last model sequence\n",
    "-  Loss shows how much the model is wrong (loss = sum of error squares) after the last learning sequence"
   ]
  },
  {
   "cell_type": "code",
   "execution_count": 41,
   "metadata": {},
   "outputs": [
    {
     "name": "stdout",
     "output_type": "stream",
     "text": [
      "tensor([[10.],\n",
      "        [20.],\n",
      "        [30.]], device='cuda:0')\n"
     ]
    }
   ],
   "source": [
    "ytest = torch.tensor(ytest).cuda()\n",
    "print(ytest[:3])"
   ]
  },
  {
   "cell_type": "code",
   "execution_count": 42,
   "metadata": {},
   "outputs": [
    {
     "name": "stdout",
     "output_type": "stream",
     "text": [
      "Loss train_set: 113323.51562500\n"
     ]
    }
   ],
   "source": [
    "with torch.no_grad():\n",
    "    y_pred = net(Xtest)  \n",
    "    loss = (y_pred - ytest).pow(2).sum()\n",
    "\n",
    "    print(f'Loss train_set: {loss:.8f}')"
   ]
  },
  {
   "cell_type": "markdown",
   "metadata": {},
   "source": [
    "<span style=\"font-size: 160%;color:#0c343d;background:#fff2cc\"> We save the whole model"
   ]
  },
  {
   "cell_type": "code",
   "execution_count": 43,
   "metadata": {},
   "outputs": [],
   "source": [
    "torch.save(net,'/home/wojciech/Pulpit/7/byk19.pb')"
   ]
  },
  {
   "cell_type": "markdown",
   "metadata": {},
   "source": [
    "<span style=\"font-size: 160%;color:#0c343d;background:#fff2cc\"> We play the whole model\n",
    "    \n",
    "    The model is now not called 'net' but 'KOT'"
   ]
  },
  {
   "cell_type": "code",
   "execution_count": 69,
   "metadata": {},
   "outputs": [
    {
     "data": {
      "text/plain": [
       "Sequential(\n",
       "  (0): Linear(in_features=3, out_features=500, bias=True)\n",
       "  (1): LeakyReLU(negative_slope=0.01)\n",
       "  (2): LeakyReLU(negative_slope=0.01)\n",
       "  (3): ReLU(inplace=True)\n",
       "  (4): BatchNorm1d(500, eps=1e-05, momentum=0.1, affine=True, track_running_stats=True)\n",
       "  (5): Dropout(p=0.4, inplace=False)\n",
       "  (6): Linear(in_features=500, out_features=1, bias=True)\n",
       ")"
      ]
     },
     "execution_count": 69,
     "metadata": {},
     "output_type": "execute_result"
    }
   ],
   "source": [
    "KOT = torch.load('/home/wojciech/Pulpit/7/byk19.pb') # to ten dobry model\n",
    "KOT"
   ]
  },
  {
   "cell_type": "code",
   "execution_count": 70,
   "metadata": {},
   "outputs": [
    {
     "name": "stdout",
     "output_type": "stream",
     "text": [
      "Loss train_set: 816.65179443\n"
     ]
    }
   ],
   "source": [
    "with torch.no_grad():\n",
    "    y_interp = KOT(Xtest)  \n",
    "    loss = (y_interp - ytest).pow(2).mean()\n",
    "\n",
    "    print(f'Loss train_set: {loss:.8f}')"
   ]
  },
  {
   "cell_type": "code",
   "execution_count": 71,
   "metadata": {},
   "outputs": [
    {
     "data": {
      "text/plain": [
       "tensor([[26.5156],\n",
       "        [43.5981],\n",
       "        [49.9454],\n",
       "        [43.3816],\n",
       "        [42.8642],\n",
       "        [33.2493],\n",
       "        [57.1900],\n",
       "        [64.1717],\n",
       "        [55.6813],\n",
       "        [62.1413],\n",
       "        [60.8747],\n",
       "        [60.0979],\n",
       "        [56.1638],\n",
       "        [51.1368],\n",
       "        [54.8145],\n",
       "        [53.2025],\n",
       "        [55.3606],\n",
       "        [50.5611],\n",
       "        [48.9879],\n",
       "        [50.4396],\n",
       "        [48.6957],\n",
       "        [51.4895],\n",
       "        [48.9323],\n",
       "        [53.7348],\n",
       "        [49.5005],\n",
       "        [50.0320],\n",
       "        [48.0314],\n",
       "        [49.9351],\n",
       "        [52.3540],\n",
       "        [50.1979],\n",
       "        [49.4435],\n",
       "        [51.0434],\n",
       "        [52.2969],\n",
       "        [49.8079],\n",
       "        [50.1899],\n",
       "        [50.0892],\n",
       "        [48.8167],\n",
       "        [49.8805],\n",
       "        [48.1230],\n",
       "        [49.8667],\n",
       "        [49.7501],\n",
       "        [48.4379],\n",
       "        [47.7910],\n",
       "        [49.3995],\n",
       "        [51.0042],\n",
       "        [48.9559],\n",
       "        [48.3273],\n",
       "        [50.1353],\n",
       "        [48.5637],\n",
       "        [52.6142],\n",
       "        [49.9210],\n",
       "        [49.7959],\n",
       "        [48.5689],\n",
       "        [49.9191],\n",
       "        [49.7635],\n",
       "        [49.8544],\n",
       "        [49.0319],\n",
       "        [50.8882],\n",
       "        [48.3907],\n",
       "        [46.3583],\n",
       "        [50.3908],\n",
       "        [48.5456],\n",
       "        [51.2046],\n",
       "        [49.8471],\n",
       "        [50.2741],\n",
       "        [49.5064],\n",
       "        [50.9319],\n",
       "        [51.4031],\n",
       "        [49.5663],\n",
       "        [49.0784],\n",
       "        [48.9829],\n",
       "        [48.9547],\n",
       "        [50.7714],\n",
       "        [53.5938],\n",
       "        [50.4382],\n",
       "        [51.0552],\n",
       "        [50.0544],\n",
       "        [48.4622],\n",
       "        [51.3104],\n",
       "        [51.3883],\n",
       "        [50.8368],\n",
       "        [50.8378],\n",
       "        [48.0086],\n",
       "        [50.9736],\n",
       "        [48.6922],\n",
       "        [52.1610],\n",
       "        [50.2062],\n",
       "        [50.6435],\n",
       "        [48.8058],\n",
       "        [50.3673],\n",
       "        [49.3630],\n",
       "        [50.0579],\n",
       "        [49.8936],\n",
       "        [51.4211],\n",
       "        [49.3997],\n",
       "        [49.5891],\n",
       "        [51.0951],\n",
       "        [49.2188],\n",
       "        [49.1583],\n",
       "        [50.0726],\n",
       "        [51.6350],\n",
       "        [51.6425],\n",
       "        [50.6755],\n",
       "        [49.7099],\n",
       "        [50.6628],\n",
       "        [50.3681],\n",
       "        [50.9104],\n",
       "        [51.1306],\n",
       "        [50.7682],\n",
       "        [51.2453],\n",
       "        [52.2840],\n",
       "        [49.5404],\n",
       "        [49.0763],\n",
       "        [49.9957],\n",
       "        [50.6997],\n",
       "        [50.7458],\n",
       "        [49.5067],\n",
       "        [49.8389],\n",
       "        [48.4062],\n",
       "        [52.5954],\n",
       "        [54.1903],\n",
       "        [46.8569],\n",
       "        [51.9414],\n",
       "        [49.3921],\n",
       "        [49.4578],\n",
       "        [50.0334],\n",
       "        [52.8961],\n",
       "        [46.8613],\n",
       "        [49.1768],\n",
       "        [48.4437],\n",
       "        [47.6625],\n",
       "        [50.5667],\n",
       "        [53.5961],\n",
       "        [49.4243],\n",
       "        [51.1337],\n",
       "        [48.6814],\n",
       "        [51.8083],\n",
       "        [47.8186],\n",
       "        [54.6929],\n",
       "        [48.2724]], device='cuda:0')"
      ]
     },
     "execution_count": 71,
     "metadata": {},
     "output_type": "execute_result"
    }
   ],
   "source": [
    "y_interp"
   ]
  },
  {
   "cell_type": "markdown",
   "metadata": {},
   "source": [
    "<span style=\"font-size: 110%;color:#0c343d;background:#fff2cc\"> By substituting other independent variables, you can get a vector of output variables\n",
    "We choose a random record from the tensor"
   ]
  },
  {
   "cell_type": "code",
   "execution_count": 72,
   "metadata": {},
   "outputs": [
    {
     "data": {
      "text/plain": [
       "0    27.0\n",
       "1    44.0\n",
       "2    50.0\n",
       "Name: y_interp, dtype: float32"
      ]
     },
     "execution_count": 72,
     "metadata": {},
     "output_type": "execute_result"
    }
   ],
   "source": [
    "y_interp = y_interp\n",
    "foka = y_interp.cpu().detach().numpy()\n",
    "df11 = pd.DataFrame(foka)\n",
    "df11.columns = ['y_interp']\n",
    "df11=np.round(df11.y_interp)\n",
    "df11.head(3)"
   ]
  },
  {
   "cell_type": "code",
   "execution_count": 73,
   "metadata": {},
   "outputs": [
    {
     "data": {
      "text/html": [
       "<div>\n",
       "<style scoped>\n",
       "    .dataframe tbody tr th:only-of-type {\n",
       "        vertical-align: middle;\n",
       "    }\n",
       "\n",
       "    .dataframe tbody tr th {\n",
       "        vertical-align: top;\n",
       "    }\n",
       "\n",
       "    .dataframe thead th {\n",
       "        text-align: right;\n",
       "    }\n",
       "</style>\n",
       "<table border=\"1\" class=\"dataframe\">\n",
       "  <thead>\n",
       "    <tr style=\"text-align: right;\">\n",
       "      <th></th>\n",
       "      <th>y</th>\n",
       "    </tr>\n",
       "  </thead>\n",
       "  <tbody>\n",
       "    <tr>\n",
       "      <td>0</td>\n",
       "      <td>10.0</td>\n",
       "    </tr>\n",
       "    <tr>\n",
       "      <td>1</td>\n",
       "      <td>20.0</td>\n",
       "    </tr>\n",
       "    <tr>\n",
       "      <td>2</td>\n",
       "      <td>30.0</td>\n",
       "    </tr>\n",
       "  </tbody>\n",
       "</table>\n",
       "</div>"
      ],
      "text/plain": [
       "      y\n",
       "0  10.0\n",
       "1  20.0\n",
       "2  30.0"
      ]
     },
     "execution_count": 73,
     "metadata": {},
     "output_type": "execute_result"
    }
   ],
   "source": [
    "ytest = ytest\n",
    "foka = ytest.cpu().detach().numpy()\n",
    "df_t = pd.DataFrame(foka)\n",
    "df_t.columns = ['y']\n",
    "df_t.head(3)"
   ]
  },
  {
   "cell_type": "code",
   "execution_count": 74,
   "metadata": {},
   "outputs": [
    {
     "data": {
      "text/plain": [
       "<bound method NDFrame.tail of         y  y_interp\n",
       "0    10.0      27.0\n",
       "1    20.0      44.0\n",
       "2    30.0      50.0\n",
       "3    40.0      43.0\n",
       "4    50.0      43.0\n",
       "..    ...       ...\n",
       "135  40.0      49.0\n",
       "136  30.0      52.0\n",
       "137  20.0      48.0\n",
       "138  10.0      55.0\n",
       "139   0.0      48.0\n",
       "\n",
       "[140 rows x 2 columns]>"
      ]
     },
     "execution_count": 74,
     "metadata": {},
     "output_type": "execute_result"
    }
   ],
   "source": [
    "NOWA = pd.merge(df_t,df11, how='inner', left_index=True, right_index=True)\n",
    "NOWA.tail"
   ]
  },
  {
   "cell_type": "code",
   "execution_count": 75,
   "metadata": {},
   "outputs": [],
   "source": [
    "NOWA.to_csv('/home/wojciech/Pulpit/7/NOWA.csv')"
   ]
  },
  {
   "cell_type": "code",
   "execution_count": 76,
   "metadata": {},
   "outputs": [
    {
     "data": {
      "text/plain": [
       "Text(0.5, 1.0, 'COURSE OF THE PROJECTING PROCESS ON THE TEST SET')"
      ]
     },
     "execution_count": 76,
     "metadata": {},
     "output_type": "execute_result"
    },
    {
     "data": {
      "image/png": "[encoded data removed]",
      "text/plain": [
       "<Figure size 1152x144 with 1 Axes>"
      ]
     },
     "metadata": {
      "needs_background": "light"
     },
     "output_type": "display_data"
    }
   ],
   "source": [
    "fig, ax = plt.subplots( figsize=(16, 2))\n",
    "for ewa in ['y', 'y_interp']:\n",
    "    ax.plot(NOWA, label=ewa)\n",
    "    \n",
    "ax.set_xlim(13, 950)\n",
    "#ax.legend()\n",
    "ax.set_ylabel('Parameter')\n",
    "ax.set_title('COURSE OF THE PROJECTING PROCESS ON THE TEST SET')"
   ]
  },
  {
   "cell_type": "code",
   "execution_count": 52,
   "metadata": {},
   "outputs": [
    {
     "data": {
      "text/plain": [
       "<seaborn.axisgrid.FacetGrid at 0x7f7f014c4c10>"
      ]
     },
     "execution_count": 52,
     "metadata": {},
     "output_type": "execute_result"
    },
    {
     "data": {
      "text/plain": [
       "<Figure size 432x288 with 0 Axes>"
      ]
     },
     "metadata": {},
     "output_type": "display_data"
    },
    {
     "data": {
      "image/png": "[encoded data removed]",
      "text/plain": [
       "<Figure size 1152x360 with 2 Axes>"
      ]
     },
     "metadata": {
      "needs_background": "light"
     },
     "output_type": "display_data"
    },
    {
     "data": {
      "image/png": "[encoded data removed]",
      "text/plain": [
       "<Figure size 360x360 with 1 Axes>"
      ]
     },
     "metadata": {
      "needs_background": "light"
     },
     "output_type": "display_data"
    }
   ],
   "source": [
    "## marginesy\n",
    "plt.subplots_adjust( left = None , bottom = None , right = None , top = None , wspace = None , hspace = None )\n",
    "plt.figure(figsize=(16,5))\n",
    "ax = plt.subplot(1, 2, 1)\n",
    "NOWA.plot.kde(ax=ax, legend=True, title='Histogram: y vs. y_interp')\n",
    "NOWA.plot.hist(density=True,bins=40, ax=ax, alpha=0.3)\n",
    "ax.set_title(\"Dystributions\")\n",
    "\n",
    "ax = plt.subplot(1, 2, 2)\n",
    "sns.boxplot(data = NOWA)\n",
    "plt.xticks(rotation=-90)\n",
    "ax.set_title(\"Boxes\")\n",
    "\n",
    "\n",
    "sns.lmplot(data=NOWA, x='y', y='y_interp')"
   ]
  },
  {
   "cell_type": "markdown",
   "metadata": {},
   "source": [
    "<span style=\"font-size: 160%;color:#0c343d;background:#fff2cc\"> Regression_Assessment"
   ]
  },
  {
   "cell_type": "code",
   "execution_count": 53,
   "metadata": {},
   "outputs": [],
   "source": [
    "## Robi ocenę tylko dla jednej zmiennej\n",
    "\n",
    "def Regression_Assessment(y, y_pred):\n",
    "    \n",
    "    from sklearn.metrics import r2_score \n",
    "    import scipy.stats as stats\n",
    "    from statsmodels.graphics.gofplots import qqplot\n",
    "    from matplotlib import pyplot\n",
    "       \n",
    "    print('-----two methods--------------')\n",
    "    SS_Residual = sum((y-y_pred)**2)       \n",
    "    SS_Total = sum((y-np.mean(y))**2)     \n",
    "    r_squared = 1 - (float(SS_Residual))/SS_Total\n",
    "    adjusted_r_squared = 1 - (1-r_squared)*(len(y)-1)/(len(y)-Xtrain.shape[1]-1)\n",
    "    print('r2_score:           %0.3f' % r_squared)\n",
    "    #print('adjusted_r_squared: %0.3f' % adjusted_r_squared)\n",
    "    #print('----r2_score------secound-method--------')  \n",
    "    print('r2_score:           %0.3f' % r2_score(y, y_pred))  \n",
    "    print()\n",
    "    print('-------------------------------')\n",
    "    MAE = (abs(y-y_pred)).mean()\n",
    "    print('Mean absolute error     MAE:  %0.2f ' %  MAE)\n",
    "    RMSE = np.sqrt(((y-y_pred)**2).mean())\n",
    "    print('Root mean squared error RMSE: %0.2f ' %  RMSE)\n",
    "    pt = (100*(y-y_pred))/y\n",
    "    MAPE = (abs(pt)).mean()\n",
    "    print('Mean absolute error     MAPE: %0.2f ' %  MAPE)\n",
    "    print('-------------------------------')\n",
    "    \n",
    "    stat,pvalue0 = stats.ttest_1samp(a=(y-y_pred),popmean=0.0)\n",
    "\n",
    "    if pvalue0 > 0.01:\n",
    "        print('t-test H0: the sum of the model residuals is zero')\n",
    "        print('OKAY! Model remains do not differ from zero - pvalue:% 0.4f> 0.01 (we do NOT reject H0)'% pvalue0) \n",
    "    else:     \n",
    "        print('Bad - Model remains DIFFERENT FROM ZERO - pvalue:% 0.4f <0.01 (We reject H0)'% pvalue0)  \n",
    "    print('--------------------------------------------------------------------------------------------') \n",
    "  \n",
    "       \n",
    "    stat,pvalue2_1 = stats.shapiro(y)\n",
    "    stat,pvalue2_2 = stats.shapiro(y_pred)\n",
    "\n",
    "    if pvalue2_1 > 0.01:\n",
    "        #print('Shapiro-Wilk H0: y have normal distribution?--------------------------------')\n",
    "        print('OK Shapiro-Wolf! y have normal distribution - pvalue:% 0.4f> 0.01 (we do NOT reject H0)'% pvalue2_1) \n",
    "    else:     \n",
    "        print('Bad Shapiro-Wilk - y NO NORMAL DISTRIBUTION - pvalue:% 0.4f <0.01 (We reject H0)'% pvalue2_1)  \n",
    "        print('--------------------------------------------------------------------------------------------')\n",
    "    if pvalue2_2 > 0.01:\n",
    "        #print('Shapiro-Wilk: y_pred have a normal distribution?--')\n",
    "        print('OK Shapiro-Wolf! y_pred has a normal distribution - pvalue:% 0.4f> 0.01 (we do NOT reject h0)'% pvalue2_2) \n",
    "    else:     \n",
    "        print('Bad Shapiro-Wilk y_pred NO NORMAL DISTRIBUTION - pvalue:% 0.4f <0.01 (We reject H0)'% pvalue2_2)  \n",
    "    \n",
    "    qqplot(y, line='s')\n",
    "    pyplot.show()\n",
    "\n",
    "    qqplot(y_pred, line='s')\n",
    "    pyplot.show()\n",
    "       \n",
    "    print('--------------------------------------------------------------------------------------------')\n",
    "        \n",
    "    stat,pvalue3 = stats.kruskal(y_pred,y)\n",
    "    stat,pvalue4 = stats.f_oneway(y_pred,y)\n",
    "\n",
    "    if pvalue2_1 < 0.01 or pvalue2_2 < 0.01:\n",
    "        print('Shapiro-Vilk: Variables are not normally distributed! Cant do ANOV analysis')\n",
    "     \n",
    "        if pvalue3 > 0.01:\n",
    "            print('Kruskal-Wallis NON-PARAMETRIC TEST: whether empirical forecast and observations. have equal means?')\n",
    "            print('OKAY! Kruskal-Wallis H0: forecast and observations empir. have equal means - pvalue:% 0.4f> 0.01 (we do NOT reject H0)'% pvalue3) \n",
    "        else:     \n",
    "            print('Bad - Kruskal-Wallis: forecast and observations empir. DO NOT HAVE EQUAL Averages - pvalue:% 0.4f <0.01 (We reject H0)'% pvalue3)  \n",
    "    \n",
    "    else:\n",
    "\n",
    "        if pvalue4 > 0.01:\n",
    "            print('F-test (ANOVA): whether empirical forecast and observations. have equal means?--------------------------------')\n",
    "            print('OKAY! forecast and observations empir. have equal means - pvalue:% 0.4f> 0.01 (we do NOT reject H0)'% pvalue4) \n",
    "        else:     \n",
    "            print('Bad - forecast and observations empir. DO NOT HAVE EQUAL Averages - pvalue:% 0.4f <0.01 (We reject H0)'% pvalue4)  \n",
    "    print('--------------------------------------------------------------------------------------------')"
   ]
  },
  {
   "cell_type": "code",
   "execution_count": 54,
   "metadata": {},
   "outputs": [
    {
     "name": "stdout",
     "output_type": "stream",
     "text": [
      "-----two methods--------------\n",
      "r2_score:           0.044\n",
      "r2_score:           0.044\n",
      "\n",
      "-------------------------------\n",
      "Mean absolute error     MAE:  24.41 \n",
      "Root mean squared error RMSE: 28.51 \n",
      "Mean absolute error     MAPE: inf \n",
      "-------------------------------\n",
      "t-test H0: the sum of the model residuals is zero\n",
      "OKAY! Model remains do not differ from zero - pvalue: 0.8665> 0.01 (we do NOT reject H0)\n",
      "--------------------------------------------------------------------------------------------\n",
      "Bad Shapiro-Wilk - y NO NORMAL DISTRIBUTION - pvalue: 0.0001 <0.01 (We reject H0)\n",
      "--------------------------------------------------------------------------------------------\n",
      "Bad Shapiro-Wilk y_pred NO NORMAL DISTRIBUTION - pvalue: 0.0000 <0.01 (We reject H0)\n"
     ]
    },
    {
     "data": {
      "image/png": "[encoded data removed]",
      "text/plain": [
       "<Figure size 432x288 with 1 Axes>"
      ]
     },
     "metadata": {
      "needs_background": "light"
     },
     "output_type": "display_data"
    },
    {
     "data": {
      "image/png": "[encoded data removed]",
      "text/plain": [
       "<Figure size 432x288 with 1 Axes>"
      ]
     },
     "metadata": {
      "needs_background": "light"
     },
     "output_type": "display_data"
    },
    {
     "name": "stdout",
     "output_type": "stream",
     "text": [
      "--------------------------------------------------------------------------------------------\n",
      "Shapiro-Vilk: Variables are not normally distributed! Cant do ANOV analysis\n",
      "Kruskal-Wallis NON-PARAMETRIC TEST: whether empirical forecast and observations. have equal means?\n",
      "OKAY! Kruskal-Wallis H0: forecast and observations empir. have equal means - pvalue: 0.8681> 0.01 (we do NOT reject H0)\n",
      "--------------------------------------------------------------------------------------------\n"
     ]
    }
   ],
   "source": [
    "y = NOWA['y']\n",
    "y_interp = NOWA['y_interp']\n",
    "\n",
    "Regression_Assessment(y, y_interp)"
   ]
  },
  {
   "cell_type": "markdown",
   "metadata": {},
   "source": [
    "<span style=\"font-size: 160%;color:#0c343d;background:#fff2cc\"> I choose quotes from the period 46-52 weeks is a super test period (7 weeks)\n"
   ]
  },
  {
   "cell_type": "code",
   "execution_count": 55,
   "metadata": {},
   "outputs": [
    {
     "ename": "NameError",
     "evalue": "name 'df2' is not defined",
     "output_type": "error",
     "traceback": [
      "\u001b[0;31m---------------------------------------------------------------------------\u001b[0m",
      "\u001b[0;31mNameError\u001b[0m                                 Traceback (most recent call last)",
      "\u001b[0;32m<ipython-input-55-837c913eb21d>\u001b[0m in \u001b[0;36m<module>\u001b[0;34m\u001b[0m\n\u001b[0;32m----> 1\u001b[0;31m \u001b[0mSuperTest\u001b[0m \u001b[0;34m=\u001b[0m \u001b[0mdf2\u001b[0m\u001b[0;34m[\u001b[0m\u001b[0mdf2\u001b[0m\u001b[0;34m.\u001b[0m\u001b[0mWeek\u001b[0m\u001b[0;34m.\u001b[0m\u001b[0misin\u001b[0m\u001b[0;34m(\u001b[0m\u001b[0;34m[\u001b[0m\u001b[0;36m45\u001b[0m\u001b[0;34m,\u001b[0m\u001b[0;36m46\u001b[0m\u001b[0;34m,\u001b[0m\u001b[0;36m47\u001b[0m\u001b[0;34m,\u001b[0m\u001b[0;36m48\u001b[0m\u001b[0;34m,\u001b[0m\u001b[0;36m49\u001b[0m\u001b[0;34m,\u001b[0m\u001b[0;36m50\u001b[0m\u001b[0;34m,\u001b[0m\u001b[0;36m51\u001b[0m\u001b[0;34m,\u001b[0m\u001b[0;36m52\u001b[0m\u001b[0;34m]\u001b[0m\u001b[0;34m)\u001b[0m\u001b[0;34m]\u001b[0m\u001b[0;34m\u001b[0m\u001b[0;34m\u001b[0m\u001b[0m\n\u001b[0m\u001b[1;32m      2\u001b[0m \u001b[0mSuperTest\u001b[0m\u001b[0;34m.\u001b[0m\u001b[0mhead\u001b[0m\u001b[0;34m(\u001b[0m\u001b[0;36m4\u001b[0m\u001b[0;34m)\u001b[0m\u001b[0;34m\u001b[0m\u001b[0;34m\u001b[0m\u001b[0m\n",
      "\u001b[0;31mNameError\u001b[0m: name 'df2' is not defined"
     ]
    }
   ],
   "source": [
    "SuperTest = df2[df2.Week.isin([45,46,47,48,49,50,51,52])] \n",
    "SuperTest.head(4)"
   ]
  },
  {
   "cell_type": "markdown",
   "metadata": {},
   "source": [
    "<span style=\"font-size: 140%;background: white;font-weight:normal;color:#1155cc\">Only the first 10 products"
   ]
  },
  {
   "cell_type": "code",
   "execution_count": null,
   "metadata": {},
   "outputs": [],
   "source": [
    "SuperTest = SuperTest[SuperTest['Product_Code']<=10]\n",
    "SuperTest.head(4)"
   ]
  },
  {
   "cell_type": "code",
   "execution_count": null,
   "metadata": {},
   "outputs": [],
   "source": [
    "X12 = SuperTest.drop(['Sales'],1)\n",
    "y12 = SuperTest['Sales']"
   ]
  },
  {
   "cell_type": "code",
   "execution_count": null,
   "metadata": {},
   "outputs": [],
   "source": [
    "from sklearn.preprocessing import StandardScaler\n",
    "\n",
    "sc = StandardScaler()\n",
    "X12 = sc.fit_transform(X12)\n",
    "\n",
    "print(np.round(X12.std(), decimals=2), np.round(X12.mean(), decimals=2))"
   ]
  },
  {
   "cell_type": "code",
   "execution_count": null,
   "metadata": {},
   "outputs": [],
   "source": [
    "X12 = torch.tensor(X12)\n",
    "X12 = X12.type(torch.FloatTensor).cuda()\n",
    "print(X12[:3])"
   ]
  },
  {
   "cell_type": "code",
   "execution_count": null,
   "metadata": {},
   "outputs": [],
   "source": [
    "y12 = (y12/ 100)  # max test score is 100\n",
    "#print(y.head(3))\n",
    "print('---------------------')\n",
    "print(np.round(y12.std(), decimals=2), np.round(y12.mean(), decimals=2))"
   ]
  },
  {
   "cell_type": "code",
   "execution_count": null,
   "metadata": {},
   "outputs": [],
   "source": [
    "y12.shape"
   ]
  },
  {
   "cell_type": "code",
   "execution_count": null,
   "metadata": {},
   "outputs": [],
   "source": [
    "y12 = y12.values"
   ]
  },
  {
   "cell_type": "code",
   "execution_count": null,
   "metadata": {},
   "outputs": [],
   "source": [
    "y12 = torch.tensor(y12).cuda()\n",
    "print(y12[:3])"
   ]
  },
  {
   "cell_type": "code",
   "execution_count": null,
   "metadata": {},
   "outputs": [],
   "source": [
    "y12 = y12.type(torch.FloatTensor).cuda()"
   ]
  },
  {
   "cell_type": "code",
   "execution_count": null,
   "metadata": {},
   "outputs": [],
   "source": [
    "print('X12:',X12.shape)\n",
    "print('y12:',y12.shape)"
   ]
  },
  {
   "cell_type": "code",
   "execution_count": null,
   "metadata": {},
   "outputs": [],
   "source": [
    "print('X12:',X12[:3])\n",
    "print('y12:',y12[:3])"
   ]
  },
  {
   "cell_type": "code",
   "execution_count": null,
   "metadata": {},
   "outputs": [],
   "source": [
    "with torch.no_grad():\n",
    "    y_model = KOT(X12)  \n",
    "    loss = (y_model - y12).pow(2).sum()\n",
    "\n",
    "    print(f'Loss train_set: {loss:.8f}')"
   ]
  },
  {
   "cell_type": "code",
   "execution_count": null,
   "metadata": {},
   "outputs": [],
   "source": [
    "y_model = y_model*100\n",
    "foka = y_model.cpu().detach().numpy()\n",
    "df11 = pd.DataFrame(foka)\n",
    "df11.columns = ['y_model']\n",
    "df11=np.round(df11.y_model)\n",
    "df11=df11.abs()\n",
    "df11.head(3)"
   ]
  },
  {
   "cell_type": "code",
   "execution_count": null,
   "metadata": {},
   "outputs": [],
   "source": [
    "df11 = pd.DataFrame(df11)\n",
    "df11.head(5)"
   ]
  },
  {
   "cell_type": "code",
   "execution_count": null,
   "metadata": {},
   "outputs": [],
   "source": [
    "print(y12[:3])"
   ]
  },
  {
   "cell_type": "code",
   "execution_count": null,
   "metadata": {},
   "outputs": [],
   "source": [
    "y12 = torch.tensor(y12,device='cpu')\n",
    "print(y12[:3])"
   ]
  },
  {
   "cell_type": "code",
   "execution_count": null,
   "metadata": {},
   "outputs": [],
   "source": []
  },
  {
   "cell_type": "code",
   "execution_count": null,
   "metadata": {},
   "outputs": [],
   "source": [
    "y12 = y12*100\n",
    "#y12 = np.round(y12)\n",
    "foka = y12.detach().numpy()\n",
    "df_t = pd.DataFrame(foka)\n",
    "df_t.columns = ['y12']\n",
    "df_t.head(5)"
   ]
  },
  {
   "cell_type": "code",
   "execution_count": null,
   "metadata": {},
   "outputs": [],
   "source": [
    "Super_NOWA = pd.merge(df_t,df11, how='inner', left_index=True, right_index=True)\n",
    "Super_NOWA.head(3)"
   ]
  },
  {
   "cell_type": "code",
   "execution_count": null,
   "metadata": {},
   "outputs": [],
   "source": [
    "import matplotlib.pyplot as plt\n",
    "\n",
    "fig, ax = plt.subplots( figsize=(16, 2))\n",
    "for ewa in ['y12', 'y_model']:\n",
    "    ax.plot(Super_NOWA, label=ewa)\n",
    "    \n",
    "ax.set_xlim(0, 70)\n",
    "#ax.legend()\n",
    "ax.set_ylabel('Parameter')\n",
    "ax.set_title('COURSE OF THE PROJECTING PROCESS ON THE TEST SET')"
   ]
  },
  {
   "cell_type": "code",
   "execution_count": null,
   "metadata": {},
   "outputs": [],
   "source": [
    "## marginesy\n",
    "plt.subplots_adjust( left = None , bottom = None , right = None , top = None , wspace = None , hspace = None )\n",
    "plt.figure(figsize=(16,5))\n",
    "ax = plt.subplot(1, 2, 1)\n",
    "Super_NOWA.plot.kde(ax=ax, legend=True, title='Histogram: y12 vs. y_model')\n",
    "Super_NOWA.plot.hist(density=True,bins=40, ax=ax, alpha=0.3)\n",
    "ax.set_title(\"Dystributions\")\n",
    "\n",
    "ax = plt.subplot(1, 2, 2)\n",
    "sns.boxplot(data = Super_NOWA)\n",
    "plt.xticks(rotation=-90)\n",
    "ax.set_title(\"Boxes\")\n",
    "\n",
    "\n",
    "sns.lmplot(data=Super_NOWA, x='y12', y='y_model')"
   ]
  },
  {
   "cell_type": "code",
   "execution_count": null,
   "metadata": {},
   "outputs": [],
   "source": [
    "y = Super_NOWA['y12']\n",
    "y_pred = Super_NOWA['y_model']\n",
    "\n",
    "Regression_Assessment(y, y_pred)"
   ]
  }
 ],
 "metadata": {
  "kernelspec": {
   "display_name": "Python 3",
   "language": "python",
   "name": "python3"
  },
  "language_info": {
   "codemirror_mode": {
    "name": "ipython",
    "version": 3
   },
   "file_extension": ".py",
   "mimetype": "text/x-python",
   "name": "python",
   "nbconvert_exporter": "python",
   "pygments_lexer": "ipython3",
   "version": "3.7.4"
  }
 },
 "nbformat": 4,
 "nbformat_minor": 2
}
