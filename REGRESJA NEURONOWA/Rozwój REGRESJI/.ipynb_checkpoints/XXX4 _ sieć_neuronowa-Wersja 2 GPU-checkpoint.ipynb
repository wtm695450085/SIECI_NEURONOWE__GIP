{
 "cells": [
  {
   "cell_type": "markdown",
   "metadata": {},
   "source": [
    "<span style=\"font-size: 150%;color:white;background:#38761d\"> A task for the recruitment process\n",
    "\n",
    "<span style=\"font-size: 150%;color:white;background:red\">Wojciech Moszczyński\n",
    "\n",
    "\n",
    "\n",
    "<span style=\"font-size: 300%;color:white;background:#38761d\">neural network   \n",
    "    \n",
    "    from:\n",
    "https://archive.ics.uci.edu/ml/datasets/Sales_Transactions_Dataset_Weekly.\n",
    "\n",
    "\n",
    "<span style=\"font-size: 150%;color:#0c343d;background:#fff2cc\"> For the first 10 products, please conduct the exploratory analysis and compute the forecast for the next 7 weeks.  "
   ]
  },
  {
   "cell_type": "code",
   "execution_count": 1,
   "metadata": {},
   "outputs": [],
   "source": [
    "import pandas as pd\n",
    "import numpy as np\n",
    "%matplotlib inline\n",
    "import seaborn as sns\n",
    "import matplotlib.pyplot as plt\n",
    "import torch\n",
    "\n",
    "import warnings \n",
    "warnings.filterwarnings(\"ignore\")\n",
    "\n",
    "device = torch.device('cuda') \n",
    "\n",
    "from sklearn.metrics import mean_squared_log_error"
   ]
  },
  {
   "cell_type": "code",
   "execution_count": 2,
   "metadata": {},
   "outputs": [
    {
     "name": "stdout",
     "output_type": "stream",
     "text": [
      "Unnamed: 0                int64\n",
      "Timestamp                object\n",
      "Value                     int64\n",
      "do100                     int64\n",
      "kon                     float64\n",
      "val_diff                float64\n",
      "ZNAK                      int64\n",
      "zeK                       int64\n",
      "do100Plus                 int64\n",
      "prognoza                float64\n",
      "Prognoza_skorygowana    float64\n",
      "dtype: object\n"
     ]
    },
    {
     "data": {
      "text/html": [
       "<div>\n",
       "<style scoped>\n",
       "    .dataframe tbody tr th:only-of-type {\n",
       "        vertical-align: middle;\n",
       "    }\n",
       "\n",
       "    .dataframe tbody tr th {\n",
       "        vertical-align: top;\n",
       "    }\n",
       "\n",
       "    .dataframe thead th {\n",
       "        text-align: right;\n",
       "    }\n",
       "</style>\n",
       "<table border=\"1\" class=\"dataframe\">\n",
       "  <thead>\n",
       "    <tr style=\"text-align: right;\">\n",
       "      <th></th>\n",
       "      <th>Unnamed: 0</th>\n",
       "      <th>Timestamp</th>\n",
       "      <th>Value</th>\n",
       "      <th>do100</th>\n",
       "      <th>kon</th>\n",
       "      <th>val_diff</th>\n",
       "      <th>ZNAK</th>\n",
       "      <th>zeK</th>\n",
       "      <th>do100Plus</th>\n",
       "      <th>prognoza</th>\n",
       "      <th>Prognoza_skorygowana</th>\n",
       "    </tr>\n",
       "  </thead>\n",
       "  <tbody>\n",
       "    <tr>\n",
       "      <td>0</td>\n",
       "      <td>0</td>\n",
       "      <td>2020-05-01 00:00:00</td>\n",
       "      <td>0</td>\n",
       "      <td>0</td>\n",
       "      <td>NaN</td>\n",
       "      <td>NaN</td>\n",
       "      <td>1</td>\n",
       "      <td>0</td>\n",
       "      <td>0</td>\n",
       "      <td>100.0</td>\n",
       "      <td>NaN</td>\n",
       "    </tr>\n",
       "    <tr>\n",
       "      <td>1</td>\n",
       "      <td>1</td>\n",
       "      <td>2020-05-01 00:00:01</td>\n",
       "      <td>0</td>\n",
       "      <td>1</td>\n",
       "      <td>NaN</td>\n",
       "      <td>NaN</td>\n",
       "      <td>1</td>\n",
       "      <td>0</td>\n",
       "      <td>1</td>\n",
       "      <td>100.0</td>\n",
       "      <td>NaN</td>\n",
       "    </tr>\n",
       "    <tr>\n",
       "      <td>2</td>\n",
       "      <td>2</td>\n",
       "      <td>2020-05-01 00:00:02</td>\n",
       "      <td>0</td>\n",
       "      <td>2</td>\n",
       "      <td>NaN</td>\n",
       "      <td>NaN</td>\n",
       "      <td>1</td>\n",
       "      <td>0</td>\n",
       "      <td>2</td>\n",
       "      <td>100.0</td>\n",
       "      <td>NaN</td>\n",
       "    </tr>\n",
       "    <tr>\n",
       "      <td>3</td>\n",
       "      <td>3</td>\n",
       "      <td>2020-05-01 00:00:03</td>\n",
       "      <td>0</td>\n",
       "      <td>3</td>\n",
       "      <td>NaN</td>\n",
       "      <td>NaN</td>\n",
       "      <td>1</td>\n",
       "      <td>0</td>\n",
       "      <td>3</td>\n",
       "      <td>100.0</td>\n",
       "      <td>100.0</td>\n",
       "    </tr>\n",
       "  </tbody>\n",
       "</table>\n",
       "</div>"
      ],
      "text/plain": [
       "   Unnamed: 0            Timestamp  Value  do100  kon  val_diff  ZNAK  zeK  \\\n",
       "0           0  2020-05-01 00:00:00      0      0  NaN       NaN     1    0   \n",
       "1           1  2020-05-01 00:00:01      0      1  NaN       NaN     1    0   \n",
       "2           2  2020-05-01 00:00:02      0      2  NaN       NaN     1    0   \n",
       "3           3  2020-05-01 00:00:03      0      3  NaN       NaN     1    0   \n",
       "\n",
       "   do100Plus  prognoza  Prognoza_skorygowana  \n",
       "0          0     100.0                   NaN  \n",
       "1          1     100.0                   NaN  \n",
       "2          2     100.0                   NaN  \n",
       "3          3     100.0                 100.0  "
      ]
     },
     "execution_count": 2,
     "metadata": {},
     "output_type": "execute_result"
    }
   ],
   "source": [
    "df = pd.read_csv('/media/wojciech/D6DE33C1DE339927/1A/dane7.csv')    \n",
    "print(df.dtypes)\n",
    "df.head(4)"
   ]
  },
  {
   "cell_type": "code",
   "execution_count": 3,
   "metadata": {},
   "outputs": [],
   "source": [
    "df['Timestamp'] = pd.to_datetime(df['Timestamp'])"
   ]
  },
  {
   "cell_type": "code",
   "execution_count": 4,
   "metadata": {},
   "outputs": [
    {
     "data": {
      "text/html": [
       "<div>\n",
       "<style scoped>\n",
       "    .dataframe tbody tr th:only-of-type {\n",
       "        vertical-align: middle;\n",
       "    }\n",
       "\n",
       "    .dataframe tbody tr th {\n",
       "        vertical-align: top;\n",
       "    }\n",
       "\n",
       "    .dataframe thead th {\n",
       "        text-align: right;\n",
       "    }\n",
       "</style>\n",
       "<table border=\"1\" class=\"dataframe\">\n",
       "  <thead>\n",
       "    <tr style=\"text-align: right;\">\n",
       "      <th></th>\n",
       "      <th>Unnamed: 0</th>\n",
       "      <th>Timestamp</th>\n",
       "      <th>Value</th>\n",
       "      <th>do100</th>\n",
       "      <th>kon</th>\n",
       "      <th>val_diff</th>\n",
       "      <th>ZNAK</th>\n",
       "      <th>zeK</th>\n",
       "      <th>do100Plus</th>\n",
       "      <th>prognoza</th>\n",
       "      <th>Prognoza_skorygowana</th>\n",
       "      <th>hour</th>\n",
       "      <th>minute</th>\n",
       "      <th>second</th>\n",
       "    </tr>\n",
       "  </thead>\n",
       "  <tbody>\n",
       "    <tr>\n",
       "      <td>0</td>\n",
       "      <td>0</td>\n",
       "      <td>2020-05-01 00:00:00</td>\n",
       "      <td>0</td>\n",
       "      <td>0</td>\n",
       "      <td>NaN</td>\n",
       "      <td>NaN</td>\n",
       "      <td>1</td>\n",
       "      <td>0</td>\n",
       "      <td>0</td>\n",
       "      <td>100.0</td>\n",
       "      <td>NaN</td>\n",
       "      <td>0.0</td>\n",
       "      <td>0.0</td>\n",
       "      <td>0.0</td>\n",
       "    </tr>\n",
       "    <tr>\n",
       "      <td>1</td>\n",
       "      <td>1</td>\n",
       "      <td>2020-05-01 00:00:01</td>\n",
       "      <td>0</td>\n",
       "      <td>1</td>\n",
       "      <td>NaN</td>\n",
       "      <td>NaN</td>\n",
       "      <td>1</td>\n",
       "      <td>0</td>\n",
       "      <td>1</td>\n",
       "      <td>100.0</td>\n",
       "      <td>NaN</td>\n",
       "      <td>0.0</td>\n",
       "      <td>0.0</td>\n",
       "      <td>1.0</td>\n",
       "    </tr>\n",
       "    <tr>\n",
       "      <td>2</td>\n",
       "      <td>2</td>\n",
       "      <td>2020-05-01 00:00:02</td>\n",
       "      <td>0</td>\n",
       "      <td>2</td>\n",
       "      <td>NaN</td>\n",
       "      <td>NaN</td>\n",
       "      <td>1</td>\n",
       "      <td>0</td>\n",
       "      <td>2</td>\n",
       "      <td>100.0</td>\n",
       "      <td>NaN</td>\n",
       "      <td>0.0</td>\n",
       "      <td>0.0</td>\n",
       "      <td>2.0</td>\n",
       "    </tr>\n",
       "  </tbody>\n",
       "</table>\n",
       "</div>"
      ],
      "text/plain": [
       "   Unnamed: 0           Timestamp  Value  do100  kon  val_diff  ZNAK  zeK  \\\n",
       "0           0 2020-05-01 00:00:00      0      0  NaN       NaN     1    0   \n",
       "1           1 2020-05-01 00:00:01      0      1  NaN       NaN     1    0   \n",
       "2           2 2020-05-01 00:00:02      0      2  NaN       NaN     1    0   \n",
       "\n",
       "   do100Plus  prognoza  Prognoza_skorygowana  hour  minute  second  \n",
       "0          0     100.0                   NaN   0.0     0.0     0.0  \n",
       "1          1     100.0                   NaN   0.0     0.0     1.0  \n",
       "2          2     100.0                   NaN   0.0     0.0     2.0  "
      ]
     },
     "execution_count": 4,
     "metadata": {},
     "output_type": "execute_result"
    }
   ],
   "source": [
    "\n",
    "df['hour']= df['Timestamp'].dt.hour.astype(np.float32)\n",
    "df['minute']= df['Timestamp'].dt.minute.astype(np.float32)\n",
    "df['second']= df['Timestamp'].dt.second.astype(np.float32)\n",
    "df.head(3)"
   ]
  },
  {
   "cell_type": "code",
   "execution_count": 5,
   "metadata": {},
   "outputs": [],
   "source": [
    "df = df.dropna(how='any')"
   ]
  },
  {
   "cell_type": "code",
   "execution_count": 6,
   "metadata": {},
   "outputs": [
    {
     "data": {
      "text/plain": [
       "Index(['Unnamed: 0', 'Timestamp', 'Value', 'do100', 'kon', 'val_diff', 'ZNAK',\n",
       "       'zeK', 'do100Plus', 'prognoza', 'Prognoza_skorygowana', 'hour',\n",
       "       'minute', 'second'],\n",
       "      dtype='object')"
      ]
     },
     "execution_count": 6,
     "metadata": {},
     "output_type": "execute_result"
    }
   ],
   "source": [
    "df.columns"
   ]
  },
  {
   "cell_type": "code",
   "execution_count": 7,
   "metadata": {},
   "outputs": [
    {
     "data": {
      "text/plain": [
       "(4347, 14)"
      ]
     },
     "execution_count": 7,
     "metadata": {},
     "output_type": "execute_result"
    }
   ],
   "source": [
    "df.shape"
   ]
  },
  {
   "cell_type": "code",
   "execution_count": 8,
   "metadata": {},
   "outputs": [
    {
     "name": "stdout",
     "output_type": "stream",
     "text": [
      "max: 100\n",
      "min: 0\n"
     ]
    },
    {
     "data": {
      "text/plain": [
       "<matplotlib.axes._subplots.AxesSubplot at 0x7fc1fe064590>"
      ]
     },
     "execution_count": 8,
     "metadata": {},
     "output_type": "execute_result"
    },
    {
     "data": {
      "image/png": "[encoded data removed]",
      "text/plain": [
       "<Figure size 432x288 with 1 Axes>"
      ]
     },
     "metadata": {
      "needs_background": "light"
     },
     "output_type": "display_data"
    }
   ],
   "source": [
    "print('max:',df['Value'].max())\n",
    "print('min:',df['Value'].min())\n",
    "\n",
    "sns.distplot(np.array(df['Value']))"
   ]
  },
  {
   "cell_type": "markdown",
   "metadata": {},
   "source": [
    "<span style=\"font-size: 110%;color:#0c343d;background:#fff2cc\">The population "
   ]
  },
  {
   "cell_type": "markdown",
   "metadata": {},
   "source": [
    "<span style=\"font-size: 110%;color:#0c343d;background:#fff2cc\">Then we "
   ]
  },
  {
   "cell_type": "markdown",
   "metadata": {},
   "source": [
    "<span style=\"font-size: 210%;color:#0c343d;background:#fff2cc\"> We create \n",
    "    \n",
    "<span style=\"font-size: 110%;color:#0c343d;background:#fff2cc\">Now I creat"
   ]
  },
  {
   "cell_type": "markdown",
   "metadata": {},
   "source": [
    "<span style=\"font-size: 110%;color:#0c343d;background:#fff2cc\">Describing variables before scaling"
   ]
  },
  {
   "cell_type": "code",
   "execution_count": 9,
   "metadata": {},
   "outputs": [],
   "source": [
    "x = df[['do100', 'kon', 'val_diff', 'ZNAK','zeK', 'do100Plus', 'prognoza', 'Prognoza_skorygowana', 'hour', 'minute', 'second']]\n",
    "y = df['Value']"
   ]
  },
  {
   "cell_type": "markdown",
   "metadata": {},
   "source": [
    "<span style=\"font-size: 110%;color:#0c343d;background:#fff2cc\">I download data - I do not need standardized sales because the primary data is enough for me."
   ]
  },
  {
   "cell_type": "markdown",
   "metadata": {},
   "source": [
    "<span style=\"font-size: 140%;color:#0c343d;background:#fff2cc\">Dividing time series data into training and test sets.\n",
    "\n",
    "<span style=\"font-size: 110%;color:#0c343d;background:#fff2cc\">I split the set for training data for the first 42 weeks, then I separate the 44 and 45 test data set. Finally, as instructed, I allow a period of 7 weeks to make a forecast for 10 products. This will be the week: 45, 46, 47, 48, 49, 50, 51, 52. I will use this data at the end of the task when I have my model ready."
   ]
  },
  {
   "cell_type": "code",
   "execution_count": 10,
   "metadata": {},
   "outputs": [
    {
     "data": {
      "text/plain": [
       "0.0    3122\n",
       "1.0    1225\n",
       "Name: hour, dtype: int64"
      ]
     },
     "execution_count": 10,
     "metadata": {},
     "output_type": "execute_result"
    }
   ],
   "source": [
    "df['hour'].value_counts()"
   ]
  },
  {
   "cell_type": "code",
   "execution_count": 11,
   "metadata": {},
   "outputs": [],
   "source": [
    "del df['Timestamp'] "
   ]
  },
  {
   "cell_type": "code",
   "execution_count": 12,
   "metadata": {},
   "outputs": [],
   "source": [
    "train = df[df['hour'] == 0]\n",
    "test = df[df['hour'] == 1]"
   ]
  },
  {
   "cell_type": "code",
   "execution_count": 13,
   "metadata": {},
   "outputs": [
    {
     "data": {
      "text/html": [
       "<div>\n",
       "<style scoped>\n",
       "    .dataframe tbody tr th:only-of-type {\n",
       "        vertical-align: middle;\n",
       "    }\n",
       "\n",
       "    .dataframe tbody tr th {\n",
       "        vertical-align: top;\n",
       "    }\n",
       "\n",
       "    .dataframe thead th {\n",
       "        text-align: right;\n",
       "    }\n",
       "</style>\n",
       "<table border=\"1\" class=\"dataframe\">\n",
       "  <thead>\n",
       "    <tr style=\"text-align: right;\">\n",
       "      <th></th>\n",
       "      <th>Unnamed: 0</th>\n",
       "      <th>Value</th>\n",
       "      <th>do100</th>\n",
       "      <th>kon</th>\n",
       "      <th>val_diff</th>\n",
       "      <th>ZNAK</th>\n",
       "      <th>zeK</th>\n",
       "      <th>do100Plus</th>\n",
       "      <th>prognoza</th>\n",
       "      <th>Prognoza_skorygowana</th>\n",
       "      <th>hour</th>\n",
       "      <th>minute</th>\n",
       "      <th>second</th>\n",
       "    </tr>\n",
       "  </thead>\n",
       "  <tbody>\n",
       "    <tr>\n",
       "      <td>3600</td>\n",
       "      <td>3600</td>\n",
       "      <td>0</td>\n",
       "      <td>65</td>\n",
       "      <td>5.0</td>\n",
       "      <td>-10.0</td>\n",
       "      <td>-1</td>\n",
       "      <td>0</td>\n",
       "      <td>-65</td>\n",
       "      <td>40.0</td>\n",
       "      <td>30.0</td>\n",
       "      <td>1.0</td>\n",
       "      <td>0.0</td>\n",
       "      <td>0.0</td>\n",
       "    </tr>\n",
       "    <tr>\n",
       "      <td>3601</td>\n",
       "      <td>3601</td>\n",
       "      <td>0</td>\n",
       "      <td>66</td>\n",
       "      <td>6.0</td>\n",
       "      <td>-10.0</td>\n",
       "      <td>-1</td>\n",
       "      <td>0</td>\n",
       "      <td>-66</td>\n",
       "      <td>40.0</td>\n",
       "      <td>30.0</td>\n",
       "      <td>1.0</td>\n",
       "      <td>0.0</td>\n",
       "      <td>1.0</td>\n",
       "    </tr>\n",
       "    <tr>\n",
       "      <td>3602</td>\n",
       "      <td>3602</td>\n",
       "      <td>0</td>\n",
       "      <td>67</td>\n",
       "      <td>7.0</td>\n",
       "      <td>-10.0</td>\n",
       "      <td>-1</td>\n",
       "      <td>0</td>\n",
       "      <td>-67</td>\n",
       "      <td>40.0</td>\n",
       "      <td>40.0</td>\n",
       "      <td>1.0</td>\n",
       "      <td>0.0</td>\n",
       "      <td>2.0</td>\n",
       "    </tr>\n",
       "  </tbody>\n",
       "</table>\n",
       "</div>"
      ],
      "text/plain": [
       "      Unnamed: 0  Value  do100  kon  val_diff  ZNAK  zeK  do100Plus  prognoza  \\\n",
       "3600        3600      0     65  5.0     -10.0    -1    0        -65      40.0   \n",
       "3601        3601      0     66  6.0     -10.0    -1    0        -66      40.0   \n",
       "3602        3602      0     67  7.0     -10.0    -1    0        -67      40.0   \n",
       "\n",
       "      Prognoza_skorygowana  hour  minute  second  \n",
       "3600                  30.0   1.0     0.0     0.0  \n",
       "3601                  30.0   1.0     0.0     1.0  \n",
       "3602                  40.0   1.0     0.0     2.0  "
      ]
     },
     "execution_count": 13,
     "metadata": {},
     "output_type": "execute_result"
    }
   ],
   "source": [
    "test.head(3)"
   ]
  },
  {
   "cell_type": "code",
   "execution_count": 14,
   "metadata": {},
   "outputs": [
    {
     "data": {
      "text/html": [
       "<div>\n",
       "<style scoped>\n",
       "    .dataframe tbody tr th:only-of-type {\n",
       "        vertical-align: middle;\n",
       "    }\n",
       "\n",
       "    .dataframe tbody tr th {\n",
       "        vertical-align: top;\n",
       "    }\n",
       "\n",
       "    .dataframe thead th {\n",
       "        text-align: right;\n",
       "    }\n",
       "</style>\n",
       "<table border=\"1\" class=\"dataframe\">\n",
       "  <thead>\n",
       "    <tr style=\"text-align: right;\">\n",
       "      <th></th>\n",
       "      <th>Unnamed: 0</th>\n",
       "      <th>Value</th>\n",
       "      <th>do100</th>\n",
       "      <th>kon</th>\n",
       "      <th>val_diff</th>\n",
       "      <th>ZNAK</th>\n",
       "      <th>zeK</th>\n",
       "      <th>do100Plus</th>\n",
       "      <th>prognoza</th>\n",
       "      <th>Prognoza_skorygowana</th>\n",
       "      <th>hour</th>\n",
       "      <th>minute</th>\n",
       "      <th>second</th>\n",
       "    </tr>\n",
       "  </thead>\n",
       "  <tbody>\n",
       "    <tr>\n",
       "      <td>13</td>\n",
       "      <td>13</td>\n",
       "      <td>10</td>\n",
       "      <td>13</td>\n",
       "      <td>3.0</td>\n",
       "      <td>10.0</td>\n",
       "      <td>1</td>\n",
       "      <td>0</td>\n",
       "      <td>13</td>\n",
       "      <td>10.0</td>\n",
       "      <td>10.0</td>\n",
       "      <td>0.0</td>\n",
       "      <td>0.0</td>\n",
       "      <td>13.0</td>\n",
       "    </tr>\n",
       "    <tr>\n",
       "      <td>14</td>\n",
       "      <td>14</td>\n",
       "      <td>10</td>\n",
       "      <td>14</td>\n",
       "      <td>4.0</td>\n",
       "      <td>10.0</td>\n",
       "      <td>1</td>\n",
       "      <td>0</td>\n",
       "      <td>14</td>\n",
       "      <td>10.0</td>\n",
       "      <td>10.0</td>\n",
       "      <td>0.0</td>\n",
       "      <td>0.0</td>\n",
       "      <td>14.0</td>\n",
       "    </tr>\n",
       "    <tr>\n",
       "      <td>15</td>\n",
       "      <td>15</td>\n",
       "      <td>10</td>\n",
       "      <td>15</td>\n",
       "      <td>5.0</td>\n",
       "      <td>10.0</td>\n",
       "      <td>1</td>\n",
       "      <td>0</td>\n",
       "      <td>15</td>\n",
       "      <td>10.0</td>\n",
       "      <td>10.0</td>\n",
       "      <td>0.0</td>\n",
       "      <td>0.0</td>\n",
       "      <td>15.0</td>\n",
       "    </tr>\n",
       "  </tbody>\n",
       "</table>\n",
       "</div>"
      ],
      "text/plain": [
       "    Unnamed: 0  Value  do100  kon  val_diff  ZNAK  zeK  do100Plus  prognoza  \\\n",
       "13          13     10     13  3.0      10.0     1    0         13      10.0   \n",
       "14          14     10     14  4.0      10.0     1    0         14      10.0   \n",
       "15          15     10     15  5.0      10.0     1    0         15      10.0   \n",
       "\n",
       "    Prognoza_skorygowana  hour  minute  second  \n",
       "13                  10.0   0.0     0.0    13.0  \n",
       "14                  10.0   0.0     0.0    14.0  \n",
       "15                  10.0   0.0     0.0    15.0  "
      ]
     },
     "execution_count": 14,
     "metadata": {},
     "output_type": "execute_result"
    }
   ],
   "source": [
    "train.head(3)"
   ]
  },
  {
   "cell_type": "code",
   "execution_count": 15,
   "metadata": {},
   "outputs": [],
   "source": [
    "Xtrain, Xtest = train.drop(['Value'], axis=1), test.drop(['Value'], axis=1) \n",
    "ytrain, ytest = train['Value'].values, test['Value'].values                  "
   ]
  },
  {
   "cell_type": "markdown",
   "metadata": {},
   "source": [
    "<span style=\"font-size: 110%;color:#0c343d;background:#fff2cc\">Score (quantity of sales) before scaling</span>  "
   ]
  },
  {
   "cell_type": "code",
   "execution_count": 16,
   "metadata": {},
   "outputs": [
    {
     "data": {
      "text/plain": [
       "array([10, 10, 10, 10, 10])"
      ]
     },
     "execution_count": 16,
     "metadata": {},
     "output_type": "execute_result"
    }
   ],
   "source": [
    "ytrain[:5]"
   ]
  },
  {
   "cell_type": "code",
   "execution_count": 17,
   "metadata": {},
   "outputs": [
    {
     "data": {
      "text/plain": [
       "array([0, 0, 0, 0, 0])"
      ]
     },
     "execution_count": 17,
     "metadata": {},
     "output_type": "execute_result"
    }
   ],
   "source": [
    "ytest[:5]"
   ]
  },
  {
   "cell_type": "markdown",
   "metadata": {},
   "source": [
    "<span style=\"font-size: 110%;color:#0c343d;background:#fff2cc\">Describing variables before scaling"
   ]
  },
  {
   "cell_type": "code",
   "execution_count": 18,
   "metadata": {},
   "outputs": [
    {
     "data": {
      "text/html": [
       "<div>\n",
       "<style scoped>\n",
       "    .dataframe tbody tr th:only-of-type {\n",
       "        vertical-align: middle;\n",
       "    }\n",
       "\n",
       "    .dataframe tbody tr th {\n",
       "        vertical-align: top;\n",
       "    }\n",
       "\n",
       "    .dataframe thead th {\n",
       "        text-align: right;\n",
       "    }\n",
       "</style>\n",
       "<table border=\"1\" class=\"dataframe\">\n",
       "  <thead>\n",
       "    <tr style=\"text-align: right;\">\n",
       "      <th></th>\n",
       "      <th>Unnamed: 0</th>\n",
       "      <th>do100</th>\n",
       "      <th>kon</th>\n",
       "      <th>val_diff</th>\n",
       "      <th>ZNAK</th>\n",
       "      <th>zeK</th>\n",
       "      <th>do100Plus</th>\n",
       "      <th>prognoza</th>\n",
       "      <th>Prognoza_skorygowana</th>\n",
       "      <th>hour</th>\n",
       "      <th>minute</th>\n",
       "      <th>second</th>\n",
       "    </tr>\n",
       "  </thead>\n",
       "  <tbody>\n",
       "    <tr>\n",
       "      <td>13</td>\n",
       "      <td>13</td>\n",
       "      <td>13</td>\n",
       "      <td>3.0</td>\n",
       "      <td>10.0</td>\n",
       "      <td>1</td>\n",
       "      <td>0</td>\n",
       "      <td>13</td>\n",
       "      <td>10.0</td>\n",
       "      <td>10.0</td>\n",
       "      <td>0.0</td>\n",
       "      <td>0.0</td>\n",
       "      <td>13.0</td>\n",
       "    </tr>\n",
       "    <tr>\n",
       "      <td>14</td>\n",
       "      <td>14</td>\n",
       "      <td>14</td>\n",
       "      <td>4.0</td>\n",
       "      <td>10.0</td>\n",
       "      <td>1</td>\n",
       "      <td>0</td>\n",
       "      <td>14</td>\n",
       "      <td>10.0</td>\n",
       "      <td>10.0</td>\n",
       "      <td>0.0</td>\n",
       "      <td>0.0</td>\n",
       "      <td>14.0</td>\n",
       "    </tr>\n",
       "    <tr>\n",
       "      <td>15</td>\n",
       "      <td>15</td>\n",
       "      <td>15</td>\n",
       "      <td>5.0</td>\n",
       "      <td>10.0</td>\n",
       "      <td>1</td>\n",
       "      <td>0</td>\n",
       "      <td>15</td>\n",
       "      <td>10.0</td>\n",
       "      <td>10.0</td>\n",
       "      <td>0.0</td>\n",
       "      <td>0.0</td>\n",
       "      <td>15.0</td>\n",
       "    </tr>\n",
       "  </tbody>\n",
       "</table>\n",
       "</div>"
      ],
      "text/plain": [
       "    Unnamed: 0  do100  kon  val_diff  ZNAK  zeK  do100Plus  prognoza  \\\n",
       "13          13     13  3.0      10.0     1    0         13      10.0   \n",
       "14          14     14  4.0      10.0     1    0         14      10.0   \n",
       "15          15     15  5.0      10.0     1    0         15      10.0   \n",
       "\n",
       "    Prognoza_skorygowana  hour  minute  second  \n",
       "13                  10.0   0.0     0.0    13.0  \n",
       "14                  10.0   0.0     0.0    14.0  \n",
       "15                  10.0   0.0     0.0    15.0  "
      ]
     },
     "execution_count": 18,
     "metadata": {},
     "output_type": "execute_result"
    }
   ],
   "source": [
    "Xtrain[:3]"
   ]
  },
  {
   "cell_type": "code",
   "execution_count": 19,
   "metadata": {},
   "outputs": [
    {
     "data": {
      "text/html": [
       "<div>\n",
       "<style scoped>\n",
       "    .dataframe tbody tr th:only-of-type {\n",
       "        vertical-align: middle;\n",
       "    }\n",
       "\n",
       "    .dataframe tbody tr th {\n",
       "        vertical-align: top;\n",
       "    }\n",
       "\n",
       "    .dataframe thead th {\n",
       "        text-align: right;\n",
       "    }\n",
       "</style>\n",
       "<table border=\"1\" class=\"dataframe\">\n",
       "  <thead>\n",
       "    <tr style=\"text-align: right;\">\n",
       "      <th></th>\n",
       "      <th>Unnamed: 0</th>\n",
       "      <th>do100</th>\n",
       "      <th>kon</th>\n",
       "      <th>val_diff</th>\n",
       "      <th>ZNAK</th>\n",
       "      <th>zeK</th>\n",
       "      <th>do100Plus</th>\n",
       "      <th>prognoza</th>\n",
       "      <th>Prognoza_skorygowana</th>\n",
       "      <th>hour</th>\n",
       "      <th>minute</th>\n",
       "      <th>second</th>\n",
       "    </tr>\n",
       "  </thead>\n",
       "  <tbody>\n",
       "    <tr>\n",
       "      <td>3600</td>\n",
       "      <td>3600</td>\n",
       "      <td>65</td>\n",
       "      <td>5.0</td>\n",
       "      <td>-10.0</td>\n",
       "      <td>-1</td>\n",
       "      <td>0</td>\n",
       "      <td>-65</td>\n",
       "      <td>40.0</td>\n",
       "      <td>30.0</td>\n",
       "      <td>1.0</td>\n",
       "      <td>0.0</td>\n",
       "      <td>0.0</td>\n",
       "    </tr>\n",
       "    <tr>\n",
       "      <td>3601</td>\n",
       "      <td>3601</td>\n",
       "      <td>66</td>\n",
       "      <td>6.0</td>\n",
       "      <td>-10.0</td>\n",
       "      <td>-1</td>\n",
       "      <td>0</td>\n",
       "      <td>-66</td>\n",
       "      <td>40.0</td>\n",
       "      <td>30.0</td>\n",
       "      <td>1.0</td>\n",
       "      <td>0.0</td>\n",
       "      <td>1.0</td>\n",
       "    </tr>\n",
       "    <tr>\n",
       "      <td>3602</td>\n",
       "      <td>3602</td>\n",
       "      <td>67</td>\n",
       "      <td>7.0</td>\n",
       "      <td>-10.0</td>\n",
       "      <td>-1</td>\n",
       "      <td>0</td>\n",
       "      <td>-67</td>\n",
       "      <td>40.0</td>\n",
       "      <td>40.0</td>\n",
       "      <td>1.0</td>\n",
       "      <td>0.0</td>\n",
       "      <td>2.0</td>\n",
       "    </tr>\n",
       "  </tbody>\n",
       "</table>\n",
       "</div>"
      ],
      "text/plain": [
       "      Unnamed: 0  do100  kon  val_diff  ZNAK  zeK  do100Plus  prognoza  \\\n",
       "3600        3600     65  5.0     -10.0    -1    0        -65      40.0   \n",
       "3601        3601     66  6.0     -10.0    -1    0        -66      40.0   \n",
       "3602        3602     67  7.0     -10.0    -1    0        -67      40.0   \n",
       "\n",
       "      Prognoza_skorygowana  hour  minute  second  \n",
       "3600                  30.0   1.0     0.0     0.0  \n",
       "3601                  30.0   1.0     0.0     1.0  \n",
       "3602                  40.0   1.0     0.0     2.0  "
      ]
     },
     "execution_count": 19,
     "metadata": {},
     "output_type": "execute_result"
    }
   ],
   "source": [
    "Xtest[:3]"
   ]
  },
  {
   "cell_type": "markdown",
   "metadata": {},
   "source": [
    "<span style=\"font-size: 140%;color:#0c343d;background:#fff2cc\"> Scaling (normalization) of the X value\n",
    "\n",
    "<span style=\"font-size: 110%;color:#0c343d;background:#fff2cc\">X should never be too big. Ideally, it should be in the range [-1, 1]. If this is not the case, normalize the input."
   ]
  },
  {
   "cell_type": "raw",
   "metadata": {},
   "source": [
    "from sklearn.preprocessing import StandardScaler\n",
    "\n",
    "sc = StandardScaler()\n",
    "Xtrain = sc.fit_transform(Xtrain)\n",
    "\n",
    "print(np.round(Xtrain.std(), decimals=2), np.round(Xtrain.mean(), decimals=2))"
   ]
  },
  {
   "cell_type": "raw",
   "metadata": {},
   "source": [
    "from sklearn.preprocessing import StandardScaler\n",
    "\n",
    "sc = StandardScaler()\n",
    "Xtest = sc.fit_transform(Xtest)\n",
    "\n",
    "print(np.round(Xtest.std(), decimals=2), np.round(Xtest.mean(), decimals=2))"
   ]
  },
  {
   "cell_type": "raw",
   "metadata": {},
   "source": [
    "ytrain.value_counts()"
   ]
  },
  {
   "cell_type": "raw",
   "metadata": {},
   "source": [
    "ytrain = (ytrain / 100)  # max test score is 100\n",
    "#print(y.head(3))\n",
    "print(np.round(ytrain.std(), decimals=2), np.round(ytrain.mean(), decimals=2))"
   ]
  },
  {
   "cell_type": "raw",
   "metadata": {},
   "source": [
    "ytest = (ytest / 100)  # max test score is 100\n",
    "#print(y.head(3))\n",
    "print(np.round(ytest.std(), decimals=2), np.round(ytest.mean(), decimals=2))"
   ]
  },
  {
   "cell_type": "markdown",
   "metadata": {},
   "source": [
    "<span style=\"font-size: 140%;color:#0c343d;background:#fff2cc\"> Creates random input and output"
   ]
  },
  {
   "cell_type": "code",
   "execution_count": 20,
   "metadata": {},
   "outputs": [
    {
     "name": "stdout",
     "output_type": "stream",
     "text": [
      "tensor([[13., 13.,  3., 10.,  1.,  0., 13., 10., 10.,  0.,  0., 13.],\n",
      "        [14., 14.,  4., 10.,  1.,  0., 14., 10., 10.,  0.,  0., 14.],\n",
      "        [15., 15.,  5., 10.,  1.,  0., 15., 10., 10.,  0.,  0., 15.]],\n",
      "       device='cuda:0', dtype=torch.float64)\n"
     ]
    }
   ],
   "source": [
    "Xtrain = Xtrain.values \n",
    "Xtrain = torch.tensor(Xtrain).cuda()\n",
    "print(Xtrain[:3])"
   ]
  },
  {
   "cell_type": "code",
   "execution_count": 21,
   "metadata": {},
   "outputs": [
    {
     "name": "stdout",
     "output_type": "stream",
     "text": [
      "tensor([[13., 13.,  3., 10.,  1.,  0., 13., 10., 10.,  0.,  0., 13.],\n",
      "        [14., 14.,  4., 10.,  1.,  0., 14., 10., 10.,  0.,  0., 14.],\n",
      "        [15., 15.,  5., 10.,  1.,  0., 15., 10., 10.,  0.,  0., 15.]],\n",
      "       device='cuda:0')\n"
     ]
    }
   ],
   "source": [
    "Xtrain = Xtrain.type(torch.FloatTensor).cuda()\n",
    "print(Xtrain[:3])"
   ]
  },
  {
   "cell_type": "code",
   "execution_count": 22,
   "metadata": {},
   "outputs": [
    {
     "name": "stdout",
     "output_type": "stream",
     "text": [
      "tensor([[ 3.6000e+03,  6.5000e+01,  5.0000e+00, -1.0000e+01, -1.0000e+00,\n",
      "          0.0000e+00, -6.5000e+01,  4.0000e+01,  3.0000e+01,  1.0000e+00,\n",
      "          0.0000e+00,  0.0000e+00],\n",
      "        [ 3.6010e+03,  6.6000e+01,  6.0000e+00, -1.0000e+01, -1.0000e+00,\n",
      "          0.0000e+00, -6.6000e+01,  4.0000e+01,  3.0000e+01,  1.0000e+00,\n",
      "          0.0000e+00,  1.0000e+00],\n",
      "        [ 3.6020e+03,  6.7000e+01,  7.0000e+00, -1.0000e+01, -1.0000e+00,\n",
      "          0.0000e+00, -6.7000e+01,  4.0000e+01,  4.0000e+01,  1.0000e+00,\n",
      "          0.0000e+00,  2.0000e+00]], device='cuda:0', dtype=torch.float64)\n"
     ]
    }
   ],
   "source": [
    "Xtest = Xtest.values       #- jak była normalizacja to to nie działa\n",
    "Xtest = torch.tensor(Xtest).cuda()\n",
    "print(Xtest[:3])"
   ]
  },
  {
   "cell_type": "code",
   "execution_count": 23,
   "metadata": {},
   "outputs": [
    {
     "name": "stdout",
     "output_type": "stream",
     "text": [
      "tensor([[ 3.6000e+03,  6.5000e+01,  5.0000e+00, -1.0000e+01, -1.0000e+00,\n",
      "          0.0000e+00, -6.5000e+01,  4.0000e+01,  3.0000e+01,  1.0000e+00,\n",
      "          0.0000e+00,  0.0000e+00],\n",
      "        [ 3.6010e+03,  6.6000e+01,  6.0000e+00, -1.0000e+01, -1.0000e+00,\n",
      "          0.0000e+00, -6.6000e+01,  4.0000e+01,  3.0000e+01,  1.0000e+00,\n",
      "          0.0000e+00,  1.0000e+00],\n",
      "        [ 3.6020e+03,  6.7000e+01,  7.0000e+00, -1.0000e+01, -1.0000e+00,\n",
      "          0.0000e+00, -6.7000e+01,  4.0000e+01,  4.0000e+01,  1.0000e+00,\n",
      "          0.0000e+00,  2.0000e+00]], device='cuda:0')\n"
     ]
    }
   ],
   "source": [
    "Xtest = Xtest.type(torch.FloatTensor).cuda()\n",
    "print(Xtest[:3])"
   ]
  },
  {
   "cell_type": "code",
   "execution_count": 24,
   "metadata": {},
   "outputs": [
    {
     "name": "stdout",
     "output_type": "stream",
     "text": [
      "tensor([10, 10, 10], device='cuda:0')\n"
     ]
    }
   ],
   "source": [
    "ytrain = torch.tensor(ytrain).cuda()\n",
    "print(ytrain[:3])"
   ]
  },
  {
   "cell_type": "code",
   "execution_count": 25,
   "metadata": {},
   "outputs": [
    {
     "name": "stdout",
     "output_type": "stream",
     "text": [
      "tensor([0, 0, 0], device='cuda:0')\n"
     ]
    }
   ],
   "source": [
    "ytest = torch.tensor(ytest).cuda()\n",
    "print(ytest[:3])"
   ]
  },
  {
   "cell_type": "markdown",
   "metadata": {},
   "source": [
    "<span style=\"font-size: 110%;color:#0c343d;background:#fff2cc\">training variables"
   ]
  },
  {
   "cell_type": "code",
   "execution_count": 26,
   "metadata": {},
   "outputs": [],
   "source": [
    "ytrain = ytrain.type(torch.FloatTensor).cuda()"
   ]
  },
  {
   "cell_type": "code",
   "execution_count": 27,
   "metadata": {},
   "outputs": [
    {
     "name": "stdout",
     "output_type": "stream",
     "text": [
      "Xtrain: torch.Size([3122, 12])\n",
      "ytrain: torch.Size([3122])\n"
     ]
    }
   ],
   "source": [
    "print('Xtrain:',Xtrain.shape)\n",
    "print('ytrain:',ytrain.shape)"
   ]
  },
  {
   "cell_type": "markdown",
   "metadata": {},
   "source": [
    "<span style=\"font-size: 110%;color:#0c343d;background:#fff2cc\">Add one dimension to the result vector"
   ]
  },
  {
   "cell_type": "code",
   "execution_count": 28,
   "metadata": {},
   "outputs": [
    {
     "data": {
      "text/plain": [
       "torch.Size([3122, 1])"
      ]
     },
     "execution_count": 28,
     "metadata": {},
     "output_type": "execute_result"
    }
   ],
   "source": [
    "ytrain = ytrain.view(ytrain.shape[0],1).cuda()\n",
    "ytrain.shape"
   ]
  },
  {
   "cell_type": "code",
   "execution_count": 29,
   "metadata": {},
   "outputs": [
    {
     "data": {
      "text/plain": [
       "tensor([[1.3000e+01, 1.3000e+01, 3.0000e+00,  ..., 0.0000e+00, 0.0000e+00,\n",
       "         1.3000e+01],\n",
       "        [1.4000e+01, 1.4000e+01, 4.0000e+00,  ..., 0.0000e+00, 0.0000e+00,\n",
       "         1.4000e+01],\n",
       "        [1.5000e+01, 1.5000e+01, 5.0000e+00,  ..., 0.0000e+00, 0.0000e+00,\n",
       "         1.5000e+01],\n",
       "        ...,\n",
       "        [3.5970e+03, 6.2000e+01, 2.0000e+00,  ..., 0.0000e+00, 5.9000e+01,\n",
       "         5.7000e+01],\n",
       "        [3.5980e+03, 6.3000e+01, 3.0000e+00,  ..., 0.0000e+00, 5.9000e+01,\n",
       "         5.8000e+01],\n",
       "        [3.5990e+03, 6.4000e+01, 4.0000e+00,  ..., 0.0000e+00, 5.9000e+01,\n",
       "         5.9000e+01]], device='cuda:0')"
      ]
     },
     "execution_count": 29,
     "metadata": {},
     "output_type": "execute_result"
    }
   ],
   "source": [
    "Xtrain"
   ]
  },
  {
   "cell_type": "markdown",
   "metadata": {},
   "source": [
    "<span style=\"font-size: 110%;color:#0c343d;background:#fff2cc\">TEST VARIABLES"
   ]
  },
  {
   "cell_type": "code",
   "execution_count": 30,
   "metadata": {},
   "outputs": [],
   "source": [
    "ytest = ytest.type(torch.FloatTensor)"
   ]
  },
  {
   "cell_type": "code",
   "execution_count": 31,
   "metadata": {},
   "outputs": [
    {
     "name": "stdout",
     "output_type": "stream",
     "text": [
      "Xtest: torch.Size([1225, 12])\n",
      "ytest: torch.Size([1225])\n"
     ]
    }
   ],
   "source": [
    "print('Xtest:',Xtest.shape)\n",
    "print('ytest:',ytest.shape)"
   ]
  },
  {
   "cell_type": "markdown",
   "metadata": {},
   "source": [
    "<span style=\"font-size: 110%;color:#0c343d;background:#fff2cc\">Add one dimension to the result vector"
   ]
  },
  {
   "cell_type": "code",
   "execution_count": 32,
   "metadata": {},
   "outputs": [
    {
     "data": {
      "text/plain": [
       "torch.Size([1225, 1])"
      ]
     },
     "execution_count": 32,
     "metadata": {},
     "output_type": "execute_result"
    }
   ],
   "source": [
    "ytest = ytest.view(ytest.shape[0],1)\n",
    "ytest.shape"
   ]
  },
  {
   "cell_type": "code",
   "execution_count": 33,
   "metadata": {},
   "outputs": [
    {
     "data": {
      "text/plain": [
       "tensor([[ 3.6000e+03,  6.5000e+01,  5.0000e+00, -1.0000e+01, -1.0000e+00,\n",
       "          0.0000e+00, -6.5000e+01,  4.0000e+01,  3.0000e+01,  1.0000e+00,\n",
       "          0.0000e+00,  0.0000e+00],\n",
       "        [ 3.6010e+03,  6.6000e+01,  6.0000e+00, -1.0000e+01, -1.0000e+00,\n",
       "          0.0000e+00, -6.6000e+01,  4.0000e+01,  3.0000e+01,  1.0000e+00,\n",
       "          0.0000e+00,  1.0000e+00],\n",
       "        [ 3.6020e+03,  6.7000e+01,  7.0000e+00, -1.0000e+01, -1.0000e+00,\n",
       "          0.0000e+00, -6.7000e+01,  4.0000e+01,  4.0000e+01,  1.0000e+00,\n",
       "          0.0000e+00,  2.0000e+00],\n",
       "        [ 3.6030e+03,  6.8000e+01,  8.0000e+00, -1.0000e+01, -1.0000e+00,\n",
       "          0.0000e+00, -6.8000e+01,  4.0000e+01,  4.0000e+01,  1.0000e+00,\n",
       "          0.0000e+00,  3.0000e+00]], device='cuda:0')"
      ]
     },
     "execution_count": 33,
     "metadata": {},
     "output_type": "execute_result"
    }
   ],
   "source": [
    "Xtest[:4]"
   ]
  },
  {
   "cell_type": "code",
   "execution_count": 34,
   "metadata": {},
   "outputs": [
    {
     "name": "stdout",
     "output_type": "stream",
     "text": [
      "Xtrain:  torch.Size([3122, 12])\n",
      "Xtest:   torch.Size([1225, 12])\n",
      "----------------------------------------------------\n",
      "ytrain:  torch.Size([3122, 1])\n",
      "ytest:   torch.Size([1225, 1])\n"
     ]
    }
   ],
   "source": [
    "print('Xtrain: ',Xtrain.shape)\n",
    "print('Xtest:  ',Xtest.shape)\n",
    "print('----------------------------------------------------')\n",
    "print('ytrain: ',ytrain.shape)\n",
    "print('ytest:  ',ytest.shape)"
   ]
  },
  {
   "cell_type": "markdown",
   "metadata": {},
   "source": [
    "<span style=\"font-size: 140%;color:#0c343d;background:#fff2cc\">Definition of the shape of the network"
   ]
  },
  {
   "cell_type": "code",
   "execution_count": 35,
   "metadata": {},
   "outputs": [],
   "source": [
    "N, D_in = Xtrain.shape\n",
    "N, D_out = ytrain.shape\n",
    "\n",
    "H = 500                            ## the number of dimensions of the inner layer\n",
    "device = torch.device('cuda')"
   ]
  },
  {
   "cell_type": "code",
   "execution_count": null,
   "metadata": {},
   "outputs": [],
   "source": []
  },
  {
   "cell_type": "markdown",
   "metadata": {},
   "source": [
    "# definiowanie sieci sposób 'append'"
   ]
  },
  {
   "cell_type": "code",
   "execution_count": 36,
   "metadata": {},
   "outputs": [],
   "source": [
    "import torch.nn as nn\n",
    "\n",
    "layers = []\n",
    "layers.append(nn.Linear(D_in, H))   # INPUT Linear\n",
    "\n",
    "\n",
    "layers.append(nn.LeakyReLU())    ## LeakyReLU\n",
    "# normalizacja warstwy\n",
    "#layers.append(nn.BatchNorm1d(H)),\n",
    "# Apply dropout to prevent overfitting\n",
    "#layers.append(nn.Dropout(0.9)),         \n",
    "\n",
    "\n",
    "layers.append(nn.LeakyReLU())    ## LeakyReLU\n",
    "# normalizacja warstwy\n",
    "#layers.append(nn.BatchNorm1d(H)),\n",
    "# Apply dropout to prevent overfitting\n",
    "#layers.append(nn.Dropout(0.5)), \n",
    "\n",
    "\n",
    "#layers.append(nn.Sigmoid())  ## Sigmoid\n",
    "# normalizacja warstwy\n",
    "#layers.append(nn.BatchNorm1d(H)),\n",
    "# Apply dropout to prevent overfitting\n",
    "#layers.append(nn.Dropout(0.4)), \n",
    "\n",
    "\n",
    "layers.append(nn.ReLU(inplace=True))  ## ReLU\n",
    "# normalizacja warstwy\n",
    "layers.append(nn.BatchNorm1d(H)),\n",
    "# Apply dropout to prevent overfitting\n",
    "layers.append(nn.Dropout(0.4)), \n",
    "\n",
    "\n",
    "layers.append(nn.Linear(H, D_out))\n",
    "\n",
    "\n",
    "net = nn.Sequential(*layers).to(device)"
   ]
  },
  {
   "cell_type": "markdown",
   "metadata": {},
   "source": [
    "# Definiowanie sieci sposób bezpośredni"
   ]
  },
  {
   "cell_type": "raw",
   "metadata": {},
   "source": [
    "net = torch.nn.Sequential(\n",
    "        torch.nn.Linear(D_in,  H),   # INPUT LeakyReLU\n",
    "        torch.nn.LeakyReLU(),\n",
    "        # normalizacja warstwy\n",
    "        torch.nn.BatchNorm1d(H),\n",
    "        torch.nn.Dropout(0.9),         # Apply dropout to prevent overfitting\n",
    "        \n",
    "        torch.nn.Linear(H, H),        # inner LeakyReLU\n",
    "        torch.nn.LeakyReLU(),\n",
    "        # normalizacja warstwy\n",
    "        torch.nn.BatchNorm1d(H),\n",
    "        torch.nn.Dropout(0.5),          # Apply dropout to prevent overfitting\n",
    "        \n",
    "        torch.nn.Linear(H, H),        # inner Sigmoid\n",
    "        torch.nn.Sigmoid(),\n",
    "        # normalizacja warstwy\n",
    "        torch.nn.BatchNorm1d(H),         # Apply batch normalization\n",
    "        torch.nn.Dropout(0.6),           # Apply dropout to prevent overfitting\n",
    "        \n",
    "        torch.nn.Linear(H, H),        # inner Relu\n",
    "        torch.nn.ReLU(inplace=True),          \n",
    "        torch.nn.Linear(H, D_out),    # output layer\n",
    "    ).to(device)  "
   ]
  },
  {
   "cell_type": "code",
   "execution_count": 37,
   "metadata": {},
   "outputs": [
    {
     "data": {
      "text/plain": [
       "tensor([[-4.1975],\n",
       "        [-3.3255],\n",
       "        [ 0.3942],\n",
       "        ...,\n",
       "        [ 0.5986],\n",
       "        [-0.8369],\n",
       "        [ 0.2251]], device='cuda:0', grad_fn=<AddmmBackward>)"
      ]
     },
     "execution_count": 37,
     "metadata": {},
     "output_type": "execute_result"
    }
   ],
   "source": [
    "net(Xtrain)"
   ]
  },
  {
   "cell_type": "markdown",
   "metadata": {},
   "source": [
    "<span style=\"font-size: 160%;color:#0c343d;background:#fff2cc\"> Optimizer\n",
    "\n",
    "\n",
    "<span style=\"font-size: 110%;color:#0c343d;background:#fff2cc\">lr: Speed of learning -> The speed at which our model updates the weights in the cells each time backward propagation is carried out\n"
   ]
  },
  {
   "cell_type": "code",
   "execution_count": 38,
   "metadata": {},
   "outputs": [],
   "source": [
    "#optimizer = torch.optim.SGD(net.parameters(), lr=0.01, momentum=0, dampening=0, weight_decay=0, nesterov=False) #-2.401\n",
    "#optimizer = torch.optim.SGD(net.parameters(), lr=0.1) #-4.086\n",
    "optimizer = torch.optim.Adam(net.parameters(), lr=0.001) #-5.298\n",
    "#optimizer = torch.optim.Adamax(net.parameters(), lr=0.01) #-6.610\n",
    "#optimizer = torch.optim.ASGD(net.parameters(), lr=0.001, lambd=0.001, alpha=0.35, t0=000000.0) #-2.315\n",
    "#optimizer = torch.optim.LBFGS(net.parameters(), lr=0.01, max_iter=20, max_eval=None, tolerance_grad=1e-05, tolerance_change=1e-09, history_size=100, line_search_fn=None)\n",
    "#optimizer = torch.optim.RMSprop(net.parameters(), lr=0.01, alpha=0.99, eps=1e-08) #-5.152\n",
    "#optimizer = torch.optim.Rprop(net.parameters(), lr=0.01, etas=(0.5, 1.2), step_sizes=(1e-06, 50))  #R2:-7.388"
   ]
  },
  {
   "cell_type": "markdown",
   "metadata": {},
   "source": [
    "<span style=\"font-size: 160%;color:#0c343d;background:#fff2cc\">Loss function"
   ]
  },
  {
   "cell_type": "code",
   "execution_count": 39,
   "metadata": {},
   "outputs": [],
   "source": [
    "loss_func = torch.nn.MSELoss() #89\n",
    "#loss_func = torch.nn.L1Loss() #90\n",
    "#loss_func = torch.nn.CTCLoss(blank=0, reduction='mean', zero_infinity=False)\n",
    "#loss_func =torch.nn.NLLLoss(weight=None, size_average=None, ignore_index=-100, reduce=None, reduction='mean')\n",
    "#loss_func =torch.nn.PoissonNLLLoss(log_input=True, full=False, size_average=None, eps=1e-08, reduce=None, reduction='mean')\n",
    "#loss_func =torch.nn.KLDivLoss(size_average=None, reduce=None, reduction='mean', log_target=False)\n",
    "#loss_func =torch.nn.BCELoss(weight=None, size_average=None, reduce=None, reduction='mean')\n",
    "#loss_func =torch.nn.BCEWithLogitsLoss(weight=None, size_average=None, reduce=None, reduction='mean', pos_weight=None)\n",
    "#loss_func =torch.nn.MarginRankingLoss(margin=0.0, size_average=None, reduce=None, reduction='mean')\n",
    "#loss_func =torch.nn.HingeEmbeddingLoss(margin=1.0, size_average=None, reduce=None, reduction='mean')\n",
    "#loss_func =torch.nn.HuberLoss(reduction='mean', delta=1.0)\n",
    "#loss_func = torch.nn.Flatten(start_dim=1, end_dim=-1)"
   ]
  },
  {
   "cell_type": "markdown",
   "metadata": {},
   "source": [
    "<span style=\"font-size: 160%;color:#0c343d;background:#fff2cc\">Defining the learning process and learning"
   ]
  },
  {
   "cell_type": "code",
   "execution_count": 40,
   "metadata": {},
   "outputs": [
    {
     "name": "stdout",
     "output_type": "stream",
     "text": [
      "0 3267.1689453125\n",
      "10000 138.84750366210938\n",
      "20000 129.4951934814453\n",
      "30000 130.60020446777344\n",
      "40000 130.36724853515625\n",
      "50000 115.12460327148438\n",
      "60000 122.50440979003906\n",
      "70000 121.14988708496094\n",
      "80000 120.43843078613281\n",
      "90000 112.65765380859375\n"
     ]
    }
   ],
   "source": [
    "inputs = Xtrain                          \n",
    "outputs = ytrain\n",
    "for i in range(100000):                         \n",
    "   prediction = net(inputs)\n",
    "   loss = loss_func(prediction, outputs) \n",
    "   optimizer.zero_grad()\n",
    "   loss.backward()        \n",
    "   optimizer.step()       \n",
    "\n",
    "   if i % 10000 == 0:  \n",
    "      print(i, loss.item())    "
   ]
  },
  {
   "cell_type": "markdown",
   "metadata": {},
   "source": [
    "###  Forecast based on the model\n",
    "-  substitute the same equations that were in the model\n",
    "-  The following loss result shows the last model sequence\n",
    "-  Loss shows how much the model is wrong (loss = sum of error squares) after the last learning sequence"
   ]
  },
  {
   "cell_type": "code",
   "execution_count": 41,
   "metadata": {},
   "outputs": [
    {
     "name": "stdout",
     "output_type": "stream",
     "text": [
      "tensor([[0.],\n",
      "        [0.],\n",
      "        [0.]], device='cuda:0')\n"
     ]
    }
   ],
   "source": [
    "ytest = torch.tensor(ytest).cuda()\n",
    "print(ytest[:3])"
   ]
  },
  {
   "cell_type": "code",
   "execution_count": 42,
   "metadata": {},
   "outputs": [
    {
     "name": "stdout",
     "output_type": "stream",
     "text": [
      "Loss train_set: 1291503.62500000\n"
     ]
    }
   ],
   "source": [
    "with torch.no_grad():\n",
    "    y_pred = net(Xtest)  \n",
    "    loss = (y_pred - ytest).pow(2).sum()\n",
    "\n",
    "    print(f'Loss train_set: {loss:.8f}')"
   ]
  },
  {
   "cell_type": "markdown",
   "metadata": {},
   "source": [
    "<span style=\"font-size: 160%;color:#0c343d;background:#fff2cc\"> We save the whole model"
   ]
  },
  {
   "cell_type": "code",
   "execution_count": 43,
   "metadata": {},
   "outputs": [],
   "source": [
    "torch.save(net,'/home/wojciech/Pulpit/7/byk19.pb')"
   ]
  },
  {
   "cell_type": "markdown",
   "metadata": {},
   "source": [
    "<span style=\"font-size: 160%;color:#0c343d;background:#fff2cc\"> We play the whole model\n",
    "    \n",
    "    The model is now not called 'net' but 'KOT'"
   ]
  },
  {
   "cell_type": "code",
   "execution_count": 44,
   "metadata": {},
   "outputs": [
    {
     "data": {
      "text/plain": [
       "Sequential(\n",
       "  (0): Linear(in_features=12, out_features=500, bias=True)\n",
       "  (1): LeakyReLU(negative_slope=0.01)\n",
       "  (2): LeakyReLU(negative_slope=0.01)\n",
       "  (3): ReLU(inplace=True)\n",
       "  (4): BatchNorm1d(500, eps=1e-05, momentum=0.1, affine=True, track_running_stats=True)\n",
       "  (5): Dropout(p=0.4, inplace=False)\n",
       "  (6): Linear(in_features=500, out_features=1, bias=True)\n",
       ")"
      ]
     },
     "execution_count": 44,
     "metadata": {},
     "output_type": "execute_result"
    }
   ],
   "source": [
    "KOT = torch.load('/home/wojciech/Pulpit/7/byk19.pb') # to ten dobry model\n",
    "KOT"
   ]
  },
  {
   "cell_type": "code",
   "execution_count": 45,
   "metadata": {},
   "outputs": [
    {
     "name": "stdout",
     "output_type": "stream",
     "text": [
      "Loss train_set: 1037.71826172\n"
     ]
    }
   ],
   "source": [
    "with torch.no_grad():\n",
    "    y_interp = KOT(Xtest)  \n",
    "    loss = (y_interp - ytest).pow(2).mean()\n",
    "\n",
    "    print(f'Loss train_set: {loss:.8f}')"
   ]
  },
  {
   "cell_type": "code",
   "execution_count": 46,
   "metadata": {},
   "outputs": [
    {
     "data": {
      "text/plain": [
       "tensor([[38.8588],\n",
       "        [30.7730],\n",
       "        [43.8265],\n",
       "        ...,\n",
       "        [31.1844],\n",
       "        [29.7391],\n",
       "        [36.0870]], device='cuda:0')"
      ]
     },
     "execution_count": 46,
     "metadata": {},
     "output_type": "execute_result"
    }
   ],
   "source": [
    "y_interp"
   ]
  },
  {
   "cell_type": "markdown",
   "metadata": {},
   "source": [
    "<span style=\"font-size: 110%;color:#0c343d;background:#fff2cc\"> By substituting other independent variables, you can get a vector of output variables\n",
    "We choose a random record from the tensor"
   ]
  },
  {
   "cell_type": "code",
   "execution_count": 47,
   "metadata": {},
   "outputs": [
    {
     "data": {
      "text/plain": [
       "0    39.0\n",
       "1    31.0\n",
       "2    44.0\n",
       "Name: y_interp, dtype: float32"
      ]
     },
     "execution_count": 47,
     "metadata": {},
     "output_type": "execute_result"
    }
   ],
   "source": [
    "y_interp = y_interp\n",
    "foka = y_interp.cpu().detach().numpy()\n",
    "df11 = pd.DataFrame(foka)\n",
    "df11.columns = ['y_interp']\n",
    "df11=np.round(df11.y_interp)\n",
    "df11.head(3)"
   ]
  },
  {
   "cell_type": "code",
   "execution_count": 48,
   "metadata": {},
   "outputs": [
    {
     "data": {
      "text/html": [
       "<div>\n",
       "<style scoped>\n",
       "    .dataframe tbody tr th:only-of-type {\n",
       "        vertical-align: middle;\n",
       "    }\n",
       "\n",
       "    .dataframe tbody tr th {\n",
       "        vertical-align: top;\n",
       "    }\n",
       "\n",
       "    .dataframe thead th {\n",
       "        text-align: right;\n",
       "    }\n",
       "</style>\n",
       "<table border=\"1\" class=\"dataframe\">\n",
       "  <thead>\n",
       "    <tr style=\"text-align: right;\">\n",
       "      <th></th>\n",
       "      <th>y</th>\n",
       "    </tr>\n",
       "  </thead>\n",
       "  <tbody>\n",
       "    <tr>\n",
       "      <td>0</td>\n",
       "      <td>0.0</td>\n",
       "    </tr>\n",
       "    <tr>\n",
       "      <td>1</td>\n",
       "      <td>0.0</td>\n",
       "    </tr>\n",
       "    <tr>\n",
       "      <td>2</td>\n",
       "      <td>0.0</td>\n",
       "    </tr>\n",
       "  </tbody>\n",
       "</table>\n",
       "</div>"
      ],
      "text/plain": [
       "     y\n",
       "0  0.0\n",
       "1  0.0\n",
       "2  0.0"
      ]
     },
     "execution_count": 48,
     "metadata": {},
     "output_type": "execute_result"
    }
   ],
   "source": [
    "ytest = ytest\n",
    "foka = ytest.cpu().detach().numpy()\n",
    "df_t = pd.DataFrame(foka)\n",
    "df_t.columns = ['y']\n",
    "df_t.head(3)"
   ]
  },
  {
   "cell_type": "code",
   "execution_count": 49,
   "metadata": {},
   "outputs": [
    {
     "data": {
      "text/plain": [
       "<bound method NDFrame.tail of          y  y_interp\n",
       "0      0.0      39.0\n",
       "1      0.0      31.0\n",
       "2      0.0      44.0\n",
       "3      0.0      33.0\n",
       "4      0.0      43.0\n",
       "...    ...       ...\n",
       "1220  10.0      34.0\n",
       "1221  10.0      35.0\n",
       "1222  10.0      31.0\n",
       "1223  10.0      30.0\n",
       "1224  10.0      36.0\n",
       "\n",
       "[1225 rows x 2 columns]>"
      ]
     },
     "execution_count": 49,
     "metadata": {},
     "output_type": "execute_result"
    }
   ],
   "source": [
    "NOWA = pd.merge(df_t,df11, how='inner', left_index=True, right_index=True)\n",
    "NOWA.tail"
   ]
  },
  {
   "cell_type": "code",
   "execution_count": 50,
   "metadata": {},
   "outputs": [],
   "source": [
    "NOWA.to_csv('/home/wojciech/Pulpit/7/NOWA.csv')"
   ]
  },
  {
   "cell_type": "code",
   "execution_count": 51,
   "metadata": {},
   "outputs": [
    {
     "data": {
      "text/plain": [
       "Text(0.5, 1.0, 'COURSE OF THE PROJECTING PROCESS ON THE TEST SET')"
      ]
     },
     "execution_count": 51,
     "metadata": {},
     "output_type": "execute_result"
    },
    {
     "data": {
      "image/png": "[encoded data removed]",
      "text/plain": [
       "<Figure size 1152x144 with 1 Axes>"
      ]
     },
     "metadata": {
      "needs_background": "light"
     },
     "output_type": "display_data"
    }
   ],
   "source": [
    "fig, ax = plt.subplots( figsize=(16, 2))\n",
    "for ewa in ['y', 'y_interp']:\n",
    "    ax.plot(NOWA, label=ewa)\n",
    "    \n",
    "ax.set_xlim(13, 950)\n",
    "#ax.legend()\n",
    "ax.set_ylabel('Parameter')\n",
    "ax.set_title('COURSE OF THE PROJECTING PROCESS ON THE TEST SET')"
   ]
  },
  {
   "cell_type": "code",
   "execution_count": 52,
   "metadata": {},
   "outputs": [
    {
     "data": {
      "text/plain": [
       "<seaborn.axisgrid.FacetGrid at 0x7fc1f0038b10>"
      ]
     },
     "execution_count": 52,
     "metadata": {},
     "output_type": "execute_result"
    },
    {
     "data": {
      "text/plain": [
       "<Figure size 432x288 with 0 Axes>"
      ]
     },
     "metadata": {},
     "output_type": "display_data"
    },
    {
     "data": {
      "image/png": "[encoded data removed]",
      "text/plain": [
       "<Figure size 1152x360 with 2 Axes>"
      ]
     },
     "metadata": {
      "needs_background": "light"
     },
     "output_type": "display_data"
    },
    {
     "data": {
      "image/png": "[encoded data removed]",
      "text/plain": [
       "<Figure size 360x360 with 1 Axes>"
      ]
     },
     "metadata": {
      "needs_background": "light"
     },
     "output_type": "display_data"
    }
   ],
   "source": [
    "## marginesy\n",
    "plt.subplots_adjust( left = None , bottom = None , right = None , top = None , wspace = None , hspace = None )\n",
    "plt.figure(figsize=(16,5))\n",
    "ax = plt.subplot(1, 2, 1)\n",
    "NOWA.plot.kde(ax=ax, legend=True, title='Histogram: y vs. y_interp')\n",
    "NOWA.plot.hist(density=True,bins=40, ax=ax, alpha=0.3)\n",
    "ax.set_title(\"Dystributions\")\n",
    "\n",
    "ax = plt.subplot(1, 2, 2)\n",
    "sns.boxplot(data = NOWA)\n",
    "plt.xticks(rotation=-90)\n",
    "ax.set_title(\"Boxes\")\n",
    "\n",
    "\n",
    "sns.lmplot(data=NOWA, x='y', y='y_interp')"
   ]
  },
  {
   "cell_type": "markdown",
   "metadata": {},
   "source": [
    "<span style=\"font-size: 160%;color:#0c343d;background:#fff2cc\"> Regression_Assessment"
   ]
  },
  {
   "cell_type": "code",
   "execution_count": 53,
   "metadata": {},
   "outputs": [],
   "source": [
    "## Robi ocenę tylko dla jednej zmiennej\n",
    "\n",
    "def Regression_Assessment(y, y_pred):\n",
    "    \n",
    "    from sklearn.metrics import r2_score \n",
    "    import scipy.stats as stats\n",
    "    from statsmodels.graphics.gofplots import qqplot\n",
    "    from matplotlib import pyplot\n",
    "       \n",
    "    print('-----two methods--------------')\n",
    "    SS_Residual = sum((y-y_pred)**2)       \n",
    "    SS_Total = sum((y-np.mean(y))**2)     \n",
    "    r_squared = 1 - (float(SS_Residual))/SS_Total\n",
    "    adjusted_r_squared = 1 - (1-r_squared)*(len(y)-1)/(len(y)-Xtrain.shape[1]-1)\n",
    "    print('r2_score:           %0.3f' % r_squared)\n",
    "    #print('adjusted_r_squared: %0.3f' % adjusted_r_squared)\n",
    "    #print('----r2_score------secound-method--------')  \n",
    "    print('r2_score:           %0.3f' % r2_score(y, y_pred))  \n",
    "    print()\n",
    "    print('-------------------------------')\n",
    "    MAE = (abs(y-y_pred)).mean()\n",
    "    print('Mean absolute error     MAE:  %0.2f ' %  MAE)\n",
    "    RMSE = np.sqrt(((y-y_pred)**2).mean())\n",
    "    print('Root mean squared error RMSE: %0.2f ' %  RMSE)\n",
    "    pt = (100*(y-y_pred))/y\n",
    "    MAPE = (abs(pt)).mean()\n",
    "    print('Mean absolute error     MAPE: %0.2f ' %  MAPE)\n",
    "    print('-------------------------------')\n",
    "    \n",
    "    stat,pvalue0 = stats.ttest_1samp(a=(y-y_pred),popmean=0.0)\n",
    "\n",
    "    if pvalue0 > 0.01:\n",
    "        print('t-test H0: the sum of the model residuals is zero')\n",
    "        print('OKAY! Model remains do not differ from zero - pvalue:% 0.4f> 0.01 (we do NOT reject H0)'% pvalue0) \n",
    "    else:     \n",
    "        print('Bad - Model remains DIFFERENT FROM ZERO - pvalue:% 0.4f <0.01 (We reject H0)'% pvalue0)  \n",
    "    print('--------------------------------------------------------------------------------------------') \n",
    "  \n",
    "       \n",
    "    stat,pvalue2_1 = stats.shapiro(y)\n",
    "    stat,pvalue2_2 = stats.shapiro(y_pred)\n",
    "\n",
    "    if pvalue2_1 > 0.01:\n",
    "        #print('Shapiro-Wilk H0: y have normal distribution?--------------------------------')\n",
    "        print('OK Shapiro-Wolf! y have normal distribution - pvalue:% 0.4f> 0.01 (we do NOT reject H0)'% pvalue2_1) \n",
    "    else:     \n",
    "        print('Bad Shapiro-Wilk - y NO NORMAL DISTRIBUTION - pvalue:% 0.4f <0.01 (We reject H0)'% pvalue2_1)  \n",
    "        print('--------------------------------------------------------------------------------------------')\n",
    "    if pvalue2_2 > 0.01:\n",
    "        #print('Shapiro-Wilk: y_pred have a normal distribution?--')\n",
    "        print('OK Shapiro-Wolf! y_pred has a normal distribution - pvalue:% 0.4f> 0.01 (we do NOT reject h0)'% pvalue2_2) \n",
    "    else:     \n",
    "        print('Bad Shapiro-Wilk y_pred NO NORMAL DISTRIBUTION - pvalue:% 0.4f <0.01 (We reject H0)'% pvalue2_2)  \n",
    "    \n",
    "    qqplot(y, line='s')\n",
    "    pyplot.show()\n",
    "\n",
    "    qqplot(y_pred, line='s')\n",
    "    pyplot.show()\n",
    "       \n",
    "    print('--------------------------------------------------------------------------------------------')\n",
    "        \n",
    "    stat,pvalue3 = stats.kruskal(y_pred,y)\n",
    "    stat,pvalue4 = stats.f_oneway(y_pred,y)\n",
    "\n",
    "    if pvalue2_1 < 0.01 or pvalue2_2 < 0.01:\n",
    "        print('Shapiro-Vilk: Variables are not normally distributed! Cant do ANOV analysis')\n",
    "     \n",
    "        if pvalue3 > 0.01:\n",
    "            print('Kruskal-Wallis NON-PARAMETRIC TEST: whether empirical forecast and observations. have equal means?')\n",
    "            print('OKAY! Kruskal-Wallis H0: forecast and observations empir. have equal means - pvalue:% 0.4f> 0.01 (we do NOT reject H0)'% pvalue3) \n",
    "        else:     \n",
    "            print('Bad - Kruskal-Wallis: forecast and observations empir. DO NOT HAVE EQUAL Averages - pvalue:% 0.4f <0.01 (We reject H0)'% pvalue3)  \n",
    "    \n",
    "    else:\n",
    "\n",
    "        if pvalue4 > 0.01:\n",
    "            print('F-test (ANOVA): whether empirical forecast and observations. have equal means?--------------------------------')\n",
    "            print('OKAY! forecast and observations empir. have equal means - pvalue:% 0.4f> 0.01 (we do NOT reject H0)'% pvalue4) \n",
    "        else:     \n",
    "            print('Bad - forecast and observations empir. DO NOT HAVE EQUAL Averages - pvalue:% 0.4f <0.01 (We reject H0)'% pvalue4)  \n",
    "    print('--------------------------------------------------------------------------------------------')"
   ]
  },
  {
   "cell_type": "code",
   "execution_count": 54,
   "metadata": {},
   "outputs": [
    {
     "name": "stdout",
     "output_type": "stream",
     "text": [
      "-----two methods--------------\n",
      "r2_score:           -0.085\n",
      "r2_score:           -0.085\n",
      "\n",
      "-------------------------------\n",
      "Mean absolute error     MAE:  27.47 \n",
      "Root mean squared error RMSE: 32.21 \n",
      "Mean absolute error     MAPE: inf \n",
      "-------------------------------\n",
      "t-test H0: the sum of the model residuals is zero\n",
      "OKAY! Model remains do not differ from zero - pvalue: 0.8956> 0.01 (we do NOT reject H0)\n",
      "--------------------------------------------------------------------------------------------\n",
      "Bad Shapiro-Wilk - y NO NORMAL DISTRIBUTION - pvalue: 0.0000 <0.01 (We reject H0)\n",
      "--------------------------------------------------------------------------------------------\n",
      "Bad Shapiro-Wilk y_pred NO NORMAL DISTRIBUTION - pvalue: 0.0000 <0.01 (We reject H0)\n"
     ]
    },
    {
     "data": {
      "image/png": "[encoded data removed]",
      "text/plain": [
       "<Figure size 432x288 with 1 Axes>"
      ]
     },
     "metadata": {
      "needs_background": "light"
     },
     "output_type": "display_data"
    },
    {
     "data": {
      "image/png": "[encoded data removed]",
      "text/plain": [
       "<Figure size 432x288 with 1 Axes>"
      ]
     },
     "metadata": {
      "needs_background": "light"
     },
     "output_type": "display_data"
    },
    {
     "name": "stdout",
     "output_type": "stream",
     "text": [
      "--------------------------------------------------------------------------------------------\n",
      "Shapiro-Vilk: Variables are not normally distributed! Cant do ANOV analysis\n",
      "Kruskal-Wallis NON-PARAMETRIC TEST: whether empirical forecast and observations. have equal means?\n",
      "OKAY! Kruskal-Wallis H0: forecast and observations empir. have equal means - pvalue: 0.7128> 0.01 (we do NOT reject H0)\n",
      "--------------------------------------------------------------------------------------------\n"
     ]
    }
   ],
   "source": [
    "y = NOWA['y']\n",
    "y_interp = NOWA['y_interp']\n",
    "\n",
    "Regression_Assessment(y, y_interp)"
   ]
  },
  {
   "cell_type": "markdown",
   "metadata": {},
   "source": [
    "<span style=\"font-size: 160%;color:#0c343d;background:#fff2cc\"> I choose quotes from the period 46-52 weeks is a super test period (7 weeks)\n"
   ]
  },
  {
   "cell_type": "code",
   "execution_count": 55,
   "metadata": {},
   "outputs": [
    {
     "ename": "NameError",
     "evalue": "name 'df2' is not defined",
     "output_type": "error",
     "traceback": [
      "\u001b[0;31m---------------------------------------------------------------------------\u001b[0m",
      "\u001b[0;31mNameError\u001b[0m                                 Traceback (most recent call last)",
      "\u001b[0;32m<ipython-input-55-837c913eb21d>\u001b[0m in \u001b[0;36m<module>\u001b[0;34m\u001b[0m\n\u001b[0;32m----> 1\u001b[0;31m \u001b[0mSuperTest\u001b[0m \u001b[0;34m=\u001b[0m \u001b[0mdf2\u001b[0m\u001b[0;34m[\u001b[0m\u001b[0mdf2\u001b[0m\u001b[0;34m.\u001b[0m\u001b[0mWeek\u001b[0m\u001b[0;34m.\u001b[0m\u001b[0misin\u001b[0m\u001b[0;34m(\u001b[0m\u001b[0;34m[\u001b[0m\u001b[0;36m45\u001b[0m\u001b[0;34m,\u001b[0m\u001b[0;36m46\u001b[0m\u001b[0;34m,\u001b[0m\u001b[0;36m47\u001b[0m\u001b[0;34m,\u001b[0m\u001b[0;36m48\u001b[0m\u001b[0;34m,\u001b[0m\u001b[0;36m49\u001b[0m\u001b[0;34m,\u001b[0m\u001b[0;36m50\u001b[0m\u001b[0;34m,\u001b[0m\u001b[0;36m51\u001b[0m\u001b[0;34m,\u001b[0m\u001b[0;36m52\u001b[0m\u001b[0;34m]\u001b[0m\u001b[0;34m)\u001b[0m\u001b[0;34m]\u001b[0m\u001b[0;34m\u001b[0m\u001b[0;34m\u001b[0m\u001b[0m\n\u001b[0m\u001b[1;32m      2\u001b[0m \u001b[0mSuperTest\u001b[0m\u001b[0;34m.\u001b[0m\u001b[0mhead\u001b[0m\u001b[0;34m(\u001b[0m\u001b[0;36m4\u001b[0m\u001b[0;34m)\u001b[0m\u001b[0;34m\u001b[0m\u001b[0;34m\u001b[0m\u001b[0m\n",
      "\u001b[0;31mNameError\u001b[0m: name 'df2' is not defined"
     ]
    }
   ],
   "source": [
    "SuperTest = df2[df2.Week.isin([45,46,47,48,49,50,51,52])] \n",
    "SuperTest.head(4)"
   ]
  },
  {
   "cell_type": "markdown",
   "metadata": {},
   "source": [
    "<span style=\"font-size: 140%;background: white;font-weight:normal;color:#1155cc\">Only the first 10 products"
   ]
  },
  {
   "cell_type": "code",
   "execution_count": null,
   "metadata": {},
   "outputs": [],
   "source": [
    "SuperTest = SuperTest[SuperTest['Product_Code']<=10]\n",
    "SuperTest.head(4)"
   ]
  },
  {
   "cell_type": "code",
   "execution_count": null,
   "metadata": {},
   "outputs": [],
   "source": [
    "X12 = SuperTest.drop(['Sales'],1)\n",
    "y12 = SuperTest['Sales']"
   ]
  },
  {
   "cell_type": "code",
   "execution_count": null,
   "metadata": {},
   "outputs": [],
   "source": [
    "from sklearn.preprocessing import StandardScaler\n",
    "\n",
    "sc = StandardScaler()\n",
    "X12 = sc.fit_transform(X12)\n",
    "\n",
    "print(np.round(X12.std(), decimals=2), np.round(X12.mean(), decimals=2))"
   ]
  },
  {
   "cell_type": "code",
   "execution_count": null,
   "metadata": {},
   "outputs": [],
   "source": [
    "X12 = torch.tensor(X12)\n",
    "X12 = X12.type(torch.FloatTensor).cuda()\n",
    "print(X12[:3])"
   ]
  },
  {
   "cell_type": "code",
   "execution_count": null,
   "metadata": {},
   "outputs": [],
   "source": [
    "y12 = (y12/ 100)  # max test score is 100\n",
    "#print(y.head(3))\n",
    "print('---------------------')\n",
    "print(np.round(y12.std(), decimals=2), np.round(y12.mean(), decimals=2))"
   ]
  },
  {
   "cell_type": "code",
   "execution_count": null,
   "metadata": {},
   "outputs": [],
   "source": [
    "y12.shape"
   ]
  },
  {
   "cell_type": "code",
   "execution_count": null,
   "metadata": {},
   "outputs": [],
   "source": [
    "y12 = y12.values"
   ]
  },
  {
   "cell_type": "code",
   "execution_count": null,
   "metadata": {},
   "outputs": [],
   "source": [
    "y12 = torch.tensor(y12).cuda()\n",
    "print(y12[:3])"
   ]
  },
  {
   "cell_type": "code",
   "execution_count": null,
   "metadata": {},
   "outputs": [],
   "source": [
    "y12 = y12.type(torch.FloatTensor).cuda()"
   ]
  },
  {
   "cell_type": "code",
   "execution_count": null,
   "metadata": {},
   "outputs": [],
   "source": [
    "print('X12:',X12.shape)\n",
    "print('y12:',y12.shape)"
   ]
  },
  {
   "cell_type": "code",
   "execution_count": null,
   "metadata": {},
   "outputs": [],
   "source": [
    "print('X12:',X12[:3])\n",
    "print('y12:',y12[:3])"
   ]
  },
  {
   "cell_type": "code",
   "execution_count": null,
   "metadata": {},
   "outputs": [],
   "source": [
    "with torch.no_grad():\n",
    "    y_model = KOT(X12)  \n",
    "    loss = (y_model - y12).pow(2).sum()\n",
    "\n",
    "    print(f'Loss train_set: {loss:.8f}')"
   ]
  },
  {
   "cell_type": "code",
   "execution_count": null,
   "metadata": {},
   "outputs": [],
   "source": [
    "y_model = y_model*100\n",
    "foka = y_model.cpu().detach().numpy()\n",
    "df11 = pd.DataFrame(foka)\n",
    "df11.columns = ['y_model']\n",
    "df11=np.round(df11.y_model)\n",
    "df11=df11.abs()\n",
    "df11.head(3)"
   ]
  },
  {
   "cell_type": "code",
   "execution_count": null,
   "metadata": {},
   "outputs": [],
   "source": [
    "df11 = pd.DataFrame(df11)\n",
    "df11.head(5)"
   ]
  },
  {
   "cell_type": "code",
   "execution_count": null,
   "metadata": {},
   "outputs": [],
   "source": [
    "print(y12[:3])"
   ]
  },
  {
   "cell_type": "code",
   "execution_count": null,
   "metadata": {},
   "outputs": [],
   "source": [
    "y12 = torch.tensor(y12,device='cpu')\n",
    "print(y12[:3])"
   ]
  },
  {
   "cell_type": "code",
   "execution_count": null,
   "metadata": {},
   "outputs": [],
   "source": []
  },
  {
   "cell_type": "code",
   "execution_count": null,
   "metadata": {},
   "outputs": [],
   "source": [
    "y12 = y12*100\n",
    "#y12 = np.round(y12)\n",
    "foka = y12.detach().numpy()\n",
    "df_t = pd.DataFrame(foka)\n",
    "df_t.columns = ['y12']\n",
    "df_t.head(5)"
   ]
  },
  {
   "cell_type": "code",
   "execution_count": null,
   "metadata": {},
   "outputs": [],
   "source": [
    "Super_NOWA = pd.merge(df_t,df11, how='inner', left_index=True, right_index=True)\n",
    "Super_NOWA.head(3)"
   ]
  },
  {
   "cell_type": "code",
   "execution_count": null,
   "metadata": {},
   "outputs": [],
   "source": [
    "import matplotlib.pyplot as plt\n",
    "\n",
    "fig, ax = plt.subplots( figsize=(16, 2))\n",
    "for ewa in ['y12', 'y_model']:\n",
    "    ax.plot(Super_NOWA, label=ewa)\n",
    "    \n",
    "ax.set_xlim(0, 70)\n",
    "#ax.legend()\n",
    "ax.set_ylabel('Parameter')\n",
    "ax.set_title('COURSE OF THE PROJECTING PROCESS ON THE TEST SET')"
   ]
  },
  {
   "cell_type": "code",
   "execution_count": null,
   "metadata": {},
   "outputs": [],
   "source": [
    "## marginesy\n",
    "plt.subplots_adjust( left = None , bottom = None , right = None , top = None , wspace = None , hspace = None )\n",
    "plt.figure(figsize=(16,5))\n",
    "ax = plt.subplot(1, 2, 1)\n",
    "Super_NOWA.plot.kde(ax=ax, legend=True, title='Histogram: y12 vs. y_model')\n",
    "Super_NOWA.plot.hist(density=True,bins=40, ax=ax, alpha=0.3)\n",
    "ax.set_title(\"Dystributions\")\n",
    "\n",
    "ax = plt.subplot(1, 2, 2)\n",
    "sns.boxplot(data = Super_NOWA)\n",
    "plt.xticks(rotation=-90)\n",
    "ax.set_title(\"Boxes\")\n",
    "\n",
    "\n",
    "sns.lmplot(data=Super_NOWA, x='y12', y='y_model')"
   ]
  },
  {
   "cell_type": "code",
   "execution_count": null,
   "metadata": {},
   "outputs": [],
   "source": [
    "y = Super_NOWA['y12']\n",
    "y_pred = Super_NOWA['y_model']\n",
    "\n",
    "Regression_Assessment(y, y_pred)"
   ]
  }
 ],
 "metadata": {
  "kernelspec": {
   "display_name": "Python 3",
   "language": "python",
   "name": "python3"
  },
  "language_info": {
   "codemirror_mode": {
    "name": "ipython",
    "version": 3
   },
   "file_extension": ".py",
   "mimetype": "text/x-python",
   "name": "python",
   "nbconvert_exporter": "python",
   "pygments_lexer": "ipython3",
   "version": "3.7.4"
  }
 },
 "nbformat": 4,
 "nbformat_minor": 2
}
