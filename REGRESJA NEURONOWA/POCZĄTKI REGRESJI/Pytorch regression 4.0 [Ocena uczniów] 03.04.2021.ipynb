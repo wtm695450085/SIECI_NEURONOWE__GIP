{
 "cells": [
  {
   "cell_type": "markdown",
   "metadata": {},
   "source": [
    "# Pytorch regression _4.0_ [Ocena uczniów]\n",
    "# 03_04_2021 \n",
    "Work on diagnostic systems.\n",
    "\n",
    "https://archive.ics.uci.edu/ml/machine-learning-databases/00320/"
   ]
  },
  {
   "cell_type": "code",
   "execution_count": 1,
   "metadata": {},
   "outputs": [],
   "source": [
    "import torch\n",
    "import numpy as np\n",
    "import statistics as stat\n",
    "import pandas as pd\n",
    "import matplotlib.pyplot as plt\n",
    "import seaborn as sns\n",
    "%matplotlib inline\n",
    "\n",
    "from scipy import stats\n",
    "from numpy import median"
   ]
  },
  {
   "cell_type": "markdown",
   "metadata": {},
   "source": [
    "I'm starting a GPU graphics card\n",
    "\n",
    "<span style=\"color:green\"> Odpalam karte graficzną GPU"
   ]
  },
  {
   "cell_type": "code",
   "execution_count": 2,
   "metadata": {},
   "outputs": [],
   "source": [
    "#device = torch.device('cpu') # obliczenia robie na CPU\n",
    "device = torch.device('cuda') # obliczenia robie na GPU"
   ]
  },
  {
   "cell_type": "code",
   "execution_count": 3,
   "metadata": {},
   "outputs": [],
   "source": [
    "# kolorowe wydruki\n",
    "class colors:\n",
    "           \n",
    "    def green(self,text):\n",
    "           print('\\033[32m', text, '\\033[0m', sep='') \n",
    "\n",
    "    def blue(self,text):\n",
    "         print('\\033[34m', text, '\\033[0m', sep='')\n",
    "\n",
    "    def magenta(self,text):\n",
    "         print('\\033[35m', text, '\\033[0m', sep='')  \n",
    "\n",
    "    def cyan(self,text):\n",
    "         print('\\033[36m', text, '\\033[0m', sep='')\n",
    "\n",
    "    def red(self,text):\n",
    "         print('\\033[31m', text, '\\033[0m', sep='')  \n",
    "\n",
    "    def yellow(self,text):\n",
    "         print('\\033[33m', text, '\\033[0m', sep='')  \n",
    "pass"
   ]
  },
  {
   "cell_type": "code",
   "execution_count": 4,
   "metadata": {},
   "outputs": [
    {
     "name": "stdout",
     "output_type": "stream",
     "text": [
      "\u001b[32mschool        object\n",
      "sex           object\n",
      "age            int64\n",
      "address       object\n",
      "famsize       object\n",
      "Pstatus       object\n",
      "Medu           int64\n",
      "Fedu           int64\n",
      "Mjob          object\n",
      "Fjob          object\n",
      "reason        object\n",
      "guardian      object\n",
      "traveltime     int64\n",
      "studytime      int64\n",
      "failures       int64\n",
      "schoolsup     object\n",
      "famsup        object\n",
      "paid          object\n",
      "activities    object\n",
      "nursery       object\n",
      "higher        object\n",
      "internet      object\n",
      "romantic      object\n",
      "famrel         int64\n",
      "freetime       int64\n",
      "goout          int64\n",
      "Dalc           int64\n",
      "Walc           int64\n",
      "health         int64\n",
      "absences       int64\n",
      "G1             int64\n",
      "G2             int64\n",
      "G3             int64\n",
      "dtype: object\u001b[0m\n",
      "\n",
      "\n",
      "\u001b[34m(395, 33)\u001b[0m\n"
     ]
    },
    {
     "data": {
      "text/html": [
       "<div>\n",
       "<style scoped>\n",
       "    .dataframe tbody tr th:only-of-type {\n",
       "        vertical-align: middle;\n",
       "    }\n",
       "\n",
       "    .dataframe tbody tr th {\n",
       "        vertical-align: top;\n",
       "    }\n",
       "\n",
       "    .dataframe thead th {\n",
       "        text-align: right;\n",
       "    }\n",
       "</style>\n",
       "<table border=\"1\" class=\"dataframe\">\n",
       "  <thead>\n",
       "    <tr style=\"text-align: right;\">\n",
       "      <th></th>\n",
       "      <th>school</th>\n",
       "      <th>sex</th>\n",
       "      <th>age</th>\n",
       "      <th>address</th>\n",
       "      <th>famsize</th>\n",
       "      <th>Pstatus</th>\n",
       "      <th>Medu</th>\n",
       "      <th>Fedu</th>\n",
       "      <th>Mjob</th>\n",
       "      <th>Fjob</th>\n",
       "      <th>...</th>\n",
       "      <th>famrel</th>\n",
       "      <th>freetime</th>\n",
       "      <th>goout</th>\n",
       "      <th>Dalc</th>\n",
       "      <th>Walc</th>\n",
       "      <th>health</th>\n",
       "      <th>absences</th>\n",
       "      <th>G1</th>\n",
       "      <th>G2</th>\n",
       "      <th>G3</th>\n",
       "    </tr>\n",
       "  </thead>\n",
       "  <tbody>\n",
       "    <tr>\n",
       "      <td>0</td>\n",
       "      <td>GP</td>\n",
       "      <td>F</td>\n",
       "      <td>18</td>\n",
       "      <td>U</td>\n",
       "      <td>GT3</td>\n",
       "      <td>A</td>\n",
       "      <td>4</td>\n",
       "      <td>4</td>\n",
       "      <td>at_home</td>\n",
       "      <td>teacher</td>\n",
       "      <td>...</td>\n",
       "      <td>4</td>\n",
       "      <td>3</td>\n",
       "      <td>4</td>\n",
       "      <td>1</td>\n",
       "      <td>1</td>\n",
       "      <td>3</td>\n",
       "      <td>6</td>\n",
       "      <td>5</td>\n",
       "      <td>6</td>\n",
       "      <td>6</td>\n",
       "    </tr>\n",
       "    <tr>\n",
       "      <td>1</td>\n",
       "      <td>GP</td>\n",
       "      <td>F</td>\n",
       "      <td>17</td>\n",
       "      <td>U</td>\n",
       "      <td>GT3</td>\n",
       "      <td>T</td>\n",
       "      <td>1</td>\n",
       "      <td>1</td>\n",
       "      <td>at_home</td>\n",
       "      <td>other</td>\n",
       "      <td>...</td>\n",
       "      <td>5</td>\n",
       "      <td>3</td>\n",
       "      <td>3</td>\n",
       "      <td>1</td>\n",
       "      <td>1</td>\n",
       "      <td>3</td>\n",
       "      <td>4</td>\n",
       "      <td>5</td>\n",
       "      <td>5</td>\n",
       "      <td>6</td>\n",
       "    </tr>\n",
       "    <tr>\n",
       "      <td>2</td>\n",
       "      <td>GP</td>\n",
       "      <td>F</td>\n",
       "      <td>15</td>\n",
       "      <td>U</td>\n",
       "      <td>LE3</td>\n",
       "      <td>T</td>\n",
       "      <td>1</td>\n",
       "      <td>1</td>\n",
       "      <td>at_home</td>\n",
       "      <td>other</td>\n",
       "      <td>...</td>\n",
       "      <td>4</td>\n",
       "      <td>3</td>\n",
       "      <td>2</td>\n",
       "      <td>2</td>\n",
       "      <td>3</td>\n",
       "      <td>3</td>\n",
       "      <td>10</td>\n",
       "      <td>7</td>\n",
       "      <td>8</td>\n",
       "      <td>10</td>\n",
       "    </tr>\n",
       "    <tr>\n",
       "      <td>3</td>\n",
       "      <td>GP</td>\n",
       "      <td>F</td>\n",
       "      <td>15</td>\n",
       "      <td>U</td>\n",
       "      <td>GT3</td>\n",
       "      <td>T</td>\n",
       "      <td>4</td>\n",
       "      <td>2</td>\n",
       "      <td>health</td>\n",
       "      <td>services</td>\n",
       "      <td>...</td>\n",
       "      <td>3</td>\n",
       "      <td>2</td>\n",
       "      <td>2</td>\n",
       "      <td>1</td>\n",
       "      <td>1</td>\n",
       "      <td>5</td>\n",
       "      <td>2</td>\n",
       "      <td>15</td>\n",
       "      <td>14</td>\n",
       "      <td>15</td>\n",
       "    </tr>\n",
       "  </tbody>\n",
       "</table>\n",
       "<p>4 rows × 33 columns</p>\n",
       "</div>"
      ],
      "text/plain": [
       "  school sex  age address famsize Pstatus  Medu  Fedu     Mjob      Fjob  ...  \\\n",
       "0     GP   F   18       U     GT3       A     4     4  at_home   teacher  ...   \n",
       "1     GP   F   17       U     GT3       T     1     1  at_home     other  ...   \n",
       "2     GP   F   15       U     LE3       T     1     1  at_home     other  ...   \n",
       "3     GP   F   15       U     GT3       T     4     2   health  services  ...   \n",
       "\n",
       "  famrel freetime  goout  Dalc  Walc health absences  G1  G2  G3  \n",
       "0      4        3      4     1     1      3        6   5   6   6  \n",
       "1      5        3      3     1     1      3        4   5   5   6  \n",
       "2      4        3      2     2     3      3       10   7   8  10  \n",
       "3      3        2      2     1     1      5        2  15  14  15  \n",
       "\n",
       "[4 rows x 33 columns]"
      ]
     },
     "execution_count": 4,
     "metadata": {},
     "output_type": "execute_result"
    }
   ],
   "source": [
    "df = pd.read_csv('/media/wojciech/D6DE33C1DE3399271/1A/student-mat.csv', sep=\";\")      \n",
    "\n",
    "CO = colors()\n",
    "CO.green(df.dtypes)\n",
    "print()\n",
    "print()\n",
    "\n",
    "CO.blue(df.shape) \n",
    "df.head(4)"
   ]
  },
  {
   "cell_type": "markdown",
   "metadata": {},
   "source": [
    "cnt: count of total rental bikes including both casual and registered\n",
    "\n",
    "\n",
    "\n",
    "I fill all holes with values out of range\n",
    "\n",
    "<span style=\"color:green\"> Wypełniam wszystkie dziury wartościami z poza zakresu"
   ]
  },
  {
   "cell_type": "markdown",
   "metadata": {},
   "source": [
    "# Atrybuty dla zbiorów danych student-mat.csv (kurs matematyki):\n",
    "\n",
    "\n",
    "- <span style=\"font-size: 130%;color:#1155cc\">school</span> - szkoła ucznia (binarnie: „GP” - Gabriel Pereira lub „MS” - Mousinho da Silveira)\n",
    "- <span style=\"font-size: 130%;color:#1155cc\">płeć sex</span> - płeć ucznia (binarnie: „F” - kobieta lub „M” - mężczyzna)\n",
    "\n",
    "- <span style=\"font-size: 130%;color:#1155cc\">wiek age </span>- wiek ucznia (liczbowo: od 15 do 22 lat)\n",
    "- <span style=\"font-size: 130%;color:#1155cc\">adres address </span>- typ adresu domowego ucznia (binarny: „U” - miejski lub „R” - wiejski)\n",
    "- <span style=\"font-size: 130%;color:#1155cc\">famsize </span>- wielkość rodziny (binarnie: „LE3” - mniejszy lub równy 3 lub „GT3” - większy niż 3)\n",
    "- <span style=\"font-size: 130%;color:#1155cc\">Pstatus </span>- status wspólnego zamieszkiwania rodziców (binarnie: „T” - mieszkający razem lub „A” - osobno)\n",
    "- <span style=\"font-size: 130%;color:#1155cc\">Medu </span>- wykształcenie matki (liczbowo: 0 - brak, 1 - podstawowe (IV klasa), 2-5 do 9 klasy, 3 - średnie lub 4 - wyższe)\n",
    "- Fedu </span>- wykształcenie ojca (liczbowo: 0 - brak, 1 - podstawowe (IV klasa), 2-5 do 9 klasa, 3 - średnie lub 4 - wyższe)\n",
    "- <span style=\"font-size: 130%;color:#1155cc\">Mjob </span>- praca matki (nominalna: „nauczyciel”, „opieka zdrowotna”, „usługi” cywilne (np. Administracja lub policja), „w domu” lub „inne”)\n",
    "- <span style=\"font-size: 130%;color:#1155cc\">Fjob </span>- praca ojca (nominalna: „nauczyciel”, „zdrowie” związane z opieką zdrowotną, „usługi” cywilne (np. Administracja lub policja), „w_domu” lub „inne”)\n",
    "- <span style=\"font-size: 130%;color:#1155cc\">powód reason</span>- powód wyboru tej szkoły (nominalny: blisko „domu”, „reputacja szkoły”, preferencje „kursu” lub „inna”)\n",
    "- <span style=\"font-size: 130%;color:#1155cc\">opiekun guardian</span>- opiekun ucznia (nominalny: „matka”, „ojciec” lub „inny”)\n",
    "- <span style=\"font-size: 130%;color:#1155cc\">czas podróży traveltime</span>- czas dojazdu z domu do szkoły (liczbowo: 1 - <15 min., 2 - 15 do 30 min., 3 - 30 min. Do 1 godz. Lub 4 -> 1 godz.)\n",
    "- <span style=\"font-size: 130%;color:#1155cc\">studytime</span>studiów w dowolnym czasie studytime- tygodniowy czas nauki (numerycznie: 1 - <2 godziny, 2 - 2 do 5 godzin, 3 - 5 do 10 godzin lub 4 -> 10 godzin)\n",
    "- <span style=\"font-size: 130%;color:#1155cc\">failures niepowodzeń </span>- liczba niepowodzeń z poprzednich klas (liczbowo: n, jeśli 1 <= n <3, w przeciwnym razie 4)\n",
    "- <span style=\"font-size: 130%;color:#1155cc\">schoolup </span>- dodatkowe wsparcie edukacyjne (binarne: tak lub nie)\n",
    "- <span style=\"font-size: 130%;color:#1155cc\">famsup </span>- rodzinne wsparcie edukacyjne (binarne: tak lub nie)\n",
    "- <span style=\"font-size: 130%;color:#1155cc\">paid płatnych </span>- dodatkowo płatnych zajęć w ramach przedmiotu kursu (matematyka lub portugalski) (binarnie: tak lub nie)\n",
    "- <span style=\"font-size: 130%;color:#1155cc\">activities zajęć </span>- zajęcia pozalekcyjne (binarne: tak lub nie)\n",
    "- <span style=\"font-size: 130%;color:#1155cc\">nursery żłobek </span>- uczęszczał do przedszkola (binarnie: tak lub nie)\n",
    "- <span style=\"font-size: 130%;color:#1155cc\">higher wyższy </span>- chce podjąć wyższe wykształcenie (binarnie: tak lub nie)\n",
    "- <span style=\"font-size: 130%;color:#1155cc\">internet </span>- dostęp do Internetu w domu (binarny: tak lub nie)\n",
    "- <span style=\"font-size: 130%;color:#1155cc\">romantic romantyczny </span>- z romantycznym związkiem (binarny: tak lub nie)\n",
    "- <span style=\"font-size: 130%;color:#1155cc\">famrel </span>- jakość relacji rodzinnych (liczbowo: od 1 - bardzo zła do 5 - doskonała)\n",
    "- <span style=\"font-size: 130%;color:#1155cc\">freetime </span>godzin wolnych - czas wolny po szkole (liczbowo: od 1 - bardzo niski do 5 - bardzo wysoki)\n",
    "- <span style=\"font-size: 130%;color:#1155cc\">goout </span>- wyjście ze znajomymi (numeryczne: od 1 - bardzo niski do 5 - bardzo wysoki)\n",
    "- <span style=\"font-size: 130%;color:#1155cc\">Dalc </span>- spożycie alkoholu w dni robocze (liczbowo: od 1 - bardzo niskie do 5 - bardzo wysokie)\n",
    "- <span style=\"font-size: 130%;color:#1155cc\">Walc </span>- weekendowe spożycie alkoholu (liczbowo: od 1 - bardzo niskie do 5 - bardzo wysokie)\n",
    "- <span style=\"font-size: 130%;color:#1155cc\">health zdrowie </span>- aktualny stan zdrowia (liczbowo: od 1 - bardzo zły do ​​5 - bardzo dobry)\n",
    "- <span style=\"font-size: 130%;color:#1155cc\">absences </span> - liczba nieobecności w szkole (liczbowo: od 0 do 93)\n",
    "\n",
    "# te oceny są związane z przedmiotem kursu, matematyką :\n",
    "- <span style=\"font-size: 130%;color:#1155cc\">G1 </span>- ocena z pierwszego okresu (liczbowo: od 0 do 20)\n",
    "- <span style=\"font-size: 130%;color:#1155cc\">G2 </span>- ocena z drugiego okresu (liczbowo: od 0 do 20)\n",
    "- <span style=\"font-size: 130%;color:#1155cc\">G3 </span>- ocena końcowa (liczbowo: od 0 do 20, docelowy wynik)\n",
    "\n",
    "Uwaga dodatkowa: jest kilku (382) uczniów, którzy należą do obu zbiorów danych.\n",
    "Tych uczniów można zidentyfikować, wyszukując identyczne atrybuty\n",
    "które charakteryzują każdego ucznia, jak pokazano w załączonym pliku R."
   ]
  },
  {
   "cell_type": "markdown",
   "metadata": {},
   "source": [
    "<span style=\"font-size: 110%;color:#1155cc\"> Wycinanie zakresu do badań"
   ]
  },
  {
   "cell_type": "code",
   "execution_count": 5,
   "metadata": {},
   "outputs": [
    {
     "data": {
      "text/plain": [
       "(395, 33)"
      ]
     },
     "execution_count": 5,
     "metadata": {},
     "output_type": "execute_result"
    }
   ],
   "source": [
    "df2 = df.sample(frac = 1.00, random_state=148)\n",
    "df2.shape"
   ]
  },
  {
   "cell_type": "markdown",
   "metadata": {},
   "source": [
    "<span style=\"font-size: 110%;color:#1155cc\"> Sprawdzam czy są braki w danych."
   ]
  },
  {
   "cell_type": "code",
   "execution_count": 6,
   "metadata": {},
   "outputs": [
    {
     "data": {
      "text/plain": [
       "school        0\n",
       "sex           0\n",
       "age           0\n",
       "address       0\n",
       "famsize       0\n",
       "Pstatus       0\n",
       "Medu          0\n",
       "Fedu          0\n",
       "Mjob          0\n",
       "Fjob          0\n",
       "reason        0\n",
       "guardian      0\n",
       "traveltime    0\n",
       "studytime     0\n",
       "failures      0\n",
       "schoolsup     0\n",
       "famsup        0\n",
       "paid          0\n",
       "activities    0\n",
       "nursery       0\n",
       "higher        0\n",
       "internet      0\n",
       "romantic      0\n",
       "famrel        0\n",
       "freetime      0\n",
       "goout         0\n",
       "Dalc          0\n",
       "Walc          0\n",
       "health        0\n",
       "absences      0\n",
       "G1            0\n",
       "G2            0\n",
       "G3            0\n",
       "dtype: int64"
      ]
     },
     "execution_count": 6,
     "metadata": {},
     "output_type": "execute_result"
    }
   ],
   "source": [
    "df.isnull().sum()"
   ]
  },
  {
   "cell_type": "code",
   "execution_count": 7,
   "metadata": {},
   "outputs": [
    {
     "name": "stdout",
     "output_type": "stream",
     "text": [
      "NUMBER OF EMPTY RECORDS vs. FULL RECORDS\n",
      "----------------------------------------\n"
     ]
    }
   ],
   "source": [
    "a,b = df.shape     #<- ile mamy kolumn\n",
    "b\n",
    "\n",
    "print('NUMBER OF EMPTY RECORDS vs. FULL RECORDS')\n",
    "print('----------------------------------------')\n",
    "for i in range(1,b):\n",
    "    i = df.columns[i]\n",
    "    r = df[i].isnull().sum()\n",
    "    h = df[i].count()\n",
    "    pr = (r/h)*100\n",
    "   \n",
    "    if r > 0:\n",
    "        print(i,\"--------\",r,\"--------\",h,\"--------\",pr) "
   ]
  },
  {
   "cell_type": "code",
   "execution_count": 8,
   "metadata": {},
   "outputs": [
    {
     "data": {
      "text/plain": [
       "<matplotlib.axes._subplots.AxesSubplot at 0x7f4f0c73f090>"
      ]
     },
     "execution_count": 8,
     "metadata": {},
     "output_type": "execute_result"
    },
    {
     "data": {
      "image/png": "[encoded data removed]",
      "text/plain": [
       "<Figure size 432x288 with 1 Axes>"
      ]
     },
     "metadata": {
      "needs_background": "light"
     },
     "output_type": "display_data"
    }
   ],
   "source": [
    "import seaborn as sns\n",
    "\n",
    "sns.heatmap(df.isnull(),yticklabels=False,cbar=False,cmap='viridis')"
   ]
  },
  {
   "cell_type": "markdown",
   "metadata": {},
   "source": [
    "<span style=\"font-size: 110%;color:#1155cc\">Dane nie mają braków. Szukam czy nie ma błędów. Zmienne nie mają błędów."
   ]
  },
  {
   "cell_type": "code",
   "execution_count": 9,
   "metadata": {},
   "outputs": [
    {
     "data": {
      "text/html": [
       "<div>\n",
       "<style scoped>\n",
       "    .dataframe tbody tr th:only-of-type {\n",
       "        vertical-align: middle;\n",
       "    }\n",
       "\n",
       "    .dataframe tbody tr th {\n",
       "        vertical-align: top;\n",
       "    }\n",
       "\n",
       "    .dataframe thead th {\n",
       "        text-align: right;\n",
       "    }\n",
       "</style>\n",
       "<table border=\"1\" class=\"dataframe\">\n",
       "  <thead>\n",
       "    <tr style=\"text-align: right;\">\n",
       "      <th></th>\n",
       "      <th>school</th>\n",
       "      <th>sex</th>\n",
       "      <th>age</th>\n",
       "      <th>address</th>\n",
       "      <th>famsize</th>\n",
       "      <th>Pstatus</th>\n",
       "      <th>Medu</th>\n",
       "      <th>Fedu</th>\n",
       "      <th>Mjob</th>\n",
       "      <th>Fjob</th>\n",
       "      <th>...</th>\n",
       "      <th>famrel</th>\n",
       "      <th>freetime</th>\n",
       "      <th>goout</th>\n",
       "      <th>Dalc</th>\n",
       "      <th>Walc</th>\n",
       "      <th>health</th>\n",
       "      <th>absences</th>\n",
       "      <th>G1</th>\n",
       "      <th>G2</th>\n",
       "      <th>G3</th>\n",
       "    </tr>\n",
       "  </thead>\n",
       "  <tbody>\n",
       "    <tr>\n",
       "      <td>min</td>\n",
       "      <td>GP</td>\n",
       "      <td>F</td>\n",
       "      <td>15.000000</td>\n",
       "      <td>R</td>\n",
       "      <td>GT3</td>\n",
       "      <td>A</td>\n",
       "      <td>0.000000</td>\n",
       "      <td>0.000000</td>\n",
       "      <td>at_home</td>\n",
       "      <td>at_home</td>\n",
       "      <td>...</td>\n",
       "      <td>1.000000</td>\n",
       "      <td>1.000000</td>\n",
       "      <td>1.000000</td>\n",
       "      <td>1.000000</td>\n",
       "      <td>1.000000</td>\n",
       "      <td>1.00000</td>\n",
       "      <td>0.000000</td>\n",
       "      <td>3.000000</td>\n",
       "      <td>0.000000</td>\n",
       "      <td>0.00000</td>\n",
       "    </tr>\n",
       "    <tr>\n",
       "      <td>max</td>\n",
       "      <td>MS</td>\n",
       "      <td>M</td>\n",
       "      <td>22.000000</td>\n",
       "      <td>U</td>\n",
       "      <td>LE3</td>\n",
       "      <td>T</td>\n",
       "      <td>4.000000</td>\n",
       "      <td>4.000000</td>\n",
       "      <td>teacher</td>\n",
       "      <td>teacher</td>\n",
       "      <td>...</td>\n",
       "      <td>5.000000</td>\n",
       "      <td>5.000000</td>\n",
       "      <td>5.000000</td>\n",
       "      <td>5.000000</td>\n",
       "      <td>5.000000</td>\n",
       "      <td>5.00000</td>\n",
       "      <td>75.000000</td>\n",
       "      <td>19.000000</td>\n",
       "      <td>19.000000</td>\n",
       "      <td>20.00000</td>\n",
       "    </tr>\n",
       "    <tr>\n",
       "      <td>mean</td>\n",
       "      <td>NaN</td>\n",
       "      <td>NaN</td>\n",
       "      <td>16.696203</td>\n",
       "      <td>NaN</td>\n",
       "      <td>NaN</td>\n",
       "      <td>NaN</td>\n",
       "      <td>2.749367</td>\n",
       "      <td>2.521519</td>\n",
       "      <td>NaN</td>\n",
       "      <td>NaN</td>\n",
       "      <td>...</td>\n",
       "      <td>3.944304</td>\n",
       "      <td>3.235443</td>\n",
       "      <td>3.108861</td>\n",
       "      <td>1.481013</td>\n",
       "      <td>2.291139</td>\n",
       "      <td>3.55443</td>\n",
       "      <td>5.708861</td>\n",
       "      <td>10.908861</td>\n",
       "      <td>10.713924</td>\n",
       "      <td>10.41519</td>\n",
       "    </tr>\n",
       "    <tr>\n",
       "      <td>median</td>\n",
       "      <td>NaN</td>\n",
       "      <td>NaN</td>\n",
       "      <td>17.000000</td>\n",
       "      <td>NaN</td>\n",
       "      <td>NaN</td>\n",
       "      <td>NaN</td>\n",
       "      <td>3.000000</td>\n",
       "      <td>2.000000</td>\n",
       "      <td>NaN</td>\n",
       "      <td>NaN</td>\n",
       "      <td>...</td>\n",
       "      <td>4.000000</td>\n",
       "      <td>3.000000</td>\n",
       "      <td>3.000000</td>\n",
       "      <td>1.000000</td>\n",
       "      <td>2.000000</td>\n",
       "      <td>4.00000</td>\n",
       "      <td>4.000000</td>\n",
       "      <td>11.000000</td>\n",
       "      <td>11.000000</td>\n",
       "      <td>11.00000</td>\n",
       "    </tr>\n",
       "  </tbody>\n",
       "</table>\n",
       "<p>4 rows × 33 columns</p>\n",
       "</div>"
      ],
      "text/plain": [
       "       school  sex        age address famsize Pstatus      Medu      Fedu  \\\n",
       "min        GP    F  15.000000       R     GT3       A  0.000000  0.000000   \n",
       "max        MS    M  22.000000       U     LE3       T  4.000000  4.000000   \n",
       "mean      NaN  NaN  16.696203     NaN     NaN     NaN  2.749367  2.521519   \n",
       "median    NaN  NaN  17.000000     NaN     NaN     NaN  3.000000  2.000000   \n",
       "\n",
       "           Mjob     Fjob  ...    famrel  freetime     goout      Dalc  \\\n",
       "min     at_home  at_home  ...  1.000000  1.000000  1.000000  1.000000   \n",
       "max     teacher  teacher  ...  5.000000  5.000000  5.000000  5.000000   \n",
       "mean        NaN      NaN  ...  3.944304  3.235443  3.108861  1.481013   \n",
       "median      NaN      NaN  ...  4.000000  3.000000  3.000000  1.000000   \n",
       "\n",
       "            Walc   health   absences         G1         G2        G3  \n",
       "min     1.000000  1.00000   0.000000   3.000000   0.000000   0.00000  \n",
       "max     5.000000  5.00000  75.000000  19.000000  19.000000  20.00000  \n",
       "mean    2.291139  3.55443   5.708861  10.908861  10.713924  10.41519  \n",
       "median  2.000000  4.00000   4.000000  11.000000  11.000000  11.00000  \n",
       "\n",
       "[4 rows x 33 columns]"
      ]
     },
     "execution_count": 9,
     "metadata": {},
     "output_type": "execute_result"
    }
   ],
   "source": [
    "df.agg(['min', 'max', 'mean', 'median'])"
   ]
  },
  {
   "cell_type": "markdown",
   "metadata": {},
   "source": [
    "<span style=\"font-size: 110%;color:#1155cc\">Sprawdzamy format danych "
   ]
  },
  {
   "cell_type": "code",
   "execution_count": 10,
   "metadata": {},
   "outputs": [
    {
     "name": "stdout",
     "output_type": "stream",
     "text": [
      "\u001b[32mschool        object\n",
      "sex           object\n",
      "age            int64\n",
      "address       object\n",
      "famsize       object\n",
      "Pstatus       object\n",
      "Medu           int64\n",
      "Fedu           int64\n",
      "Mjob          object\n",
      "Fjob          object\n",
      "reason        object\n",
      "guardian      object\n",
      "traveltime     int64\n",
      "studytime      int64\n",
      "failures       int64\n",
      "schoolsup     object\n",
      "famsup        object\n",
      "paid          object\n",
      "activities    object\n",
      "nursery       object\n",
      "higher        object\n",
      "internet      object\n",
      "romantic      object\n",
      "famrel         int64\n",
      "freetime       int64\n",
      "goout          int64\n",
      "Dalc           int64\n",
      "Walc           int64\n",
      "health         int64\n",
      "absences       int64\n",
      "G1             int64\n",
      "G2             int64\n",
      "G3             int64\n",
      "dtype: object\u001b[0m\n"
     ]
    }
   ],
   "source": [
    "CO.green(df.dtypes)"
   ]
  },
  {
   "cell_type": "markdown",
   "metadata": {},
   "source": [
    "<span style=\"font-size: 180%;color:#1155cc\"> Redukcja ilości zmiennych"
   ]
  },
  {
   "cell_type": "markdown",
   "metadata": {},
   "source": [
    "<span style=\"font-size: 110%;color:#1155cc\">Niektóre kolumny należy usunąć, ponieważ mają wysoki poziom korelacji zmiennych niezależnych (multicollinearity). Sprawdzam poziom kolelacji między zmiennymi niezależnymi.\n",
    "\n",
    "<span style=\"font-size: 110%;background: yellow;font-weight:bold;color:#1155cc\">Najpierw kasuje zmienne wynikowe, które są niepotrzebne "
   ]
  },
  {
   "cell_type": "code",
   "execution_count": 11,
   "metadata": {},
   "outputs": [],
   "source": [
    "del df['G1']\n",
    "del df['G2']"
   ]
  },
  {
   "cell_type": "markdown",
   "metadata": {},
   "source": [
    " <span style=\"font-size: 180%;color:#1155cc\"> 'G1', 'G2'</span>\n",
    "\n",
    "<span style=\"font-size: 110%;color:#1155cc\">Zemienne: 'G1', 'G2' na tym etapie nie powinny być brane pod uwage w budowie modelu ponieważ są one zmiennymi wynikowymi."
   ]
  },
  {
   "cell_type": "code",
   "execution_count": 12,
   "metadata": {},
   "outputs": [
    {
     "data": {
      "text/plain": [
       "Text(0.5, 1, 'Macierz korelacji ze zmienną wynikową y')"
      ]
     },
     "execution_count": 12,
     "metadata": {},
     "output_type": "execute_result"
    },
    {
     "data": {
      "image/png": "[encoded data removed]",
      "text/plain": [
       "<Figure size 720x432 with 1 Axes>"
      ]
     },
     "metadata": {
      "needs_background": "light"
     },
     "output_type": "display_data"
    }
   ],
   "source": [
    "import matplotlib.pyplot as plt\n",
    "import seaborn as sns\n",
    "\n",
    "plt.figure(figsize=(10,6))\n",
    "CORREL =df.corr()\n",
    "sns.heatmap(CORREL, annot=True, cbar=False, cmap=\"coolwarm\")\n",
    "plt.title('Macierz korelacji ze zmienną wynikową y', fontsize=20)"
   ]
  },
  {
   "cell_type": "markdown",
   "metadata": {},
   "source": [
    "# Mocno skorelowane\n",
    "\n",
    "- <span style=\"font-size: 130%;color:#1155cc\">Dalc </span>- spożycie alkoholu w dni robocze (liczbowo: od 1 - bardzo niskie do 5 - bardzo wysokie)\n",
    "- <span style=\"font-size: 130%;color:#1155cc\">Walc </span>- weekendowe spożycie alkoholu (liczbowo: od 1 - \n",
    "---------------------------------------------------\n",
    "- <span style=\"font-size: 130%;color:#1155cc\">Mjob </span>- praca matki (nominalna: „nauczyciel”, „opieka zdrowotna”, „usługi” cywilne (np. Administracja lub policja), „w domu” lub „inne”)\n",
    "- <span style=\"font-size: 130%;color:#1155cc\">Fjob </span>- praca ojca (nominalna: „nauczyciel”, „zdrowie” związane z opieką zdrowotną, „usługi” cywilne (np. Administracja lub policja), „w_domu” lub „inne”)"
   ]
  },
  {
   "cell_type": "code",
   "execution_count": 13,
   "metadata": {},
   "outputs": [
    {
     "data": {
      "text/plain": [
       "<matplotlib.axes._subplots.AxesSubplot at 0x7f4f0a497a50>"
      ]
     },
     "execution_count": 13,
     "metadata": {},
     "output_type": "execute_result"
    },
    {
     "data": {
      "image/png": "[encoded data removed]",
      "text/plain": [
       "<Figure size 576x360 with 2 Axes>"
      ]
     },
     "metadata": {
      "needs_background": "light"
     },
     "output_type": "display_data"
    }
   ],
   "source": [
    "import seaborn as sns\n",
    "\n",
    "CORR = df.corr()\n",
    "\n",
    "kot = CORR[CORR>=.7]\n",
    "plt.figure(figsize=(8,5))\n",
    "sns.heatmap(kot, cmap=\"Greens\")"
   ]
  },
  {
   "cell_type": "markdown",
   "metadata": {},
   "source": [
    "<span style=\"font-size: 110%;color:#1155cc\">Niektóre kolumny należy usunąć, ponieważ mają wysoki poziom korelacji zmiennych niezależnych (multicollinearity).\n",
    "    \n",
    "<span style=\"font-size: 110%;background: yellow;font-weight:bold;color:#1155cc\"> 'mnth' i 'sezon' \n",
    "    \n",
    "<span style=\"font-size: 110%;background: yellow;font-weight:bold;color:#1155cc\"> 'temp' i 'atemp'"
   ]
  },
  {
   "cell_type": "markdown",
   "metadata": {},
   "source": [
    "<span style=\"font-size: 110%;color:#1155cc\">Na wykresie widać wyraźnie, że zmienne atempt i tempt są zbyt mocno skorelowane. Należy jedną z tych skorelowanych zmiennych wyeliminować.Ponieważ wynik 'cnt' i zmienne 'temp' i 'atemp' mają format ciągły, można zastosować eliminację przez porównanie poziomu korelacji Persona. "
   ]
  },
  {
   "cell_type": "code",
   "execution_count": 14,
   "metadata": {},
   "outputs": [
    {
     "data": {
      "text/plain": [
       "Text(0, 0.5, 'Zmienne nezależne ciągłe')"
      ]
     },
     "execution_count": 14,
     "metadata": {},
     "output_type": "execute_result"
    },
    {
     "data": {
      "image/png": "[encoded data removed]",
      "text/plain": [
       "<Figure size 432x216 with 1 Axes>"
      ]
     },
     "metadata": {
      "needs_background": "light"
     },
     "output_type": "display_data"
    }
   ],
   "source": [
    "import matplotlib.pyplot as plt\n",
    "\n",
    "corr = df.corr().sort_values('G3')\n",
    "plt.figure(figsize=(6,3))\n",
    "corr['G3'].plot(kind='barh', color='red')\n",
    "plt.title('Korelacja ze zmienną wynikową cnt', fontsize=20)\n",
    "plt.xlabel('Poziom korelacji')\n",
    "plt.ylabel('Zmienne nezależne ciągłe')"
   ]
  },
  {
   "cell_type": "markdown",
   "metadata": {},
   "source": [
    "- <span style=\"font-size: 130%;color:#1155cc\">failures </span>- liczba niepowodzeń z poprzednich klas (liczbowo: n, jeśli 1 <= n <3, w przeciwnym razie 4)"
   ]
  },
  {
   "cell_type": "markdown",
   "metadata": {},
   "source": [
    "<span style=\"font-size: 180%;color:#1155cc\"> 'failures'</span>\n",
    "\n",
    "<span style=\"font-size: 110%;color:#1155cc\">Jak komuś nie szło w poprzednich latach to i teraz mu nie będzie szło"
   ]
  },
  {
   "cell_type": "raw",
   "metadata": {},
   "source": [
    "df = df.drop(['instant','atemp', 'mnth'], axis=1)"
   ]
  },
  {
   "cell_type": "markdown",
   "metadata": {},
   "source": [
    "<span style=\"font-size: 150%;background: white;font-weight:bold;color:#1155cc\">Zmienne dyskretne mają format 'int64' a powinny mieć 'category'."
   ]
  },
  {
   "cell_type": "code",
   "execution_count": 15,
   "metadata": {},
   "outputs": [
    {
     "name": "stdout",
     "output_type": "stream",
     "text": [
      "ONLY DISCRETE FUNCTION\n",
      "----------------------\n",
      "school --- object --- 2\n",
      "sex --- object --- 2\n",
      "age --- int64 --- 8\n",
      "address --- object --- 2\n",
      "famsize --- object --- 2\n",
      "Pstatus --- object --- 2\n",
      "Medu --- int64 --- 5\n",
      "Fedu --- int64 --- 5\n",
      "Mjob --- object --- 5\n",
      "Fjob --- object --- 5\n",
      "reason --- object --- 4\n",
      "guardian --- object --- 3\n",
      "traveltime --- int64 --- 4\n",
      "studytime --- int64 --- 4\n",
      "failures --- int64 --- 4\n",
      "schoolsup --- object --- 2\n",
      "famsup --- object --- 2\n",
      "paid --- object --- 2\n",
      "activities --- object --- 2\n",
      "nursery --- object --- 2\n",
      "higher --- object --- 2\n",
      "internet --- object --- 2\n",
      "romantic --- object --- 2\n",
      "famrel --- int64 --- 5\n",
      "freetime --- int64 --- 5\n",
      "goout --- int64 --- 5\n",
      "Dalc --- int64 --- 5\n",
      "Walc --- int64 --- 5\n",
      "health --- int64 --- 5\n",
      "G3 --- int64 --- 18\n"
     ]
    }
   ],
   "source": [
    "a,b = df.shape     #<- ile mamy kolumn\n",
    "b\n",
    "discrete_var = []    #<-- zaczyn do tworzenia listy\n",
    "\n",
    "\n",
    "print('ONLY DISCRETE FUNCTION')\n",
    "print('----------------------')\n",
    "for i in range(0,b):\n",
    "    i = df.columns[i]\n",
    "    f = df[i].dtypes\n",
    "    h = df[i].nunique()\n",
    "    \n",
    "    if f == np.object or h<=24:\n",
    "           print(i,\"---\",f,\"---\",h)\n",
    "           discrete_var.append(i)       #<-- Tworzę listę zmiennych dyskretnych           \n",
    "            "
   ]
  },
  {
   "cell_type": "code",
   "execution_count": 16,
   "metadata": {},
   "outputs": [
    {
     "name": "stdout",
     "output_type": "stream",
     "text": [
      "\u001b[32m['school', 'sex', 'age', 'address', 'famsize', 'Pstatus', 'Medu', 'Fedu', 'Mjob', 'Fjob', 'reason', 'guardian', 'traveltime', 'studytime', 'failures', 'schoolsup', 'famsup', 'paid', 'activities', 'nursery', 'higher', 'internet', 'romantic', 'famrel', 'freetime', 'goout', 'Dalc', 'Walc', 'health', 'G3']\u001b[0m\n"
     ]
    }
   ],
   "source": [
    "CO.green(discrete_var)"
   ]
  },
  {
   "cell_type": "markdown",
   "metadata": {},
   "source": [
    "<span style=\"font-size: 110%;color:#1155cc\"> Tworzę 4 kategorie dla 'absences'\n",
    "    \n",
    "    jest to zmienna, która ma jest jedyna ciągła - a dane mają znaczenia jak sie je podzieli na kategorię "
   ]
  },
  {
   "cell_type": "code",
   "execution_count": 17,
   "metadata": {},
   "outputs": [
    {
     "data": {
      "text/html": [
       "<div>\n",
       "<style scoped>\n",
       "    .dataframe tbody tr th:only-of-type {\n",
       "        vertical-align: middle;\n",
       "    }\n",
       "\n",
       "    .dataframe tbody tr th {\n",
       "        vertical-align: top;\n",
       "    }\n",
       "\n",
       "    .dataframe thead th {\n",
       "        text-align: right;\n",
       "    }\n",
       "</style>\n",
       "<table border=\"1\" class=\"dataframe\">\n",
       "  <thead>\n",
       "    <tr style=\"text-align: right;\">\n",
       "      <th></th>\n",
       "      <th>school</th>\n",
       "      <th>sex</th>\n",
       "      <th>age</th>\n",
       "      <th>address</th>\n",
       "      <th>famsize</th>\n",
       "      <th>Pstatus</th>\n",
       "      <th>Medu</th>\n",
       "      <th>Fedu</th>\n",
       "      <th>Mjob</th>\n",
       "      <th>Fjob</th>\n",
       "      <th>...</th>\n",
       "      <th>romantic</th>\n",
       "      <th>famrel</th>\n",
       "      <th>freetime</th>\n",
       "      <th>goout</th>\n",
       "      <th>Dalc</th>\n",
       "      <th>Walc</th>\n",
       "      <th>health</th>\n",
       "      <th>absences</th>\n",
       "      <th>G3</th>\n",
       "      <th>absences_cat</th>\n",
       "    </tr>\n",
       "  </thead>\n",
       "  <tbody>\n",
       "    <tr>\n",
       "      <td>0</td>\n",
       "      <td>GP</td>\n",
       "      <td>F</td>\n",
       "      <td>18</td>\n",
       "      <td>U</td>\n",
       "      <td>GT3</td>\n",
       "      <td>A</td>\n",
       "      <td>4</td>\n",
       "      <td>4</td>\n",
       "      <td>at_home</td>\n",
       "      <td>teacher</td>\n",
       "      <td>...</td>\n",
       "      <td>no</td>\n",
       "      <td>4</td>\n",
       "      <td>3</td>\n",
       "      <td>4</td>\n",
       "      <td>1</td>\n",
       "      <td>1</td>\n",
       "      <td>3</td>\n",
       "      <td>6</td>\n",
       "      <td>6</td>\n",
       "      <td>medium</td>\n",
       "    </tr>\n",
       "    <tr>\n",
       "      <td>1</td>\n",
       "      <td>GP</td>\n",
       "      <td>F</td>\n",
       "      <td>17</td>\n",
       "      <td>U</td>\n",
       "      <td>GT3</td>\n",
       "      <td>T</td>\n",
       "      <td>1</td>\n",
       "      <td>1</td>\n",
       "      <td>at_home</td>\n",
       "      <td>other</td>\n",
       "      <td>...</td>\n",
       "      <td>no</td>\n",
       "      <td>5</td>\n",
       "      <td>3</td>\n",
       "      <td>3</td>\n",
       "      <td>1</td>\n",
       "      <td>1</td>\n",
       "      <td>3</td>\n",
       "      <td>4</td>\n",
       "      <td>6</td>\n",
       "      <td>good</td>\n",
       "    </tr>\n",
       "    <tr>\n",
       "      <td>2</td>\n",
       "      <td>GP</td>\n",
       "      <td>F</td>\n",
       "      <td>15</td>\n",
       "      <td>U</td>\n",
       "      <td>LE3</td>\n",
       "      <td>T</td>\n",
       "      <td>1</td>\n",
       "      <td>1</td>\n",
       "      <td>at_home</td>\n",
       "      <td>other</td>\n",
       "      <td>...</td>\n",
       "      <td>no</td>\n",
       "      <td>4</td>\n",
       "      <td>3</td>\n",
       "      <td>2</td>\n",
       "      <td>2</td>\n",
       "      <td>3</td>\n",
       "      <td>3</td>\n",
       "      <td>10</td>\n",
       "      <td>10</td>\n",
       "      <td>medium</td>\n",
       "    </tr>\n",
       "    <tr>\n",
       "      <td>3</td>\n",
       "      <td>GP</td>\n",
       "      <td>F</td>\n",
       "      <td>15</td>\n",
       "      <td>U</td>\n",
       "      <td>GT3</td>\n",
       "      <td>T</td>\n",
       "      <td>4</td>\n",
       "      <td>2</td>\n",
       "      <td>health</td>\n",
       "      <td>services</td>\n",
       "      <td>...</td>\n",
       "      <td>yes</td>\n",
       "      <td>3</td>\n",
       "      <td>2</td>\n",
       "      <td>2</td>\n",
       "      <td>1</td>\n",
       "      <td>1</td>\n",
       "      <td>5</td>\n",
       "      <td>2</td>\n",
       "      <td>15</td>\n",
       "      <td>good</td>\n",
       "    </tr>\n",
       "    <tr>\n",
       "      <td>4</td>\n",
       "      <td>GP</td>\n",
       "      <td>F</td>\n",
       "      <td>16</td>\n",
       "      <td>U</td>\n",
       "      <td>GT3</td>\n",
       "      <td>T</td>\n",
       "      <td>3</td>\n",
       "      <td>3</td>\n",
       "      <td>other</td>\n",
       "      <td>other</td>\n",
       "      <td>...</td>\n",
       "      <td>no</td>\n",
       "      <td>4</td>\n",
       "      <td>3</td>\n",
       "      <td>2</td>\n",
       "      <td>1</td>\n",
       "      <td>2</td>\n",
       "      <td>5</td>\n",
       "      <td>4</td>\n",
       "      <td>10</td>\n",
       "      <td>good</td>\n",
       "    </tr>\n",
       "    <tr>\n",
       "      <td>...</td>\n",
       "      <td>...</td>\n",
       "      <td>...</td>\n",
       "      <td>...</td>\n",
       "      <td>...</td>\n",
       "      <td>...</td>\n",
       "      <td>...</td>\n",
       "      <td>...</td>\n",
       "      <td>...</td>\n",
       "      <td>...</td>\n",
       "      <td>...</td>\n",
       "      <td>...</td>\n",
       "      <td>...</td>\n",
       "      <td>...</td>\n",
       "      <td>...</td>\n",
       "      <td>...</td>\n",
       "      <td>...</td>\n",
       "      <td>...</td>\n",
       "      <td>...</td>\n",
       "      <td>...</td>\n",
       "      <td>...</td>\n",
       "      <td>...</td>\n",
       "    </tr>\n",
       "    <tr>\n",
       "      <td>390</td>\n",
       "      <td>MS</td>\n",
       "      <td>M</td>\n",
       "      <td>20</td>\n",
       "      <td>U</td>\n",
       "      <td>LE3</td>\n",
       "      <td>A</td>\n",
       "      <td>2</td>\n",
       "      <td>2</td>\n",
       "      <td>services</td>\n",
       "      <td>services</td>\n",
       "      <td>...</td>\n",
       "      <td>no</td>\n",
       "      <td>5</td>\n",
       "      <td>5</td>\n",
       "      <td>4</td>\n",
       "      <td>4</td>\n",
       "      <td>5</td>\n",
       "      <td>4</td>\n",
       "      <td>11</td>\n",
       "      <td>9</td>\n",
       "      <td>medium</td>\n",
       "    </tr>\n",
       "    <tr>\n",
       "      <td>391</td>\n",
       "      <td>MS</td>\n",
       "      <td>M</td>\n",
       "      <td>17</td>\n",
       "      <td>U</td>\n",
       "      <td>LE3</td>\n",
       "      <td>T</td>\n",
       "      <td>3</td>\n",
       "      <td>1</td>\n",
       "      <td>services</td>\n",
       "      <td>services</td>\n",
       "      <td>...</td>\n",
       "      <td>no</td>\n",
       "      <td>2</td>\n",
       "      <td>4</td>\n",
       "      <td>5</td>\n",
       "      <td>3</td>\n",
       "      <td>4</td>\n",
       "      <td>2</td>\n",
       "      <td>3</td>\n",
       "      <td>16</td>\n",
       "      <td>good</td>\n",
       "    </tr>\n",
       "    <tr>\n",
       "      <td>392</td>\n",
       "      <td>MS</td>\n",
       "      <td>M</td>\n",
       "      <td>21</td>\n",
       "      <td>R</td>\n",
       "      <td>GT3</td>\n",
       "      <td>T</td>\n",
       "      <td>1</td>\n",
       "      <td>1</td>\n",
       "      <td>other</td>\n",
       "      <td>other</td>\n",
       "      <td>...</td>\n",
       "      <td>no</td>\n",
       "      <td>5</td>\n",
       "      <td>5</td>\n",
       "      <td>3</td>\n",
       "      <td>3</td>\n",
       "      <td>3</td>\n",
       "      <td>3</td>\n",
       "      <td>3</td>\n",
       "      <td>7</td>\n",
       "      <td>good</td>\n",
       "    </tr>\n",
       "    <tr>\n",
       "      <td>393</td>\n",
       "      <td>MS</td>\n",
       "      <td>M</td>\n",
       "      <td>18</td>\n",
       "      <td>R</td>\n",
       "      <td>LE3</td>\n",
       "      <td>T</td>\n",
       "      <td>3</td>\n",
       "      <td>2</td>\n",
       "      <td>services</td>\n",
       "      <td>other</td>\n",
       "      <td>...</td>\n",
       "      <td>no</td>\n",
       "      <td>4</td>\n",
       "      <td>4</td>\n",
       "      <td>1</td>\n",
       "      <td>3</td>\n",
       "      <td>4</td>\n",
       "      <td>5</td>\n",
       "      <td>0</td>\n",
       "      <td>10</td>\n",
       "      <td>NaN</td>\n",
       "    </tr>\n",
       "    <tr>\n",
       "      <td>394</td>\n",
       "      <td>MS</td>\n",
       "      <td>M</td>\n",
       "      <td>19</td>\n",
       "      <td>U</td>\n",
       "      <td>LE3</td>\n",
       "      <td>T</td>\n",
       "      <td>1</td>\n",
       "      <td>1</td>\n",
       "      <td>other</td>\n",
       "      <td>at_home</td>\n",
       "      <td>...</td>\n",
       "      <td>no</td>\n",
       "      <td>3</td>\n",
       "      <td>2</td>\n",
       "      <td>3</td>\n",
       "      <td>3</td>\n",
       "      <td>3</td>\n",
       "      <td>5</td>\n",
       "      <td>5</td>\n",
       "      <td>9</td>\n",
       "      <td>good</td>\n",
       "    </tr>\n",
       "  </tbody>\n",
       "</table>\n",
       "<p>395 rows × 32 columns</p>\n",
       "</div>"
      ],
      "text/plain": [
       "    school sex  age address famsize Pstatus  Medu  Fedu      Mjob      Fjob  \\\n",
       "0       GP   F   18       U     GT3       A     4     4   at_home   teacher   \n",
       "1       GP   F   17       U     GT3       T     1     1   at_home     other   \n",
       "2       GP   F   15       U     LE3       T     1     1   at_home     other   \n",
       "3       GP   F   15       U     GT3       T     4     2    health  services   \n",
       "4       GP   F   16       U     GT3       T     3     3     other     other   \n",
       "..     ...  ..  ...     ...     ...     ...   ...   ...       ...       ...   \n",
       "390     MS   M   20       U     LE3       A     2     2  services  services   \n",
       "391     MS   M   17       U     LE3       T     3     1  services  services   \n",
       "392     MS   M   21       R     GT3       T     1     1     other     other   \n",
       "393     MS   M   18       R     LE3       T     3     2  services     other   \n",
       "394     MS   M   19       U     LE3       T     1     1     other   at_home   \n",
       "\n",
       "     ... romantic famrel  freetime  goout  Dalc Walc health absences  G3  \\\n",
       "0    ...       no      4         3      4     1    1      3        6   6   \n",
       "1    ...       no      5         3      3     1    1      3        4   6   \n",
       "2    ...       no      4         3      2     2    3      3       10  10   \n",
       "3    ...      yes      3         2      2     1    1      5        2  15   \n",
       "4    ...       no      4         3      2     1    2      5        4  10   \n",
       "..   ...      ...    ...       ...    ...   ...  ...    ...      ...  ..   \n",
       "390  ...       no      5         5      4     4    5      4       11   9   \n",
       "391  ...       no      2         4      5     3    4      2        3  16   \n",
       "392  ...       no      5         5      3     3    3      3        3   7   \n",
       "393  ...       no      4         4      1     3    4      5        0  10   \n",
       "394  ...       no      3         2      3     3    3      5        5   9   \n",
       "\n",
       "    absences_cat  \n",
       "0         medium  \n",
       "1           good  \n",
       "2         medium  \n",
       "3           good  \n",
       "4           good  \n",
       "..           ...  \n",
       "390       medium  \n",
       "391         good  \n",
       "392         good  \n",
       "393          NaN  \n",
       "394         good  \n",
       "\n",
       "[395 rows x 32 columns]"
      ]
     },
     "execution_count": 17,
     "metadata": {},
     "output_type": "execute_result"
    }
   ],
   "source": [
    "\n",
    "df = df.assign(absences_cat=pd.cut(df.absences,[0,5,15,30,50],labels=['good','medium','bad','very_bad']))\n",
    "df"
   ]
  },
  {
   "cell_type": "code",
   "execution_count": 18,
   "metadata": {},
   "outputs": [],
   "source": [
    "df['absences_cat'].replace(np.nan, 'good',inplace=True)"
   ]
  },
  {
   "cell_type": "code",
   "execution_count": 19,
   "metadata": {},
   "outputs": [
    {
     "data": {
      "text/html": [
       "<div>\n",
       "<style scoped>\n",
       "    .dataframe tbody tr th:only-of-type {\n",
       "        vertical-align: middle;\n",
       "    }\n",
       "\n",
       "    .dataframe tbody tr th {\n",
       "        vertical-align: top;\n",
       "    }\n",
       "\n",
       "    .dataframe thead th {\n",
       "        text-align: right;\n",
       "    }\n",
       "</style>\n",
       "<table border=\"1\" class=\"dataframe\">\n",
       "  <thead>\n",
       "    <tr style=\"text-align: right;\">\n",
       "      <th></th>\n",
       "      <th>school</th>\n",
       "      <th>sex</th>\n",
       "      <th>age</th>\n",
       "      <th>address</th>\n",
       "      <th>famsize</th>\n",
       "      <th>Pstatus</th>\n",
       "      <th>Medu</th>\n",
       "      <th>Fedu</th>\n",
       "      <th>Mjob</th>\n",
       "      <th>Fjob</th>\n",
       "      <th>...</th>\n",
       "      <th>romantic</th>\n",
       "      <th>famrel</th>\n",
       "      <th>freetime</th>\n",
       "      <th>goout</th>\n",
       "      <th>Dalc</th>\n",
       "      <th>Walc</th>\n",
       "      <th>health</th>\n",
       "      <th>absences</th>\n",
       "      <th>G3</th>\n",
       "      <th>absences_cat</th>\n",
       "    </tr>\n",
       "  </thead>\n",
       "  <tbody>\n",
       "    <tr>\n",
       "      <td>0</td>\n",
       "      <td>GP</td>\n",
       "      <td>F</td>\n",
       "      <td>18</td>\n",
       "      <td>U</td>\n",
       "      <td>GT3</td>\n",
       "      <td>A</td>\n",
       "      <td>4</td>\n",
       "      <td>4</td>\n",
       "      <td>at_home</td>\n",
       "      <td>teacher</td>\n",
       "      <td>...</td>\n",
       "      <td>no</td>\n",
       "      <td>4</td>\n",
       "      <td>3</td>\n",
       "      <td>4</td>\n",
       "      <td>1</td>\n",
       "      <td>1</td>\n",
       "      <td>3</td>\n",
       "      <td>6</td>\n",
       "      <td>6</td>\n",
       "      <td>medium</td>\n",
       "    </tr>\n",
       "    <tr>\n",
       "      <td>1</td>\n",
       "      <td>GP</td>\n",
       "      <td>F</td>\n",
       "      <td>17</td>\n",
       "      <td>U</td>\n",
       "      <td>GT3</td>\n",
       "      <td>T</td>\n",
       "      <td>1</td>\n",
       "      <td>1</td>\n",
       "      <td>at_home</td>\n",
       "      <td>other</td>\n",
       "      <td>...</td>\n",
       "      <td>no</td>\n",
       "      <td>5</td>\n",
       "      <td>3</td>\n",
       "      <td>3</td>\n",
       "      <td>1</td>\n",
       "      <td>1</td>\n",
       "      <td>3</td>\n",
       "      <td>4</td>\n",
       "      <td>6</td>\n",
       "      <td>good</td>\n",
       "    </tr>\n",
       "    <tr>\n",
       "      <td>2</td>\n",
       "      <td>GP</td>\n",
       "      <td>F</td>\n",
       "      <td>15</td>\n",
       "      <td>U</td>\n",
       "      <td>LE3</td>\n",
       "      <td>T</td>\n",
       "      <td>1</td>\n",
       "      <td>1</td>\n",
       "      <td>at_home</td>\n",
       "      <td>other</td>\n",
       "      <td>...</td>\n",
       "      <td>no</td>\n",
       "      <td>4</td>\n",
       "      <td>3</td>\n",
       "      <td>2</td>\n",
       "      <td>2</td>\n",
       "      <td>3</td>\n",
       "      <td>3</td>\n",
       "      <td>10</td>\n",
       "      <td>10</td>\n",
       "      <td>medium</td>\n",
       "    </tr>\n",
       "    <tr>\n",
       "      <td>3</td>\n",
       "      <td>GP</td>\n",
       "      <td>F</td>\n",
       "      <td>15</td>\n",
       "      <td>U</td>\n",
       "      <td>GT3</td>\n",
       "      <td>T</td>\n",
       "      <td>4</td>\n",
       "      <td>2</td>\n",
       "      <td>health</td>\n",
       "      <td>services</td>\n",
       "      <td>...</td>\n",
       "      <td>yes</td>\n",
       "      <td>3</td>\n",
       "      <td>2</td>\n",
       "      <td>2</td>\n",
       "      <td>1</td>\n",
       "      <td>1</td>\n",
       "      <td>5</td>\n",
       "      <td>2</td>\n",
       "      <td>15</td>\n",
       "      <td>good</td>\n",
       "    </tr>\n",
       "    <tr>\n",
       "      <td>4</td>\n",
       "      <td>GP</td>\n",
       "      <td>F</td>\n",
       "      <td>16</td>\n",
       "      <td>U</td>\n",
       "      <td>GT3</td>\n",
       "      <td>T</td>\n",
       "      <td>3</td>\n",
       "      <td>3</td>\n",
       "      <td>other</td>\n",
       "      <td>other</td>\n",
       "      <td>...</td>\n",
       "      <td>no</td>\n",
       "      <td>4</td>\n",
       "      <td>3</td>\n",
       "      <td>2</td>\n",
       "      <td>1</td>\n",
       "      <td>2</td>\n",
       "      <td>5</td>\n",
       "      <td>4</td>\n",
       "      <td>10</td>\n",
       "      <td>good</td>\n",
       "    </tr>\n",
       "    <tr>\n",
       "      <td>...</td>\n",
       "      <td>...</td>\n",
       "      <td>...</td>\n",
       "      <td>...</td>\n",
       "      <td>...</td>\n",
       "      <td>...</td>\n",
       "      <td>...</td>\n",
       "      <td>...</td>\n",
       "      <td>...</td>\n",
       "      <td>...</td>\n",
       "      <td>...</td>\n",
       "      <td>...</td>\n",
       "      <td>...</td>\n",
       "      <td>...</td>\n",
       "      <td>...</td>\n",
       "      <td>...</td>\n",
       "      <td>...</td>\n",
       "      <td>...</td>\n",
       "      <td>...</td>\n",
       "      <td>...</td>\n",
       "      <td>...</td>\n",
       "      <td>...</td>\n",
       "    </tr>\n",
       "    <tr>\n",
       "      <td>390</td>\n",
       "      <td>MS</td>\n",
       "      <td>M</td>\n",
       "      <td>20</td>\n",
       "      <td>U</td>\n",
       "      <td>LE3</td>\n",
       "      <td>A</td>\n",
       "      <td>2</td>\n",
       "      <td>2</td>\n",
       "      <td>services</td>\n",
       "      <td>services</td>\n",
       "      <td>...</td>\n",
       "      <td>no</td>\n",
       "      <td>5</td>\n",
       "      <td>5</td>\n",
       "      <td>4</td>\n",
       "      <td>4</td>\n",
       "      <td>5</td>\n",
       "      <td>4</td>\n",
       "      <td>11</td>\n",
       "      <td>9</td>\n",
       "      <td>medium</td>\n",
       "    </tr>\n",
       "    <tr>\n",
       "      <td>391</td>\n",
       "      <td>MS</td>\n",
       "      <td>M</td>\n",
       "      <td>17</td>\n",
       "      <td>U</td>\n",
       "      <td>LE3</td>\n",
       "      <td>T</td>\n",
       "      <td>3</td>\n",
       "      <td>1</td>\n",
       "      <td>services</td>\n",
       "      <td>services</td>\n",
       "      <td>...</td>\n",
       "      <td>no</td>\n",
       "      <td>2</td>\n",
       "      <td>4</td>\n",
       "      <td>5</td>\n",
       "      <td>3</td>\n",
       "      <td>4</td>\n",
       "      <td>2</td>\n",
       "      <td>3</td>\n",
       "      <td>16</td>\n",
       "      <td>good</td>\n",
       "    </tr>\n",
       "    <tr>\n",
       "      <td>392</td>\n",
       "      <td>MS</td>\n",
       "      <td>M</td>\n",
       "      <td>21</td>\n",
       "      <td>R</td>\n",
       "      <td>GT3</td>\n",
       "      <td>T</td>\n",
       "      <td>1</td>\n",
       "      <td>1</td>\n",
       "      <td>other</td>\n",
       "      <td>other</td>\n",
       "      <td>...</td>\n",
       "      <td>no</td>\n",
       "      <td>5</td>\n",
       "      <td>5</td>\n",
       "      <td>3</td>\n",
       "      <td>3</td>\n",
       "      <td>3</td>\n",
       "      <td>3</td>\n",
       "      <td>3</td>\n",
       "      <td>7</td>\n",
       "      <td>good</td>\n",
       "    </tr>\n",
       "    <tr>\n",
       "      <td>393</td>\n",
       "      <td>MS</td>\n",
       "      <td>M</td>\n",
       "      <td>18</td>\n",
       "      <td>R</td>\n",
       "      <td>LE3</td>\n",
       "      <td>T</td>\n",
       "      <td>3</td>\n",
       "      <td>2</td>\n",
       "      <td>services</td>\n",
       "      <td>other</td>\n",
       "      <td>...</td>\n",
       "      <td>no</td>\n",
       "      <td>4</td>\n",
       "      <td>4</td>\n",
       "      <td>1</td>\n",
       "      <td>3</td>\n",
       "      <td>4</td>\n",
       "      <td>5</td>\n",
       "      <td>0</td>\n",
       "      <td>10</td>\n",
       "      <td>good</td>\n",
       "    </tr>\n",
       "    <tr>\n",
       "      <td>394</td>\n",
       "      <td>MS</td>\n",
       "      <td>M</td>\n",
       "      <td>19</td>\n",
       "      <td>U</td>\n",
       "      <td>LE3</td>\n",
       "      <td>T</td>\n",
       "      <td>1</td>\n",
       "      <td>1</td>\n",
       "      <td>other</td>\n",
       "      <td>at_home</td>\n",
       "      <td>...</td>\n",
       "      <td>no</td>\n",
       "      <td>3</td>\n",
       "      <td>2</td>\n",
       "      <td>3</td>\n",
       "      <td>3</td>\n",
       "      <td>3</td>\n",
       "      <td>5</td>\n",
       "      <td>5</td>\n",
       "      <td>9</td>\n",
       "      <td>good</td>\n",
       "    </tr>\n",
       "  </tbody>\n",
       "</table>\n",
       "<p>395 rows × 32 columns</p>\n",
       "</div>"
      ],
      "text/plain": [
       "    school sex  age address famsize Pstatus  Medu  Fedu      Mjob      Fjob  \\\n",
       "0       GP   F   18       U     GT3       A     4     4   at_home   teacher   \n",
       "1       GP   F   17       U     GT3       T     1     1   at_home     other   \n",
       "2       GP   F   15       U     LE3       T     1     1   at_home     other   \n",
       "3       GP   F   15       U     GT3       T     4     2    health  services   \n",
       "4       GP   F   16       U     GT3       T     3     3     other     other   \n",
       "..     ...  ..  ...     ...     ...     ...   ...   ...       ...       ...   \n",
       "390     MS   M   20       U     LE3       A     2     2  services  services   \n",
       "391     MS   M   17       U     LE3       T     3     1  services  services   \n",
       "392     MS   M   21       R     GT3       T     1     1     other     other   \n",
       "393     MS   M   18       R     LE3       T     3     2  services     other   \n",
       "394     MS   M   19       U     LE3       T     1     1     other   at_home   \n",
       "\n",
       "     ... romantic famrel  freetime  goout  Dalc Walc health absences  G3  \\\n",
       "0    ...       no      4         3      4     1    1      3        6   6   \n",
       "1    ...       no      5         3      3     1    1      3        4   6   \n",
       "2    ...       no      4         3      2     2    3      3       10  10   \n",
       "3    ...      yes      3         2      2     1    1      5        2  15   \n",
       "4    ...       no      4         3      2     1    2      5        4  10   \n",
       "..   ...      ...    ...       ...    ...   ...  ...    ...      ...  ..   \n",
       "390  ...       no      5         5      4     4    5      4       11   9   \n",
       "391  ...       no      2         4      5     3    4      2        3  16   \n",
       "392  ...       no      5         5      3     3    3      3        3   7   \n",
       "393  ...       no      4         4      1     3    4      5        0  10   \n",
       "394  ...       no      3         2      3     3    3      5        5   9   \n",
       "\n",
       "    absences_cat  \n",
       "0         medium  \n",
       "1           good  \n",
       "2         medium  \n",
       "3           good  \n",
       "4           good  \n",
       "..           ...  \n",
       "390       medium  \n",
       "391         good  \n",
       "392         good  \n",
       "393         good  \n",
       "394         good  \n",
       "\n",
       "[395 rows x 32 columns]"
      ]
     },
     "execution_count": 19,
     "metadata": {},
     "output_type": "execute_result"
    }
   ],
   "source": [
    "df"
   ]
  },
  {
   "cell_type": "code",
   "execution_count": 20,
   "metadata": {},
   "outputs": [
    {
     "name": "stdout",
     "output_type": "stream",
     "text": [
      "\u001b[32mschool        object\n",
      "sex           object\n",
      "age            int64\n",
      "address       object\n",
      "famsize       object\n",
      "Pstatus       object\n",
      "Medu           int64\n",
      "Fedu           int64\n",
      "Mjob          object\n",
      "Fjob          object\n",
      "reason        object\n",
      "guardian      object\n",
      "traveltime     int64\n",
      "studytime      int64\n",
      "failures       int64\n",
      "schoolsup     object\n",
      "famsup        object\n",
      "paid          object\n",
      "activities    object\n",
      "nursery       object\n",
      "higher        object\n",
      "internet      object\n",
      "romantic      object\n",
      "famrel         int64\n",
      "freetime       int64\n",
      "goout          int64\n",
      "Dalc           int64\n",
      "Walc           int64\n",
      "health         int64\n",
      "G3             int64\n",
      "dtype: object\u001b[0m\n"
     ]
    }
   ],
   "source": [
    "CO.green(df[discrete_var].dtypes)"
   ]
  },
  {
   "cell_type": "code",
   "execution_count": 21,
   "metadata": {},
   "outputs": [],
   "source": [
    "df[discrete_var] =  df[discrete_var].astype('category')"
   ]
  },
  {
   "cell_type": "code",
   "execution_count": 22,
   "metadata": {},
   "outputs": [
    {
     "name": "stdout",
     "output_type": "stream",
     "text": [
      "\u001b[35mschool          category\n",
      "sex             category\n",
      "age             category\n",
      "address         category\n",
      "famsize         category\n",
      "Pstatus         category\n",
      "Medu            category\n",
      "Fedu            category\n",
      "Mjob            category\n",
      "Fjob            category\n",
      "reason          category\n",
      "guardian        category\n",
      "traveltime      category\n",
      "studytime       category\n",
      "failures        category\n",
      "schoolsup       category\n",
      "famsup          category\n",
      "paid            category\n",
      "activities      category\n",
      "nursery         category\n",
      "higher          category\n",
      "internet        category\n",
      "romantic        category\n",
      "famrel          category\n",
      "freetime        category\n",
      "goout           category\n",
      "Dalc            category\n",
      "Walc            category\n",
      "health          category\n",
      "absences           int64\n",
      "G3              category\n",
      "absences_cat    category\n",
      "dtype: object\u001b[0m\n"
     ]
    }
   ],
   "source": [
    "CO.magenta(df.dtypes)"
   ]
  },
  {
   "cell_type": "markdown",
   "metadata": {},
   "source": [
    "- <span style=\"font-size: 130%;color:#1155cc\">school</span> - szkoła ucznia (binarnie: „GP” - Gabriel Pereira lub „MS” - Mousinho da Silveira)\n",
    "- <span style=\"font-size: 130%;color:#1155cc\">absences </span> - liczba nieobecności w szkole (liczbowo: od 0 do 93)"
   ]
  },
  {
   "cell_type": "markdown",
   "metadata": {},
   "source": [
    "<span style=\"font-size: 110%;color:#1155cc\"> Jeszcze raz robimy wektor wartości dyskretnych bo troche nam sie zmieniło "
   ]
  },
  {
   "cell_type": "code",
   "execution_count": 23,
   "metadata": {},
   "outputs": [
    {
     "name": "stdout",
     "output_type": "stream",
     "text": [
      "ONLY DISCRETE FUNCTION\n",
      "----------------------\n",
      "school --- category --- 2\n",
      "sex --- category --- 2\n",
      "age --- category --- 8\n",
      "address --- category --- 2\n",
      "famsize --- category --- 2\n",
      "Pstatus --- category --- 2\n",
      "Medu --- category --- 5\n",
      "Fedu --- category --- 5\n",
      "Mjob --- category --- 5\n",
      "Fjob --- category --- 5\n",
      "reason --- category --- 4\n",
      "guardian --- category --- 3\n",
      "traveltime --- category --- 4\n",
      "studytime --- category --- 4\n",
      "failures --- category --- 4\n",
      "schoolsup --- category --- 2\n",
      "famsup --- category --- 2\n",
      "paid --- category --- 2\n",
      "activities --- category --- 2\n",
      "nursery --- category --- 2\n",
      "higher --- category --- 2\n",
      "internet --- category --- 2\n",
      "romantic --- category --- 2\n",
      "famrel --- category --- 5\n",
      "freetime --- category --- 5\n",
      "goout --- category --- 5\n",
      "Dalc --- category --- 5\n",
      "Walc --- category --- 5\n",
      "health --- category --- 5\n",
      "G3 --- category --- 18\n",
      "absences_cat --- category --- 4\n"
     ]
    }
   ],
   "source": [
    "a,b = df.shape     #<- ile mamy kolumn\n",
    "b\n",
    "discrete_var = []    #<-- zaczyn do tworzenia listy\n",
    "\n",
    "\n",
    "print('ONLY DISCRETE FUNCTION')\n",
    "print('----------------------')\n",
    "for i in range(0,b):\n",
    "    i = df.columns[i]\n",
    "    f = df[i].dtypes\n",
    "    h = df[i].nunique()\n",
    "    \n",
    "    if f == np.object or h<=24:\n",
    "           print(i,\"---\",f,\"---\",h)\n",
    "           discrete_var.append(i)       #<-- Tworzę listę zmiennych dyskretnych           \n",
    "            "
   ]
  },
  {
   "cell_type": "code",
   "execution_count": 24,
   "metadata": {},
   "outputs": [
    {
     "name": "stdout",
     "output_type": "stream",
     "text": [
      "\u001b[36m['school', 'sex', 'age', 'address', 'famsize', 'Pstatus', 'Medu', 'Fedu', 'Mjob', 'Fjob', 'reason', 'guardian', 'traveltime', 'studytime', 'failures', 'schoolsup', 'famsup', 'paid', 'activities', 'nursery', 'higher', 'internet', 'romantic', 'famrel', 'freetime', 'goout', 'Dalc', 'Walc', 'health', 'G3', 'absences_cat']\u001b[0m\n"
     ]
    }
   ],
   "source": [
    "CO.cyan(discrete_var)"
   ]
  },
  {
   "cell_type": "markdown",
   "metadata": {},
   "source": [
    "<span style=\"font-size: 110%;color:#1155cc\"> Wyrzucamy zmienną G3 bo to zmienna wynikowa"
   ]
  },
  {
   "cell_type": "code",
   "execution_count": 25,
   "metadata": {},
   "outputs": [],
   "source": [
    "discrete_var.remove('G3')"
   ]
  },
  {
   "cell_type": "code",
   "execution_count": 26,
   "metadata": {},
   "outputs": [
    {
     "name": "stdout",
     "output_type": "stream",
     "text": [
      "\u001b[36m['school', 'sex', 'age', 'address', 'famsize', 'Pstatus', 'Medu', 'Fedu', 'Mjob', 'Fjob', 'reason', 'guardian', 'traveltime', 'studytime', 'failures', 'schoolsup', 'famsup', 'paid', 'activities', 'nursery', 'higher', 'internet', 'romantic', 'famrel', 'freetime', 'goout', 'Dalc', 'Walc', 'health', 'absences_cat']\u001b[0m\n"
     ]
    }
   ],
   "source": [
    "CO.cyan(discrete_var)"
   ]
  },
  {
   "cell_type": "markdown",
   "metadata": {},
   "source": [
    "<span style=\"font-size: 180%;color:#1155cc\"> Kodowanie na gorąco\n",
    "\n",
    "<span style=\"font-size: 110%;color:#1155cc\">Wypisuje zmienne, które są dyskretne i które należy kodować na gorąco."
   ]
  },
  {
   "cell_type": "markdown",
   "metadata": {},
   "source": [
    "Ile jest zmiennych w liście?"
   ]
  },
  {
   "cell_type": "code",
   "execution_count": 27,
   "metadata": {},
   "outputs": [
    {
     "data": {
      "text/plain": [
       "30"
      ]
     },
     "execution_count": 27,
     "metadata": {},
     "output_type": "execute_result"
    }
   ],
   "source": [
    "MPO=len(discrete_var) # ilość elementów w liście\n",
    "MPO"
   ]
  },
  {
   "cell_type": "code",
   "execution_count": 28,
   "metadata": {},
   "outputs": [],
   "source": [
    "data_dummy = df\n",
    "\n",
    "def dummify_dataset(df, col):\n",
    "    dummy_column = pd.get_dummies(df[col], prefix = col, drop_first = True)\n",
    "    PKP = pd.concat([df,dummy_column],axis = 1)\n",
    "    PKP = PKP.drop([col], axis=1)\n",
    "    return PKP\n",
    "\n",
    "for i in range(0,MPO):    # Trzeba wpisać właściwą liczbę zmiennych dyskretnych\n",
    "    data_dummy = dummify_dataset(data_dummy,discrete_var[i])"
   ]
  },
  {
   "cell_type": "code",
   "execution_count": 29,
   "metadata": {},
   "outputs": [
    {
     "data": {
      "text/html": [
       "<div>\n",
       "<style scoped>\n",
       "    .dataframe tbody tr th:only-of-type {\n",
       "        vertical-align: middle;\n",
       "    }\n",
       "\n",
       "    .dataframe tbody tr th {\n",
       "        vertical-align: top;\n",
       "    }\n",
       "\n",
       "    .dataframe thead th {\n",
       "        text-align: right;\n",
       "    }\n",
       "</style>\n",
       "<table border=\"1\" class=\"dataframe\">\n",
       "  <thead>\n",
       "    <tr style=\"text-align: right;\">\n",
       "      <th></th>\n",
       "      <th>absences</th>\n",
       "      <th>G3</th>\n",
       "      <th>school_MS</th>\n",
       "      <th>sex_M</th>\n",
       "      <th>age_16</th>\n",
       "      <th>age_17</th>\n",
       "      <th>age_18</th>\n",
       "      <th>age_19</th>\n",
       "      <th>age_20</th>\n",
       "      <th>age_21</th>\n",
       "      <th>...</th>\n",
       "      <th>Walc_3</th>\n",
       "      <th>Walc_4</th>\n",
       "      <th>Walc_5</th>\n",
       "      <th>health_2</th>\n",
       "      <th>health_3</th>\n",
       "      <th>health_4</th>\n",
       "      <th>health_5</th>\n",
       "      <th>absences_cat_medium</th>\n",
       "      <th>absences_cat_bad</th>\n",
       "      <th>absences_cat_very_bad</th>\n",
       "    </tr>\n",
       "  </thead>\n",
       "  <tbody>\n",
       "    <tr>\n",
       "      <td>352</td>\n",
       "      <td>7</td>\n",
       "      <td>8</td>\n",
       "      <td>1</td>\n",
       "      <td>1</td>\n",
       "      <td>0</td>\n",
       "      <td>0</td>\n",
       "      <td>1</td>\n",
       "      <td>0</td>\n",
       "      <td>0</td>\n",
       "      <td>0</td>\n",
       "      <td>...</td>\n",
       "      <td>1</td>\n",
       "      <td>0</td>\n",
       "      <td>0</td>\n",
       "      <td>0</td>\n",
       "      <td>1</td>\n",
       "      <td>0</td>\n",
       "      <td>0</td>\n",
       "      <td>1</td>\n",
       "      <td>0</td>\n",
       "      <td>0</td>\n",
       "    </tr>\n",
       "    <tr>\n",
       "      <td>160</td>\n",
       "      <td>0</td>\n",
       "      <td>0</td>\n",
       "      <td>0</td>\n",
       "      <td>1</td>\n",
       "      <td>0</td>\n",
       "      <td>1</td>\n",
       "      <td>0</td>\n",
       "      <td>0</td>\n",
       "      <td>0</td>\n",
       "      <td>0</td>\n",
       "      <td>...</td>\n",
       "      <td>0</td>\n",
       "      <td>0</td>\n",
       "      <td>0</td>\n",
       "      <td>0</td>\n",
       "      <td>0</td>\n",
       "      <td>0</td>\n",
       "      <td>1</td>\n",
       "      <td>0</td>\n",
       "      <td>0</td>\n",
       "      <td>0</td>\n",
       "    </tr>\n",
       "    <tr>\n",
       "      <td>198</td>\n",
       "      <td>24</td>\n",
       "      <td>18</td>\n",
       "      <td>0</td>\n",
       "      <td>0</td>\n",
       "      <td>0</td>\n",
       "      <td>1</td>\n",
       "      <td>0</td>\n",
       "      <td>0</td>\n",
       "      <td>0</td>\n",
       "      <td>0</td>\n",
       "      <td>...</td>\n",
       "      <td>1</td>\n",
       "      <td>0</td>\n",
       "      <td>0</td>\n",
       "      <td>1</td>\n",
       "      <td>0</td>\n",
       "      <td>0</td>\n",
       "      <td>0</td>\n",
       "      <td>0</td>\n",
       "      <td>1</td>\n",
       "      <td>0</td>\n",
       "    </tr>\n",
       "  </tbody>\n",
       "</table>\n",
       "<p>3 rows × 79 columns</p>\n",
       "</div>"
      ],
      "text/plain": [
       "     absences  G3  school_MS  sex_M  age_16  age_17  age_18  age_19  age_20  \\\n",
       "352         7   8          1      1       0       0       1       0       0   \n",
       "160         0   0          0      1       0       1       0       0       0   \n",
       "198        24  18          0      0       0       1       0       0       0   \n",
       "\n",
       "     age_21  ...  Walc_3  Walc_4  Walc_5  health_2  health_3  health_4  \\\n",
       "352       0  ...       1       0       0         0         1         0   \n",
       "160       0  ...       0       0       0         0         0         0   \n",
       "198       0  ...       1       0       0         1         0         0   \n",
       "\n",
       "     health_5  absences_cat_medium  absences_cat_bad  absences_cat_very_bad  \n",
       "352         0                    1                 0                      0  \n",
       "160         1                    0                 0                      0  \n",
       "198         0                    0                 1                      0  \n",
       "\n",
       "[3 rows x 79 columns]"
      ]
     },
     "execution_count": 29,
     "metadata": {},
     "output_type": "execute_result"
    }
   ],
   "source": [
    "df = data_dummy \n",
    "df.sample(3)"
   ]
  },
  {
   "cell_type": "code",
   "execution_count": 30,
   "metadata": {},
   "outputs": [
    {
     "data": {
      "text/plain": [
       "Index(['absences', 'G3', 'school_MS', 'sex_M', 'age_16', 'age_17', 'age_18',\n",
       "       'age_19', 'age_20', 'age_21', 'age_22', 'address_U', 'famsize_LE3',\n",
       "       'Pstatus_T', 'Medu_1', 'Medu_2', 'Medu_3', 'Medu_4', 'Fedu_1', 'Fedu_2',\n",
       "       'Fedu_3', 'Fedu_4', 'Mjob_health', 'Mjob_other', 'Mjob_services',\n",
       "       'Mjob_teacher', 'Fjob_health', 'Fjob_other', 'Fjob_services',\n",
       "       'Fjob_teacher', 'reason_home', 'reason_other', 'reason_reputation',\n",
       "       'guardian_mother', 'guardian_other', 'traveltime_2', 'traveltime_3',\n",
       "       'traveltime_4', 'studytime_2', 'studytime_3', 'studytime_4',\n",
       "       'failures_1', 'failures_2', 'failures_3', 'schoolsup_yes', 'famsup_yes',\n",
       "       'paid_yes', 'activities_yes', 'nursery_yes', 'higher_yes',\n",
       "       'internet_yes', 'romantic_yes', 'famrel_2', 'famrel_3', 'famrel_4',\n",
       "       'famrel_5', 'freetime_2', 'freetime_3', 'freetime_4', 'freetime_5',\n",
       "       'goout_2', 'goout_3', 'goout_4', 'goout_5', 'Dalc_2', 'Dalc_3',\n",
       "       'Dalc_4', 'Dalc_5', 'Walc_2', 'Walc_3', 'Walc_4', 'Walc_5', 'health_2',\n",
       "       'health_3', 'health_4', 'health_5', 'absences_cat_medium',\n",
       "       'absences_cat_bad', 'absences_cat_very_bad'],\n",
       "      dtype='object')"
      ]
     },
     "execution_count": 30,
     "metadata": {},
     "output_type": "execute_result"
    }
   ],
   "source": [
    "df.columns"
   ]
  },
  {
   "cell_type": "markdown",
   "metadata": {},
   "source": [
    " <span style=\"font-size: 110%;color:#1155cc\"> Wyrzucam 'absences'"
   ]
  },
  {
   "cell_type": "code",
   "execution_count": 31,
   "metadata": {},
   "outputs": [],
   "source": [
    "del df['absences']"
   ]
  },
  {
   "cell_type": "markdown",
   "metadata": {},
   "source": [
    " <span style=\"font-size: 110%;color:#1155cc\"> Podział zbioru na testowy i treningowy."
   ]
  },
  {
   "cell_type": "code",
   "execution_count": 32,
   "metadata": {},
   "outputs": [],
   "source": [
    "from sklearn.model_selection import train_test_split \n",
    "\n",
    "y = df['G3']\n",
    "X = df.drop('G3', axis=1)\n",
    "\n",
    "Xtrain, Xtest, ytrain, ytest = train_test_split(X,y, test_size=0.25, random_state = 148)"
   ]
  },
  {
   "cell_type": "markdown",
   "metadata": {},
   "source": [
    "<span style=\"font-size: 110%;background:##ffe599\">Wynik (ilość rowerów wypożyczonych) przed skalowaniem</span>  "
   ]
  },
  {
   "cell_type": "code",
   "execution_count": 33,
   "metadata": {},
   "outputs": [
    {
     "data": {
      "text/plain": [
       "0     6\n",
       "1     6\n",
       "2    10\n",
       "3    15\n",
       "4    10\n",
       "Name: G3, dtype: category\n",
       "Categories (18, int64): [0, 4, 5, 6, ..., 17, 18, 19, 20]"
      ]
     },
     "execution_count": 33,
     "metadata": {},
     "output_type": "execute_result"
    }
   ],
   "source": [
    "y[:5]"
   ]
  },
  {
   "cell_type": "markdown",
   "metadata": {},
   "source": [
    "<span style=\"font-size: 110%;background:##ffe599\">Zmienne opisujące przed skalowaniem"
   ]
  },
  {
   "cell_type": "code",
   "execution_count": 34,
   "metadata": {},
   "outputs": [
    {
     "data": {
      "text/html": [
       "<div>\n",
       "<style scoped>\n",
       "    .dataframe tbody tr th:only-of-type {\n",
       "        vertical-align: middle;\n",
       "    }\n",
       "\n",
       "    .dataframe tbody tr th {\n",
       "        vertical-align: top;\n",
       "    }\n",
       "\n",
       "    .dataframe thead th {\n",
       "        text-align: right;\n",
       "    }\n",
       "</style>\n",
       "<table border=\"1\" class=\"dataframe\">\n",
       "  <thead>\n",
       "    <tr style=\"text-align: right;\">\n",
       "      <th></th>\n",
       "      <th>school_MS</th>\n",
       "      <th>sex_M</th>\n",
       "      <th>age_16</th>\n",
       "      <th>age_17</th>\n",
       "      <th>age_18</th>\n",
       "      <th>age_19</th>\n",
       "      <th>age_20</th>\n",
       "      <th>age_21</th>\n",
       "      <th>age_22</th>\n",
       "      <th>address_U</th>\n",
       "      <th>...</th>\n",
       "      <th>Walc_3</th>\n",
       "      <th>Walc_4</th>\n",
       "      <th>Walc_5</th>\n",
       "      <th>health_2</th>\n",
       "      <th>health_3</th>\n",
       "      <th>health_4</th>\n",
       "      <th>health_5</th>\n",
       "      <th>absences_cat_medium</th>\n",
       "      <th>absences_cat_bad</th>\n",
       "      <th>absences_cat_very_bad</th>\n",
       "    </tr>\n",
       "  </thead>\n",
       "  <tbody>\n",
       "    <tr>\n",
       "      <td>0</td>\n",
       "      <td>0</td>\n",
       "      <td>0</td>\n",
       "      <td>0</td>\n",
       "      <td>0</td>\n",
       "      <td>1</td>\n",
       "      <td>0</td>\n",
       "      <td>0</td>\n",
       "      <td>0</td>\n",
       "      <td>0</td>\n",
       "      <td>1</td>\n",
       "      <td>...</td>\n",
       "      <td>0</td>\n",
       "      <td>0</td>\n",
       "      <td>0</td>\n",
       "      <td>0</td>\n",
       "      <td>1</td>\n",
       "      <td>0</td>\n",
       "      <td>0</td>\n",
       "      <td>1</td>\n",
       "      <td>0</td>\n",
       "      <td>0</td>\n",
       "    </tr>\n",
       "    <tr>\n",
       "      <td>1</td>\n",
       "      <td>0</td>\n",
       "      <td>0</td>\n",
       "      <td>0</td>\n",
       "      <td>1</td>\n",
       "      <td>0</td>\n",
       "      <td>0</td>\n",
       "      <td>0</td>\n",
       "      <td>0</td>\n",
       "      <td>0</td>\n",
       "      <td>1</td>\n",
       "      <td>...</td>\n",
       "      <td>0</td>\n",
       "      <td>0</td>\n",
       "      <td>0</td>\n",
       "      <td>0</td>\n",
       "      <td>1</td>\n",
       "      <td>0</td>\n",
       "      <td>0</td>\n",
       "      <td>0</td>\n",
       "      <td>0</td>\n",
       "      <td>0</td>\n",
       "    </tr>\n",
       "    <tr>\n",
       "      <td>2</td>\n",
       "      <td>0</td>\n",
       "      <td>0</td>\n",
       "      <td>0</td>\n",
       "      <td>0</td>\n",
       "      <td>0</td>\n",
       "      <td>0</td>\n",
       "      <td>0</td>\n",
       "      <td>0</td>\n",
       "      <td>0</td>\n",
       "      <td>1</td>\n",
       "      <td>...</td>\n",
       "      <td>1</td>\n",
       "      <td>0</td>\n",
       "      <td>0</td>\n",
       "      <td>0</td>\n",
       "      <td>1</td>\n",
       "      <td>0</td>\n",
       "      <td>0</td>\n",
       "      <td>1</td>\n",
       "      <td>0</td>\n",
       "      <td>0</td>\n",
       "    </tr>\n",
       "    <tr>\n",
       "      <td>3</td>\n",
       "      <td>0</td>\n",
       "      <td>0</td>\n",
       "      <td>0</td>\n",
       "      <td>0</td>\n",
       "      <td>0</td>\n",
       "      <td>0</td>\n",
       "      <td>0</td>\n",
       "      <td>0</td>\n",
       "      <td>0</td>\n",
       "      <td>1</td>\n",
       "      <td>...</td>\n",
       "      <td>0</td>\n",
       "      <td>0</td>\n",
       "      <td>0</td>\n",
       "      <td>0</td>\n",
       "      <td>0</td>\n",
       "      <td>0</td>\n",
       "      <td>1</td>\n",
       "      <td>0</td>\n",
       "      <td>0</td>\n",
       "      <td>0</td>\n",
       "    </tr>\n",
       "    <tr>\n",
       "      <td>4</td>\n",
       "      <td>0</td>\n",
       "      <td>0</td>\n",
       "      <td>1</td>\n",
       "      <td>0</td>\n",
       "      <td>0</td>\n",
       "      <td>0</td>\n",
       "      <td>0</td>\n",
       "      <td>0</td>\n",
       "      <td>0</td>\n",
       "      <td>1</td>\n",
       "      <td>...</td>\n",
       "      <td>0</td>\n",
       "      <td>0</td>\n",
       "      <td>0</td>\n",
       "      <td>0</td>\n",
       "      <td>0</td>\n",
       "      <td>0</td>\n",
       "      <td>1</td>\n",
       "      <td>0</td>\n",
       "      <td>0</td>\n",
       "      <td>0</td>\n",
       "    </tr>\n",
       "  </tbody>\n",
       "</table>\n",
       "<p>5 rows × 77 columns</p>\n",
       "</div>"
      ],
      "text/plain": [
       "   school_MS  sex_M  age_16  age_17  age_18  age_19  age_20  age_21  age_22  \\\n",
       "0          0      0       0       0       1       0       0       0       0   \n",
       "1          0      0       0       1       0       0       0       0       0   \n",
       "2          0      0       0       0       0       0       0       0       0   \n",
       "3          0      0       0       0       0       0       0       0       0   \n",
       "4          0      0       1       0       0       0       0       0       0   \n",
       "\n",
       "   address_U  ...  Walc_3  Walc_4  Walc_5  health_2  health_3  health_4  \\\n",
       "0          1  ...       0       0       0         0         1         0   \n",
       "1          1  ...       0       0       0         0         1         0   \n",
       "2          1  ...       1       0       0         0         1         0   \n",
       "3          1  ...       0       0       0         0         0         0   \n",
       "4          1  ...       0       0       0         0         0         0   \n",
       "\n",
       "   health_5  absences_cat_medium  absences_cat_bad  absences_cat_very_bad  \n",
       "0         0                    1                 0                      0  \n",
       "1         0                    0                 0                      0  \n",
       "2         0                    1                 0                      0  \n",
       "3         1                    0                 0                      0  \n",
       "4         1                    0                 0                      0  \n",
       "\n",
       "[5 rows x 77 columns]"
      ]
     },
     "execution_count": 34,
     "metadata": {},
     "output_type": "execute_result"
    }
   ],
   "source": [
    "X[:5]"
   ]
  },
  {
   "cell_type": "markdown",
   "metadata": {},
   "source": [
    "### Scaling (normalization) of the X value\n",
    "\n",
    "X should never be too big. Ideally, it should be in the range [-1, 1]. If this is not the case, normalize the input.\n",
    "\n",
    "### <span style=\"color:green\"> Skalowanie (normalizacja) wartości X\n",
    "\n",
    "<span style=\"color:green\"> X nigdy nie powinien być zbyt duży. Idealnie powinien być w zakresie [-1, 1]. Jeśli tak nie jest, należy znormalizować dane wejściowe."
   ]
  },
  {
   "cell_type": "code",
   "execution_count": 35,
   "metadata": {},
   "outputs": [
    {
     "name": "stdout",
     "output_type": "stream",
     "text": [
      "1.0 -0.0\n"
     ]
    }
   ],
   "source": [
    "from sklearn.preprocessing import StandardScaler\n",
    "\n",
    "sc = StandardScaler()\n",
    "X = sc.fit_transform(X)\n",
    "\n",
    "print(np.round(X.std(), decimals=2), np.round(X.mean(), decimals=2))"
   ]
  },
  {
   "cell_type": "code",
   "execution_count": 36,
   "metadata": {},
   "outputs": [
    {
     "data": {
      "text/plain": [
       "10    56\n",
       "11    47\n",
       "0     38\n",
       "15    33\n",
       "8     32\n",
       "13    31\n",
       "12    31\n",
       "9     28\n",
       "14    27\n",
       "16    16\n",
       "6     15\n",
       "18    12\n",
       "7      9\n",
       "5      7\n",
       "17     6\n",
       "19     5\n",
       "4      1\n",
       "20     1\n",
       "Name: G3, dtype: int64"
      ]
     },
     "execution_count": 36,
     "metadata": {},
     "output_type": "execute_result"
    }
   ],
   "source": [
    "y.value_counts()"
   ]
  },
  {
   "cell_type": "code",
   "execution_count": 37,
   "metadata": {},
   "outputs": [],
   "source": [
    "y= y.astype(float)"
   ]
  },
  {
   "cell_type": "code",
   "execution_count": 38,
   "metadata": {},
   "outputs": [
    {
     "name": "stdout",
     "output_type": "stream",
     "text": [
      "0    0.06\n",
      "1    0.06\n",
      "2    0.10\n",
      "Name: G3, dtype: float64\n",
      "0.05 0.1\n"
     ]
    }
   ],
   "source": [
    "y = (y / 100)  # max test score is 100\n",
    "print(y.head(3))\n",
    "print(np.round(y.std(), decimals=2), np.round(y.mean(), decimals=2))"
   ]
  },
  {
   "cell_type": "markdown",
   "metadata": {},
   "source": [
    "### Creates random input and output\n",
    "\n",
    "### <span style=\"color:green\"> Tworzy losowe dane wejściowe i wyjściowe "
   ]
  },
  {
   "cell_type": "code",
   "execution_count": 39,
   "metadata": {},
   "outputs": [
    {
     "name": "stdout",
     "output_type": "stream",
     "text": [
      "tensor([[-0.3630, -0.9482, -0.5978, -0.5744,  1.9537, -0.2543, -0.0875, -0.0504,\n",
      "         -0.0504,  0.5354, -0.6369, -2.9384, -0.4190, -0.5939, -0.5783,  1.4196,\n",
      "         -0.5118, -0.6409, -0.5822,  1.7648, -0.3069, -0.7451, -0.5939, -0.4149,\n",
      "         -0.2185, -1.1041, -0.6252,  3.5526, -0.6173, -0.3167, -0.6017,  0.6685,\n",
      "         -0.2969,  1.6406, -0.2487, -0.1438,  0.9975, -0.4438, -0.2709, -0.3807,\n",
      "         -0.2121, -0.2055,  2.5971, -1.2577, -0.9197, -1.0179,  0.5079,  0.2309,\n",
      "         -2.2327, -0.7084, -0.2185, -0.4560,  1.0127, -0.6056, -0.4397,  1.2312,\n",
      "         -0.6409, -0.3357, -0.5939, -0.7004,  1.8955, -0.3937, -0.4841, -0.2654,\n",
      "         -0.1527, -0.1527, -0.5236, -0.5040, -0.3850, -0.2762, -0.3586,  1.8277,\n",
      "         -0.4479, -0.7657,  1.5797, -0.2762, -0.0713],\n",
      "        [-0.3630, -0.9482, -0.5978,  1.7409, -0.5118, -0.2543, -0.0875, -0.0504,\n",
      "         -0.0504,  0.5354, -0.6369,  0.3403,  2.3864, -0.5939, -0.5783, -0.7044,\n",
      "          1.9537, -0.6409, -0.5822, -0.5666, -0.3069, -0.7451, -0.5939, -0.4149,\n",
      "         -0.2185,  0.9057, -0.6252, -0.2815, -0.6173, -0.3167, -0.6017, -1.4959,\n",
      "         -0.2969, -0.6095, -0.2487, -0.1438,  0.9975, -0.4438, -0.2709, -0.3807,\n",
      "         -0.2121, -0.2055, -0.3850,  0.7951, -0.9197, -1.0179, -1.9689,  0.2309,\n",
      "          0.4479, -0.7084, -0.2185, -0.4560, -0.9874,  1.6512, -0.4397,  1.2312,\n",
      "         -0.6409, -0.3357, -0.5939,  1.4277, -0.5276, -0.3937, -0.4841, -0.2654,\n",
      "         -0.1527, -0.1527, -0.5236, -0.5040, -0.3850, -0.2762, -0.3586,  1.8277,\n",
      "         -0.4479, -0.7657, -0.6330, -0.2762, -0.0713],\n",
      "        [-0.3630, -0.9482, -0.5978, -0.5744, -0.5118, -0.2543, -0.0875, -0.0504,\n",
      "         -0.0504,  0.5354,  1.5700,  0.3403,  2.3864, -0.5939, -0.5783, -0.7044,\n",
      "          1.9537, -0.6409, -0.5822, -0.5666, -0.3069, -0.7451, -0.5939, -0.4149,\n",
      "         -0.2185,  0.9057, -0.6252, -0.2815, -0.6173,  3.1579, -0.6017,  0.6685,\n",
      "         -0.2969, -0.6095, -0.2487, -0.1438,  0.9975, -0.4438, -0.2709, -0.3807,\n",
      "         -0.2121,  4.8670,  2.5971, -1.2577,  1.0873, -1.0179,  0.5079,  0.2309,\n",
      "          0.4479, -0.7084, -0.2185, -0.4560,  1.0127, -0.6056, -0.4397,  1.2312,\n",
      "         -0.6409, -0.3357,  1.6837, -0.7004, -0.5276, -0.3937,  2.0656, -0.2654,\n",
      "         -0.1527, -0.1527, -0.5236,  1.9843, -0.3850, -0.2762, -0.3586,  1.8277,\n",
      "         -0.4479, -0.7657,  1.5797, -0.2762, -0.0713]], dtype=torch.float64)\n"
     ]
    }
   ],
   "source": [
    "import numpy as np\n",
    "\n",
    "#X = X.values       #- jak była normalizacja to to nie działa\n",
    "X = torch.tensor(X)\n",
    "print(X[:3])"
   ]
  },
  {
   "cell_type": "code",
   "execution_count": 40,
   "metadata": {},
   "outputs": [
    {
     "name": "stdout",
     "output_type": "stream",
     "text": [
      "tensor([[-0.3630, -0.9482, -0.5978, -0.5744,  1.9537, -0.2543, -0.0875, -0.0504,\n",
      "         -0.0504,  0.5354, -0.6369, -2.9384, -0.4190, -0.5939, -0.5783,  1.4196,\n",
      "         -0.5118, -0.6409, -0.5822,  1.7648, -0.3069, -0.7451, -0.5939, -0.4149,\n",
      "         -0.2185, -1.1041, -0.6252,  3.5526, -0.6173, -0.3167, -0.6017,  0.6685,\n",
      "         -0.2969,  1.6406, -0.2487, -0.1438,  0.9975, -0.4438, -0.2709, -0.3807,\n",
      "         -0.2121, -0.2055,  2.5971, -1.2577, -0.9197, -1.0179,  0.5079,  0.2309,\n",
      "         -2.2327, -0.7084, -0.2185, -0.4560,  1.0127, -0.6056, -0.4397,  1.2312,\n",
      "         -0.6409, -0.3357, -0.5939, -0.7004,  1.8955, -0.3937, -0.4841, -0.2654,\n",
      "         -0.1527, -0.1527, -0.5236, -0.5040, -0.3850, -0.2762, -0.3586,  1.8277,\n",
      "         -0.4479, -0.7657,  1.5797, -0.2762, -0.0713],\n",
      "        [-0.3630, -0.9482, -0.5978,  1.7409, -0.5118, -0.2543, -0.0875, -0.0504,\n",
      "         -0.0504,  0.5354, -0.6369,  0.3403,  2.3864, -0.5939, -0.5783, -0.7044,\n",
      "          1.9537, -0.6409, -0.5822, -0.5666, -0.3069, -0.7451, -0.5939, -0.4149,\n",
      "         -0.2185,  0.9057, -0.6252, -0.2815, -0.6173, -0.3167, -0.6017, -1.4959,\n",
      "         -0.2969, -0.6095, -0.2487, -0.1438,  0.9975, -0.4438, -0.2709, -0.3807,\n",
      "         -0.2121, -0.2055, -0.3850,  0.7951, -0.9197, -1.0179, -1.9689,  0.2309,\n",
      "          0.4479, -0.7084, -0.2185, -0.4560, -0.9874,  1.6512, -0.4397,  1.2312,\n",
      "         -0.6409, -0.3357, -0.5939,  1.4277, -0.5276, -0.3937, -0.4841, -0.2654,\n",
      "         -0.1527, -0.1527, -0.5236, -0.5040, -0.3850, -0.2762, -0.3586,  1.8277,\n",
      "         -0.4479, -0.7657, -0.6330, -0.2762, -0.0713],\n",
      "        [-0.3630, -0.9482, -0.5978, -0.5744, -0.5118, -0.2543, -0.0875, -0.0504,\n",
      "         -0.0504,  0.5354,  1.5700,  0.3403,  2.3864, -0.5939, -0.5783, -0.7044,\n",
      "          1.9537, -0.6409, -0.5822, -0.5666, -0.3069, -0.7451, -0.5939, -0.4149,\n",
      "         -0.2185,  0.9057, -0.6252, -0.2815, -0.6173,  3.1579, -0.6017,  0.6685,\n",
      "         -0.2969, -0.6095, -0.2487, -0.1438,  0.9975, -0.4438, -0.2709, -0.3807,\n",
      "         -0.2121,  4.8670,  2.5971, -1.2577,  1.0873, -1.0179,  0.5079,  0.2309,\n",
      "          0.4479, -0.7084, -0.2185, -0.4560,  1.0127, -0.6056, -0.4397,  1.2312,\n",
      "         -0.6409, -0.3357,  1.6837, -0.7004, -0.5276, -0.3937,  2.0656, -0.2654,\n",
      "         -0.1527, -0.1527, -0.5236,  1.9843, -0.3850, -0.2762, -0.3586,  1.8277,\n",
      "         -0.4479, -0.7657,  1.5797, -0.2762, -0.0713]])\n"
     ]
    }
   ],
   "source": [
    "X = X.type(torch.FloatTensor)\n",
    "print(X[:3])"
   ]
  },
  {
   "cell_type": "code",
   "execution_count": 41,
   "metadata": {},
   "outputs": [],
   "source": [
    "y = y.values   # tworzymy macierz numpy - jak była normalizacja to to nie działa"
   ]
  },
  {
   "cell_type": "code",
   "execution_count": 42,
   "metadata": {},
   "outputs": [
    {
     "name": "stdout",
     "output_type": "stream",
     "text": [
      "tensor([0.0600, 0.0600, 0.1000], dtype=torch.float64)\n"
     ]
    }
   ],
   "source": [
    "y = torch.tensor(y)\n",
    "print(y[:3])"
   ]
  },
  {
   "cell_type": "markdown",
   "metadata": {},
   "source": [
    "### TRanspends the resulting vector to become a column\n",
    "### <span style=\"color:green\"> TRansponuje wektor wynikowy aby stał się kolumną</span>"
   ]
  },
  {
   "cell_type": "raw",
   "metadata": {},
   "source": [
    "y = y.view(y.shape[0],1)\n",
    "y[:5]"
   ]
  },
  {
   "cell_type": "code",
   "execution_count": 43,
   "metadata": {},
   "outputs": [],
   "source": [
    "y = y.type(torch.FloatTensor)"
   ]
  },
  {
   "cell_type": "code",
   "execution_count": 44,
   "metadata": {},
   "outputs": [
    {
     "name": "stdout",
     "output_type": "stream",
     "text": [
      "X: torch.Size([395, 77])\n",
      "y: torch.Size([395])\n"
     ]
    }
   ],
   "source": [
    "print('X:',X.shape)\n",
    "print('y:',y.shape)"
   ]
  },
  {
   "cell_type": "markdown",
   "metadata": {},
   "source": [
    "Dodanie jednego wymiaru do wektora wynikowego"
   ]
  },
  {
   "cell_type": "code",
   "execution_count": 45,
   "metadata": {},
   "outputs": [
    {
     "data": {
      "text/plain": [
       "torch.Size([395, 1])"
      ]
     },
     "execution_count": 45,
     "metadata": {},
     "output_type": "execute_result"
    }
   ],
   "source": [
    "y = y.view(y.shape[0],1)\n",
    "y.shape"
   ]
  },
  {
   "cell_type": "markdown",
   "metadata": {},
   "source": [
    "### Podział na zbiór testowy i zbiór treningowy"
   ]
  },
  {
   "cell_type": "code",
   "execution_count": 46,
   "metadata": {},
   "outputs": [],
   "source": [
    "a,b = X.shape\n",
    "a\n",
    "\n",
    "total_records = a\n",
    "test_records = int(a * .2)\n",
    "\n",
    "X_train = X[:total_records-test_records]\n",
    "X_test = X[total_records-test_records:total_records]\n",
    "\n",
    "y_train = y[:total_records-test_records]\n",
    "y_test = y[total_records-test_records:total_records]"
   ]
  },
  {
   "cell_type": "code",
   "execution_count": 47,
   "metadata": {},
   "outputs": [
    {
     "name": "stdout",
     "output_type": "stream",
     "text": [
      "X_train:  torch.Size([316, 77])\n",
      "X_test:   torch.Size([79, 77])\n",
      "----------------------------------------------------\n",
      "y_train:  torch.Size([316, 1])\n",
      "y_test:   torch.Size([79, 1])\n"
     ]
    }
   ],
   "source": [
    "print('X_train: ',X_train.shape)\n",
    "print('X_test:  ',X_test.shape)\n",
    "print('----------------------------------------------------')\n",
    "print('y_train: ',y_train.shape)\n",
    "print('y_test:  ',y_test.shape)"
   ]
  },
  {
   "cell_type": "markdown",
   "metadata": {},
   "source": [
    "## Defining the neural network\n",
    "##### Programowanie torch.nn.Module"
   ]
  },
  {
   "cell_type": "code",
   "execution_count": 48,
   "metadata": {},
   "outputs": [],
   "source": [
    "class Net(torch.nn.Module):\n",
    "    def __init__(self, n_feature, n_hidden, n_output):\n",
    "        super(Net, self).__init__()\n",
    "        self.hidden = torch.nn.Linear(n_feature, n_hidden)   # hidden layer\n",
    "        self.predict = torch.nn.Linear(n_hidden, n_output)   # output layer\n",
    "\n",
    "    def forward(self, x):\n",
    "        x = F.relu(self.hidden(x))      # activation function for hidden layer\n",
    "        x = self.predict(x)             # linear output\n",
    "        return x"
   ]
  },
  {
   "cell_type": "markdown",
   "metadata": {},
   "source": [
    "##### Definicja krztałtu sieci"
   ]
  },
  {
   "cell_type": "code",
   "execution_count": 49,
   "metadata": {},
   "outputs": [],
   "source": [
    "N, D_in = X.shape\n",
    "N, D_out = y.shape\n",
    "\n",
    "H = 100                            ## liczba wymiarów warstwy wewnętrznej \n",
    "device = torch.device('cpu')"
   ]
  },
  {
   "cell_type": "code",
   "execution_count": 50,
   "metadata": {},
   "outputs": [],
   "source": [
    "net = torch.nn.Sequential(\n",
    "        torch.nn.Linear(D_in,  H),   # Warstwa WEJŚCIOA\n",
    "        torch.nn.LeakyReLU(),\n",
    "        torch.nn.Linear(H, H),        # warstwa wewnętrzna\n",
    "        torch.nn.LeakyReLU(),\n",
    "        torch.nn.Linear(H, D_out),    # warstwa wyjściowa\n",
    "    ).to(device)  "
   ]
  },
  {
   "cell_type": "code",
   "execution_count": 51,
   "metadata": {},
   "outputs": [
    {
     "data": {
      "text/plain": [
       "tensor([[-0.0158],\n",
       "        [ 0.0701],\n",
       "        [ 0.0788],\n",
       "        [-0.0150],\n",
       "        [ 0.0620],\n",
       "        [ 0.1312],\n",
       "        [ 0.0198],\n",
       "        [ 0.0383],\n",
       "        [-0.0055],\n",
       "        [ 0.0857],\n",
       "        [ 0.0014],\n",
       "        [-0.0398],\n",
       "        [ 0.0597],\n",
       "        [ 0.0808],\n",
       "        [-0.0251],\n",
       "        [ 0.0992],\n",
       "        [ 0.0033],\n",
       "        [ 0.0277],\n",
       "        [ 0.1249],\n",
       "        [ 0.0233],\n",
       "        [ 0.0266],\n",
       "        [ 0.1832],\n",
       "        [ 0.0117],\n",
       "        [ 0.0312],\n",
       "        [ 0.0610],\n",
       "        [-0.0481],\n",
       "        [-0.0074],\n",
       "        [-0.0299],\n",
       "        [ 0.1785],\n",
       "        [-0.0767],\n",
       "        [-0.0244],\n",
       "        [ 0.0347],\n",
       "        [ 0.1147],\n",
       "        [ 0.0796],\n",
       "        [ 0.1120],\n",
       "        [ 0.0249],\n",
       "        [ 0.0941],\n",
       "        [ 0.0284],\n",
       "        [ 0.0097],\n",
       "        [-0.0263],\n",
       "        [ 0.0231],\n",
       "        [ 0.1071],\n",
       "        [ 0.0773],\n",
       "        [ 0.1382],\n",
       "        [ 0.1152],\n",
       "        [ 0.1514],\n",
       "        [ 0.0021],\n",
       "        [-0.0094],\n",
       "        [ 0.0051],\n",
       "        [ 0.0416],\n",
       "        [ 0.0637],\n",
       "        [ 0.0764],\n",
       "        [ 0.0174],\n",
       "        [ 0.1276],\n",
       "        [ 0.0553],\n",
       "        [ 0.1482],\n",
       "        [ 0.1318],\n",
       "        [-0.0369],\n",
       "        [ 0.1671],\n",
       "        [ 0.0123],\n",
       "        [-0.1501],\n",
       "        [ 0.1309],\n",
       "        [ 0.1044],\n",
       "        [ 0.0735],\n",
       "        [ 0.1032],\n",
       "        [ 0.0174],\n",
       "        [-0.0173],\n",
       "        [ 0.0421],\n",
       "        [ 0.0167],\n",
       "        [-0.0229],\n",
       "        [ 0.0515],\n",
       "        [ 0.0394],\n",
       "        [-0.0941],\n",
       "        [ 0.0619],\n",
       "        [ 0.1019],\n",
       "        [ 0.1693],\n",
       "        [-0.0173],\n",
       "        [-0.0346],\n",
       "        [ 0.0418],\n",
       "        [ 0.0058],\n",
       "        [ 0.0380],\n",
       "        [ 0.1310],\n",
       "        [ 0.0048],\n",
       "        [ 0.0915],\n",
       "        [ 0.0777],\n",
       "        [-0.0659],\n",
       "        [-0.0389],\n",
       "        [ 0.0805],\n",
       "        [ 0.0595],\n",
       "        [ 0.0037],\n",
       "        [ 0.1089],\n",
       "        [ 0.0601],\n",
       "        [ 0.0771],\n",
       "        [ 0.0507],\n",
       "        [ 0.0020],\n",
       "        [-0.1175],\n",
       "        [-0.0880],\n",
       "        [ 0.0529],\n",
       "        [ 0.0350],\n",
       "        [ 0.1550],\n",
       "        [ 0.0499],\n",
       "        [ 0.1009],\n",
       "        [ 0.1100],\n",
       "        [ 0.0512],\n",
       "        [ 0.0946],\n",
       "        [ 0.0156],\n",
       "        [ 0.0583],\n",
       "        [ 0.1885],\n",
       "        [ 0.0797],\n",
       "        [ 0.1005],\n",
       "        [ 0.0311],\n",
       "        [-0.0094],\n",
       "        [-0.0129],\n",
       "        [-0.0086],\n",
       "        [-0.0242],\n",
       "        [ 0.0781],\n",
       "        [ 0.0627],\n",
       "        [ 0.1262],\n",
       "        [ 0.0506],\n",
       "        [ 0.0414],\n",
       "        [-0.0282],\n",
       "        [ 0.0829],\n",
       "        [ 0.0488],\n",
       "        [ 0.0582],\n",
       "        [ 0.0705],\n",
       "        [ 0.1419],\n",
       "        [ 0.0697],\n",
       "        [-0.0155],\n",
       "        [-0.1358],\n",
       "        [-0.0065],\n",
       "        [-0.0880],\n",
       "        [ 0.0065],\n",
       "        [ 0.0188],\n",
       "        [ 0.0593],\n",
       "        [ 0.1237],\n",
       "        [ 0.1157],\n",
       "        [-0.0446],\n",
       "        [ 0.0528],\n",
       "        [ 0.0730],\n",
       "        [ 0.0479],\n",
       "        [ 0.0074],\n",
       "        [-0.0117],\n",
       "        [ 0.0323],\n",
       "        [-0.0252],\n",
       "        [ 0.1629],\n",
       "        [ 0.1550],\n",
       "        [ 0.0071],\n",
       "        [ 0.0642],\n",
       "        [ 0.1032],\n",
       "        [ 0.2217],\n",
       "        [-0.0041],\n",
       "        [-0.1029],\n",
       "        [-0.0131],\n",
       "        [ 0.0476],\n",
       "        [ 0.0202],\n",
       "        [ 0.0514],\n",
       "        [-0.0802],\n",
       "        [-0.1301],\n",
       "        [-0.1317],\n",
       "        [ 0.1619],\n",
       "        [-0.0989],\n",
       "        [-0.1077],\n",
       "        [ 0.1399],\n",
       "        [ 0.0744],\n",
       "        [ 0.1681],\n",
       "        [-0.0066],\n",
       "        [ 0.0657],\n",
       "        [ 0.0297],\n",
       "        [ 0.0345],\n",
       "        [ 0.1132],\n",
       "        [-0.0417],\n",
       "        [ 0.1378],\n",
       "        [ 0.0638],\n",
       "        [ 0.0870],\n",
       "        [ 0.0617],\n",
       "        [ 0.0876],\n",
       "        [ 0.0062],\n",
       "        [ 0.0262],\n",
       "        [-0.1693],\n",
       "        [ 0.0434],\n",
       "        [ 0.0432],\n",
       "        [ 0.0561],\n",
       "        [ 0.0422],\n",
       "        [ 0.1062],\n",
       "        [-0.0493],\n",
       "        [ 0.1127],\n",
       "        [ 0.0526],\n",
       "        [ 0.0510],\n",
       "        [-0.0080],\n",
       "        [-0.0040],\n",
       "        [ 0.0801],\n",
       "        [-0.0091],\n",
       "        [ 0.1092],\n",
       "        [-0.1051],\n",
       "        [ 0.0690],\n",
       "        [ 0.0829],\n",
       "        [ 0.0600],\n",
       "        [-0.1305],\n",
       "        [ 0.0217],\n",
       "        [-0.0376],\n",
       "        [ 0.0389],\n",
       "        [ 0.0358],\n",
       "        [ 0.0385],\n",
       "        [-0.0586],\n",
       "        [ 0.0078],\n",
       "        [ 0.0041],\n",
       "        [ 0.0546],\n",
       "        [ 0.0824],\n",
       "        [ 0.0987],\n",
       "        [ 0.0268],\n",
       "        [ 0.0441],\n",
       "        [ 0.1498],\n",
       "        [ 0.0458],\n",
       "        [ 0.0459],\n",
       "        [ 0.0319],\n",
       "        [ 0.0161],\n",
       "        [-0.0574],\n",
       "        [ 0.0541],\n",
       "        [ 0.0867],\n",
       "        [ 0.1275],\n",
       "        [-0.0350],\n",
       "        [ 0.0867],\n",
       "        [-0.0480],\n",
       "        [-0.0073],\n",
       "        [ 0.1084],\n",
       "        [-0.0162],\n",
       "        [ 0.0881],\n",
       "        [ 0.0966],\n",
       "        [ 0.2170],\n",
       "        [-0.0126],\n",
       "        [ 0.0067],\n",
       "        [ 0.0269],\n",
       "        [ 0.0170],\n",
       "        [ 0.0539],\n",
       "        [ 0.1533],\n",
       "        [ 0.0779],\n",
       "        [-0.0956],\n",
       "        [ 0.0682],\n",
       "        [-0.1019],\n",
       "        [-0.0144],\n",
       "        [-0.0415],\n",
       "        [ 0.0818],\n",
       "        [ 0.0466],\n",
       "        [ 0.0678],\n",
       "        [ 0.0615],\n",
       "        [ 0.0628],\n",
       "        [ 0.0013],\n",
       "        [-0.0847],\n",
       "        [ 0.0703],\n",
       "        [ 0.0525],\n",
       "        [ 0.0251],\n",
       "        [ 0.0449],\n",
       "        [ 0.0134],\n",
       "        [-0.0887],\n",
       "        [ 0.0295],\n",
       "        [ 0.0474],\n",
       "        [ 0.0838],\n",
       "        [ 0.0101],\n",
       "        [ 0.0122],\n",
       "        [ 0.0747],\n",
       "        [ 0.1519],\n",
       "        [ 0.0617],\n",
       "        [-0.0055],\n",
       "        [ 0.0729],\n",
       "        [-0.0104],\n",
       "        [-0.0676],\n",
       "        [-0.0283],\n",
       "        [-0.0289],\n",
       "        [ 0.0374],\n",
       "        [-0.0331],\n",
       "        [ 0.0342],\n",
       "        [ 0.0321],\n",
       "        [ 0.0237],\n",
       "        [ 0.0108],\n",
       "        [ 0.1000],\n",
       "        [ 0.1451],\n",
       "        [-0.0713],\n",
       "        [ 0.0880],\n",
       "        [ 0.0290],\n",
       "        [ 0.0330],\n",
       "        [ 0.1331],\n",
       "        [ 0.0017],\n",
       "        [-0.0646],\n",
       "        [ 0.0392],\n",
       "        [ 0.0664],\n",
       "        [ 0.0491],\n",
       "        [ 0.0773],\n",
       "        [ 0.0530],\n",
       "        [ 0.0442],\n",
       "        [ 0.1024],\n",
       "        [ 0.0973],\n",
       "        [ 0.0937],\n",
       "        [ 0.0299],\n",
       "        [ 0.0378],\n",
       "        [ 0.0240],\n",
       "        [ 0.1086],\n",
       "        [ 0.1147],\n",
       "        [ 0.1183],\n",
       "        [ 0.0906],\n",
       "        [ 0.0644],\n",
       "        [-0.0123],\n",
       "        [ 0.1197],\n",
       "        [ 0.0658],\n",
       "        [ 0.0098],\n",
       "        [ 0.1881],\n",
       "        [ 0.0542],\n",
       "        [ 0.0626],\n",
       "        [ 0.2174],\n",
       "        [ 0.0051],\n",
       "        [ 0.1450],\n",
       "        [ 0.0298],\n",
       "        [ 0.0319],\n",
       "        [ 0.0976],\n",
       "        [ 0.0659],\n",
       "        [ 0.0546],\n",
       "        [-0.0580]], grad_fn=<AddmmBackward>)"
      ]
     },
     "execution_count": 51,
     "metadata": {},
     "output_type": "execute_result"
    }
   ],
   "source": [
    "net(X_train)"
   ]
  },
  {
   "cell_type": "markdown",
   "metadata": {},
   "source": [
    "## Алгоритм оптимизации:\n",
    "\n",
    "##### Optymalizator \n",
    "lr: Speed of learning -> The speed at which our model updates the weights in the cells each time backward propagation is carried out\n",
    "\n",
    "lr: Szybkość uczenia się -> Szybkość, z jaką nasz model aktualizuje wagi w komórkach za każdym razem, gdy przeprowadzana jest wsteczna propagacja"
   ]
  },
  {
   "cell_type": "code",
   "execution_count": 52,
   "metadata": {},
   "outputs": [],
   "source": [
    "#optimizer = torch.optim.SGD(net.parameters(), lr=0.01, momentum=0, dampening=0, weight_decay=0, nesterov=False) #-2.401\n",
    "#optimizer = torch.optim.SGD(net.parameters(), lr=0.1) #-4.086\n",
    "optimizer = torch.optim.Adam(net.parameters(), lr=0.005) #-5.298\n",
    "#optimizer = torch.optim.Adamax(net.parameters(), lr=0.01) #-6.610\n",
    "#optimizer = torch.optim.ASGD(net.parameters(), lr=0.01, lambd=0.0001, alpha=0.15, t0=000000.0) #-2.315\n",
    "#optimizer = torch.optim.LBFGS(net.parameters(), lr=0.01, max_iter=20, max_eval=None, tolerance_grad=1e-05, tolerance_change=1e-09, history_size=100, line_search_fn=None)\n",
    "#optimizer = torch.optim.RMSprop(net.parameters(), lr=0.01, alpha=0.99, eps=1e-08) #-5.152\n",
    "#optimizer = torch.optim.Rprop(net.parameters(), lr=0.01, etas=(0.5, 1.2), step_sizes=(1e-06, 50))  #R2:-7.388"
   ]
  },
  {
   "cell_type": "markdown",
   "metadata": {},
   "source": [
    "## Определение функции потерь\n",
    "to jest R2 dla regresji"
   ]
  },
  {
   "cell_type": "code",
   "execution_count": 53,
   "metadata": {},
   "outputs": [],
   "source": [
    "loss_func = torch.nn.MSELoss()"
   ]
  },
  {
   "cell_type": "markdown",
   "metadata": {},
   "source": [
    "### Definiowanie procesu nauki i nauka"
   ]
  },
  {
   "cell_type": "code",
   "execution_count": 54,
   "metadata": {},
   "outputs": [
    {
     "name": "stdout",
     "output_type": "stream",
     "text": [
      "0 0.010442863218486309\n",
      "200 1.391212691714827e-07\n",
      "400 4.649354165553454e-11\n",
      "600 2.3175795524767e-15\n",
      "800 6.409693526497853e-17\n",
      "1000 3.482621953878114e-17\n",
      "1200 3.791139477408957e-17\n",
      "1400 3.421138280691537e-17\n",
      "1600 4.180903011577003e-17\n",
      "1800 4.049151999715272e-17\n",
      "2000 4.760608059338661e-17\n",
      "2200 4.280814518172588e-17\n",
      "2400 5.803638144014951e-17\n",
      "2600 5.422657613590993e-17\n",
      "2800 5.195387093314088e-17\n",
      "3000 6.8565497282888e-17\n",
      "3200 6.946579404414581e-17\n",
      "3400 7.075036583077126e-17\n",
      "3600 7.234235763769082e-17\n",
      "3800 8.816347725452305e-17\n",
      "4000 1.1073683912440115e-16\n",
      "4200 9.424598776153168e-17\n",
      "4400 1.4044673150758255e-16\n",
      "4600 1.0506056032493977e-16\n",
      "4800 2.2790752875790916e-16\n"
     ]
    }
   ],
   "source": [
    "inputs = X_train                          #1. deklarujemy x i y do nauki\n",
    "outputs = y_train\n",
    "for i in range(5000):                          #2. pętla 1050 powtórzeń (epok)\n",
    "   prediction = net(inputs)\n",
    "   loss = loss_func(prediction, outputs) \n",
    "   optimizer.zero_grad()\n",
    "   loss.backward()        \n",
    "   optimizer.step()       \n",
    "\n",
    "   if i % 200 == 0:  \n",
    "      print(i, loss.item())     # <=# wartości y, a funkcja straty zwraca Tensor zawierający stratę.\n",
    "\n"
   ]
  },
  {
   "cell_type": "markdown",
   "metadata": {},
   "source": [
    "### There are many potential reasons. Most likely exploding gradients. The two things to try first:\n",
    "\n",
    "- Normalize the inputs\n",
    "- Lower the learning rate\n",
    "\n",
    "\n",
    "\n",
    "\n",
    "### <span style=\"color:green\">Istnieje wiele potencjalnych przyczyn. Najprawdopodobniej wybuchające gradienty. Dwie rzeczy do wypróbowania w pierwszej kolejności:\n",
    "\n",
    " - <span style=\"color:green\">- Normalizuj wejścia\n",
    " - <span style=\"color:green\">- Obniż tempo uczenia się"
   ]
  },
  {
   "cell_type": "raw",
   "metadata": {},
   "source": [
    "import matplotlib.pyplot as plt\n",
    "\n",
    "plt.plot(range(epochs), aggregated_losses)\n",
    "plt.ylabel('Loss')\n",
    "plt.xlabel('epoch')\n",
    "plt.show"
   ]
  },
  {
   "cell_type": "markdown",
   "metadata": {},
   "source": [
    "###  Forecast based on the model\n",
    "-  substitute the same equations that were in the model\n",
    "-  The following loss result shows the last model sequence\n",
    "-  Loss shows how much the model is wrong (loss = sum of error squares) after the last learning sequence\n",
    "\n",
    "### <span style=\"color:green\"> Prognoza na podstawie modelu\n",
    "- <span style=\"color:green\"> podstawiamy te same równania, które były w modelu \n",
    "- <span style=\"color:green\"> Poniższy wynik loss pokazuje ostatnią sekwencje modelu\n",
    "- <span style=\"color:green\"> Loss pokazuje ile myli się model (loss = suma kwadratu błedów) po ostatniej sekwencji uczenia się "
   ]
  },
  {
   "cell_type": "markdown",
   "metadata": {},
   "source": [
    "<span style=\"font-size: 180%;background:##ffe599\"> Podtsawiam pod model"
   ]
  },
  {
   "cell_type": "code",
   "execution_count": 55,
   "metadata": {},
   "outputs": [
    {
     "name": "stdout",
     "output_type": "stream",
     "text": [
      "Loss train_set: 0.34117174\n"
     ]
    }
   ],
   "source": [
    "with torch.no_grad():\n",
    "    y_pred = net(X_test)  \n",
    "    loss = (y_pred - y_test).pow(2).sum()\n",
    "\n",
    "    print(f'Loss train_set: {loss:.8f}')"
   ]
  },
  {
   "cell_type": "markdown",
   "metadata": {},
   "source": [
    "<span style=\"color:green\">Ponieważ ustaliliśmy, że nasza warstwa wyjściowa będzie zawierać 1 neuron, każda prognoza będzie zawierać 1 wartości. Przykładowo pierwsze 5 przewidywanych wartości wygląda następująco:"
   ]
  },
  {
   "cell_type": "markdown",
   "metadata": {},
   "source": [
    "### We save the whole model\n",
    "\n",
    "### <span style=\"color:green\"> Zapisujemy cały model"
   ]
  },
  {
   "cell_type": "code",
   "execution_count": 56,
   "metadata": {},
   "outputs": [],
   "source": [
    "torch.save(net,'/home/wojciech/Pulpit/7/byk15.pb')"
   ]
  },
  {
   "cell_type": "markdown",
   "metadata": {},
   "source": [
    "### We play the whole model\n",
    "### <span style=\"color:green\"> Odtwarzamy cały model\n",
    "    \n",
    "    Model teraz nie nazywa się 'net' tylo 'KOT'"
   ]
  },
  {
   "cell_type": "code",
   "execution_count": 57,
   "metadata": {},
   "outputs": [
    {
     "data": {
      "text/plain": [
       "Sequential(\n",
       "  (0): Linear(in_features=77, out_features=100, bias=True)\n",
       "  (1): LeakyReLU(negative_slope=0.01)\n",
       "  (2): Linear(in_features=100, out_features=100, bias=True)\n",
       "  (3): LeakyReLU(negative_slope=0.01)\n",
       "  (4): Linear(in_features=100, out_features=1, bias=True)\n",
       ")"
      ]
     },
     "execution_count": 57,
     "metadata": {},
     "output_type": "execute_result"
    }
   ],
   "source": [
    "KOT = torch.load('/home/wojciech/Pulpit/7/byk15.pb')\n",
    "KOT"
   ]
  },
  {
   "cell_type": "code",
   "execution_count": 58,
   "metadata": {},
   "outputs": [
    {
     "name": "stdout",
     "output_type": "stream",
     "text": [
      "Loss train_set: 0.00431863\n"
     ]
    }
   ],
   "source": [
    "with torch.no_grad():\n",
    "    y_interp = KOT(X_test)  \n",
    "    loss = (y_interp - y_test).pow(2).mean()\n",
    "\n",
    "    print(f'Loss train_set: {loss:.8f}')"
   ]
  },
  {
   "cell_type": "code",
   "execution_count": 59,
   "metadata": {},
   "outputs": [
    {
     "data": {
      "text/plain": [
       "tensor([[0.1009],\n",
       "        [0.0491],\n",
       "        [0.0895],\n",
       "        [0.1166],\n",
       "        [0.1065],\n",
       "        [0.0859],\n",
       "        [0.0913],\n",
       "        [0.1320],\n",
       "        [0.1194],\n",
       "        [0.0754],\n",
       "        [0.1007],\n",
       "        [0.0794],\n",
       "        [0.1231],\n",
       "        [0.0827],\n",
       "        [0.1045],\n",
       "        [0.0849],\n",
       "        [0.1002],\n",
       "        [0.1114],\n",
       "        [0.0841],\n",
       "        [0.1325],\n",
       "        [0.1130],\n",
       "        [0.1484],\n",
       "        [0.1136],\n",
       "        [0.1539],\n",
       "        [0.0715],\n",
       "        [0.1896],\n",
       "        [0.1300],\n",
       "        [0.0930],\n",
       "        [0.0835],\n",
       "        [0.1353],\n",
       "        [0.1203],\n",
       "        [0.1250],\n",
       "        [0.0980],\n",
       "        [0.0947],\n",
       "        [0.1152],\n",
       "        [0.1297],\n",
       "        [0.0488],\n",
       "        [0.0921],\n",
       "        [0.1099],\n",
       "        [0.0604],\n",
       "        [0.0748],\n",
       "        [0.1281],\n",
       "        [0.0574],\n",
       "        [0.1067],\n",
       "        [0.0592],\n",
       "        [0.1159],\n",
       "        [0.1487],\n",
       "        [0.0493],\n",
       "        [0.1148],\n",
       "        [0.0793],\n",
       "        [0.1294],\n",
       "        [0.1062],\n",
       "        [0.0545],\n",
       "        [0.2128],\n",
       "        [0.0577],\n",
       "        [0.0812],\n",
       "        [0.0909],\n",
       "        [0.1432],\n",
       "        [0.1224],\n",
       "        [0.0756],\n",
       "        [0.0939],\n",
       "        [0.1253],\n",
       "        [0.0701],\n",
       "        [0.1286],\n",
       "        [0.1302],\n",
       "        [0.1176],\n",
       "        [0.1200],\n",
       "        [0.1423],\n",
       "        [0.1318],\n",
       "        [0.1413],\n",
       "        [0.0966],\n",
       "        [0.1554],\n",
       "        [0.0775],\n",
       "        [0.0805],\n",
       "        [0.1330],\n",
       "        [0.0409],\n",
       "        [0.2527],\n",
       "        [0.1070],\n",
       "        [0.1813]])"
      ]
     },
     "execution_count": 59,
     "metadata": {},
     "output_type": "execute_result"
    }
   ],
   "source": [
    "y_interp"
   ]
  },
  {
   "cell_type": "markdown",
   "metadata": {},
   "source": [
    "### By substituting other independent variables, you can get a vector of output variables\n",
    "We choose a random record from the tensor\n",
    "\n",
    "### <span style=\"color:green\">Podstawiając inne zmienne niezależne można uzyskać wektor zmiennych wyjściowych\n",
    "<span style=\"color:green\"> Wybieramy sobie jakąś losowy rekord z tensora"
   ]
  },
  {
   "cell_type": "code",
   "execution_count": 60,
   "metadata": {},
   "outputs": [
    {
     "data": {
      "text/plain": [
       "0    1.0\n",
       "1    0.0\n",
       "2    1.0\n",
       "Name: y_interp, dtype: float32"
      ]
     },
     "execution_count": 60,
     "metadata": {},
     "output_type": "execute_result"
    }
   ],
   "source": [
    "y_interp = y_interp*10\n",
    "foka = y_interp.cpu().detach().numpy()\n",
    "df11 = pd.DataFrame(foka)\n",
    "df11.columns = ['y_interp']\n",
    "df11=np.round(df11.y_interp)\n",
    "df11.head(3)"
   ]
  },
  {
   "cell_type": "code",
   "execution_count": 61,
   "metadata": {},
   "outputs": [
    {
     "data": {
      "text/html": [
       "<div>\n",
       "<style scoped>\n",
       "    .dataframe tbody tr th:only-of-type {\n",
       "        vertical-align: middle;\n",
       "    }\n",
       "\n",
       "    .dataframe tbody tr th {\n",
       "        vertical-align: top;\n",
       "    }\n",
       "\n",
       "    .dataframe thead th {\n",
       "        text-align: right;\n",
       "    }\n",
       "</style>\n",
       "<table border=\"1\" class=\"dataframe\">\n",
       "  <thead>\n",
       "    <tr style=\"text-align: right;\">\n",
       "      <th></th>\n",
       "      <th>y</th>\n",
       "    </tr>\n",
       "  </thead>\n",
       "  <tbody>\n",
       "    <tr>\n",
       "      <td>0</td>\n",
       "      <td>0.0</td>\n",
       "    </tr>\n",
       "    <tr>\n",
       "      <td>1</td>\n",
       "      <td>0.9</td>\n",
       "    </tr>\n",
       "    <tr>\n",
       "      <td>2</td>\n",
       "      <td>1.0</td>\n",
       "    </tr>\n",
       "  </tbody>\n",
       "</table>\n",
       "</div>"
      ],
      "text/plain": [
       "     y\n",
       "0  0.0\n",
       "1  0.9\n",
       "2  1.0"
      ]
     },
     "execution_count": 61,
     "metadata": {},
     "output_type": "execute_result"
    }
   ],
   "source": [
    "y_test = y_test*10\n",
    "foka = y_test.cpu().detach().numpy()\n",
    "df_t = pd.DataFrame(foka)\n",
    "df_t.columns = ['y']\n",
    "df_t.head(3)"
   ]
  },
  {
   "cell_type": "code",
   "execution_count": 62,
   "metadata": {},
   "outputs": [
    {
     "data": {
      "text/html": [
       "<div>\n",
       "<style scoped>\n",
       "    .dataframe tbody tr th:only-of-type {\n",
       "        vertical-align: middle;\n",
       "    }\n",
       "\n",
       "    .dataframe tbody tr th {\n",
       "        vertical-align: top;\n",
       "    }\n",
       "\n",
       "    .dataframe thead th {\n",
       "        text-align: right;\n",
       "    }\n",
       "</style>\n",
       "<table border=\"1\" class=\"dataframe\">\n",
       "  <thead>\n",
       "    <tr style=\"text-align: right;\">\n",
       "      <th></th>\n",
       "      <th>y</th>\n",
       "      <th>y_interp</th>\n",
       "    </tr>\n",
       "  </thead>\n",
       "  <tbody>\n",
       "    <tr>\n",
       "      <td>0</td>\n",
       "      <td>0.0</td>\n",
       "      <td>1.0</td>\n",
       "    </tr>\n",
       "    <tr>\n",
       "      <td>1</td>\n",
       "      <td>0.9</td>\n",
       "      <td>0.0</td>\n",
       "    </tr>\n",
       "    <tr>\n",
       "      <td>2</td>\n",
       "      <td>1.0</td>\n",
       "      <td>1.0</td>\n",
       "    </tr>\n",
       "  </tbody>\n",
       "</table>\n",
       "</div>"
      ],
      "text/plain": [
       "     y  y_interp\n",
       "0  0.0       1.0\n",
       "1  0.9       0.0\n",
       "2  1.0       1.0"
      ]
     },
     "execution_count": 62,
     "metadata": {},
     "output_type": "execute_result"
    }
   ],
   "source": [
    "NOWA = pd.merge(df_t,df11, how='inner', left_index=True, right_index=True)\n",
    "NOWA.head(3)"
   ]
  },
  {
   "cell_type": "code",
   "execution_count": 63,
   "metadata": {},
   "outputs": [],
   "source": [
    "NOWA.to_csv('/home/wojciech/Pulpit/7/NOWA.csv')"
   ]
  },
  {
   "cell_type": "code",
   "execution_count": 64,
   "metadata": {},
   "outputs": [
    {
     "data": {
      "text/plain": [
       "Text(0.5, 1.0, 'COURSE OF THE PROJECTING PROCESS ON THE TEST SET')"
      ]
     },
     "execution_count": 64,
     "metadata": {},
     "output_type": "execute_result"
    },
    {
     "data": {
      "image/png": "[encoded data removed]",
      "text/plain": [
       "<Figure size 1152x144 with 1 Axes>"
      ]
     },
     "metadata": {
      "needs_background": "light"
     },
     "output_type": "display_data"
    }
   ],
   "source": [
    "fig, ax = plt.subplots( figsize=(16, 2))\n",
    "for ewa in ['y', 'y_interp']:\n",
    "    ax.plot(NOWA, label=ewa)\n",
    "    \n",
    "ax.set_xlim(1340, 1500)\n",
    "#ax.legend()\n",
    "ax.set_ylabel('Parameter')\n",
    "ax.set_title('COURSE OF THE PROJECTING PROCESS ON THE TEST SET')"
   ]
  },
  {
   "cell_type": "code",
   "execution_count": 65,
   "metadata": {},
   "outputs": [
    {
     "data": {
      "text/plain": [
       "<seaborn.axisgrid.FacetGrid at 0x7f4ee4291e50>"
      ]
     },
     "execution_count": 65,
     "metadata": {},
     "output_type": "execute_result"
    },
    {
     "data": {
      "text/plain": [
       "<Figure size 432x288 with 0 Axes>"
      ]
     },
     "metadata": {},
     "output_type": "display_data"
    },
    {
     "data": {
      "image/png": "[encoded data removed]",
      "text/plain": [
       "<Figure size 1152x360 with 2 Axes>"
      ]
     },
     "metadata": {
      "needs_background": "light"
     },
     "output_type": "display_data"
    },
    {
     "data": {
      "image/png": "[encoded data removed]",
      "text/plain": [
       "<Figure size 360x360 with 1 Axes>"
      ]
     },
     "metadata": {
      "needs_background": "light"
     },
     "output_type": "display_data"
    }
   ],
   "source": [
    "## marginesy\n",
    "plt.subplots_adjust( left = None , bottom = None , right = None , top = None , wspace = None , hspace = None )\n",
    "plt.figure(figsize=(16,5))\n",
    "ax = plt.subplot(1, 2, 1)\n",
    "NOWA.plot.kde(ax=ax, legend=True, title='Histogram: y vs. y_interp')\n",
    "NOWA.plot.hist(density=True,bins=40, ax=ax, alpha=0.3)\n",
    "ax.set_title(\"Dystributions\")\n",
    "\n",
    "ax = plt.subplot(1, 2, 2)\n",
    "sns.boxplot(data = NOWA)\n",
    "plt.xticks(rotation=-90)\n",
    "ax.set_title(\"Boxes\")\n",
    "\n",
    "\n",
    "sns.lmplot(data=NOWA, x='y', y='y_interp')"
   ]
  },
  {
   "cell_type": "markdown",
   "metadata": {},
   "source": [
    "# Regression_Assessment"
   ]
  },
  {
   "cell_type": "code",
   "execution_count": 66,
   "metadata": {},
   "outputs": [],
   "source": [
    "## Robi ocenę tylko dla jednej zmiennej\n",
    "\n",
    "def Regression_Assessment(y, y_pred):\n",
    "    \n",
    "    from sklearn.metrics import r2_score \n",
    "    import scipy.stats as stats\n",
    "    from statsmodels.graphics.gofplots import qqplot\n",
    "    from matplotlib import pyplot\n",
    "       \n",
    "    print('-----two methods--------------')\n",
    "    SS_Residual = sum((y-y_pred)**2)       \n",
    "    SS_Total = sum((y-np.mean(y))**2)     \n",
    "    r_squared = 1 - (float(SS_Residual))/SS_Total\n",
    "    adjusted_r_squared = 1 - (1-r_squared)*(len(y)-1)/(len(y)-X.shape[1]-1)\n",
    "    print('r2_score:           %0.3f' % r_squared)\n",
    "    #print('adjusted_r_squared: %0.3f' % adjusted_r_squared)\n",
    "    #print('----r2_score------secound-method--------')  \n",
    "    print('r2_score:           %0.3f' % r2_score(y, y_pred))  \n",
    "    print()\n",
    "    print('-------------------------------')\n",
    "    MAE = (abs(y-y_pred)).mean()\n",
    "    print('Mean absolute error     MAE:  %0.2f ' %  MAE)\n",
    "    RMSE = np.sqrt(((y-y_pred)**2).mean())\n",
    "    print('Root mean squared error RMSE: %0.2f ' %  RMSE)\n",
    "    pt = (100*(y-y_pred))/y\n",
    "    MAPE = (abs(pt)).mean()\n",
    "    print('Mean absolute error     MAPE: %0.2f ' %  MAPE)\n",
    "    print('-------------------------------')\n",
    "    \n",
    "    stat,pvalue0 = stats.ttest_1samp(a=(y-y_pred),popmean=0.0)\n",
    "\n",
    "    if pvalue0 > 0.01:\n",
    "        print('t-test H0: the sum of the model residuals is zero')\n",
    "        print('OKAY! Model remains do not differ from zero - pvalue:% 0.4f> 0.01 (we do NOT reject H0)'% pvalue0) \n",
    "    else:     \n",
    "        print('Bad - Model remains DIFFERENT FROM ZERO - pvalue:% 0.4f <0.01 (We reject H0)'% pvalue0)  \n",
    "    print('--------------------------------------------------------------------------------------------') \n",
    "  \n",
    "       \n",
    "    stat,pvalue2_1 = stats.shapiro(y)\n",
    "    stat,pvalue2_2 = stats.shapiro(y_pred)\n",
    "\n",
    "    if pvalue2_1 > 0.01:\n",
    "        #print('Shapiro-Wilk H0: y have normal distribution?--------------------------------')\n",
    "        print('OK Shapiro-Wolf! y have normal distribution - pvalue:% 0.4f> 0.01 (we do NOT reject H0)'% pvalue2_1) \n",
    "    else:     \n",
    "        print('Bad Shapiro-Wilk - y NO NORMAL DISTRIBUTION - pvalue:% 0.4f <0.01 (We reject H0)'% pvalue2_1)  \n",
    "        print('--------------------------------------------------------------------------------------------')\n",
    "    if pvalue2_2 > 0.01:\n",
    "        #print('Shapiro-Wilk: y_pred have a normal distribution?--')\n",
    "        print('OK Shapiro-Wolf! y_pred has a normal distribution - pvalue:% 0.4f> 0.01 (we do NOT reject h0)'% pvalue2_2) \n",
    "    else:     \n",
    "        print('Bad Shapiro-Wilk y_pred NO NORMAL DISTRIBUTION - pvalue:% 0.4f <0.01 (We reject H0)'% pvalue2_2)  \n",
    "    \n",
    "    qqplot(y, line='s')\n",
    "    pyplot.show()\n",
    "\n",
    "    qqplot(y_pred, line='s')\n",
    "    pyplot.show()\n",
    "       \n",
    "    print('--------------------------------------------------------------------------------------------')\n",
    "        \n",
    "    stat,pvalue3 = stats.kruskal(y_pred,y)\n",
    "    stat,pvalue4 = stats.f_oneway(y_pred,y)\n",
    "\n",
    "    if pvalue2_1 < 0.01 or pvalue2_2 < 0.01:\n",
    "        print('Шапиро-Вилк: Переменные не имеют нормального распределения! Не могу сделать анализ ANOV')\n",
    "     \n",
    "        if pvalue3 > 0.01:\n",
    "            print('Kruskal-Wallis NON-PARAMETRIC TEST: whether empirical forecast and observations. have equal means?')\n",
    "            print('OKAY! Kruskal-Wallis H0: forecast and observations empir. have equal means - pvalue:% 0.4f> 0.01 (we do NOT reject H0)'% pvalue3) \n",
    "        else:     \n",
    "            print('Bad - Kruskal-Wallis: forecast and observations empir. DO NOT HAVE EQUAL Averages - pvalue:% 0.4f <0.01 (We reject H0)'% pvalue3)  \n",
    "    \n",
    "    else:\n",
    "\n",
    "        if pvalue4 > 0.01:\n",
    "            print('F-test (ANOVA): whether empirical forecast and observations. have equal means?--------------------------------')\n",
    "            print('OKAY! forecast and observations empir. have equal means - pvalue:% 0.4f> 0.01 (we do NOT reject H0)'% pvalue4) \n",
    "        else:     \n",
    "            print('Bad - forecast and observations empir. DO NOT HAVE EQUAL Averages - pvalue:% 0.4f <0.01 (We reject H0)'% pvalue4)  \n",
    "    print('--------------------------------------------------------------------------------------------')"
   ]
  },
  {
   "cell_type": "code",
   "execution_count": 67,
   "metadata": {},
   "outputs": [
    {
     "name": "stdout",
     "output_type": "stream",
     "text": [
      "-----two methods--------------\n",
      "r2_score:           -1.084\n",
      "r2_score:           -1.084\n",
      "\n",
      "-------------------------------\n",
      "Mean absolute error     MAE:  0.48 \n",
      "Root mean squared error RMSE: 0.69 \n",
      "Mean absolute error     MAPE: inf \n",
      "-------------------------------\n",
      "t-test H0: the sum of the model residuals is zero\n",
      "OKAY! Model remains do not differ from zero - pvalue: 0.4501> 0.01 (we do NOT reject H0)\n",
      "--------------------------------------------------------------------------------------------\n",
      "Bad Shapiro-Wilk - y NO NORMAL DISTRIBUTION - pvalue: 0.0000 <0.01 (We reject H0)\n",
      "--------------------------------------------------------------------------------------------\n",
      "Bad Shapiro-Wilk y_pred NO NORMAL DISTRIBUTION - pvalue: 0.0000 <0.01 (We reject H0)\n"
     ]
    },
    {
     "data": {
      "image/png": "[encoded data removed]",
      "text/plain": [
       "<Figure size 432x288 with 1 Axes>"
      ]
     },
     "metadata": {
      "needs_background": "light"
     },
     "output_type": "display_data"
    },
    {
     "data": {
      "image/png": "[encoded data removed]",
      "text/plain": [
       "<Figure size 432x288 with 1 Axes>"
      ]
     },
     "metadata": {
      "needs_background": "light"
     },
     "output_type": "display_data"
    },
    {
     "name": "stdout",
     "output_type": "stream",
     "text": [
      "--------------------------------------------------------------------------------------------\n",
      "Шапиро-Вилк: Переменные не имеют нормального распределения! Не могу сделать анализ ANOV\n",
      "Kruskal-Wallis NON-PARAMETRIC TEST: whether empirical forecast and observations. have equal means?\n",
      "OKAY! Kruskal-Wallis H0: forecast and observations empir. have equal means - pvalue: 0.5969> 0.01 (we do NOT reject H0)\n",
      "--------------------------------------------------------------------------------------------\n"
     ]
    }
   ],
   "source": [
    "y = NOWA['y']\n",
    "y_interp = NOWA['y_interp']\n",
    "\n",
    "Regression_Assessment(y, y_interp)"
   ]
  },
  {
   "cell_type": "markdown",
   "metadata": {},
   "source": [
    "# Sprawdzenie na odłożonym miesiącu 12 miesiąc\n"
   ]
  },
  {
   "cell_type": "code",
   "execution_count": 68,
   "metadata": {},
   "outputs": [
    {
     "ename": "KeyError",
     "evalue": "'mnth'",
     "output_type": "error",
     "traceback": [
      "\u001b[0;31m---------------------------------------------------------------------------\u001b[0m",
      "\u001b[0;31mKeyError\u001b[0m                                  Traceback (most recent call last)",
      "\u001b[0;32m~/anaconda3/lib/python3.7/site-packages/pandas/core/indexes/base.py\u001b[0m in \u001b[0;36mget_loc\u001b[0;34m(self, key, method, tolerance)\u001b[0m\n\u001b[1;32m   2896\u001b[0m             \u001b[0;32mtry\u001b[0m\u001b[0;34m:\u001b[0m\u001b[0;34m\u001b[0m\u001b[0;34m\u001b[0m\u001b[0m\n\u001b[0;32m-> 2897\u001b[0;31m                 \u001b[0;32mreturn\u001b[0m \u001b[0mself\u001b[0m\u001b[0;34m.\u001b[0m\u001b[0m_engine\u001b[0m\u001b[0;34m.\u001b[0m\u001b[0mget_loc\u001b[0m\u001b[0;34m(\u001b[0m\u001b[0mkey\u001b[0m\u001b[0;34m)\u001b[0m\u001b[0;34m\u001b[0m\u001b[0;34m\u001b[0m\u001b[0m\n\u001b[0m\u001b[1;32m   2898\u001b[0m             \u001b[0;32mexcept\u001b[0m \u001b[0mKeyError\u001b[0m\u001b[0;34m:\u001b[0m\u001b[0;34m\u001b[0m\u001b[0;34m\u001b[0m\u001b[0m\n",
      "\u001b[0;32mpandas/_libs/index.pyx\u001b[0m in \u001b[0;36mpandas._libs.index.IndexEngine.get_loc\u001b[0;34m()\u001b[0m\n",
      "\u001b[0;32mpandas/_libs/index.pyx\u001b[0m in \u001b[0;36mpandas._libs.index.IndexEngine.get_loc\u001b[0;34m()\u001b[0m\n",
      "\u001b[0;32mpandas/_libs/hashtable_class_helper.pxi\u001b[0m in \u001b[0;36mpandas._libs.hashtable.PyObjectHashTable.get_item\u001b[0;34m()\u001b[0m\n",
      "\u001b[0;32mpandas/_libs/hashtable_class_helper.pxi\u001b[0m in \u001b[0;36mpandas._libs.hashtable.PyObjectHashTable.get_item\u001b[0;34m()\u001b[0m\n",
      "\u001b[0;31mKeyError\u001b[0m: 'mnth'",
      "\nDuring handling of the above exception, another exception occurred:\n",
      "\u001b[0;31mKeyError\u001b[0m                                  Traceback (most recent call last)",
      "\u001b[0;32m<ipython-input-68-44fb62b026cd>\u001b[0m in \u001b[0;36m<module>\u001b[0;34m\u001b[0m\n\u001b[0;32m----> 1\u001b[0;31m \u001b[0mgf\u001b[0m \u001b[0;34m=\u001b[0m \u001b[0mdf\u001b[0m\u001b[0;34m[\u001b[0m\u001b[0mdf\u001b[0m\u001b[0;34m[\u001b[0m\u001b[0;34m'mnth'\u001b[0m\u001b[0;34m]\u001b[0m\u001b[0;34m==\u001b[0m\u001b[0;36m12\u001b[0m\u001b[0;34m]\u001b[0m\u001b[0;34m\u001b[0m\u001b[0;34m\u001b[0m\u001b[0m\n\u001b[0m\u001b[1;32m      2\u001b[0m \u001b[0mprint\u001b[0m\u001b[0;34m(\u001b[0m\u001b[0mgf\u001b[0m\u001b[0;34m.\u001b[0m\u001b[0mshape\u001b[0m\u001b[0;34m)\u001b[0m\u001b[0;34m\u001b[0m\u001b[0;34m\u001b[0m\u001b[0m\n\u001b[1;32m      3\u001b[0m \u001b[0mgf\u001b[0m\u001b[0;34m.\u001b[0m\u001b[0mhead\u001b[0m\u001b[0;34m(\u001b[0m\u001b[0;36m4\u001b[0m\u001b[0;34m)\u001b[0m\u001b[0;34m\u001b[0m\u001b[0;34m\u001b[0m\u001b[0m\n",
      "\u001b[0;32m~/anaconda3/lib/python3.7/site-packages/pandas/core/frame.py\u001b[0m in \u001b[0;36m__getitem__\u001b[0;34m(self, key)\u001b[0m\n\u001b[1;32m   2978\u001b[0m             \u001b[0;32mif\u001b[0m \u001b[0mself\u001b[0m\u001b[0;34m.\u001b[0m\u001b[0mcolumns\u001b[0m\u001b[0;34m.\u001b[0m\u001b[0mnlevels\u001b[0m \u001b[0;34m>\u001b[0m \u001b[0;36m1\u001b[0m\u001b[0;34m:\u001b[0m\u001b[0;34m\u001b[0m\u001b[0;34m\u001b[0m\u001b[0m\n\u001b[1;32m   2979\u001b[0m                 \u001b[0;32mreturn\u001b[0m \u001b[0mself\u001b[0m\u001b[0;34m.\u001b[0m\u001b[0m_getitem_multilevel\u001b[0m\u001b[0;34m(\u001b[0m\u001b[0mkey\u001b[0m\u001b[0;34m)\u001b[0m\u001b[0;34m\u001b[0m\u001b[0;34m\u001b[0m\u001b[0m\n\u001b[0;32m-> 2980\u001b[0;31m             \u001b[0mindexer\u001b[0m \u001b[0;34m=\u001b[0m \u001b[0mself\u001b[0m\u001b[0;34m.\u001b[0m\u001b[0mcolumns\u001b[0m\u001b[0;34m.\u001b[0m\u001b[0mget_loc\u001b[0m\u001b[0;34m(\u001b[0m\u001b[0mkey\u001b[0m\u001b[0;34m)\u001b[0m\u001b[0;34m\u001b[0m\u001b[0;34m\u001b[0m\u001b[0m\n\u001b[0m\u001b[1;32m   2981\u001b[0m             \u001b[0;32mif\u001b[0m \u001b[0mis_integer\u001b[0m\u001b[0;34m(\u001b[0m\u001b[0mindexer\u001b[0m\u001b[0;34m)\u001b[0m\u001b[0;34m:\u001b[0m\u001b[0;34m\u001b[0m\u001b[0;34m\u001b[0m\u001b[0m\n\u001b[1;32m   2982\u001b[0m                 \u001b[0mindexer\u001b[0m \u001b[0;34m=\u001b[0m \u001b[0;34m[\u001b[0m\u001b[0mindexer\u001b[0m\u001b[0;34m]\u001b[0m\u001b[0;34m\u001b[0m\u001b[0;34m\u001b[0m\u001b[0m\n",
      "\u001b[0;32m~/anaconda3/lib/python3.7/site-packages/pandas/core/indexes/base.py\u001b[0m in \u001b[0;36mget_loc\u001b[0;34m(self, key, method, tolerance)\u001b[0m\n\u001b[1;32m   2897\u001b[0m                 \u001b[0;32mreturn\u001b[0m \u001b[0mself\u001b[0m\u001b[0;34m.\u001b[0m\u001b[0m_engine\u001b[0m\u001b[0;34m.\u001b[0m\u001b[0mget_loc\u001b[0m\u001b[0;34m(\u001b[0m\u001b[0mkey\u001b[0m\u001b[0;34m)\u001b[0m\u001b[0;34m\u001b[0m\u001b[0;34m\u001b[0m\u001b[0m\n\u001b[1;32m   2898\u001b[0m             \u001b[0;32mexcept\u001b[0m \u001b[0mKeyError\u001b[0m\u001b[0;34m:\u001b[0m\u001b[0;34m\u001b[0m\u001b[0;34m\u001b[0m\u001b[0m\n\u001b[0;32m-> 2899\u001b[0;31m                 \u001b[0;32mreturn\u001b[0m \u001b[0mself\u001b[0m\u001b[0;34m.\u001b[0m\u001b[0m_engine\u001b[0m\u001b[0;34m.\u001b[0m\u001b[0mget_loc\u001b[0m\u001b[0;34m(\u001b[0m\u001b[0mself\u001b[0m\u001b[0;34m.\u001b[0m\u001b[0m_maybe_cast_indexer\u001b[0m\u001b[0;34m(\u001b[0m\u001b[0mkey\u001b[0m\u001b[0;34m)\u001b[0m\u001b[0;34m)\u001b[0m\u001b[0;34m\u001b[0m\u001b[0;34m\u001b[0m\u001b[0m\n\u001b[0m\u001b[1;32m   2900\u001b[0m         \u001b[0mindexer\u001b[0m \u001b[0;34m=\u001b[0m \u001b[0mself\u001b[0m\u001b[0;34m.\u001b[0m\u001b[0mget_indexer\u001b[0m\u001b[0;34m(\u001b[0m\u001b[0;34m[\u001b[0m\u001b[0mkey\u001b[0m\u001b[0;34m]\u001b[0m\u001b[0;34m,\u001b[0m \u001b[0mmethod\u001b[0m\u001b[0;34m=\u001b[0m\u001b[0mmethod\u001b[0m\u001b[0;34m,\u001b[0m \u001b[0mtolerance\u001b[0m\u001b[0;34m=\u001b[0m\u001b[0mtolerance\u001b[0m\u001b[0;34m)\u001b[0m\u001b[0;34m\u001b[0m\u001b[0;34m\u001b[0m\u001b[0m\n\u001b[1;32m   2901\u001b[0m         \u001b[0;32mif\u001b[0m \u001b[0mindexer\u001b[0m\u001b[0;34m.\u001b[0m\u001b[0mndim\u001b[0m \u001b[0;34m>\u001b[0m \u001b[0;36m1\u001b[0m \u001b[0;32mor\u001b[0m \u001b[0mindexer\u001b[0m\u001b[0;34m.\u001b[0m\u001b[0msize\u001b[0m \u001b[0;34m>\u001b[0m \u001b[0;36m1\u001b[0m\u001b[0;34m:\u001b[0m\u001b[0;34m\u001b[0m\u001b[0;34m\u001b[0m\u001b[0m\n",
      "\u001b[0;32mpandas/_libs/index.pyx\u001b[0m in \u001b[0;36mpandas._libs.index.IndexEngine.get_loc\u001b[0;34m()\u001b[0m\n",
      "\u001b[0;32mpandas/_libs/index.pyx\u001b[0m in \u001b[0;36mpandas._libs.index.IndexEngine.get_loc\u001b[0;34m()\u001b[0m\n",
      "\u001b[0;32mpandas/_libs/hashtable_class_helper.pxi\u001b[0m in \u001b[0;36mpandas._libs.hashtable.PyObjectHashTable.get_item\u001b[0;34m()\u001b[0m\n",
      "\u001b[0;32mpandas/_libs/hashtable_class_helper.pxi\u001b[0m in \u001b[0;36mpandas._libs.hashtable.PyObjectHashTable.get_item\u001b[0;34m()\u001b[0m\n",
      "\u001b[0;31mKeyError\u001b[0m: 'mnth'"
     ]
    }
   ],
   "source": [
    "gf = df[df['mnth']==12]\n",
    "print(gf.shape)\n",
    "gf.head(4)"
   ]
  },
  {
   "cell_type": "code",
   "execution_count": null,
   "metadata": {},
   "outputs": [],
   "source": [
    "X12 = gf.drop(['cnt','registered','casual'],1)\n",
    "y12 = gf['cnt']"
   ]
  },
  {
   "cell_type": "code",
   "execution_count": null,
   "metadata": {},
   "outputs": [],
   "source": []
  },
  {
   "cell_type": "markdown",
   "metadata": {},
   "source": [
    "Normalizacja 12- tego miesiąca"
   ]
  },
  {
   "cell_type": "code",
   "execution_count": null,
   "metadata": {},
   "outputs": [],
   "source": [
    "from sklearn.preprocessing import StandardScaler\n",
    "\n",
    "sc = StandardScaler()\n",
    "X12 = sc.fit_transform(X12)\n",
    "\n",
    "print(np.round(X12.std(), decimals=2), np.round(X12.mean(), decimals=2))"
   ]
  },
  {
   "cell_type": "code",
   "execution_count": null,
   "metadata": {},
   "outputs": [],
   "source": [
    "X12 = torch.tensor(X12)\n",
    "X12 = X12.type(torch.FloatTensor)\n",
    "print(X12[:3])"
   ]
  },
  {
   "cell_type": "code",
   "execution_count": null,
   "metadata": {},
   "outputs": [],
   "source": [
    "y12 = (y12/ 100)  # max test score is 100\n",
    "print(y.head(3))\n",
    "print('---------------------')\n",
    "print(np.round(y12.std(), decimals=2), np.round(y12.mean(), decimals=2))"
   ]
  },
  {
   "cell_type": "code",
   "execution_count": null,
   "metadata": {},
   "outputs": [],
   "source": [
    "y12.shape"
   ]
  },
  {
   "cell_type": "code",
   "execution_count": null,
   "metadata": {},
   "outputs": [],
   "source": [
    "y12 = y12.values"
   ]
  },
  {
   "cell_type": "code",
   "execution_count": null,
   "metadata": {},
   "outputs": [],
   "source": [
    "y12 = torch.tensor(y12)\n",
    "print(y12[:3])"
   ]
  },
  {
   "cell_type": "raw",
   "metadata": {},
   "source": [
    "y12 = y12.view(y.shape[0],1)\n",
    "y12[:5]"
   ]
  },
  {
   "cell_type": "code",
   "execution_count": null,
   "metadata": {},
   "outputs": [],
   "source": [
    "y12 = y12.type(torch.FloatTensor)"
   ]
  },
  {
   "cell_type": "code",
   "execution_count": null,
   "metadata": {},
   "outputs": [],
   "source": []
  },
  {
   "cell_type": "code",
   "execution_count": null,
   "metadata": {},
   "outputs": [],
   "source": []
  },
  {
   "cell_type": "code",
   "execution_count": null,
   "metadata": {},
   "outputs": [],
   "source": []
  },
  {
   "cell_type": "code",
   "execution_count": null,
   "metadata": {},
   "outputs": [],
   "source": []
  },
  {
   "cell_type": "code",
   "execution_count": null,
   "metadata": {},
   "outputs": [],
   "source": [
    "print('X12:',X12.shape)\n",
    "print('y12:',y12.shape)"
   ]
  },
  {
   "cell_type": "markdown",
   "metadata": {},
   "source": [
    "bez sensu"
   ]
  },
  {
   "cell_type": "code",
   "execution_count": null,
   "metadata": {},
   "outputs": [],
   "source": [
    "with torch.no_grad():\n",
    "    y_model = KOT(X12)  \n",
    "    loss = (y_model - y12).pow(2).sum()\n",
    "\n",
    "    print(f'Loss train_set: {loss:.8f}')"
   ]
  },
  {
   "cell_type": "raw",
   "metadata": {},
   "source": [
    "STOP"
   ]
  },
  {
   "cell_type": "code",
   "execution_count": null,
   "metadata": {},
   "outputs": [],
   "source": [
    "y_model = y_model*100\n",
    "foka = y_model.cpu().detach().numpy()\n",
    "df11 = pd.DataFrame(foka)\n",
    "df11.columns = ['y_model']\n",
    "df11=np.round(df11.y_model)\n",
    "df11.head(3)"
   ]
  },
  {
   "cell_type": "code",
   "execution_count": null,
   "metadata": {},
   "outputs": [],
   "source": [
    "df11 = pd.DataFrame(df11)\n",
    "df11.head(5)"
   ]
  },
  {
   "cell_type": "code",
   "execution_count": null,
   "metadata": {},
   "outputs": [],
   "source": [
    "y12 = y12*100\n",
    "y12 = np.round(y12)\n",
    "foka = y12.cpu().detach().numpy()\n",
    "df_t = pd.DataFrame(foka)\n",
    "df_t.columns = ['y12']\n",
    "df_t.head(5)"
   ]
  },
  {
   "cell_type": "code",
   "execution_count": null,
   "metadata": {},
   "outputs": [],
   "source": []
  },
  {
   "cell_type": "code",
   "execution_count": null,
   "metadata": {},
   "outputs": [],
   "source": [
    "Super_NOWA = pd.merge(df_t,df11, how='inner', left_index=True, right_index=True)\n",
    "Super_NOWA.head(3)"
   ]
  },
  {
   "cell_type": "code",
   "execution_count": null,
   "metadata": {},
   "outputs": [],
   "source": [
    "fig, ax = plt.subplots( figsize=(16, 2))\n",
    "for ewa in ['y12', 'y_model']:\n",
    "    ax.plot(Super_NOWA, label=ewa)\n",
    "    \n",
    "ax.set_xlim(1000, 1300)\n",
    "#ax.legend()\n",
    "ax.set_ylabel('Parameter')\n",
    "ax.set_title('COURSE OF THE PROJECTING PROCESS ON THE TEST SET')"
   ]
  },
  {
   "cell_type": "code",
   "execution_count": null,
   "metadata": {},
   "outputs": [],
   "source": [
    "## marginesy\n",
    "plt.subplots_adjust( left = None , bottom = None , right = None , top = None , wspace = None , hspace = None )\n",
    "plt.figure(figsize=(16,5))\n",
    "ax = plt.subplot(1, 2, 1)\n",
    "Super_NOWA.plot.kde(ax=ax, legend=True, title='Histogram: y12 vs. y_model')\n",
    "Super_NOWA.plot.hist(density=True,bins=40, ax=ax, alpha=0.3)\n",
    "ax.set_title(\"Dystributions\")\n",
    "\n",
    "ax = plt.subplot(1, 2, 2)\n",
    "sns.boxplot(data = Super_NOWA)\n",
    "plt.xticks(rotation=-90)\n",
    "ax.set_title(\"Boxes\")\n",
    "\n",
    "\n",
    "sns.lmplot(data=Super_NOWA, x='y12', y='y_model')"
   ]
  },
  {
   "cell_type": "code",
   "execution_count": null,
   "metadata": {},
   "outputs": [],
   "source": [
    "y = Super_NOWA['y12']\n",
    "y_pred = Super_NOWA['y_model']\n",
    "\n",
    "Regression_Assessment(y, y_pred)"
   ]
  },
  {
   "cell_type": "markdown",
   "metadata": {},
   "source": [
    "# Вышло плохо - методы устранения явления перенапряжения должны быть реализованы!"
   ]
  },
  {
   "attachments": {
    "obraz.png": {
     "image/png": "[encoded data removed]"
    }
   },
   "cell_type": "markdown",
   "metadata": {},
   "source": [
    "## Mean absolute error MAE i RMSE\n",
    "![obraz.png](attachment:obraz.png)"
   ]
  },
  {
   "attachments": {
    "obraz.png": {
     "image/png": "[encoded data removed]"
    }
   },
   "cell_type": "markdown",
   "metadata": {},
   "source": [
    "## Percentage errors MAPE\n",
    "\n",
    "![obraz.png](attachment:obraz.png)"
   ]
  },
  {
   "attachments": {
    "obraz.png": {
     "image/png": "[encoded data removed]"
    }
   },
   "cell_type": "markdown",
   "metadata": {},
   "source": [
    "![obraz.png](attachment:obraz.png)"
   ]
  }
 ],
 "metadata": {
  "kernelspec": {
   "display_name": "Python 3",
   "language": "python",
   "name": "python3"
  },
  "language_info": {
   "codemirror_mode": {
    "name": "ipython",
    "version": 3
   },
   "file_extension": ".py",
   "mimetype": "text/x-python",
   "name": "python",
   "nbconvert_exporter": "python",
   "pygments_lexer": "ipython3",
   "version": "3.7.4"
  }
 },
 "nbformat": 4,
 "nbformat_minor": 2
}
