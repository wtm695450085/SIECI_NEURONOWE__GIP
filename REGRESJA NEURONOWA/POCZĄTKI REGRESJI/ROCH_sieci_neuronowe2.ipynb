{
 "cells": [
  {
   "cell_type": "markdown",
   "metadata": {},
   "source": [
    "<span style=\"font-size: 150%;color:white;background:#1155cc\"> A task for the recruitment process\n",
    "\n",
    "<span style=\"font-size: 150%;color:white;background:red\">Wojciech Moszczyński\n",
    "\n",
    "\n",
    "\n",
    "<span style=\"font-size: 300%;color:white;background:black\">neural network   \n",
    "    \n",
    "    from:\n",
    "https://archive.ics.uci.edu/ml/datasets/Sales_Transactions_Dataset_Weekly.\n",
    "\n",
    "\n",
    "<span style=\"font-size: 150%;background: white;font-weight:normal;color:#1155cc\"> For the first 10 products, please conduct the exploratory analysis and compute the forecast for the next 7 weeks.  "
   ]
  },
  {
   "cell_type": "code",
   "execution_count": 1,
   "metadata": {},
   "outputs": [],
   "source": [
    "import pandas as pd\n",
    "import numpy as np\n",
    "%matplotlib inline\n",
    "import seaborn as sns\n",
    "import matplotlib.pyplot as plt\n",
    "import torch\n",
    "\n",
    "import warnings \n",
    "warnings.filterwarnings(\"ignore\")\n",
    "\n",
    "from sklearn.metrics import mean_squared_log_error\n",
    "from sklearn.ensemble import RandomForestRegressor\n",
    "from lightgbm import LGBMRegressor"
   ]
  },
  {
   "cell_type": "markdown",
   "metadata": {},
   "source": [
    "<span style=\"font-size: 110%;background: white;font-weight:normal;color:#1155cc\">I download data - I do not need standardized sales because the primary data is enough for me."
   ]
  },
  {
   "cell_type": "code",
   "execution_count": 2,
   "metadata": {},
   "outputs": [
    {
     "data": {
      "text/html": [
       "<div>\n",
       "<style scoped>\n",
       "    .dataframe tbody tr th:only-of-type {\n",
       "        vertical-align: middle;\n",
       "    }\n",
       "\n",
       "    .dataframe tbody tr th {\n",
       "        vertical-align: top;\n",
       "    }\n",
       "\n",
       "    .dataframe thead th {\n",
       "        text-align: right;\n",
       "    }\n",
       "</style>\n",
       "<table border=\"1\" class=\"dataframe\">\n",
       "  <thead>\n",
       "    <tr style=\"text-align: right;\">\n",
       "      <th></th>\n",
       "      <th>Product_Code</th>\n",
       "      <th>W0</th>\n",
       "      <th>W1</th>\n",
       "      <th>W2</th>\n",
       "      <th>W3</th>\n",
       "      <th>W4</th>\n",
       "      <th>W5</th>\n",
       "      <th>W6</th>\n",
       "      <th>W7</th>\n",
       "      <th>W8</th>\n",
       "      <th>...</th>\n",
       "      <th>W42</th>\n",
       "      <th>W43</th>\n",
       "      <th>W44</th>\n",
       "      <th>W45</th>\n",
       "      <th>W46</th>\n",
       "      <th>W47</th>\n",
       "      <th>W48</th>\n",
       "      <th>W49</th>\n",
       "      <th>W50</th>\n",
       "      <th>W51</th>\n",
       "    </tr>\n",
       "  </thead>\n",
       "  <tbody>\n",
       "    <tr>\n",
       "      <td>806</td>\n",
       "      <td>P815</td>\n",
       "      <td>0</td>\n",
       "      <td>0</td>\n",
       "      <td>1</td>\n",
       "      <td>0</td>\n",
       "      <td>0</td>\n",
       "      <td>2</td>\n",
       "      <td>1</td>\n",
       "      <td>0</td>\n",
       "      <td>0</td>\n",
       "      <td>...</td>\n",
       "      <td>0</td>\n",
       "      <td>1</td>\n",
       "      <td>1</td>\n",
       "      <td>0</td>\n",
       "      <td>0</td>\n",
       "      <td>1</td>\n",
       "      <td>0</td>\n",
       "      <td>0</td>\n",
       "      <td>2</td>\n",
       "      <td>0</td>\n",
       "    </tr>\n",
       "    <tr>\n",
       "      <td>807</td>\n",
       "      <td>P816</td>\n",
       "      <td>0</td>\n",
       "      <td>1</td>\n",
       "      <td>0</td>\n",
       "      <td>0</td>\n",
       "      <td>1</td>\n",
       "      <td>2</td>\n",
       "      <td>2</td>\n",
       "      <td>6</td>\n",
       "      <td>0</td>\n",
       "      <td>...</td>\n",
       "      <td>3</td>\n",
       "      <td>3</td>\n",
       "      <td>4</td>\n",
       "      <td>2</td>\n",
       "      <td>4</td>\n",
       "      <td>5</td>\n",
       "      <td>5</td>\n",
       "      <td>5</td>\n",
       "      <td>6</td>\n",
       "      <td>5</td>\n",
       "    </tr>\n",
       "    <tr>\n",
       "      <td>808</td>\n",
       "      <td>P817</td>\n",
       "      <td>1</td>\n",
       "      <td>0</td>\n",
       "      <td>0</td>\n",
       "      <td>0</td>\n",
       "      <td>1</td>\n",
       "      <td>1</td>\n",
       "      <td>2</td>\n",
       "      <td>1</td>\n",
       "      <td>1</td>\n",
       "      <td>...</td>\n",
       "      <td>2</td>\n",
       "      <td>0</td>\n",
       "      <td>0</td>\n",
       "      <td>2</td>\n",
       "      <td>2</td>\n",
       "      <td>0</td>\n",
       "      <td>0</td>\n",
       "      <td>0</td>\n",
       "      <td>4</td>\n",
       "      <td>3</td>\n",
       "    </tr>\n",
       "    <tr>\n",
       "      <td>809</td>\n",
       "      <td>P818</td>\n",
       "      <td>0</td>\n",
       "      <td>0</td>\n",
       "      <td>0</td>\n",
       "      <td>1</td>\n",
       "      <td>0</td>\n",
       "      <td>0</td>\n",
       "      <td>0</td>\n",
       "      <td>0</td>\n",
       "      <td>1</td>\n",
       "      <td>...</td>\n",
       "      <td>0</td>\n",
       "      <td>0</td>\n",
       "      <td>0</td>\n",
       "      <td>1</td>\n",
       "      <td>1</td>\n",
       "      <td>0</td>\n",
       "      <td>0</td>\n",
       "      <td>0</td>\n",
       "      <td>2</td>\n",
       "      <td>0</td>\n",
       "    </tr>\n",
       "    <tr>\n",
       "      <td>810</td>\n",
       "      <td>P819</td>\n",
       "      <td>0</td>\n",
       "      <td>1</td>\n",
       "      <td>0</td>\n",
       "      <td>0</td>\n",
       "      <td>0</td>\n",
       "      <td>0</td>\n",
       "      <td>0</td>\n",
       "      <td>0</td>\n",
       "      <td>0</td>\n",
       "      <td>...</td>\n",
       "      <td>0</td>\n",
       "      <td>0</td>\n",
       "      <td>0</td>\n",
       "      <td>0</td>\n",
       "      <td>0</td>\n",
       "      <td>0</td>\n",
       "      <td>0</td>\n",
       "      <td>0</td>\n",
       "      <td>0</td>\n",
       "      <td>1</td>\n",
       "    </tr>\n",
       "  </tbody>\n",
       "</table>\n",
       "<p>5 rows × 53 columns</p>\n",
       "</div>"
      ],
      "text/plain": [
       "    Product_Code  W0  W1  W2  W3  W4  W5  W6  W7  W8  ...  W42  W43  W44  W45  \\\n",
       "806         P815   0   0   1   0   0   2   1   0   0  ...    0    1    1    0   \n",
       "807         P816   0   1   0   0   1   2   2   6   0  ...    3    3    4    2   \n",
       "808         P817   1   0   0   0   1   1   2   1   1  ...    2    0    0    2   \n",
       "809         P818   0   0   0   1   0   0   0   0   1  ...    0    0    0    1   \n",
       "810         P819   0   1   0   0   0   0   0   0   0  ...    0    0    0    0   \n",
       "\n",
       "     W46  W47  W48  W49  W50  W51  \n",
       "806    0    1    0    0    2    0  \n",
       "807    4    5    5    5    6    5  \n",
       "808    2    0    0    0    4    3  \n",
       "809    1    0    0    0    2    0  \n",
       "810    0    0    0    0    0    1  \n",
       "\n",
       "[5 rows x 53 columns]"
      ]
     },
     "execution_count": 2,
     "metadata": {},
     "output_type": "execute_result"
    }
   ],
   "source": [
    "cols = pd.read_csv(\"/media/wojciech/D6DE33C1DE339927/1A/Sales_Transactions_Dataset_Weekly.csv\", nrows=1).columns\n",
    "df = pd.read_csv(\"/media/wojciech/D6DE33C1DE339927/1A/Sales_Transactions_Dataset_Weekly.csv\", usecols=cols[:53])\n",
    "df.tail()"
   ]
  },
  {
   "cell_type": "markdown",
   "metadata": {},
   "source": [
    "<span style=\"font-size: 110%;background: white;font-weight:normal;color:#1155cc\">I remember having to make a forecast for the first 10 products. The time series is too small to forecast. Only 52 values (52 weeks) is not a time series that allows you to build an effective forecasting model. In turn, there are as many as 811 products, which is a lot. This can be changed by entering the item index as a single independent variable.\n",
    "Then we will get 811 times 52 variables = 42172 rows which gives a considerable number to do a forecasting model. Rule of thumb - even though I only have to forecast for the first 10 items - I am making a model for all 811 items."
   ]
  },
  {
   "cell_type": "code",
   "execution_count": 3,
   "metadata": {},
   "outputs": [
    {
     "data": {
      "text/plain": [
       "(811, 53)"
      ]
     },
     "execution_count": 3,
     "metadata": {},
     "output_type": "execute_result"
    }
   ],
   "source": [
    "df.shape"
   ]
  },
  {
   "cell_type": "code",
   "execution_count": 4,
   "metadata": {},
   "outputs": [
    {
     "data": {
      "text/html": [
       "<div>\n",
       "<style scoped>\n",
       "    .dataframe tbody tr th:only-of-type {\n",
       "        vertical-align: middle;\n",
       "    }\n",
       "\n",
       "    .dataframe tbody tr th {\n",
       "        vertical-align: top;\n",
       "    }\n",
       "\n",
       "    .dataframe thead th {\n",
       "        text-align: right;\n",
       "    }\n",
       "</style>\n",
       "<table border=\"1\" class=\"dataframe\">\n",
       "  <thead>\n",
       "    <tr style=\"text-align: right;\">\n",
       "      <th></th>\n",
       "      <th>Product_Code</th>\n",
       "      <th>Week</th>\n",
       "      <th>Sales</th>\n",
       "    </tr>\n",
       "  </thead>\n",
       "  <tbody>\n",
       "    <tr>\n",
       "      <td>0</td>\n",
       "      <td>P1</td>\n",
       "      <td>W0</td>\n",
       "      <td>11</td>\n",
       "    </tr>\n",
       "    <tr>\n",
       "      <td>1</td>\n",
       "      <td>P2</td>\n",
       "      <td>W0</td>\n",
       "      <td>7</td>\n",
       "    </tr>\n",
       "    <tr>\n",
       "      <td>2</td>\n",
       "      <td>P3</td>\n",
       "      <td>W0</td>\n",
       "      <td>7</td>\n",
       "    </tr>\n",
       "    <tr>\n",
       "      <td>3</td>\n",
       "      <td>P4</td>\n",
       "      <td>W0</td>\n",
       "      <td>12</td>\n",
       "    </tr>\n",
       "    <tr>\n",
       "      <td>4</td>\n",
       "      <td>P5</td>\n",
       "      <td>W0</td>\n",
       "      <td>8</td>\n",
       "    </tr>\n",
       "    <tr>\n",
       "      <td>...</td>\n",
       "      <td>...</td>\n",
       "      <td>...</td>\n",
       "      <td>...</td>\n",
       "    </tr>\n",
       "    <tr>\n",
       "      <td>42167</td>\n",
       "      <td>P815</td>\n",
       "      <td>W51</td>\n",
       "      <td>0</td>\n",
       "    </tr>\n",
       "    <tr>\n",
       "      <td>42168</td>\n",
       "      <td>P816</td>\n",
       "      <td>W51</td>\n",
       "      <td>5</td>\n",
       "    </tr>\n",
       "    <tr>\n",
       "      <td>42169</td>\n",
       "      <td>P817</td>\n",
       "      <td>W51</td>\n",
       "      <td>3</td>\n",
       "    </tr>\n",
       "    <tr>\n",
       "      <td>42170</td>\n",
       "      <td>P818</td>\n",
       "      <td>W51</td>\n",
       "      <td>0</td>\n",
       "    </tr>\n",
       "    <tr>\n",
       "      <td>42171</td>\n",
       "      <td>P819</td>\n",
       "      <td>W51</td>\n",
       "      <td>1</td>\n",
       "    </tr>\n",
       "  </tbody>\n",
       "</table>\n",
       "<p>42172 rows × 3 columns</p>\n",
       "</div>"
      ],
      "text/plain": [
       "      Product_Code Week  Sales\n",
       "0               P1   W0     11\n",
       "1               P2   W0      7\n",
       "2               P3   W0      7\n",
       "3               P4   W0     12\n",
       "4               P5   W0      8\n",
       "...            ...  ...    ...\n",
       "42167         P815  W51      0\n",
       "42168         P816  W51      5\n",
       "42169         P817  W51      3\n",
       "42170         P818  W51      0\n",
       "42171         P819  W51      1\n",
       "\n",
       "[42172 rows x 3 columns]"
      ]
     },
     "execution_count": 4,
     "metadata": {},
     "output_type": "execute_result"
    }
   ],
   "source": [
    "df2 = df.melt(id_vars='Product_Code', var_name='Week', value_name='Sales')\n",
    "df2"
   ]
  },
  {
   "cell_type": "markdown",
   "metadata": {},
   "source": [
    "<span style=\"font-size: 110%;background: white;font-weight:normal;color:#1155cc\">The data is complete"
   ]
  },
  {
   "cell_type": "code",
   "execution_count": 5,
   "metadata": {},
   "outputs": [
    {
     "data": {
      "text/plain": [
       "<matplotlib.axes._subplots.AxesSubplot at 0x7f6415f5b490>"
      ]
     },
     "execution_count": 5,
     "metadata": {},
     "output_type": "execute_result"
    },
    {
     "data": {
      "image/png": "[encoded data removed]",
      "text/plain": [
       "<Figure size 432x288 with 1 Axes>"
      ]
     },
     "metadata": {
      "needs_background": "light"
     },
     "output_type": "display_data"
    }
   ],
   "source": [
    "sns.heatmap(df2.isnull(),yticklabels=False,cbar=False,cmap='viridis')"
   ]
  },
  {
   "cell_type": "markdown",
   "metadata": {},
   "source": [
    "<span style=\"font-size: 210%;background: white;font-weight:normal;color:#1155cc\"> Removal of the letters W and P\n",
    "    \n",
    "<span style=\"font-size: 110%;background: white;font-weight:normal;color:#1155cc\">I want to have everything in numeric format for text-based databases because I'm going to be using the data to build forecasting models."
   ]
  },
  {
   "cell_type": "code",
   "execution_count": 6,
   "metadata": {},
   "outputs": [
    {
     "data": {
      "text/html": [
       "<div>\n",
       "<style scoped>\n",
       "    .dataframe tbody tr th:only-of-type {\n",
       "        vertical-align: middle;\n",
       "    }\n",
       "\n",
       "    .dataframe tbody tr th {\n",
       "        vertical-align: top;\n",
       "    }\n",
       "\n",
       "    .dataframe thead th {\n",
       "        text-align: right;\n",
       "    }\n",
       "</style>\n",
       "<table border=\"1\" class=\"dataframe\">\n",
       "  <thead>\n",
       "    <tr style=\"text-align: right;\">\n",
       "      <th></th>\n",
       "      <th>Product_Code</th>\n",
       "      <th>Week</th>\n",
       "      <th>Sales</th>\n",
       "    </tr>\n",
       "  </thead>\n",
       "  <tbody>\n",
       "    <tr>\n",
       "      <td>0</td>\n",
       "      <td>1</td>\n",
       "      <td>0</td>\n",
       "      <td>11</td>\n",
       "    </tr>\n",
       "    <tr>\n",
       "      <td>1</td>\n",
       "      <td>2</td>\n",
       "      <td>0</td>\n",
       "      <td>7</td>\n",
       "    </tr>\n",
       "    <tr>\n",
       "      <td>2</td>\n",
       "      <td>3</td>\n",
       "      <td>0</td>\n",
       "      <td>7</td>\n",
       "    </tr>\n",
       "    <tr>\n",
       "      <td>3</td>\n",
       "      <td>4</td>\n",
       "      <td>0</td>\n",
       "      <td>12</td>\n",
       "    </tr>\n",
       "    <tr>\n",
       "      <td>4</td>\n",
       "      <td>5</td>\n",
       "      <td>0</td>\n",
       "      <td>8</td>\n",
       "    </tr>\n",
       "    <tr>\n",
       "      <td>...</td>\n",
       "      <td>...</td>\n",
       "      <td>...</td>\n",
       "      <td>...</td>\n",
       "    </tr>\n",
       "    <tr>\n",
       "      <td>42167</td>\n",
       "      <td>815</td>\n",
       "      <td>51</td>\n",
       "      <td>0</td>\n",
       "    </tr>\n",
       "    <tr>\n",
       "      <td>42168</td>\n",
       "      <td>816</td>\n",
       "      <td>51</td>\n",
       "      <td>5</td>\n",
       "    </tr>\n",
       "    <tr>\n",
       "      <td>42169</td>\n",
       "      <td>817</td>\n",
       "      <td>51</td>\n",
       "      <td>3</td>\n",
       "    </tr>\n",
       "    <tr>\n",
       "      <td>42170</td>\n",
       "      <td>818</td>\n",
       "      <td>51</td>\n",
       "      <td>0</td>\n",
       "    </tr>\n",
       "    <tr>\n",
       "      <td>42171</td>\n",
       "      <td>819</td>\n",
       "      <td>51</td>\n",
       "      <td>1</td>\n",
       "    </tr>\n",
       "  </tbody>\n",
       "</table>\n",
       "<p>42172 rows × 3 columns</p>\n",
       "</div>"
      ],
      "text/plain": [
       "       Product_Code  Week  Sales\n",
       "0                 1     0     11\n",
       "1                 2     0      7\n",
       "2                 3     0      7\n",
       "3                 4     0     12\n",
       "4                 5     0      8\n",
       "...             ...   ...    ...\n",
       "42167           815    51      0\n",
       "42168           816    51      5\n",
       "42169           817    51      3\n",
       "42170           818    51      0\n",
       "42171           819    51      1\n",
       "\n",
       "[42172 rows x 3 columns]"
      ]
     },
     "execution_count": 6,
     "metadata": {},
     "output_type": "execute_result"
    }
   ],
   "source": [
    "df2.Product_Code = df2.Product_Code.str.replace('P', '').astype(int)\n",
    "df2.Week = df2.Week.str.replace('W', '').astype(int)\n",
    "df2"
   ]
  },
  {
   "cell_type": "code",
   "execution_count": 7,
   "metadata": {},
   "outputs": [
    {
     "data": {
      "text/plain": [
       "Product_Code    int64\n",
       "Week            int64\n",
       "Sales           int64\n",
       "dtype: object"
      ]
     },
     "execution_count": 7,
     "metadata": {},
     "output_type": "execute_result"
    }
   ],
   "source": [
    "df2.dtypes"
   ]
  },
  {
   "cell_type": "code",
   "execution_count": 8,
   "metadata": {},
   "outputs": [
    {
     "name": "stdout",
     "output_type": "stream",
     "text": [
      "max: 73\n",
      "min: 0\n"
     ]
    },
    {
     "data": {
      "text/plain": [
       "<matplotlib.axes._subplots.AxesSubplot at 0x7f6413e5c450>"
      ]
     },
     "execution_count": 8,
     "metadata": {},
     "output_type": "execute_result"
    },
    {
     "data": {
      "image/png": "[encoded data removed]",
      "text/plain": [
       "<Figure size 432x288 with 1 Axes>"
      ]
     },
     "metadata": {
      "needs_background": "light"
     },
     "output_type": "display_data"
    }
   ],
   "source": [
    "print('max:',df2['Sales'].max())\n",
    "print('min:',df2['Sales'].min())\n",
    "\n",
    "sns.distplot(np.array(df2['Sales']))"
   ]
  },
  {
   "cell_type": "markdown",
   "metadata": {},
   "source": [
    "<span style=\"font-size: 110%;background: white;font-weight:normal;color:#1155cc\">The population is not normally distributed, but I don't need to have the resultant populations in the normal distribution. It is recommended but not required. Therefore, I am not going to standardize the result variables."
   ]
  },
  {
   "cell_type": "code",
   "execution_count": 9,
   "metadata": {},
   "outputs": [
    {
     "data": {
      "text/plain": [
       "(42172, 3)"
      ]
     },
     "execution_count": 9,
     "metadata": {},
     "output_type": "execute_result"
    }
   ],
   "source": [
    "df2.shape"
   ]
  },
  {
   "cell_type": "markdown",
   "metadata": {},
   "source": [
    "<span style=\"font-size: 110%;background: white;font-weight:normal;color:#1155cc\">Then we will get 811 times 52 variables = 42172 rows which gives a considerable number to do a forecasting model."
   ]
  },
  {
   "cell_type": "markdown",
   "metadata": {},
   "source": [
    "<span style=\"font-size: 210%;background: white;font-weight:normal;color:#1155cc\"> We create additional synthetic variables\n",
    "    \n",
    "<span style=\"font-size: 110%;background: white;font-weight:normal;color:#1155cc\">Now I create synthetic variables, i.e. independent variables that do not exist but are made of existing independent variables. Since we have practically no variable except the week number and the commodity index, we create synthetic variables from the result variable. These variables are a shift of the price one or several weeks back and the difference between the previous and the current price."
   ]
  },
  {
   "cell_type": "code",
   "execution_count": 10,
   "metadata": {},
   "outputs": [
    {
     "data": {
      "text/html": [
       "<div>\n",
       "<style scoped>\n",
       "    .dataframe tbody tr th:only-of-type {\n",
       "        vertical-align: middle;\n",
       "    }\n",
       "\n",
       "    .dataframe tbody tr th {\n",
       "        vertical-align: top;\n",
       "    }\n",
       "\n",
       "    .dataframe thead th {\n",
       "        text-align: right;\n",
       "    }\n",
       "</style>\n",
       "<table border=\"1\" class=\"dataframe\">\n",
       "  <thead>\n",
       "    <tr style=\"text-align: right;\">\n",
       "      <th></th>\n",
       "      <th>Product_Code</th>\n",
       "      <th>Week</th>\n",
       "      <th>Sales</th>\n",
       "      <th>Sales_last_1_week</th>\n",
       "      <th>Sales_last_2_week</th>\n",
       "      <th>Sales_last_3_week</th>\n",
       "      <th>Sales_last_4_week</th>\n",
       "      <th>Sales_last_5_week</th>\n",
       "      <th>Sales_last_6_week</th>\n",
       "      <th>Sales_last_7_week</th>\n",
       "    </tr>\n",
       "  </thead>\n",
       "  <tbody>\n",
       "    <tr>\n",
       "      <td>0</td>\n",
       "      <td>1</td>\n",
       "      <td>0</td>\n",
       "      <td>11</td>\n",
       "      <td>NaN</td>\n",
       "      <td>NaN</td>\n",
       "      <td>NaN</td>\n",
       "      <td>NaN</td>\n",
       "      <td>NaN</td>\n",
       "      <td>NaN</td>\n",
       "      <td>NaN</td>\n",
       "    </tr>\n",
       "    <tr>\n",
       "      <td>1</td>\n",
       "      <td>2</td>\n",
       "      <td>0</td>\n",
       "      <td>7</td>\n",
       "      <td>NaN</td>\n",
       "      <td>NaN</td>\n",
       "      <td>NaN</td>\n",
       "      <td>NaN</td>\n",
       "      <td>NaN</td>\n",
       "      <td>NaN</td>\n",
       "      <td>NaN</td>\n",
       "    </tr>\n",
       "    <tr>\n",
       "      <td>2</td>\n",
       "      <td>3</td>\n",
       "      <td>0</td>\n",
       "      <td>7</td>\n",
       "      <td>NaN</td>\n",
       "      <td>NaN</td>\n",
       "      <td>NaN</td>\n",
       "      <td>NaN</td>\n",
       "      <td>NaN</td>\n",
       "      <td>NaN</td>\n",
       "      <td>NaN</td>\n",
       "    </tr>\n",
       "    <tr>\n",
       "      <td>3</td>\n",
       "      <td>4</td>\n",
       "      <td>0</td>\n",
       "      <td>12</td>\n",
       "      <td>NaN</td>\n",
       "      <td>NaN</td>\n",
       "      <td>NaN</td>\n",
       "      <td>NaN</td>\n",
       "      <td>NaN</td>\n",
       "      <td>NaN</td>\n",
       "      <td>NaN</td>\n",
       "    </tr>\n",
       "    <tr>\n",
       "      <td>4</td>\n",
       "      <td>5</td>\n",
       "      <td>0</td>\n",
       "      <td>8</td>\n",
       "      <td>NaN</td>\n",
       "      <td>NaN</td>\n",
       "      <td>NaN</td>\n",
       "      <td>NaN</td>\n",
       "      <td>NaN</td>\n",
       "      <td>NaN</td>\n",
       "      <td>NaN</td>\n",
       "    </tr>\n",
       "    <tr>\n",
       "      <td>...</td>\n",
       "      <td>...</td>\n",
       "      <td>...</td>\n",
       "      <td>...</td>\n",
       "      <td>...</td>\n",
       "      <td>...</td>\n",
       "      <td>...</td>\n",
       "      <td>...</td>\n",
       "      <td>...</td>\n",
       "      <td>...</td>\n",
       "      <td>...</td>\n",
       "    </tr>\n",
       "    <tr>\n",
       "      <td>42167</td>\n",
       "      <td>815</td>\n",
       "      <td>51</td>\n",
       "      <td>0</td>\n",
       "      <td>2.0</td>\n",
       "      <td>0.0</td>\n",
       "      <td>0.0</td>\n",
       "      <td>1.0</td>\n",
       "      <td>0.0</td>\n",
       "      <td>0.0</td>\n",
       "      <td>1.0</td>\n",
       "    </tr>\n",
       "    <tr>\n",
       "      <td>42168</td>\n",
       "      <td>816</td>\n",
       "      <td>51</td>\n",
       "      <td>5</td>\n",
       "      <td>6.0</td>\n",
       "      <td>5.0</td>\n",
       "      <td>5.0</td>\n",
       "      <td>5.0</td>\n",
       "      <td>4.0</td>\n",
       "      <td>2.0</td>\n",
       "      <td>4.0</td>\n",
       "    </tr>\n",
       "    <tr>\n",
       "      <td>42169</td>\n",
       "      <td>817</td>\n",
       "      <td>51</td>\n",
       "      <td>3</td>\n",
       "      <td>4.0</td>\n",
       "      <td>0.0</td>\n",
       "      <td>0.0</td>\n",
       "      <td>0.0</td>\n",
       "      <td>2.0</td>\n",
       "      <td>2.0</td>\n",
       "      <td>0.0</td>\n",
       "    </tr>\n",
       "    <tr>\n",
       "      <td>42170</td>\n",
       "      <td>818</td>\n",
       "      <td>51</td>\n",
       "      <td>0</td>\n",
       "      <td>2.0</td>\n",
       "      <td>0.0</td>\n",
       "      <td>0.0</td>\n",
       "      <td>0.0</td>\n",
       "      <td>1.0</td>\n",
       "      <td>1.0</td>\n",
       "      <td>0.0</td>\n",
       "    </tr>\n",
       "    <tr>\n",
       "      <td>42171</td>\n",
       "      <td>819</td>\n",
       "      <td>51</td>\n",
       "      <td>1</td>\n",
       "      <td>0.0</td>\n",
       "      <td>0.0</td>\n",
       "      <td>0.0</td>\n",
       "      <td>0.0</td>\n",
       "      <td>0.0</td>\n",
       "      <td>0.0</td>\n",
       "      <td>0.0</td>\n",
       "    </tr>\n",
       "  </tbody>\n",
       "</table>\n",
       "<p>42172 rows × 10 columns</p>\n",
       "</div>"
      ],
      "text/plain": [
       "       Product_Code  Week  Sales  Sales_last_1_week  Sales_last_2_week  \\\n",
       "0                 1     0     11                NaN                NaN   \n",
       "1                 2     0      7                NaN                NaN   \n",
       "2                 3     0      7                NaN                NaN   \n",
       "3                 4     0     12                NaN                NaN   \n",
       "4                 5     0      8                NaN                NaN   \n",
       "...             ...   ...    ...                ...                ...   \n",
       "42167           815    51      0                2.0                0.0   \n",
       "42168           816    51      5                6.0                5.0   \n",
       "42169           817    51      3                4.0                0.0   \n",
       "42170           818    51      0                2.0                0.0   \n",
       "42171           819    51      1                0.0                0.0   \n",
       "\n",
       "       Sales_last_3_week  Sales_last_4_week  Sales_last_5_week  \\\n",
       "0                    NaN                NaN                NaN   \n",
       "1                    NaN                NaN                NaN   \n",
       "2                    NaN                NaN                NaN   \n",
       "3                    NaN                NaN                NaN   \n",
       "4                    NaN                NaN                NaN   \n",
       "...                  ...                ...                ...   \n",
       "42167                0.0                1.0                0.0   \n",
       "42168                5.0                5.0                4.0   \n",
       "42169                0.0                0.0                2.0   \n",
       "42170                0.0                0.0                1.0   \n",
       "42171                0.0                0.0                0.0   \n",
       "\n",
       "       Sales_last_6_week  Sales_last_7_week  \n",
       "0                    NaN                NaN  \n",
       "1                    NaN                NaN  \n",
       "2                    NaN                NaN  \n",
       "3                    NaN                NaN  \n",
       "4                    NaN                NaN  \n",
       "...                  ...                ...  \n",
       "42167                0.0                1.0  \n",
       "42168                2.0                4.0  \n",
       "42169                2.0                0.0  \n",
       "42170                1.0                0.0  \n",
       "42171                0.0                0.0  \n",
       "\n",
       "[42172 rows x 10 columns]"
      ]
     },
     "execution_count": 10,
     "metadata": {},
     "output_type": "execute_result"
    }
   ],
   "source": [
    "df2['Sales_last_1_week'] = df2.groupby(['Product_Code'])['Sales'].shift()\n",
    "df2['Sales_last_2_week'] = df2.groupby(['Product_Code'])['Sales'].shift(2)\n",
    "df2['Sales_last_3_week'] = df2.groupby(['Product_Code'])['Sales'].shift(3)\n",
    "df2['Sales_last_4_week'] = df2.groupby(['Product_Code'])['Sales'].shift(4)\n",
    "df2['Sales_last_5_week'] = df2.groupby(['Product_Code'])['Sales'].shift(5)\n",
    "df2['Sales_last_6_week'] = df2.groupby(['Product_Code'])['Sales'].shift(6)\n",
    "df2['Sales_last_7_week'] = df2.groupby(['Product_Code'])['Sales'].shift(7)\n",
    "df2"
   ]
  },
  {
   "cell_type": "markdown",
   "metadata": {},
   "source": [
    "<span style=\"font-size: 140%;background: white;font-weight:normal;color:#1155cc\"> We check if the synthetic variables 'shift' are correctly created"
   ]
  },
  {
   "cell_type": "code",
   "execution_count": 11,
   "metadata": {},
   "outputs": [
    {
     "data": {
      "text/html": [
       "<div>\n",
       "<style scoped>\n",
       "    .dataframe tbody tr th:only-of-type {\n",
       "        vertical-align: middle;\n",
       "    }\n",
       "\n",
       "    .dataframe tbody tr th {\n",
       "        vertical-align: top;\n",
       "    }\n",
       "\n",
       "    .dataframe thead th {\n",
       "        text-align: right;\n",
       "    }\n",
       "</style>\n",
       "<table border=\"1\" class=\"dataframe\">\n",
       "  <thead>\n",
       "    <tr style=\"text-align: right;\">\n",
       "      <th></th>\n",
       "      <th>Product_Code</th>\n",
       "      <th>Sales</th>\n",
       "      <th>Sales_last_1_week</th>\n",
       "      <th>Sales_last_2_week</th>\n",
       "      <th>Sales_last_3_week</th>\n",
       "      <th>Sales_last_4_week</th>\n",
       "    </tr>\n",
       "  </thead>\n",
       "  <tbody>\n",
       "    <tr>\n",
       "      <td>5678</td>\n",
       "      <td>2</td>\n",
       "      <td>3</td>\n",
       "      <td>6.0</td>\n",
       "      <td>1.0</td>\n",
       "      <td>7.0</td>\n",
       "      <td>2.0</td>\n",
       "    </tr>\n",
       "    <tr>\n",
       "      <td>6489</td>\n",
       "      <td>2</td>\n",
       "      <td>3</td>\n",
       "      <td>3.0</td>\n",
       "      <td>6.0</td>\n",
       "      <td>1.0</td>\n",
       "      <td>7.0</td>\n",
       "    </tr>\n",
       "    <tr>\n",
       "      <td>7300</td>\n",
       "      <td>2</td>\n",
       "      <td>3</td>\n",
       "      <td>3.0</td>\n",
       "      <td>3.0</td>\n",
       "      <td>6.0</td>\n",
       "      <td>1.0</td>\n",
       "    </tr>\n",
       "    <tr>\n",
       "      <td>8111</td>\n",
       "      <td>2</td>\n",
       "      <td>2</td>\n",
       "      <td>3.0</td>\n",
       "      <td>3.0</td>\n",
       "      <td>3.0</td>\n",
       "      <td>6.0</td>\n",
       "    </tr>\n",
       "    <tr>\n",
       "      <td>8922</td>\n",
       "      <td>2</td>\n",
       "      <td>2</td>\n",
       "      <td>2.0</td>\n",
       "      <td>3.0</td>\n",
       "      <td>3.0</td>\n",
       "      <td>3.0</td>\n",
       "    </tr>\n",
       "    <tr>\n",
       "      <td>9733</td>\n",
       "      <td>2</td>\n",
       "      <td>6</td>\n",
       "      <td>2.0</td>\n",
       "      <td>2.0</td>\n",
       "      <td>3.0</td>\n",
       "      <td>3.0</td>\n",
       "    </tr>\n",
       "    <tr>\n",
       "      <td>10544</td>\n",
       "      <td>2</td>\n",
       "      <td>2</td>\n",
       "      <td>6.0</td>\n",
       "      <td>2.0</td>\n",
       "      <td>2.0</td>\n",
       "      <td>3.0</td>\n",
       "    </tr>\n",
       "  </tbody>\n",
       "</table>\n",
       "</div>"
      ],
      "text/plain": [
       "       Product_Code  Sales  Sales_last_1_week  Sales_last_2_week  \\\n",
       "5678              2      3                6.0                1.0   \n",
       "6489              2      3                3.0                6.0   \n",
       "7300              2      3                3.0                3.0   \n",
       "8111              2      2                3.0                3.0   \n",
       "8922              2      2                2.0                3.0   \n",
       "9733              2      6                2.0                2.0   \n",
       "10544             2      2                6.0                2.0   \n",
       "\n",
       "       Sales_last_3_week  Sales_last_4_week  \n",
       "5678                 7.0                2.0  \n",
       "6489                 1.0                7.0  \n",
       "7300                 6.0                1.0  \n",
       "8111                 3.0                6.0  \n",
       "8922                 3.0                3.0  \n",
       "9733                 3.0                3.0  \n",
       "10544                2.0                3.0  "
      ]
     },
     "execution_count": 11,
     "metadata": {},
     "output_type": "execute_result"
    }
   ],
   "source": [
    "df2[df2.Week.isin([7,8,9,10,11,12,13])&(df2.Product_Code ==2)][['Product_Code',\n",
    "                                                                'Sales',\n",
    "                                                                'Sales_last_1_week',\n",
    "                                                                'Sales_last_2_week',\n",
    "                                                                'Sales_last_3_week',\n",
    "                                                                'Sales_last_4_week']] \n"
   ]
  },
  {
   "cell_type": "code",
   "execution_count": 12,
   "metadata": {},
   "outputs": [],
   "source": [
    "df2['Diff_sales_last_1_week'] = df2.groupby(['Product_Code'])['Sales_last_1_week'].diff()\n",
    "df2['Diff_sales_last_2_week'] = df2.groupby(['Product_Code'])['Sales_last_2_week'].diff()\n",
    "df2['Diff_sales_last_3_week'] = df2.groupby(['Product_Code'])['Sales_last_3_week'].diff()\n",
    "df2['Diff_sales_last_4_week'] = df2.groupby(['Product_Code'])['Sales_last_4_week'].diff()\n",
    "df2['Diff_sales_last_5_week'] = df2.groupby(['Product_Code'])['Sales_last_5_week'].diff()\n",
    "df2['Diff_sales_last_6_week'] = df2.groupby(['Product_Code'])['Sales_last_6_week'].diff()\n",
    "df2['Diff_sales_last_7_week'] = df2.groupby(['Product_Code'])['Sales_last_7_week'].diff()"
   ]
  },
  {
   "cell_type": "markdown",
   "metadata": {},
   "source": [
    "<span style=\"font-size: 140%;background: white;font-weight:normal;color:#1155cc\"> We check if the synthetic variables 'diff' are correctly created"
   ]
  },
  {
   "cell_type": "code",
   "execution_count": 13,
   "metadata": {},
   "outputs": [
    {
     "data": {
      "text/html": [
       "<div>\n",
       "<style scoped>\n",
       "    .dataframe tbody tr th:only-of-type {\n",
       "        vertical-align: middle;\n",
       "    }\n",
       "\n",
       "    .dataframe tbody tr th {\n",
       "        vertical-align: top;\n",
       "    }\n",
       "\n",
       "    .dataframe thead th {\n",
       "        text-align: right;\n",
       "    }\n",
       "</style>\n",
       "<table border=\"1\" class=\"dataframe\">\n",
       "  <thead>\n",
       "    <tr style=\"text-align: right;\">\n",
       "      <th></th>\n",
       "      <th>Product_Code</th>\n",
       "      <th>Sales</th>\n",
       "      <th>Sales_last_1_week</th>\n",
       "      <th>Diff_sales_last_1_week</th>\n",
       "      <th>Sales_last_4_week</th>\n",
       "      <th>Diff_sales_last_4_week</th>\n",
       "    </tr>\n",
       "  </thead>\n",
       "  <tbody>\n",
       "    <tr>\n",
       "      <td>5680</td>\n",
       "      <td>4</td>\n",
       "      <td>13</td>\n",
       "      <td>9.0</td>\n",
       "      <td>3.0</td>\n",
       "      <td>5.0</td>\n",
       "      <td>-8.0</td>\n",
       "    </tr>\n",
       "    <tr>\n",
       "      <td>6491</td>\n",
       "      <td>4</td>\n",
       "      <td>13</td>\n",
       "      <td>13.0</td>\n",
       "      <td>4.0</td>\n",
       "      <td>9.0</td>\n",
       "      <td>4.0</td>\n",
       "    </tr>\n",
       "    <tr>\n",
       "      <td>7302</td>\n",
       "      <td>4</td>\n",
       "      <td>11</td>\n",
       "      <td>13.0</td>\n",
       "      <td>0.0</td>\n",
       "      <td>6.0</td>\n",
       "      <td>-3.0</td>\n",
       "    </tr>\n",
       "    <tr>\n",
       "      <td>8113</td>\n",
       "      <td>4</td>\n",
       "      <td>8</td>\n",
       "      <td>11.0</td>\n",
       "      <td>-2.0</td>\n",
       "      <td>9.0</td>\n",
       "      <td>3.0</td>\n",
       "    </tr>\n",
       "    <tr>\n",
       "      <td>8924</td>\n",
       "      <td>4</td>\n",
       "      <td>4</td>\n",
       "      <td>8.0</td>\n",
       "      <td>-3.0</td>\n",
       "      <td>13.0</td>\n",
       "      <td>4.0</td>\n",
       "    </tr>\n",
       "    <tr>\n",
       "      <td>9735</td>\n",
       "      <td>4</td>\n",
       "      <td>5</td>\n",
       "      <td>4.0</td>\n",
       "      <td>-4.0</td>\n",
       "      <td>13.0</td>\n",
       "      <td>0.0</td>\n",
       "    </tr>\n",
       "    <tr>\n",
       "      <td>10546</td>\n",
       "      <td>4</td>\n",
       "      <td>4</td>\n",
       "      <td>5.0</td>\n",
       "      <td>1.0</td>\n",
       "      <td>11.0</td>\n",
       "      <td>-2.0</td>\n",
       "    </tr>\n",
       "  </tbody>\n",
       "</table>\n",
       "</div>"
      ],
      "text/plain": [
       "       Product_Code  Sales  Sales_last_1_week  Diff_sales_last_1_week  \\\n",
       "5680              4     13                9.0                     3.0   \n",
       "6491              4     13               13.0                     4.0   \n",
       "7302              4     11               13.0                     0.0   \n",
       "8113              4      8               11.0                    -2.0   \n",
       "8924              4      4                8.0                    -3.0   \n",
       "9735              4      5                4.0                    -4.0   \n",
       "10546             4      4                5.0                     1.0   \n",
       "\n",
       "       Sales_last_4_week  Diff_sales_last_4_week  \n",
       "5680                 5.0                    -8.0  \n",
       "6491                 9.0                     4.0  \n",
       "7302                 6.0                    -3.0  \n",
       "8113                 9.0                     3.0  \n",
       "8924                13.0                     4.0  \n",
       "9735                13.0                     0.0  \n",
       "10546               11.0                    -2.0  "
      ]
     },
     "execution_count": 13,
     "metadata": {},
     "output_type": "execute_result"
    }
   ],
   "source": [
    "df2[df2.Week.isin([7,8,9,10,11,12,13])&(df2.Product_Code ==4)][['Product_Code',\n",
    "                                                                'Sales',\n",
    "                                                                'Sales_last_1_week',\n",
    "                                                                'Diff_sales_last_1_week',\n",
    "                                                                'Sales_last_4_week',\n",
    "                                                                'Diff_sales_last_4_week']]  "
   ]
  },
  {
   "cell_type": "markdown",
   "metadata": {},
   "source": [
    "<span style=\"font-size: 110%;background: white;font-weight:normal;color:#1155cc\"> One method of improving the quality of the model is to create a large number of synthetic variables using loops. Synthetic variables as a combination of various means, differences, shifts and logarithms. Then such a large number of independent variables can be subjected to one of the variable elimination methods. This is how you get the best synthetic variables. Since this is a verification task, I inform you that it is possible."
   ]
  },
  {
   "cell_type": "markdown",
   "metadata": {},
   "source": [
    "<span style=\"font-size: 140%;background: white;font-weight:normal;color:#1155cc\"> We remove the poems from NaN"
   ]
  },
  {
   "cell_type": "code",
   "execution_count": 14,
   "metadata": {},
   "outputs": [
    {
     "name": "stdout",
     "output_type": "stream",
     "text": [
      "Before dropna: (42172, 17)\n",
      "After dropna:  (35684, 17)\n"
     ]
    }
   ],
   "source": [
    "print('Before dropna:',df2.shape)\n",
    "df2 = df2.dropna(how ='any')\n",
    "print('After dropna: ',df2.shape)"
   ]
  },
  {
   "cell_type": "code",
   "execution_count": 15,
   "metadata": {},
   "outputs": [
    {
     "data": {
      "text/html": [
       "<div>\n",
       "<style scoped>\n",
       "    .dataframe tbody tr th:only-of-type {\n",
       "        vertical-align: middle;\n",
       "    }\n",
       "\n",
       "    .dataframe tbody tr th {\n",
       "        vertical-align: top;\n",
       "    }\n",
       "\n",
       "    .dataframe thead th {\n",
       "        text-align: right;\n",
       "    }\n",
       "</style>\n",
       "<table border=\"1\" class=\"dataframe\">\n",
       "  <thead>\n",
       "    <tr style=\"text-align: right;\">\n",
       "      <th></th>\n",
       "      <th>Product_Code</th>\n",
       "      <th>Week</th>\n",
       "      <th>Sales</th>\n",
       "      <th>Sales_last_1_week</th>\n",
       "      <th>Sales_last_2_week</th>\n",
       "      <th>Sales_last_3_week</th>\n",
       "      <th>Sales_last_4_week</th>\n",
       "      <th>Sales_last_5_week</th>\n",
       "      <th>Sales_last_6_week</th>\n",
       "      <th>Sales_last_7_week</th>\n",
       "      <th>Diff_sales_last_1_week</th>\n",
       "      <th>Diff_sales_last_2_week</th>\n",
       "      <th>Diff_sales_last_3_week</th>\n",
       "      <th>Diff_sales_last_4_week</th>\n",
       "      <th>Diff_sales_last_5_week</th>\n",
       "      <th>Diff_sales_last_6_week</th>\n",
       "      <th>Diff_sales_last_7_week</th>\n",
       "    </tr>\n",
       "  </thead>\n",
       "  <tbody>\n",
       "    <tr>\n",
       "      <td>6488</td>\n",
       "      <td>1</td>\n",
       "      <td>8</td>\n",
       "      <td>6</td>\n",
       "      <td>21.0</td>\n",
       "      <td>14.0</td>\n",
       "      <td>12.0</td>\n",
       "      <td>13.0</td>\n",
       "      <td>8.0</td>\n",
       "      <td>10.0</td>\n",
       "      <td>12.0</td>\n",
       "      <td>7.0</td>\n",
       "      <td>2.0</td>\n",
       "      <td>-1.0</td>\n",
       "      <td>5.0</td>\n",
       "      <td>-2.0</td>\n",
       "      <td>-2.0</td>\n",
       "      <td>1.0</td>\n",
       "    </tr>\n",
       "    <tr>\n",
       "      <td>6489</td>\n",
       "      <td>2</td>\n",
       "      <td>8</td>\n",
       "      <td>3</td>\n",
       "      <td>3.0</td>\n",
       "      <td>6.0</td>\n",
       "      <td>1.0</td>\n",
       "      <td>7.0</td>\n",
       "      <td>2.0</td>\n",
       "      <td>3.0</td>\n",
       "      <td>6.0</td>\n",
       "      <td>-3.0</td>\n",
       "      <td>5.0</td>\n",
       "      <td>-6.0</td>\n",
       "      <td>5.0</td>\n",
       "      <td>-1.0</td>\n",
       "      <td>-3.0</td>\n",
       "      <td>-1.0</td>\n",
       "    </tr>\n",
       "    <tr>\n",
       "      <td>6490</td>\n",
       "      <td>3</td>\n",
       "      <td>8</td>\n",
       "      <td>12</td>\n",
       "      <td>13.0</td>\n",
       "      <td>7.0</td>\n",
       "      <td>8.0</td>\n",
       "      <td>10.0</td>\n",
       "      <td>9.0</td>\n",
       "      <td>8.0</td>\n",
       "      <td>11.0</td>\n",
       "      <td>6.0</td>\n",
       "      <td>-1.0</td>\n",
       "      <td>-2.0</td>\n",
       "      <td>1.0</td>\n",
       "      <td>1.0</td>\n",
       "      <td>-3.0</td>\n",
       "      <td>4.0</td>\n",
       "    </tr>\n",
       "  </tbody>\n",
       "</table>\n",
       "</div>"
      ],
      "text/plain": [
       "      Product_Code  Week  Sales  Sales_last_1_week  Sales_last_2_week  \\\n",
       "6488             1     8      6               21.0               14.0   \n",
       "6489             2     8      3                3.0                6.0   \n",
       "6490             3     8     12               13.0                7.0   \n",
       "\n",
       "      Sales_last_3_week  Sales_last_4_week  Sales_last_5_week  \\\n",
       "6488               12.0               13.0                8.0   \n",
       "6489                1.0                7.0                2.0   \n",
       "6490                8.0               10.0                9.0   \n",
       "\n",
       "      Sales_last_6_week  Sales_last_7_week  Diff_sales_last_1_week  \\\n",
       "6488               10.0               12.0                     7.0   \n",
       "6489                3.0                6.0                    -3.0   \n",
       "6490                8.0               11.0                     6.0   \n",
       "\n",
       "      Diff_sales_last_2_week  Diff_sales_last_3_week  Diff_sales_last_4_week  \\\n",
       "6488                     2.0                    -1.0                     5.0   \n",
       "6489                     5.0                    -6.0                     5.0   \n",
       "6490                    -1.0                    -2.0                     1.0   \n",
       "\n",
       "      Diff_sales_last_5_week  Diff_sales_last_6_week  Diff_sales_last_7_week  \n",
       "6488                    -2.0                    -2.0                     1.0  \n",
       "6489                    -1.0                    -3.0                    -1.0  \n",
       "6490                     1.0                    -3.0                     4.0  "
      ]
     },
     "execution_count": 15,
     "metadata": {},
     "output_type": "execute_result"
    }
   ],
   "source": [
    "df2.head(3)"
   ]
  },
  {
   "cell_type": "code",
   "execution_count": null,
   "metadata": {},
   "outputs": [],
   "source": []
  },
  {
   "cell_type": "markdown",
   "metadata": {},
   "source": [
    "<span style=\"font-size: 140%;background: white;font-weight:normal;color:#1155cc\">Dividing time series data into training and test sets.\n",
    "\n",
    "<span style=\"font-size: 110%;background: white;font-weight:normal;color:#1155cc\">I split the set for training data for the first 42 weeks, then I separate the 44 and 45 test data set. Finally, as instructed, I allow a period of 7 weeks to make a forecast for 10 products. This will be the week: 45, 46, 47, 48, 49, 50, 51, 52. I will use this data at the end of the task when I have my model ready."
   ]
  },
  {
   "cell_type": "code",
   "execution_count": 16,
   "metadata": {},
   "outputs": [],
   "source": [
    "for week in range(42,44):\n",
    "    train = df2[df2['Week'] < week]   ## okres treningowy do 42 tygodnia\n",
    "    val = df2[df2['Week'] == week]    ## okres testowy od 43 tygodnia włącznie do 45 tygodnia \n",
    "                                        ## 45-52 tydzień to okres super testowy 7 tygodni\n",
    "\n",
    "    X_train, X_test = train.drop(['Sales'], axis=1), val.drop(['Sales'], axis=1)  # podział na zmienne treningowe i testowe\n",
    "    y_train, y_test = train['Sales'].values, val['Sales'].values                  # podział na wyniki testowe i treningowe "
   ]
  },
  {
   "cell_type": "markdown",
   "metadata": {},
   "source": [
    "### I specify what is X and what is y\n",
    "\n",
    "### <span style=\"color:green\"> Określam co jest X a co y"
   ]
  },
  {
   "cell_type": "raw",
   "metadata": {},
   "source": [
    "X = melt4.drop(['Sales'],1)\n",
    "y = melt4['Sales']"
   ]
  },
  {
   "cell_type": "raw",
   "metadata": {},
   "source": [
    "X_SuperT = df5.drop(['Sales'],1)\n",
    "y_SuperT = df5['Sales']"
   ]
  },
  {
   "cell_type": "raw",
   "metadata": {},
   "source": [
    "stop"
   ]
  },
  {
   "cell_type": "markdown",
   "metadata": {},
   "source": [
    "<span style=\"font-size: 110%;background:##ffe599\">Wynik (ilość rowerów wypożyczonych) przed skalowaniem</span>  "
   ]
  },
  {
   "cell_type": "code",
   "execution_count": 17,
   "metadata": {},
   "outputs": [
    {
     "data": {
      "text/plain": [
       "array([ 6,  3, 12, 13,  9])"
      ]
     },
     "execution_count": 17,
     "metadata": {},
     "output_type": "execute_result"
    }
   ],
   "source": [
    "y_train[:5]"
   ]
  },
  {
   "cell_type": "code",
   "execution_count": 18,
   "metadata": {},
   "outputs": [
    {
     "data": {
      "text/plain": [
       "array([ 7,  4, 14, 10, 11])"
      ]
     },
     "execution_count": 18,
     "metadata": {},
     "output_type": "execute_result"
    }
   ],
   "source": [
    "y_test[:5]"
   ]
  },
  {
   "cell_type": "markdown",
   "metadata": {},
   "source": [
    "<span style=\"font-size: 110%;background:##ffe599\">Zmienne opisujące przed skalowaniem"
   ]
  },
  {
   "cell_type": "code",
   "execution_count": 19,
   "metadata": {},
   "outputs": [
    {
     "data": {
      "text/html": [
       "<div>\n",
       "<style scoped>\n",
       "    .dataframe tbody tr th:only-of-type {\n",
       "        vertical-align: middle;\n",
       "    }\n",
       "\n",
       "    .dataframe tbody tr th {\n",
       "        vertical-align: top;\n",
       "    }\n",
       "\n",
       "    .dataframe thead th {\n",
       "        text-align: right;\n",
       "    }\n",
       "</style>\n",
       "<table border=\"1\" class=\"dataframe\">\n",
       "  <thead>\n",
       "    <tr style=\"text-align: right;\">\n",
       "      <th></th>\n",
       "      <th>Product_Code</th>\n",
       "      <th>Week</th>\n",
       "      <th>Sales_last_1_week</th>\n",
       "      <th>Sales_last_2_week</th>\n",
       "      <th>Sales_last_3_week</th>\n",
       "      <th>Sales_last_4_week</th>\n",
       "      <th>Sales_last_5_week</th>\n",
       "      <th>Sales_last_6_week</th>\n",
       "      <th>Sales_last_7_week</th>\n",
       "      <th>Diff_sales_last_1_week</th>\n",
       "      <th>Diff_sales_last_2_week</th>\n",
       "      <th>Diff_sales_last_3_week</th>\n",
       "      <th>Diff_sales_last_4_week</th>\n",
       "      <th>Diff_sales_last_5_week</th>\n",
       "      <th>Diff_sales_last_6_week</th>\n",
       "      <th>Diff_sales_last_7_week</th>\n",
       "    </tr>\n",
       "  </thead>\n",
       "  <tbody>\n",
       "    <tr>\n",
       "      <td>6488</td>\n",
       "      <td>1</td>\n",
       "      <td>8</td>\n",
       "      <td>21.0</td>\n",
       "      <td>14.0</td>\n",
       "      <td>12.0</td>\n",
       "      <td>13.0</td>\n",
       "      <td>8.0</td>\n",
       "      <td>10.0</td>\n",
       "      <td>12.0</td>\n",
       "      <td>7.0</td>\n",
       "      <td>2.0</td>\n",
       "      <td>-1.0</td>\n",
       "      <td>5.0</td>\n",
       "      <td>-2.0</td>\n",
       "      <td>-2.0</td>\n",
       "      <td>1.0</td>\n",
       "    </tr>\n",
       "    <tr>\n",
       "      <td>6489</td>\n",
       "      <td>2</td>\n",
       "      <td>8</td>\n",
       "      <td>3.0</td>\n",
       "      <td>6.0</td>\n",
       "      <td>1.0</td>\n",
       "      <td>7.0</td>\n",
       "      <td>2.0</td>\n",
       "      <td>3.0</td>\n",
       "      <td>6.0</td>\n",
       "      <td>-3.0</td>\n",
       "      <td>5.0</td>\n",
       "      <td>-6.0</td>\n",
       "      <td>5.0</td>\n",
       "      <td>-1.0</td>\n",
       "      <td>-3.0</td>\n",
       "      <td>-1.0</td>\n",
       "    </tr>\n",
       "    <tr>\n",
       "      <td>6490</td>\n",
       "      <td>3</td>\n",
       "      <td>8</td>\n",
       "      <td>13.0</td>\n",
       "      <td>7.0</td>\n",
       "      <td>8.0</td>\n",
       "      <td>10.0</td>\n",
       "      <td>9.0</td>\n",
       "      <td>8.0</td>\n",
       "      <td>11.0</td>\n",
       "      <td>6.0</td>\n",
       "      <td>-1.0</td>\n",
       "      <td>-2.0</td>\n",
       "      <td>1.0</td>\n",
       "      <td>1.0</td>\n",
       "      <td>-3.0</td>\n",
       "      <td>4.0</td>\n",
       "    </tr>\n",
       "    <tr>\n",
       "      <td>6491</td>\n",
       "      <td>4</td>\n",
       "      <td>8</td>\n",
       "      <td>13.0</td>\n",
       "      <td>9.0</td>\n",
       "      <td>6.0</td>\n",
       "      <td>9.0</td>\n",
       "      <td>5.0</td>\n",
       "      <td>13.0</td>\n",
       "      <td>8.0</td>\n",
       "      <td>4.0</td>\n",
       "      <td>3.0</td>\n",
       "      <td>-3.0</td>\n",
       "      <td>4.0</td>\n",
       "      <td>-8.0</td>\n",
       "      <td>5.0</td>\n",
       "      <td>-4.0</td>\n",
       "    </tr>\n",
       "    <tr>\n",
       "      <td>6492</td>\n",
       "      <td>5</td>\n",
       "      <td>8</td>\n",
       "      <td>14.0</td>\n",
       "      <td>9.0</td>\n",
       "      <td>7.0</td>\n",
       "      <td>6.0</td>\n",
       "      <td>11.0</td>\n",
       "      <td>13.0</td>\n",
       "      <td>5.0</td>\n",
       "      <td>5.0</td>\n",
       "      <td>2.0</td>\n",
       "      <td>1.0</td>\n",
       "      <td>-5.0</td>\n",
       "      <td>-2.0</td>\n",
       "      <td>8.0</td>\n",
       "      <td>-3.0</td>\n",
       "    </tr>\n",
       "  </tbody>\n",
       "</table>\n",
       "</div>"
      ],
      "text/plain": [
       "      Product_Code  Week  Sales_last_1_week  Sales_last_2_week  \\\n",
       "6488             1     8               21.0               14.0   \n",
       "6489             2     8                3.0                6.0   \n",
       "6490             3     8               13.0                7.0   \n",
       "6491             4     8               13.0                9.0   \n",
       "6492             5     8               14.0                9.0   \n",
       "\n",
       "      Sales_last_3_week  Sales_last_4_week  Sales_last_5_week  \\\n",
       "6488               12.0               13.0                8.0   \n",
       "6489                1.0                7.0                2.0   \n",
       "6490                8.0               10.0                9.0   \n",
       "6491                6.0                9.0                5.0   \n",
       "6492                7.0                6.0               11.0   \n",
       "\n",
       "      Sales_last_6_week  Sales_last_7_week  Diff_sales_last_1_week  \\\n",
       "6488               10.0               12.0                     7.0   \n",
       "6489                3.0                6.0                    -3.0   \n",
       "6490                8.0               11.0                     6.0   \n",
       "6491               13.0                8.0                     4.0   \n",
       "6492               13.0                5.0                     5.0   \n",
       "\n",
       "      Diff_sales_last_2_week  Diff_sales_last_3_week  Diff_sales_last_4_week  \\\n",
       "6488                     2.0                    -1.0                     5.0   \n",
       "6489                     5.0                    -6.0                     5.0   \n",
       "6490                    -1.0                    -2.0                     1.0   \n",
       "6491                     3.0                    -3.0                     4.0   \n",
       "6492                     2.0                     1.0                    -5.0   \n",
       "\n",
       "      Diff_sales_last_5_week  Diff_sales_last_6_week  Diff_sales_last_7_week  \n",
       "6488                    -2.0                    -2.0                     1.0  \n",
       "6489                    -1.0                    -3.0                    -1.0  \n",
       "6490                     1.0                    -3.0                     4.0  \n",
       "6491                    -8.0                     5.0                    -4.0  \n",
       "6492                    -2.0                     8.0                    -3.0  "
      ]
     },
     "execution_count": 19,
     "metadata": {},
     "output_type": "execute_result"
    }
   ],
   "source": [
    "X_train[:5]"
   ]
  },
  {
   "cell_type": "code",
   "execution_count": 20,
   "metadata": {},
   "outputs": [
    {
     "data": {
      "text/html": [
       "<div>\n",
       "<style scoped>\n",
       "    .dataframe tbody tr th:only-of-type {\n",
       "        vertical-align: middle;\n",
       "    }\n",
       "\n",
       "    .dataframe tbody tr th {\n",
       "        vertical-align: top;\n",
       "    }\n",
       "\n",
       "    .dataframe thead th {\n",
       "        text-align: right;\n",
       "    }\n",
       "</style>\n",
       "<table border=\"1\" class=\"dataframe\">\n",
       "  <thead>\n",
       "    <tr style=\"text-align: right;\">\n",
       "      <th></th>\n",
       "      <th>Product_Code</th>\n",
       "      <th>Week</th>\n",
       "      <th>Sales_last_1_week</th>\n",
       "      <th>Sales_last_2_week</th>\n",
       "      <th>Sales_last_3_week</th>\n",
       "      <th>Sales_last_4_week</th>\n",
       "      <th>Sales_last_5_week</th>\n",
       "      <th>Sales_last_6_week</th>\n",
       "      <th>Sales_last_7_week</th>\n",
       "      <th>Diff_sales_last_1_week</th>\n",
       "      <th>Diff_sales_last_2_week</th>\n",
       "      <th>Diff_sales_last_3_week</th>\n",
       "      <th>Diff_sales_last_4_week</th>\n",
       "      <th>Diff_sales_last_5_week</th>\n",
       "      <th>Diff_sales_last_6_week</th>\n",
       "      <th>Diff_sales_last_7_week</th>\n",
       "    </tr>\n",
       "  </thead>\n",
       "  <tbody>\n",
       "    <tr>\n",
       "      <td>34873</td>\n",
       "      <td>1</td>\n",
       "      <td>43</td>\n",
       "      <td>4.0</td>\n",
       "      <td>11.0</td>\n",
       "      <td>7.0</td>\n",
       "      <td>17.0</td>\n",
       "      <td>12.0</td>\n",
       "      <td>9.0</td>\n",
       "      <td>10.0</td>\n",
       "      <td>-7.0</td>\n",
       "      <td>4.0</td>\n",
       "      <td>-10.0</td>\n",
       "      <td>5.0</td>\n",
       "      <td>3.0</td>\n",
       "      <td>-1.0</td>\n",
       "      <td>-4.0</td>\n",
       "    </tr>\n",
       "    <tr>\n",
       "      <td>34874</td>\n",
       "      <td>2</td>\n",
       "      <td>43</td>\n",
       "      <td>2.0</td>\n",
       "      <td>5.0</td>\n",
       "      <td>2.0</td>\n",
       "      <td>3.0</td>\n",
       "      <td>7.0</td>\n",
       "      <td>2.0</td>\n",
       "      <td>5.0</td>\n",
       "      <td>-3.0</td>\n",
       "      <td>3.0</td>\n",
       "      <td>-1.0</td>\n",
       "      <td>-4.0</td>\n",
       "      <td>5.0</td>\n",
       "      <td>-3.0</td>\n",
       "      <td>-5.0</td>\n",
       "    </tr>\n",
       "    <tr>\n",
       "      <td>34875</td>\n",
       "      <td>3</td>\n",
       "      <td>43</td>\n",
       "      <td>6.0</td>\n",
       "      <td>5.0</td>\n",
       "      <td>3.0</td>\n",
       "      <td>9.0</td>\n",
       "      <td>12.0</td>\n",
       "      <td>12.0</td>\n",
       "      <td>6.0</td>\n",
       "      <td>1.0</td>\n",
       "      <td>2.0</td>\n",
       "      <td>-6.0</td>\n",
       "      <td>-3.0</td>\n",
       "      <td>0.0</td>\n",
       "      <td>6.0</td>\n",
       "      <td>-3.0</td>\n",
       "    </tr>\n",
       "    <tr>\n",
       "      <td>34876</td>\n",
       "      <td>4</td>\n",
       "      <td>43</td>\n",
       "      <td>9.0</td>\n",
       "      <td>6.0</td>\n",
       "      <td>12.0</td>\n",
       "      <td>8.0</td>\n",
       "      <td>8.0</td>\n",
       "      <td>6.0</td>\n",
       "      <td>8.0</td>\n",
       "      <td>3.0</td>\n",
       "      <td>-6.0</td>\n",
       "      <td>4.0</td>\n",
       "      <td>0.0</td>\n",
       "      <td>2.0</td>\n",
       "      <td>-2.0</td>\n",
       "      <td>-11.0</td>\n",
       "    </tr>\n",
       "    <tr>\n",
       "      <td>34877</td>\n",
       "      <td>5</td>\n",
       "      <td>43</td>\n",
       "      <td>7.0</td>\n",
       "      <td>8.0</td>\n",
       "      <td>5.0</td>\n",
       "      <td>5.0</td>\n",
       "      <td>8.0</td>\n",
       "      <td>8.0</td>\n",
       "      <td>4.0</td>\n",
       "      <td>-1.0</td>\n",
       "      <td>3.0</td>\n",
       "      <td>0.0</td>\n",
       "      <td>-3.0</td>\n",
       "      <td>0.0</td>\n",
       "      <td>4.0</td>\n",
       "      <td>-3.0</td>\n",
       "    </tr>\n",
       "  </tbody>\n",
       "</table>\n",
       "</div>"
      ],
      "text/plain": [
       "       Product_Code  Week  Sales_last_1_week  Sales_last_2_week  \\\n",
       "34873             1    43                4.0               11.0   \n",
       "34874             2    43                2.0                5.0   \n",
       "34875             3    43                6.0                5.0   \n",
       "34876             4    43                9.0                6.0   \n",
       "34877             5    43                7.0                8.0   \n",
       "\n",
       "       Sales_last_3_week  Sales_last_4_week  Sales_last_5_week  \\\n",
       "34873                7.0               17.0               12.0   \n",
       "34874                2.0                3.0                7.0   \n",
       "34875                3.0                9.0               12.0   \n",
       "34876               12.0                8.0                8.0   \n",
       "34877                5.0                5.0                8.0   \n",
       "\n",
       "       Sales_last_6_week  Sales_last_7_week  Diff_sales_last_1_week  \\\n",
       "34873                9.0               10.0                    -7.0   \n",
       "34874                2.0                5.0                    -3.0   \n",
       "34875               12.0                6.0                     1.0   \n",
       "34876                6.0                8.0                     3.0   \n",
       "34877                8.0                4.0                    -1.0   \n",
       "\n",
       "       Diff_sales_last_2_week  Diff_sales_last_3_week  Diff_sales_last_4_week  \\\n",
       "34873                     4.0                   -10.0                     5.0   \n",
       "34874                     3.0                    -1.0                    -4.0   \n",
       "34875                     2.0                    -6.0                    -3.0   \n",
       "34876                    -6.0                     4.0                     0.0   \n",
       "34877                     3.0                     0.0                    -3.0   \n",
       "\n",
       "       Diff_sales_last_5_week  Diff_sales_last_6_week  Diff_sales_last_7_week  \n",
       "34873                     3.0                    -1.0                    -4.0  \n",
       "34874                     5.0                    -3.0                    -5.0  \n",
       "34875                     0.0                     6.0                    -3.0  \n",
       "34876                     2.0                    -2.0                   -11.0  \n",
       "34877                     0.0                     4.0                    -3.0  "
      ]
     },
     "execution_count": 20,
     "metadata": {},
     "output_type": "execute_result"
    }
   ],
   "source": [
    "X_test[:5]"
   ]
  },
  {
   "cell_type": "markdown",
   "metadata": {},
   "source": [
    "### Scaling (normalization) of the X value\n",
    "\n",
    "X should never be too big. Ideally, it should be in the range [-1, 1]. If this is not the case, normalize the input.\n",
    "\n",
    "### <span style=\"color:green\"> Skalowanie (normalizacja) wartości X\n",
    "\n",
    "<span style=\"color:green\"> X nigdy nie powinien być zbyt duży. Idealnie powinien być w zakresie [-1, 1]. Jeśli tak nie jest, należy znormalizować dane wejściowe."
   ]
  },
  {
   "cell_type": "code",
   "execution_count": 21,
   "metadata": {},
   "outputs": [
    {
     "name": "stdout",
     "output_type": "stream",
     "text": [
      "1.0 0.0\n"
     ]
    }
   ],
   "source": [
    "from sklearn.preprocessing import StandardScaler\n",
    "\n",
    "sc = StandardScaler()\n",
    "X_train = sc.fit_transform(X_train)\n",
    "\n",
    "print(np.round(X_train.std(), decimals=4), np.round(X_train.mean(), decimals=4))"
   ]
  },
  {
   "cell_type": "code",
   "execution_count": 22,
   "metadata": {},
   "outputs": [
    {
     "name": "stdout",
     "output_type": "stream",
     "text": [
      "0.9682 0.0\n"
     ]
    }
   ],
   "source": [
    "from sklearn.preprocessing import StandardScaler\n",
    "\n",
    "sc = StandardScaler()\n",
    "X_test = sc.fit_transform(X_test)\n",
    "\n",
    "print(np.round(X_test.std(), decimals=4), np.round(X_test.mean(), decimals=4))"
   ]
  },
  {
   "cell_type": "raw",
   "metadata": {},
   "source": [
    "y_train.value_counts()"
   ]
  },
  {
   "cell_type": "code",
   "execution_count": 23,
   "metadata": {},
   "outputs": [
    {
     "name": "stdout",
     "output_type": "stream",
     "text": [
      "0.1201 0.0884\n"
     ]
    }
   ],
   "source": [
    "y_train = (y_train / 100)  # max test score is 100\n",
    "#print(y.head(3))\n",
    "print(np.round(y_train.std(), decimals=4), np.round(y_train.mean(), decimals=4))"
   ]
  },
  {
   "cell_type": "code",
   "execution_count": 24,
   "metadata": {},
   "outputs": [
    {
     "name": "stdout",
     "output_type": "stream",
     "text": [
      "0.1124 0.0832\n"
     ]
    }
   ],
   "source": [
    "y_test = (y_test / 100)  # max test score is 100\n",
    "#print(y.head(3))\n",
    "print(np.round(y_test.std(), decimals=4), np.round(y_test.mean(), decimals=4))"
   ]
  },
  {
   "cell_type": "markdown",
   "metadata": {},
   "source": [
    "### Creates random input and output\n",
    "\n",
    "### <span style=\"color:green\"> Tworzy losowe dane wejściowe i wyjściowe "
   ]
  },
  {
   "cell_type": "code",
   "execution_count": 25,
   "metadata": {},
   "outputs": [
    {
     "name": "stdout",
     "output_type": "stream",
     "text": [
      "tensor([[-1.7224, -1.6833,  1.0057,  0.4196,  0.2507,  0.3273, -0.0842,  0.0749,\n",
      "          0.2333,  1.5197,  0.4382, -0.2045,  1.0763, -0.4174, -0.4184,  0.2175],\n",
      "        [-1.7182, -1.6833, -0.4866, -0.2401, -0.6529, -0.1630, -0.5718, -0.4913,\n",
      "         -0.2503, -0.6383,  1.0836, -1.2766,  1.0763, -0.2047, -0.6310, -0.2065],\n",
      "        [-1.7140, -1.6833,  0.3424, -0.1577, -0.0779,  0.0822, -0.0029, -0.0869,\n",
      "          0.1527,  1.3039, -0.2073, -0.4189,  0.2224,  0.2207, -0.6310,  0.8535]],\n",
      "       dtype=torch.float64)\n"
     ]
    }
   ],
   "source": [
    "import torch\n",
    "import numpy as np\n",
    "\n",
    "#X = X.values       #- jak była normalizacja to to nie działa\n",
    "X_train = torch.tensor(X_train)\n",
    "print(X_train[:3])"
   ]
  },
  {
   "cell_type": "code",
   "execution_count": 26,
   "metadata": {},
   "outputs": [
    {
     "name": "stdout",
     "output_type": "stream",
     "text": [
      "tensor([[-1.7224, -1.6833,  1.0057,  0.4196,  0.2507,  0.3273, -0.0842,  0.0749,\n",
      "          0.2333,  1.5197,  0.4382, -0.2045,  1.0763, -0.4174, -0.4184,  0.2175],\n",
      "        [-1.7182, -1.6833, -0.4866, -0.2401, -0.6529, -0.1630, -0.5718, -0.4913,\n",
      "         -0.2503, -0.6383,  1.0836, -1.2766,  1.0763, -0.2047, -0.6310, -0.2065],\n",
      "        [-1.7140, -1.6833,  0.3424, -0.1577, -0.0779,  0.0822, -0.0029, -0.0869,\n",
      "          0.1527,  1.3039, -0.2073, -0.4189,  0.2224,  0.2207, -0.6310,  0.8535]])\n"
     ]
    }
   ],
   "source": [
    "X_train = X_train.type(torch.FloatTensor)\n",
    "print(X_train[:3])"
   ]
  },
  {
   "cell_type": "code",
   "execution_count": 27,
   "metadata": {},
   "outputs": [
    {
     "name": "stdout",
     "output_type": "stream",
     "text": [
      "tensor([[-1.7224,  0.0000, -0.3875,  0.2478, -0.1068,  0.8403,  0.3327,  0.0854,\n",
      "          0.1814, -1.6591,  0.9297, -2.4464,  1.2700,  0.6765, -0.2349, -0.9518],\n",
      "        [-1.7182,  0.0000, -0.5638, -0.2910, -0.5584, -0.4618, -0.1111, -0.5599,\n",
      "         -0.2755, -0.7315,  0.6939, -0.2914, -0.8923,  1.1559, -0.6784, -1.1887],\n",
      "        [-1.7140,  0.0000, -0.2111, -0.2910, -0.4681,  0.0962,  0.3327,  0.3619,\n",
      "         -0.1841,  0.1962,  0.4580, -1.4886, -0.6520, -0.0426,  1.3175, -0.7149]],\n",
      "       dtype=torch.float64)\n"
     ]
    }
   ],
   "source": [
    "#X = X.values       #- jak była normalizacja to to nie działa\n",
    "X_test = torch.tensor(X_test)\n",
    "print(X_test[:3])"
   ]
  },
  {
   "cell_type": "code",
   "execution_count": 28,
   "metadata": {},
   "outputs": [
    {
     "name": "stdout",
     "output_type": "stream",
     "text": [
      "tensor([[-1.7224,  0.0000, -0.3875,  0.2478, -0.1068,  0.8403,  0.3327,  0.0854,\n",
      "          0.1814, -1.6591,  0.9297, -2.4464,  1.2700,  0.6765, -0.2349, -0.9518],\n",
      "        [-1.7182,  0.0000, -0.5638, -0.2910, -0.5584, -0.4618, -0.1111, -0.5599,\n",
      "         -0.2755, -0.7315,  0.6939, -0.2914, -0.8923,  1.1559, -0.6784, -1.1887],\n",
      "        [-1.7140,  0.0000, -0.2111, -0.2910, -0.4681,  0.0962,  0.3327,  0.3619,\n",
      "         -0.1841,  0.1962,  0.4580, -1.4886, -0.6520, -0.0426,  1.3175, -0.7149]])\n"
     ]
    }
   ],
   "source": [
    "X_test = X_test.type(torch.FloatTensor)\n",
    "print(X_test[:3])"
   ]
  },
  {
   "cell_type": "code",
   "execution_count": null,
   "metadata": {},
   "outputs": [],
   "source": []
  },
  {
   "cell_type": "code",
   "execution_count": null,
   "metadata": {},
   "outputs": [],
   "source": []
  },
  {
   "cell_type": "code",
   "execution_count": null,
   "metadata": {},
   "outputs": [],
   "source": []
  },
  {
   "cell_type": "raw",
   "metadata": {},
   "source": [
    "y_train = y_train.values   # tworzymy macierz numpy - jak była normalizacja to to nie działa"
   ]
  },
  {
   "cell_type": "code",
   "execution_count": 29,
   "metadata": {},
   "outputs": [
    {
     "name": "stdout",
     "output_type": "stream",
     "text": [
      "tensor([0.0600, 0.0300, 0.1200], dtype=torch.float64)\n"
     ]
    }
   ],
   "source": [
    "y_train = torch.tensor(y_train)\n",
    "print(y_train[:3])"
   ]
  },
  {
   "cell_type": "code",
   "execution_count": 30,
   "metadata": {},
   "outputs": [
    {
     "name": "stdout",
     "output_type": "stream",
     "text": [
      "tensor([0.0700, 0.0400, 0.1400], dtype=torch.float64)\n"
     ]
    }
   ],
   "source": [
    "y_test = torch.tensor(y_test)\n",
    "print(y_test[:3])"
   ]
  },
  {
   "cell_type": "code",
   "execution_count": null,
   "metadata": {},
   "outputs": [],
   "source": []
  },
  {
   "cell_type": "markdown",
   "metadata": {},
   "source": [
    "### TRanspends the resulting vector to become a column\n",
    "### <span style=\"color:green\"> TRansponuje wektor wynikowy aby stał się kolumną</span>\n",
    "# ZMIENNE TRENINGOWE"
   ]
  },
  {
   "cell_type": "raw",
   "metadata": {},
   "source": [
    "y_train = y_train.view(y_train.shape[0],1)\n",
    "y_train[:5]"
   ]
  },
  {
   "cell_type": "code",
   "execution_count": 31,
   "metadata": {},
   "outputs": [],
   "source": [
    "y_train = y_train.type(torch.FloatTensor)"
   ]
  },
  {
   "cell_type": "code",
   "execution_count": 32,
   "metadata": {},
   "outputs": [
    {
     "name": "stdout",
     "output_type": "stream",
     "text": [
      "X_train: torch.Size([28385, 16])\n",
      "y_train: torch.Size([28385])\n"
     ]
    }
   ],
   "source": [
    "print('X_train:',X_train.shape)\n",
    "print('y_train:',y_train.shape)"
   ]
  },
  {
   "cell_type": "markdown",
   "metadata": {},
   "source": [
    "Dodanie jednego wymiaru do wektora wynikowego"
   ]
  },
  {
   "cell_type": "code",
   "execution_count": 33,
   "metadata": {},
   "outputs": [
    {
     "data": {
      "text/plain": [
       "torch.Size([28385, 1])"
      ]
     },
     "execution_count": 33,
     "metadata": {},
     "output_type": "execute_result"
    }
   ],
   "source": [
    "y_train = y_train.view(y_train.shape[0],1)\n",
    "y_train.shape"
   ]
  },
  {
   "cell_type": "code",
   "execution_count": 34,
   "metadata": {},
   "outputs": [
    {
     "data": {
      "text/plain": [
       "tensor([[-1.7224, -1.6833,  1.0057,  ..., -0.4174, -0.4184,  0.2175],\n",
       "        [-1.7182, -1.6833, -0.4866,  ..., -0.2047, -0.6310, -0.2065],\n",
       "        [-1.7140, -1.6833,  0.3424,  ...,  0.2207, -0.6310,  0.8535],\n",
       "        ...,\n",
       "        [ 1.7308,  1.6833, -0.6524,  ...,  0.0080,  0.0068,  0.0055],\n",
       "        [ 1.7351,  1.6833, -0.7353,  ...,  0.0080,  0.0068,  0.0055],\n",
       "        [ 1.7393,  1.6833, -0.7353,  ...,  0.0080, -0.4184,  0.6415]])"
      ]
     },
     "execution_count": 34,
     "metadata": {},
     "output_type": "execute_result"
    }
   ],
   "source": [
    "X_train"
   ]
  },
  {
   "cell_type": "markdown",
   "metadata": {},
   "source": [
    "# ZMIENNE TESTOWE"
   ]
  },
  {
   "cell_type": "code",
   "execution_count": 35,
   "metadata": {},
   "outputs": [],
   "source": [
    "y_test = y_test.type(torch.FloatTensor)"
   ]
  },
  {
   "cell_type": "code",
   "execution_count": 36,
   "metadata": {},
   "outputs": [
    {
     "name": "stdout",
     "output_type": "stream",
     "text": [
      "X_test: torch.Size([811, 16])\n",
      "y_test: torch.Size([811])\n"
     ]
    }
   ],
   "source": [
    "print('X_test:',X_test.shape)\n",
    "print('y_test:',y_test.shape)"
   ]
  },
  {
   "cell_type": "markdown",
   "metadata": {},
   "source": [
    "Dodanie jednego wymiaru do wektora wynikowego"
   ]
  },
  {
   "cell_type": "code",
   "execution_count": 37,
   "metadata": {},
   "outputs": [
    {
     "data": {
      "text/plain": [
       "torch.Size([811, 1])"
      ]
     },
     "execution_count": 37,
     "metadata": {},
     "output_type": "execute_result"
    }
   ],
   "source": [
    "y_test = y_test.view(y_test.shape[0],1)\n",
    "y_test.shape"
   ]
  },
  {
   "cell_type": "code",
   "execution_count": 38,
   "metadata": {},
   "outputs": [
    {
     "data": {
      "text/plain": [
       "tensor([[-1.7224,  0.0000, -0.3875,  ...,  0.6765, -0.2349, -0.9518],\n",
       "        [-1.7182,  0.0000, -0.5638,  ...,  1.1559, -0.6784, -1.1887],\n",
       "        [-1.7140,  0.0000, -0.2111,  ..., -0.0426,  1.3175, -0.7149],\n",
       "        ...,\n",
       "        [ 1.7308,  0.0000, -0.5638,  ..., -0.0426, -0.0131, -0.0041],\n",
       "        [ 1.7351,  0.0000, -0.7401,  ..., -0.0426, -0.0131, -0.0041],\n",
       "        [ 1.7393,  0.0000, -0.7401,  ..., -0.0426, -0.0131, -0.4779]])"
      ]
     },
     "execution_count": 38,
     "metadata": {},
     "output_type": "execute_result"
    }
   ],
   "source": [
    "X_test"
   ]
  },
  {
   "cell_type": "markdown",
   "metadata": {},
   "source": [
    "### I specify what is X and what is y\n",
    "\n",
    "### <span style=\"color:green\"> Określam co jest X a co y"
   ]
  },
  {
   "cell_type": "raw",
   "metadata": {},
   "source": [
    "X = melt4.drop(['Sales'],1)\n",
    "y = melt4['Sales']"
   ]
  },
  {
   "cell_type": "raw",
   "metadata": {},
   "source": [
    "X_SuperT = df5.drop(['Sales'],1)\n",
    "y_SuperT = df5['Sales']"
   ]
  },
  {
   "cell_type": "raw",
   "metadata": {},
   "source": [
    "stop"
   ]
  },
  {
   "cell_type": "markdown",
   "metadata": {},
   "source": [
    "<span style=\"font-size: 110%;background:##ffe599\">Wynik (ilość rowerów wypożyczonych) przed skalowaniem</span>  "
   ]
  },
  {
   "cell_type": "code",
   "execution_count": 39,
   "metadata": {},
   "outputs": [
    {
     "data": {
      "text/plain": [
       "tensor([[0.0600],\n",
       "        [0.0300],\n",
       "        [0.1200],\n",
       "        [0.1300],\n",
       "        [0.0900]])"
      ]
     },
     "execution_count": 39,
     "metadata": {},
     "output_type": "execute_result"
    }
   ],
   "source": [
    "y_train[:5]"
   ]
  },
  {
   "cell_type": "code",
   "execution_count": 40,
   "metadata": {},
   "outputs": [
    {
     "data": {
      "text/plain": [
       "tensor([[0.0700],\n",
       "        [0.0400],\n",
       "        [0.1400],\n",
       "        [0.1000],\n",
       "        [0.1100]])"
      ]
     },
     "execution_count": 40,
     "metadata": {},
     "output_type": "execute_result"
    }
   ],
   "source": [
    "y_test[:5]"
   ]
  },
  {
   "cell_type": "markdown",
   "metadata": {},
   "source": [
    "<span style=\"font-size: 110%;background:##ffe599\">Zmienne opisujące przed skalowaniem"
   ]
  },
  {
   "cell_type": "code",
   "execution_count": 41,
   "metadata": {},
   "outputs": [
    {
     "data": {
      "text/plain": [
       "tensor([[-1.7224e+00, -1.6833e+00,  1.0057e+00,  4.1962e-01,  2.5066e-01,\n",
       "          3.2729e-01, -8.4220e-02,  7.4904e-02,  2.3329e-01,  1.5197e+00,\n",
       "          4.3819e-01, -2.0455e-01,  1.0763e+00, -4.1744e-01, -4.1840e-01,\n",
       "          2.1749e-01],\n",
       "        [-1.7182e+00, -1.6833e+00, -4.8662e-01, -2.4013e-01, -6.5288e-01,\n",
       "         -1.6296e-01, -5.7184e-01, -4.9125e-01, -2.5033e-01, -6.3827e-01,\n",
       "          1.0836e+00, -1.2766e+00,  1.0763e+00, -2.0472e-01, -6.3099e-01,\n",
       "         -2.0652e-01],\n",
       "        [-1.7140e+00, -1.6833e+00,  3.4245e-01, -1.5766e-01, -7.7903e-02,\n",
       "          8.2165e-02, -2.9491e-03, -8.6854e-02,  1.5268e-01,  1.3039e+00,\n",
       "         -2.0726e-01, -4.1895e-01,  2.2242e-01,  2.2071e-01, -6.3099e-01,\n",
       "          8.5351e-01],\n",
       "        [-1.7097e+00, -1.6833e+00,  3.4245e-01,  7.2780e-03, -2.4218e-01,\n",
       "          4.5769e-04, -3.2803e-01,  3.1754e-01, -8.9125e-02,  8.7231e-01,\n",
       "          6.5334e-01, -6.3335e-01,  8.6284e-01, -1.6937e+00,  1.0697e+00,\n",
       "         -8.4255e-01],\n",
       "        [-1.7055e+00, -1.6833e+00,  4.2536e-01,  7.2780e-03, -1.6004e-01,\n",
       "         -2.4466e-01,  1.5959e-01,  3.1754e-01, -3.3093e-01,  1.0881e+00,\n",
       "          4.3819e-01,  2.2426e-01, -1.0584e+00, -4.1744e-01,  1.7075e+00,\n",
       "         -6.3054e-01]])"
      ]
     },
     "execution_count": 41,
     "metadata": {},
     "output_type": "execute_result"
    }
   ],
   "source": [
    "X_train[:5]"
   ]
  },
  {
   "cell_type": "code",
   "execution_count": 42,
   "metadata": {},
   "outputs": [
    {
     "data": {
      "text/plain": [
       "tensor([[-1.7224e+00,  0.0000e+00, -3.8747e-01,  2.4784e-01, -1.0680e-01,\n",
       "          8.4026e-01,  3.3275e-01,  8.5363e-02,  1.8139e-01, -1.6591e+00,\n",
       "          9.2971e-01, -2.4464e+00,  1.2700e+00,  6.7651e-01, -2.3490e-01,\n",
       "         -9.5179e-01],\n",
       "        [-1.7182e+00,  0.0000e+00, -5.6381e-01, -2.9103e-01, -5.5840e-01,\n",
       "         -4.6182e-01, -1.1110e-01, -5.5992e-01, -2.7547e-01, -7.3146e-01,\n",
       "          6.9387e-01, -2.9140e-01, -8.9230e-01,  1.1559e+00, -6.7845e-01,\n",
       "         -1.1887e+00],\n",
       "        [-1.7140e+00,  0.0000e+00, -2.1113e-01, -2.9103e-01, -4.6808e-01,\n",
       "          9.6217e-02,  3.3275e-01,  3.6191e-01, -1.8410e-01,  1.9616e-01,\n",
       "          4.5802e-01, -1.4886e+00, -6.5204e-01, -4.2559e-02,  1.3175e+00,\n",
       "         -7.1486e-01],\n",
       "        [-1.7097e+00,  0.0000e+00,  5.3380e-02, -2.0122e-01,  3.4479e-01,\n",
       "          3.2110e-03, -2.2329e-02, -1.9119e-01, -1.3520e-03,  6.5998e-01,\n",
       "         -1.4287e+00,  9.0580e-01,  6.8730e-02,  4.3682e-01, -4.5667e-01,\n",
       "         -2.6103e+00],\n",
       "        [-1.7055e+00,  0.0000e+00, -1.2296e-01, -2.1595e-02, -2.8744e-01,\n",
       "         -2.7581e-01, -2.2329e-02, -6.8199e-03, -3.6684e-01, -2.6765e-01,\n",
       "          6.9387e-01, -5.1962e-02, -6.5204e-01, -4.2559e-02,  8.7397e-01,\n",
       "         -7.1486e-01]])"
      ]
     },
     "execution_count": 42,
     "metadata": {},
     "output_type": "execute_result"
    }
   ],
   "source": [
    "X_test[:5]"
   ]
  },
  {
   "cell_type": "code",
   "execution_count": 43,
   "metadata": {},
   "outputs": [
    {
     "name": "stdout",
     "output_type": "stream",
     "text": [
      "X_train:  torch.Size([28385, 16])\n",
      "X_test:   torch.Size([811, 16])\n",
      "----------------------------------------------------\n",
      "y_train:  torch.Size([28385, 1])\n",
      "y_test:   torch.Size([811, 1])\n"
     ]
    }
   ],
   "source": [
    "print('X_train: ',X_train.shape)\n",
    "print('X_test:  ',X_test.shape)\n",
    "print('----------------------------------------------------')\n",
    "print('y_train: ',y_train.shape)\n",
    "print('y_test:  ',y_test.shape)"
   ]
  },
  {
   "cell_type": "markdown",
   "metadata": {},
   "source": [
    "## Defining the neural network\n",
    "##### Programowanie torch.nn.Module"
   ]
  },
  {
   "cell_type": "code",
   "execution_count": 44,
   "metadata": {},
   "outputs": [],
   "source": [
    "class Net(torch.nn.Module):\n",
    "    def __init__(self, n_feature, n_hidden, n_output):\n",
    "        super(Net, self).__init__()\n",
    "        self.hidden = torch.nn.Linear(n_feature, n_hidden)   # hidden layer\n",
    "        self.predict = torch.nn.Linear(n_hidden, n_output)   # output layer\n",
    "\n",
    "    def forward(self, x):\n",
    "        x = F.relu(self.hidden(x))      # activation function for hidden layer\n",
    "        x = self.predict(x)             # linear output\n",
    "        return x"
   ]
  },
  {
   "cell_type": "markdown",
   "metadata": {},
   "source": [
    "##### Definicja krztałtu sieci"
   ]
  },
  {
   "cell_type": "code",
   "execution_count": 45,
   "metadata": {},
   "outputs": [],
   "source": [
    "N, D_in = X_train.shape\n",
    "N, D_out = y_train.shape\n",
    "\n",
    "H = 100                            ## liczba wymiarów warstwy wewnętrznej \n",
    "device = torch.device('cpu')"
   ]
  },
  {
   "cell_type": "code",
   "execution_count": 46,
   "metadata": {},
   "outputs": [],
   "source": [
    "net = torch.nn.Sequential(\n",
    "        torch.nn.Linear(D_in,  H),   # Warstwa WEJŚCIOA\n",
    "        torch.nn.LeakyReLU(),\n",
    "        torch.nn.Linear(H, H),        # warstwa wewnętrzna\n",
    "        torch.nn.LeakyReLU(),\n",
    "        torch.nn.Linear(H, D_out),    # warstwa wyjściowa\n",
    "    ).to(device)  "
   ]
  },
  {
   "cell_type": "code",
   "execution_count": 47,
   "metadata": {},
   "outputs": [
    {
     "data": {
      "text/plain": [
       "tensor([[0.2672],\n",
       "        [0.1937],\n",
       "        [0.2822],\n",
       "        ...,\n",
       "        [0.0872],\n",
       "        [0.0886],\n",
       "        [0.0996]], grad_fn=<AddmmBackward>)"
      ]
     },
     "execution_count": 47,
     "metadata": {},
     "output_type": "execute_result"
    }
   ],
   "source": [
    "net(X_train)"
   ]
  },
  {
   "cell_type": "markdown",
   "metadata": {},
   "source": [
    "## Алгоритм оптимизации:\n",
    "\n",
    "##### Optymalizator \n",
    "lr: Speed of learning -> The speed at which our model updates the weights in the cells each time backward propagation is carried out\n",
    "\n",
    "lr: Szybkość uczenia się -> Szybkość, z jaką nasz model aktualizuje wagi w komórkach za każdym razem, gdy przeprowadzana jest wsteczna propagacja"
   ]
  },
  {
   "cell_type": "code",
   "execution_count": 48,
   "metadata": {},
   "outputs": [],
   "source": [
    "#optimizer = torch.optim.SGD(net.parameters(), lr=0.01, momentum=0, dampening=0, weight_decay=0, nesterov=False) #-2.401\n",
    "#optimizer = torch.optim.SGD(net.parameters(), lr=0.1) #-4.086\n",
    "optimizer = torch.optim.Adam(net.parameters(), lr=0.01) #-5.298\n",
    "#optimizer = torch.optim.Adamax(net.parameters(), lr=0.01) #-6.610\n",
    "#optimizer = torch.optim.ASGD(net.parameters(), lr=0.01, lambd=0.0001, alpha=0.15, t0=000000.0) #-2.315\n",
    "#optimizer = torch.optim.LBFGS(net.parameters(), lr=0.01, max_iter=20, max_eval=None, tolerance_grad=1e-05, tolerance_change=1e-09, history_size=100, line_search_fn=None)\n",
    "#optimizer = torch.optim.RMSprop(net.parameters(), lr=0.01, alpha=0.99, eps=1e-08) #-5.152\n",
    "#optimizer = torch.optim.Rprop(net.parameters(), lr=0.01, etas=(0.5, 1.2), step_sizes=(1e-06, 50))  #R2:-7.388"
   ]
  },
  {
   "cell_type": "markdown",
   "metadata": {},
   "source": [
    "## Определение функции потерь\n",
    "to jest R2 dla regresji"
   ]
  },
  {
   "cell_type": "code",
   "execution_count": 49,
   "metadata": {},
   "outputs": [],
   "source": [
    "loss_func = torch.nn.MSELoss()"
   ]
  },
  {
   "cell_type": "markdown",
   "metadata": {},
   "source": [
    "### Definiowanie procesu nauki i nauka"
   ]
  },
  {
   "cell_type": "code",
   "execution_count": 50,
   "metadata": {},
   "outputs": [
    {
     "name": "stdout",
     "output_type": "stream",
     "text": [
      "0 0.017548827454447746\n",
      "200 0.0013017962919548154\n",
      "400 0.0012092810356989503\n",
      "600 0.0011572629446163774\n",
      "800 0.0011332607828080654\n"
     ]
    }
   ],
   "source": [
    "inputs = X_train                          #1. deklarujemy x i y do nauki\n",
    "outputs = y_train\n",
    "for i in range(1000):                          #2. pętla 1050 powtórzeń (epok)\n",
    "   prediction = net(inputs)\n",
    "   loss = loss_func(prediction, outputs) \n",
    "   optimizer.zero_grad()\n",
    "   loss.backward()        \n",
    "   optimizer.step()       \n",
    "\n",
    "   if i % 200 == 0:  \n",
    "      print(i, loss.item())     # <=# wartości y, a funkcja straty zwraca Tensor zawierający stratę.\n",
    "\n"
   ]
  },
  {
   "cell_type": "markdown",
   "metadata": {},
   "source": [
    "### There are many potential reasons. Most likely exploding gradients. The two things to try first:\n",
    "\n",
    "- Normalize the inputs\n",
    "- Lower the learning rate\n",
    "\n",
    "\n",
    "\n",
    "\n",
    "### <span style=\"color:green\">Istnieje wiele potencjalnych przyczyn. Najprawdopodobniej wybuchające gradienty. Dwie rzeczy do wypróbowania w pierwszej kolejności:\n",
    "\n",
    " - <span style=\"color:green\">- Normalizuj wejścia\n",
    " - <span style=\"color:green\">- Obniż tempo uczenia się"
   ]
  },
  {
   "cell_type": "raw",
   "metadata": {},
   "source": [
    "import matplotlib.pyplot as plt\n",
    "\n",
    "plt.plot(range(epochs), aggregated_losses)\n",
    "plt.ylabel('Loss')\n",
    "plt.xlabel('epoch')\n",
    "plt.show"
   ]
  },
  {
   "cell_type": "markdown",
   "metadata": {},
   "source": [
    "###  Forecast based on the model\n",
    "-  substitute the same equations that were in the model\n",
    "-  The following loss result shows the last model sequence\n",
    "-  Loss shows how much the model is wrong (loss = sum of error squares) after the last learning sequence\n",
    "\n",
    "### <span style=\"color:green\"> Prognoza na podstawie modelu\n",
    "- <span style=\"color:green\"> podstawiamy te same równania, które były w modelu \n",
    "- <span style=\"color:green\"> Poniższy wynik loss pokazuje ostatnią sekwencje modelu\n",
    "- <span style=\"color:green\"> Loss pokazuje ile myli się model (loss = suma kwadratu błedów) po ostatniej sekwencji uczenia się "
   ]
  },
  {
   "cell_type": "markdown",
   "metadata": {},
   "source": [
    "<span style=\"font-size: 180%;background:##ffe599\"> Podtsawiam pod model"
   ]
  },
  {
   "cell_type": "code",
   "execution_count": 51,
   "metadata": {},
   "outputs": [
    {
     "name": "stdout",
     "output_type": "stream",
     "text": [
      "Loss train_set: 1.01408410\n"
     ]
    }
   ],
   "source": [
    "with torch.no_grad():\n",
    "    y_pred = net(X_test)  \n",
    "    loss = (y_pred - y_test).pow(2).sum()\n",
    "\n",
    "    print(f'Loss train_set: {loss:.8f}')"
   ]
  },
  {
   "cell_type": "markdown",
   "metadata": {},
   "source": [
    "<span style=\"color:green\">Ponieważ ustaliliśmy, że nasza warstwa wyjściowa będzie zawierać 1 neuron, każda prognoza będzie zawierać 1 wartości. Przykładowo pierwsze 5 przewidywanych wartości wygląda następująco:"
   ]
  },
  {
   "cell_type": "markdown",
   "metadata": {},
   "source": [
    "### We save the whole model\n",
    "\n",
    "### <span style=\"color:green\"> Zapisujemy cały model"
   ]
  },
  {
   "cell_type": "code",
   "execution_count": 52,
   "metadata": {},
   "outputs": [],
   "source": [
    "torch.save(net,'/home/wojciech/Pulpit/7/byk25.pb')"
   ]
  },
  {
   "cell_type": "markdown",
   "metadata": {},
   "source": [
    "### We play the whole model\n",
    "### <span style=\"color:green\"> Odtwarzamy cały model\n",
    "    \n",
    "    Model teraz nie nazywa się 'net' tylo 'KOT'"
   ]
  },
  {
   "cell_type": "code",
   "execution_count": 53,
   "metadata": {},
   "outputs": [
    {
     "data": {
      "text/plain": [
       "Sequential(\n",
       "  (0): Linear(in_features=16, out_features=100, bias=True)\n",
       "  (1): LeakyReLU(negative_slope=0.01)\n",
       "  (2): Linear(in_features=100, out_features=100, bias=True)\n",
       "  (3): LeakyReLU(negative_slope=0.01)\n",
       "  (4): Linear(in_features=100, out_features=1, bias=True)\n",
       ")"
      ]
     },
     "execution_count": 53,
     "metadata": {},
     "output_type": "execute_result"
    }
   ],
   "source": [
    "KOT = torch.load('/home/wojciech/Pulpit/7/byk25.pb')\n",
    "KOT"
   ]
  },
  {
   "cell_type": "code",
   "execution_count": 54,
   "metadata": {},
   "outputs": [
    {
     "name": "stdout",
     "output_type": "stream",
     "text": [
      "Loss train_set: 0.00125041\n"
     ]
    }
   ],
   "source": [
    "with torch.no_grad():\n",
    "    y_interp = KOT(X_test)  \n",
    "    loss = (y_interp - y_test).pow(2).mean()\n",
    "\n",
    "    print(f'Loss train_set: {loss:.8f}')"
   ]
  },
  {
   "cell_type": "code",
   "execution_count": 55,
   "metadata": {},
   "outputs": [
    {
     "data": {
      "text/plain": [
       "tensor([[ 8.3352e-02],\n",
       "        [ 4.1011e-02],\n",
       "        [ 6.3378e-02],\n",
       "        [ 8.7185e-02],\n",
       "        [ 6.1095e-02],\n",
       "        [ 3.7329e-02],\n",
       "        [ 5.9086e-02],\n",
       "        [ 1.1818e-01],\n",
       "        [ 7.9140e-02],\n",
       "        [ 1.7528e-01],\n",
       "        [ 1.1832e-01],\n",
       "        [ 5.7329e-02],\n",
       "        [ 5.9013e-02],\n",
       "        [ 1.1187e-01],\n",
       "        [ 3.1934e-01],\n",
       "        [ 3.0115e-01],\n",
       "        [ 3.2690e-01],\n",
       "        [ 2.9763e-01],\n",
       "        [ 3.4528e-01],\n",
       "        [ 8.5366e-02],\n",
       "        [ 8.2620e-02],\n",
       "        [ 7.8711e-02],\n",
       "        [ 4.9169e-02],\n",
       "        [ 3.4595e-01],\n",
       "        [ 3.0672e-01],\n",
       "        [ 8.1900e-02],\n",
       "        [ 3.4304e-01],\n",
       "        [ 3.2254e-01],\n",
       "        [ 9.5410e-02],\n",
       "        [ 2.6190e-01],\n",
       "        [ 1.0234e-01],\n",
       "        [ 6.8375e-02],\n",
       "        [ 8.2666e-02],\n",
       "        [ 3.3044e-01],\n",
       "        [ 3.5949e-01],\n",
       "        [ 3.1115e-01],\n",
       "        [ 3.4242e-01],\n",
       "        [ 3.1513e-01],\n",
       "        [ 3.1359e-01],\n",
       "        [ 3.0651e-01],\n",
       "        [ 3.1243e-01],\n",
       "        [ 3.0601e-01],\n",
       "        [ 3.3077e-01],\n",
       "        [ 3.4337e-01],\n",
       "        [ 3.1216e-01],\n",
       "        [ 3.0305e-01],\n",
       "        [ 3.1677e-01],\n",
       "        [ 3.5136e-01],\n",
       "        [ 3.2659e-01],\n",
       "        [ 4.6161e-02],\n",
       "        [ 1.8154e-01],\n",
       "        [ 3.1904e-01],\n",
       "        [ 1.8897e-02],\n",
       "        [ 3.1616e-01],\n",
       "        [ 2.8150e-01],\n",
       "        [ 3.3111e-01],\n",
       "        [ 3.1110e-01],\n",
       "        [ 2.8838e-01],\n",
       "        [ 1.0049e-01],\n",
       "        [ 2.8878e-01],\n",
       "        [ 2.7753e-01],\n",
       "        [ 1.6539e-01],\n",
       "        [ 3.2732e-01],\n",
       "        [ 2.7853e-01],\n",
       "        [ 7.6507e-02],\n",
       "        [ 3.5621e-01],\n",
       "        [ 3.1673e-01],\n",
       "        [ 7.2588e-02],\n",
       "        [ 2.8982e-01],\n",
       "        [ 2.8473e-01],\n",
       "        [ 7.1951e-02],\n",
       "        [ 3.2414e-01],\n",
       "        [ 2.8248e-01],\n",
       "        [ 7.0147e-02],\n",
       "        [ 3.6875e-01],\n",
       "        [ 2.9400e-01],\n",
       "        [ 2.5537e-02],\n",
       "        [ 2.7889e-01],\n",
       "        [ 2.7972e-01],\n",
       "        [ 2.9466e-01],\n",
       "        [ 8.8787e-02],\n",
       "        [ 8.0466e-02],\n",
       "        [ 3.1537e-01],\n",
       "        [ 2.9568e-01],\n",
       "        [ 2.5170e-01],\n",
       "        [ 3.0818e-01],\n",
       "        [ 3.3902e-01],\n",
       "        [ 2.8639e-01],\n",
       "        [ 3.0168e-01],\n",
       "        [ 2.8017e-01],\n",
       "        [ 7.0083e-02],\n",
       "        [ 3.1437e-01],\n",
       "        [ 1.3175e-01],\n",
       "        [ 7.9973e-02],\n",
       "        [ 9.8168e-02],\n",
       "        [ 2.9659e-01],\n",
       "        [ 2.9612e-01],\n",
       "        [ 3.8190e-02],\n",
       "        [ 8.0210e-02],\n",
       "        [ 1.0723e-01],\n",
       "        [ 3.3322e-01],\n",
       "        [ 2.9017e-01],\n",
       "        [ 1.0615e-01],\n",
       "        [ 2.4242e-02],\n",
       "        [ 1.9300e-02],\n",
       "        [ 1.0867e-01],\n",
       "        [ 1.4919e-01],\n",
       "        [ 3.5992e-02],\n",
       "        [ 1.0522e-01],\n",
       "        [ 9.4933e-02],\n",
       "        [ 6.6909e-02],\n",
       "        [ 3.3023e-01],\n",
       "        [ 3.0161e-01],\n",
       "        [ 1.0704e-01],\n",
       "        [ 9.3608e-02],\n",
       "        [ 7.8068e-02],\n",
       "        [ 5.0619e-02],\n",
       "        [ 7.1174e-02],\n",
       "        [ 3.2855e-01],\n",
       "        [ 3.0248e-01],\n",
       "        [ 6.4701e-02],\n",
       "        [ 8.1870e-02],\n",
       "        [ 3.8668e-02],\n",
       "        [ 3.7793e-02],\n",
       "        [ 4.8384e-02],\n",
       "        [ 5.4634e-02],\n",
       "        [ 2.1802e-02],\n",
       "        [ 3.3892e-01],\n",
       "        [ 3.3075e-01],\n",
       "        [ 3.0309e-01],\n",
       "        [ 3.1149e-01],\n",
       "        [ 3.3388e-01],\n",
       "        [ 3.4966e-01],\n",
       "        [ 3.7102e-01],\n",
       "        [ 3.3655e-01],\n",
       "        [ 3.4853e-01],\n",
       "        [ 3.5008e-01],\n",
       "        [ 3.0988e-01],\n",
       "        [ 2.9641e-01],\n",
       "        [ 3.1704e-01],\n",
       "        [ 3.1977e-01],\n",
       "        [ 2.6755e-01],\n",
       "        [ 2.6055e-01],\n",
       "        [ 1.0134e-01],\n",
       "        [ 7.9842e-02],\n",
       "        [ 9.3493e-02],\n",
       "        [ 1.1252e-01],\n",
       "        [ 4.4869e-02],\n",
       "        [ 9.3587e-02],\n",
       "        [ 1.1551e-02],\n",
       "        [ 4.9589e-02],\n",
       "        [ 8.8022e-02],\n",
       "        [ 7.5680e-02],\n",
       "        [ 6.9990e-02],\n",
       "        [ 3.4101e-02],\n",
       "        [ 3.0426e-02],\n",
       "        [ 8.8386e-02],\n",
       "        [ 3.0876e-02],\n",
       "        [ 3.2163e-02],\n",
       "        [ 9.4326e-02],\n",
       "        [ 4.9787e-02],\n",
       "        [ 6.1312e-02],\n",
       "        [ 3.4009e-02],\n",
       "        [ 8.6259e-02],\n",
       "        [ 1.0615e-01],\n",
       "        [ 7.2886e-02],\n",
       "        [ 2.8930e-01],\n",
       "        [ 2.9586e-01],\n",
       "        [ 2.8171e-01],\n",
       "        [ 3.9738e-01],\n",
       "        [ 1.1430e-01],\n",
       "        [ 2.9132e-01],\n",
       "        [ 3.3520e-01],\n",
       "        [ 3.3501e-01],\n",
       "        [ 3.0710e-01],\n",
       "        [ 2.6921e-01],\n",
       "        [ 2.8530e-01],\n",
       "        [ 3.5206e-01],\n",
       "        [ 3.4032e-01],\n",
       "        [ 2.9904e-01],\n",
       "        [ 3.0875e-01],\n",
       "        [ 3.5519e-01],\n",
       "        [ 2.7814e-01],\n",
       "        [ 2.8036e-01],\n",
       "        [ 3.1016e-01],\n",
       "        [ 2.9095e-01],\n",
       "        [ 3.3418e-01],\n",
       "        [ 3.4418e-01],\n",
       "        [ 2.6005e-01],\n",
       "        [ 3.3726e-01],\n",
       "        [ 3.1915e-01],\n",
       "        [ 2.7495e-01],\n",
       "        [ 3.2692e-01],\n",
       "        [ 2.6921e-01],\n",
       "        [ 3.9602e-02],\n",
       "        [ 3.0616e-01],\n",
       "        [ 9.9612e-02],\n",
       "        [ 7.2283e-02],\n",
       "        [ 3.5155e-02],\n",
       "        [ 1.7172e-01],\n",
       "        [ 4.2619e-02],\n",
       "        [ 1.4861e-01],\n",
       "        [ 8.0413e-02],\n",
       "        [ 1.4768e-02],\n",
       "        [ 9.5385e-02],\n",
       "        [ 2.1527e-02],\n",
       "        [ 4.5741e-02],\n",
       "        [ 3.0322e-01],\n",
       "        [ 7.7265e-02],\n",
       "        [ 1.2122e-01],\n",
       "        [ 9.7421e-02],\n",
       "        [ 1.1091e-02],\n",
       "        [ 1.5138e-03],\n",
       "        [ 7.9326e-05],\n",
       "        [-2.9286e-03],\n",
       "        [ 6.4458e-03],\n",
       "        [-2.9034e-03],\n",
       "        [ 7.1386e-04],\n",
       "        [ 4.2894e-03],\n",
       "        [ 1.6876e-03],\n",
       "        [ 3.0834e-03],\n",
       "        [-3.2409e-03],\n",
       "        [ 2.9837e-04],\n",
       "        [ 1.1140e-02],\n",
       "        [ 3.2399e-03],\n",
       "        [-4.9213e-03],\n",
       "        [-2.2104e-04],\n",
       "        [-2.7650e-03],\n",
       "        [ 5.3043e-03],\n",
       "        [ 2.0146e-04],\n",
       "        [-4.7928e-04],\n",
       "        [-2.7147e-03],\n",
       "        [-2.7021e-03],\n",
       "        [-2.6895e-03],\n",
       "        [-2.6769e-03],\n",
       "        [-1.1056e-03],\n",
       "        [-2.6518e-03],\n",
       "        [ 3.5256e-03],\n",
       "        [-8.5531e-04],\n",
       "        [ 6.0549e-03],\n",
       "        [-4.9173e-04],\n",
       "        [ 3.6224e-03],\n",
       "        [-2.5764e-03],\n",
       "        [-7.6740e-04],\n",
       "        [-2.5511e-03],\n",
       "        [ 1.4948e-03],\n",
       "        [-2.6260e-03],\n",
       "        [-2.4783e-03],\n",
       "        [-4.6360e-04],\n",
       "        [-2.3781e-03],\n",
       "        [-2.3234e-03],\n",
       "        [ 2.1366e-03],\n",
       "        [ 6.6571e-04],\n",
       "        [-2.1593e-03],\n",
       "        [ 1.0710e-02],\n",
       "        [ 7.5996e-04],\n",
       "        [ 1.3894e-02],\n",
       "        [-1.8772e-03],\n",
       "        [-1.8035e-03],\n",
       "        [-1.7298e-03],\n",
       "        [ 1.6400e-01],\n",
       "        [ 2.9662e-01],\n",
       "        [ 1.6200e-01],\n",
       "        [ 8.0039e-02],\n",
       "        [ 3.3293e-02],\n",
       "        [ 6.7652e-02],\n",
       "        [ 1.1372e-01],\n",
       "        [ 1.5606e-01],\n",
       "        [ 1.5291e-01],\n",
       "        [ 2.0017e-01],\n",
       "        [ 3.5039e-02],\n",
       "        [ 1.8777e-03],\n",
       "        [ 1.9817e-03],\n",
       "        [-3.9162e-04],\n",
       "        [ 3.1056e-03],\n",
       "        [-2.1396e-04],\n",
       "        [ 4.0009e-03],\n",
       "        [ 1.1899e-03],\n",
       "        [ 1.8463e-03],\n",
       "        [ 1.4098e-04],\n",
       "        [ 4.7290e-03],\n",
       "        [ 9.3578e-03],\n",
       "        [ 4.4106e-03],\n",
       "        [ 2.0573e-01],\n",
       "        [ 7.0628e-02],\n",
       "        [ 8.2716e-02],\n",
       "        [ 8.0679e-04],\n",
       "        [ 4.8488e-03],\n",
       "        [ 9.3866e-03],\n",
       "        [ 2.5910e-03],\n",
       "        [ 3.0513e-02],\n",
       "        [ 2.4196e-02],\n",
       "        [ 3.6142e-02],\n",
       "        [ 9.9427e-02],\n",
       "        [ 5.3998e-02],\n",
       "        [ 5.2700e-02],\n",
       "        [ 3.9496e-02],\n",
       "        [ 3.4718e-02],\n",
       "        [ 9.2616e-02],\n",
       "        [ 4.2773e-02],\n",
       "        [ 3.6009e-02],\n",
       "        [ 4.6460e-02],\n",
       "        [ 3.4120e-02],\n",
       "        [ 9.2700e-02],\n",
       "        [ 5.4547e-02],\n",
       "        [ 2.7103e-02],\n",
       "        [ 4.2215e-02],\n",
       "        [ 4.7415e-02],\n",
       "        [ 1.0604e-01],\n",
       "        [ 5.1396e-02],\n",
       "        [ 4.4688e-02],\n",
       "        [ 4.4633e-02],\n",
       "        [ 5.4461e-02],\n",
       "        [ 8.8504e-02],\n",
       "        [ 3.8055e-02],\n",
       "        [ 2.5825e-02],\n",
       "        [ 4.0142e-02],\n",
       "        [ 3.6963e-02],\n",
       "        [ 8.1933e-02],\n",
       "        [ 3.9999e-02],\n",
       "        [ 3.7074e-02],\n",
       "        [ 2.3565e-02],\n",
       "        [ 4.6733e-02],\n",
       "        [ 8.5031e-02],\n",
       "        [ 3.4254e-02],\n",
       "        [ 3.9573e-02],\n",
       "        [ 4.2101e-02],\n",
       "        [ 2.9980e-02],\n",
       "        [ 4.9256e-02],\n",
       "        [ 5.1371e-02],\n",
       "        [ 2.7793e-02],\n",
       "        [ 9.2055e-02],\n",
       "        [ 5.9753e-02],\n",
       "        [ 9.1461e-02],\n",
       "        [ 4.6087e-02],\n",
       "        [ 2.8046e-02],\n",
       "        [ 5.7455e-02],\n",
       "        [ 2.4732e-02],\n",
       "        [ 1.1707e-02],\n",
       "        [ 8.6532e-03],\n",
       "        [ 1.6339e-02],\n",
       "        [ 2.1661e-02],\n",
       "        [ 2.1223e-02],\n",
       "        [ 1.8255e-02],\n",
       "        [ 1.7928e-02],\n",
       "        [ 8.8540e-03],\n",
       "        [ 9.2506e-03],\n",
       "        [ 6.0190e-03],\n",
       "        [ 5.6438e-03],\n",
       "        [ 3.0054e-03],\n",
       "        [ 2.0006e-03],\n",
       "        [ 4.7913e-03],\n",
       "        [ 4.3614e-03],\n",
       "        [ 2.0573e-03],\n",
       "        [ 2.7279e-02],\n",
       "        [ 1.8323e-02],\n",
       "        [ 2.0211e-02],\n",
       "        [ 6.0533e-02],\n",
       "        [ 6.2559e-03],\n",
       "        [ 3.2934e-02],\n",
       "        [ 1.3312e-02],\n",
       "        [ 1.2055e-02],\n",
       "        [ 1.0383e-01],\n",
       "        [ 4.2155e-02],\n",
       "        [ 3.0523e-02],\n",
       "        [ 3.6244e-02],\n",
       "        [ 4.6454e-02],\n",
       "        [ 2.6215e-02],\n",
       "        [ 9.3423e-03],\n",
       "        [ 1.4558e-02],\n",
       "        [ 2.0019e-02],\n",
       "        [ 9.2635e-03],\n",
       "        [ 1.3436e-02],\n",
       "        [ 3.0207e-03],\n",
       "        [ 9.2204e-03],\n",
       "        [ 1.3463e-02],\n",
       "        [ 8.2893e-03],\n",
       "        [ 1.0065e-02],\n",
       "        [ 2.2814e-03],\n",
       "        [ 2.2911e-03],\n",
       "        [ 6.0797e-03],\n",
       "        [ 1.9444e-03],\n",
       "        [ 2.5221e-03],\n",
       "        [ 2.3395e-03],\n",
       "        [ 3.4811e-02],\n",
       "        [ 2.1267e-02],\n",
       "        [ 1.6546e-02],\n",
       "        [ 2.2475e-02],\n",
       "        [ 2.4823e-02],\n",
       "        [ 5.9306e-02],\n",
       "        [ 7.0062e-03],\n",
       "        [ 1.4516e-02],\n",
       "        [ 1.5334e-02],\n",
       "        [ 2.6161e-02],\n",
       "        [ 8.0867e-02],\n",
       "        [ 1.1197e-01],\n",
       "        [ 9.1434e-02],\n",
       "        [ 1.7148e-01],\n",
       "        [ 4.3701e-02],\n",
       "        [ 1.5397e-02],\n",
       "        [ 1.6426e-01],\n",
       "        [ 7.5864e-02],\n",
       "        [ 1.9516e-01],\n",
       "        [ 1.2542e-01],\n",
       "        [ 1.8461e-01],\n",
       "        [ 1.0972e-01],\n",
       "        [ 4.0912e-01],\n",
       "        [ 1.4941e-01],\n",
       "        [ 1.8267e-01],\n",
       "        [ 3.2813e-02],\n",
       "        [ 7.5430e-02],\n",
       "        [ 3.1909e-02],\n",
       "        [ 1.7323e-02],\n",
       "        [ 5.3565e-03],\n",
       "        [ 2.3120e-04],\n",
       "        [ 6.9486e-03],\n",
       "        [ 6.0806e-04],\n",
       "        [ 2.5642e-03],\n",
       "        [ 5.8005e-03],\n",
       "        [-2.4726e-04],\n",
       "        [ 1.8288e-03],\n",
       "        [ 5.0690e-03],\n",
       "        [ 1.7932e-03],\n",
       "        [ 2.5484e-03],\n",
       "        [ 5.7804e-03],\n",
       "        [ 2.5431e-03],\n",
       "        [ 6.8558e-02],\n",
       "        [ 1.3308e-01],\n",
       "        [ 5.0474e-02],\n",
       "        [ 7.5198e-02],\n",
       "        [ 2.3088e-02],\n",
       "        [ 2.5540e-02],\n",
       "        [ 1.0626e-01],\n",
       "        [ 6.0639e-02],\n",
       "        [ 8.3326e-02],\n",
       "        [ 1.2067e-02],\n",
       "        [ 6.1092e-03],\n",
       "        [ 9.0805e-03],\n",
       "        [ 1.7126e-03],\n",
       "        [ 1.0764e-02],\n",
       "        [ 4.9292e-04],\n",
       "        [ 2.5008e-03],\n",
       "        [ 2.4981e-03],\n",
       "        [ 4.7880e-03],\n",
       "        [ 4.7238e-03],\n",
       "        [ 2.5437e-03],\n",
       "        [ 3.6876e-04],\n",
       "        [ 5.4135e-03],\n",
       "        [ 3.7441e-03],\n",
       "        [ 2.3801e-03],\n",
       "        [ 6.1377e-03],\n",
       "        [ 3.5125e-03],\n",
       "        [ 5.1238e-03],\n",
       "        [ 8.7988e-03],\n",
       "        [ 1.7421e-03],\n",
       "        [ 4.4123e-03],\n",
       "        [ 9.7335e-03],\n",
       "        [ 5.5296e-03],\n",
       "        [ 4.3043e-03],\n",
       "        [ 5.0129e-03],\n",
       "        [ 2.3550e-03],\n",
       "        [ 4.9691e-03],\n",
       "        [ 2.0628e-03],\n",
       "        [ 2.0384e-03],\n",
       "        [ 1.4560e-03],\n",
       "        [ 1.9896e-03],\n",
       "        [ 1.9651e-03],\n",
       "        [ 1.9408e-03],\n",
       "        [ 1.9163e-03],\n",
       "        [ 4.7936e-03],\n",
       "        [ 1.8661e-03],\n",
       "        [ 1.8374e-03],\n",
       "        [ 9.4017e-03],\n",
       "        [ 5.5300e-03],\n",
       "        [ 2.0302e-02],\n",
       "        [ 1.8374e-02],\n",
       "        [ 2.8086e-03],\n",
       "        [ 6.1261e-03],\n",
       "        [ 9.2491e-03],\n",
       "        [ 5.9060e-03],\n",
       "        [-9.3897e-04],\n",
       "        [ 4.0323e-02],\n",
       "        [ 9.0303e-02],\n",
       "        [ 1.8039e-01],\n",
       "        [ 1.2609e-01],\n",
       "        [ 9.0507e-02],\n",
       "        [ 3.7199e-02],\n",
       "        [ 6.4255e-02],\n",
       "        [ 1.9244e-01],\n",
       "        [ 1.1209e-01],\n",
       "        [ 1.3109e-01],\n",
       "        [ 1.1818e-01],\n",
       "        [ 1.7173e-01],\n",
       "        [ 7.8247e-02],\n",
       "        [ 5.0404e-02],\n",
       "        [ 3.9082e-02],\n",
       "        [ 9.6214e-02],\n",
       "        [ 5.2491e-02],\n",
       "        [ 4.2161e-02],\n",
       "        [ 1.5537e-01],\n",
       "        [ 1.5575e-01],\n",
       "        [ 8.8927e-02],\n",
       "        [ 1.7297e-01],\n",
       "        [ 8.4364e-02],\n",
       "        [ 1.5202e-01],\n",
       "        [ 9.5480e-02],\n",
       "        [ 5.2831e-02],\n",
       "        [ 4.9558e-02],\n",
       "        [ 2.3922e-01],\n",
       "        [ 1.4908e-01],\n",
       "        [ 1.2683e-01],\n",
       "        [ 1.2197e-01],\n",
       "        [ 7.2167e-02],\n",
       "        [ 1.9775e-01],\n",
       "        [ 1.1668e-01],\n",
       "        [ 8.4850e-02],\n",
       "        [ 1.3940e-01],\n",
       "        [ 9.6981e-02],\n",
       "        [ 1.1696e-01],\n",
       "        [ 1.1610e-01],\n",
       "        [ 1.1042e-01],\n",
       "        [ 8.0391e-02],\n",
       "        [ 1.0265e-01],\n",
       "        [ 1.5250e-01],\n",
       "        [ 1.0993e-01],\n",
       "        [ 1.1738e-01],\n",
       "        [ 1.4577e-01],\n",
       "        [ 1.6724e-01],\n",
       "        [ 6.8455e-02],\n",
       "        [ 9.0110e-02],\n",
       "        [ 2.2110e-01],\n",
       "        [ 6.4588e-02],\n",
       "        [ 1.8336e-01],\n",
       "        [ 1.0812e-01],\n",
       "        [ 1.6342e-01],\n",
       "        [ 1.0685e-01],\n",
       "        [ 8.9518e-02],\n",
       "        [ 1.6998e-01],\n",
       "        [ 6.0250e-02],\n",
       "        [ 1.3422e-01],\n",
       "        [ 1.0899e-01],\n",
       "        [ 1.1945e-01],\n",
       "        [ 1.3036e-01],\n",
       "        [ 1.2040e-01],\n",
       "        [ 9.0212e-02],\n",
       "        [ 2.8150e-01],\n",
       "        [ 2.4087e-01],\n",
       "        [ 8.0941e-02],\n",
       "        [ 6.0672e-02],\n",
       "        [ 7.8520e-02],\n",
       "        [ 1.8587e-02],\n",
       "        [ 1.9257e-01],\n",
       "        [ 8.7423e-02],\n",
       "        [ 1.1916e-01],\n",
       "        [ 2.1971e-01],\n",
       "        [ 1.0162e-01],\n",
       "        [ 1.0858e-01],\n",
       "        [ 1.0924e-01],\n",
       "        [ 2.1610e-02],\n",
       "        [ 4.7417e-02],\n",
       "        [ 7.4647e-02],\n",
       "        [ 1.0767e-01],\n",
       "        [ 9.5240e-02],\n",
       "        [ 2.1162e-01],\n",
       "        [ 3.0648e-02],\n",
       "        [ 2.1441e-02],\n",
       "        [ 2.4189e-02],\n",
       "        [ 1.3998e-02],\n",
       "        [ 5.2206e-02],\n",
       "        [ 1.9554e-02],\n",
       "        [ 2.8541e-02],\n",
       "        [ 1.0180e-02],\n",
       "        [ 1.5451e-02],\n",
       "        [-2.0077e-04],\n",
       "        [ 6.7062e-03],\n",
       "        [-1.6697e-04],\n",
       "        [ 9.2483e-04],\n",
       "        [ 4.5077e-02],\n",
       "        [ 2.2672e-02],\n",
       "        [ 2.6077e-02],\n",
       "        [ 1.8697e-02],\n",
       "        [ 2.0283e-02],\n",
       "        [ 2.0899e-02],\n",
       "        [ 4.4070e-02],\n",
       "        [ 4.8921e-02],\n",
       "        [ 2.2300e-02],\n",
       "        [ 1.9625e-02],\n",
       "        [ 4.8383e-02],\n",
       "        [ 2.2186e-02],\n",
       "        [ 1.4900e-02],\n",
       "        [ 4.7307e-02],\n",
       "        [ 1.8897e-02],\n",
       "        [ 1.4955e-02],\n",
       "        [ 5.7643e-02],\n",
       "        [ 1.1529e-02],\n",
       "        [ 1.4140e-01],\n",
       "        [ 3.9049e-02],\n",
       "        [ 3.9787e-02],\n",
       "        [ 2.1292e-02],\n",
       "        [ 3.1240e-03],\n",
       "        [ 4.0117e-03],\n",
       "        [-1.1190e-03],\n",
       "        [ 1.8580e-02],\n",
       "        [ 3.3913e-03],\n",
       "        [ 3.3027e-03],\n",
       "        [ 1.4154e-03],\n",
       "        [ 2.6648e-02],\n",
       "        [ 2.2802e-02],\n",
       "        [ 5.1476e-02],\n",
       "        [ 1.1538e-01],\n",
       "        [ 2.3561e-01],\n",
       "        [ 4.6291e-02],\n",
       "        [ 2.6161e-01],\n",
       "        [ 5.4651e-02],\n",
       "        [ 2.6409e-01],\n",
       "        [ 3.1509e-01],\n",
       "        [ 2.9745e-01],\n",
       "        [ 3.0387e-01],\n",
       "        [ 3.2313e-01],\n",
       "        [ 2.9639e-01],\n",
       "        [ 3.5261e-01],\n",
       "        [ 8.9162e-02],\n",
       "        [ 9.4197e-02],\n",
       "        [ 8.8252e-02],\n",
       "        [ 8.4866e-02],\n",
       "        [ 9.2089e-02],\n",
       "        [ 1.1716e-01],\n",
       "        [ 8.3331e-02],\n",
       "        [ 7.7099e-02],\n",
       "        [ 1.0054e-01],\n",
       "        [ 6.1664e-02],\n",
       "        [ 7.7483e-02],\n",
       "        [ 7.4116e-02],\n",
       "        [ 1.0202e-01],\n",
       "        [ 5.2932e-02],\n",
       "        [ 1.0288e-01],\n",
       "        [-1.5601e-03],\n",
       "        [ 1.8281e-01],\n",
       "        [ 2.9274e-02],\n",
       "        [ 2.9994e-02],\n",
       "        [-1.6560e-03],\n",
       "        [ 1.1174e-03],\n",
       "        [-1.7280e-03],\n",
       "        [-1.7519e-03],\n",
       "        [ 2.5070e-03],\n",
       "        [-1.8239e-03],\n",
       "        [ 2.5850e-03],\n",
       "        [ 1.5855e-03],\n",
       "        [ 6.7625e-03],\n",
       "        [-1.8504e-03],\n",
       "        [-1.8305e-03],\n",
       "        [-1.8107e-03],\n",
       "        [-2.3087e-03],\n",
       "        [ 1.6077e-03],\n",
       "        [ 1.0499e-03],\n",
       "        [ 1.1179e-03],\n",
       "        [-1.6998e-03],\n",
       "        [ 7.2657e-04],\n",
       "        [ 8.6753e-03],\n",
       "        [ 6.4399e-03],\n",
       "        [ 8.1512e-03],\n",
       "        [ 4.4099e-03],\n",
       "        [ 2.8706e-03],\n",
       "        [-1.4530e-03],\n",
       "        [-1.3898e-03],\n",
       "        [ 1.3799e-02],\n",
       "        [ 2.9676e-03],\n",
       "        [ 7.8695e-03],\n",
       "        [ 2.6695e-02],\n",
       "        [ 6.9172e-02],\n",
       "        [ 5.8685e-02],\n",
       "        [ 2.6468e-02],\n",
       "        [-8.8428e-04],\n",
       "        [ 1.1281e-03],\n",
       "        [-7.5787e-04],\n",
       "        [-6.9469e-04],\n",
       "        [ 7.9131e-03],\n",
       "        [-5.6831e-04],\n",
       "        [ 1.2535e-03],\n",
       "        [ 3.7644e-03],\n",
       "        [ 6.5812e-04],\n",
       "        [ 2.1941e-02],\n",
       "        [ 2.8610e-02],\n",
       "        [ 1.8587e-02],\n",
       "        [ 3.6925e-03],\n",
       "        [ 9.7571e-03],\n",
       "        [ 2.2471e-03],\n",
       "        [ 1.8181e-02],\n",
       "        [ 3.1797e-02],\n",
       "        [ 1.0445e-02],\n",
       "        [ 3.6785e-03],\n",
       "        [ 3.1638e-04],\n",
       "        [ 1.3303e-02],\n",
       "        [ 1.4074e-02],\n",
       "        [ 1.9814e-02],\n",
       "        [ 2.5145e-02],\n",
       "        [ 2.8124e-02],\n",
       "        [ 4.3497e-02],\n",
       "        [ 4.9218e-02],\n",
       "        [ 9.7718e-03],\n",
       "        [ 2.8604e-02],\n",
       "        [ 1.4661e-02],\n",
       "        [ 5.5926e-03],\n",
       "        [ 1.0873e-03],\n",
       "        [ 2.6968e-03],\n",
       "        [ 1.2287e-03],\n",
       "        [ 2.7275e-03],\n",
       "        [ 1.2489e-03],\n",
       "        [ 1.2590e-03],\n",
       "        [ 1.2691e-03],\n",
       "        [ 8.4483e-03],\n",
       "        [ 4.8681e-03],\n",
       "        [ 6.9574e-04],\n",
       "        [ 1.3664e-03],\n",
       "        [ 1.3955e-03],\n",
       "        [ 1.4246e-03],\n",
       "        [ 6.5441e-04],\n",
       "        [ 1.7198e-02],\n",
       "        [ 2.9482e-02],\n",
       "        [ 1.5290e-02],\n",
       "        [ 7.8915e-03],\n",
       "        [ 1.4529e-03],\n",
       "        [ 1.4563e-03],\n",
       "        [ 2.2623e-02],\n",
       "        [ 1.8445e-02],\n",
       "        [ 1.1325e-02],\n",
       "        [ 3.3821e-03],\n",
       "        [ 1.6043e-02],\n",
       "        [ 1.9151e-02],\n",
       "        [ 1.4035e-02],\n",
       "        [ 5.8555e-03],\n",
       "        [ 3.2238e-03],\n",
       "        [ 5.8175e-03],\n",
       "        [ 1.2141e-02],\n",
       "        [ 1.7177e-02],\n",
       "        [ 7.6438e-03],\n",
       "        [ 5.6125e-02],\n",
       "        [ 1.2287e-02],\n",
       "        [ 2.4859e-02],\n",
       "        [ 3.1148e-03],\n",
       "        [ 1.8525e-02],\n",
       "        [ 9.5325e-03],\n",
       "        [ 8.1429e-03],\n",
       "        [ 1.8823e-02],\n",
       "        [ 1.1304e-02],\n",
       "        [ 1.8665e-02],\n",
       "        [ 3.2939e-03],\n",
       "        [ 6.8149e-03],\n",
       "        [ 6.8210e-03],\n",
       "        [ 6.1653e-03],\n",
       "        [ 5.4781e-03],\n",
       "        [ 1.4727e-03],\n",
       "        [ 1.4717e-03],\n",
       "        [ 1.9958e-02],\n",
       "        [ 1.4684e-03],\n",
       "        [ 3.5548e-02],\n",
       "        [ 6.9791e-03],\n",
       "        [ 9.7487e-03],\n",
       "        [ 8.9648e-03],\n",
       "        [ 4.2440e-02],\n",
       "        [ 1.2242e-02],\n",
       "        [ 1.4658e-03],\n",
       "        [ 2.2791e-03],\n",
       "        [ 2.9377e-03],\n",
       "        [ 3.3446e-03],\n",
       "        [ 2.9245e-03],\n",
       "        [ 1.3606e-03],\n",
       "        [ 6.2688e-03],\n",
       "        [ 4.5843e-03],\n",
       "        [ 5.6640e-03],\n",
       "        [ 8.8814e-04],\n",
       "        [ 1.4619e-03],\n",
       "        [ 1.5682e-01],\n",
       "        [ 4.1995e-02],\n",
       "        [ 1.0488e-01],\n",
       "        [ 4.0347e-02],\n",
       "        [ 2.4534e-02],\n",
       "        [ 2.6512e-02],\n",
       "        [ 1.6299e-02],\n",
       "        [ 4.3040e-02],\n",
       "        [ 1.9342e-02],\n",
       "        [ 1.6579e-02],\n",
       "        [ 4.5294e-02],\n",
       "        [ 1.2518e-02],\n",
       "        [ 4.1801e-02],\n",
       "        [ 7.0045e-03],\n",
       "        [ 1.0554e-02],\n",
       "        [ 3.5001e-02],\n",
       "        [ 3.2991e-02],\n",
       "        [ 3.4123e-02],\n",
       "        [ 4.7719e-02],\n",
       "        [ 2.4796e-02],\n",
       "        [ 4.8834e-02],\n",
       "        [ 9.2921e-03],\n",
       "        [ 3.5688e-02],\n",
       "        [ 3.0449e-02],\n",
       "        [ 2.0360e-02],\n",
       "        [ 6.6042e-02],\n",
       "        [ 1.8877e-02],\n",
       "        [ 9.2386e-03],\n",
       "        [ 7.8306e-03],\n",
       "        [ 1.2376e-02],\n",
       "        [ 1.9491e-02],\n",
       "        [ 2.0151e-02],\n",
       "        [ 1.2808e-02],\n",
       "        [ 3.2322e-02],\n",
       "        [ 1.2002e-02],\n",
       "        [ 5.2681e-02],\n",
       "        [ 2.9591e-03],\n",
       "        [ 2.1028e-03],\n",
       "        [ 9.8319e-03]])"
      ]
     },
     "execution_count": 55,
     "metadata": {},
     "output_type": "execute_result"
    }
   ],
   "source": [
    "y_interp"
   ]
  },
  {
   "cell_type": "markdown",
   "metadata": {},
   "source": [
    "### By substituting other independent variables, you can get a vector of output variables\n",
    "We choose a random record from the tensor\n",
    "\n",
    "### <span style=\"color:green\">Podstawiając inne zmienne niezależne można uzyskać wektor zmiennych wyjściowych\n",
    "<span style=\"color:green\"> Wybieramy sobie jakąś losowy rekord z tensora"
   ]
  },
  {
   "cell_type": "code",
   "execution_count": 56,
   "metadata": {},
   "outputs": [
    {
     "data": {
      "text/html": [
       "<div>\n",
       "<style scoped>\n",
       "    .dataframe tbody tr th:only-of-type {\n",
       "        vertical-align: middle;\n",
       "    }\n",
       "\n",
       "    .dataframe tbody tr th {\n",
       "        vertical-align: top;\n",
       "    }\n",
       "\n",
       "    .dataframe thead th {\n",
       "        text-align: right;\n",
       "    }\n",
       "</style>\n",
       "<table border=\"1\" class=\"dataframe\">\n",
       "  <thead>\n",
       "    <tr style=\"text-align: right;\">\n",
       "      <th></th>\n",
       "      <th>y_interp</th>\n",
       "    </tr>\n",
       "  </thead>\n",
       "  <tbody>\n",
       "    <tr>\n",
       "      <td>0</td>\n",
       "      <td>0.833517</td>\n",
       "    </tr>\n",
       "    <tr>\n",
       "      <td>1</td>\n",
       "      <td>0.410106</td>\n",
       "    </tr>\n",
       "    <tr>\n",
       "      <td>2</td>\n",
       "      <td>0.633778</td>\n",
       "    </tr>\n",
       "  </tbody>\n",
       "</table>\n",
       "</div>"
      ],
      "text/plain": [
       "   y_interp\n",
       "0  0.833517\n",
       "1  0.410106\n",
       "2  0.633778"
      ]
     },
     "execution_count": 56,
     "metadata": {},
     "output_type": "execute_result"
    }
   ],
   "source": [
    "y_interp = y_interp*10\n",
    "foka = y_interp.cpu().detach().numpy()\n",
    "df11 = pd.DataFrame(foka)\n",
    "df11.columns = ['y_interp']\n",
    "#df11=np.round(df11.y_interp)\n",
    "df11.head(3)"
   ]
  },
  {
   "cell_type": "code",
   "execution_count": 57,
   "metadata": {},
   "outputs": [
    {
     "data": {
      "text/html": [
       "<div>\n",
       "<style scoped>\n",
       "    .dataframe tbody tr th:only-of-type {\n",
       "        vertical-align: middle;\n",
       "    }\n",
       "\n",
       "    .dataframe tbody tr th {\n",
       "        vertical-align: top;\n",
       "    }\n",
       "\n",
       "    .dataframe thead th {\n",
       "        text-align: right;\n",
       "    }\n",
       "</style>\n",
       "<table border=\"1\" class=\"dataframe\">\n",
       "  <thead>\n",
       "    <tr style=\"text-align: right;\">\n",
       "      <th></th>\n",
       "      <th>y</th>\n",
       "    </tr>\n",
       "  </thead>\n",
       "  <tbody>\n",
       "    <tr>\n",
       "      <td>0</td>\n",
       "      <td>0.7</td>\n",
       "    </tr>\n",
       "    <tr>\n",
       "      <td>1</td>\n",
       "      <td>0.4</td>\n",
       "    </tr>\n",
       "    <tr>\n",
       "      <td>2</td>\n",
       "      <td>1.4</td>\n",
       "    </tr>\n",
       "  </tbody>\n",
       "</table>\n",
       "</div>"
      ],
      "text/plain": [
       "     y\n",
       "0  0.7\n",
       "1  0.4\n",
       "2  1.4"
      ]
     },
     "execution_count": 57,
     "metadata": {},
     "output_type": "execute_result"
    }
   ],
   "source": [
    "y_test = y_test*10\n",
    "foka = y_test.cpu().detach().numpy()\n",
    "df_t = pd.DataFrame(foka)\n",
    "df_t.columns = ['y']\n",
    "df_t.head(3)"
   ]
  },
  {
   "cell_type": "code",
   "execution_count": 58,
   "metadata": {},
   "outputs": [
    {
     "data": {
      "text/html": [
       "<div>\n",
       "<style scoped>\n",
       "    .dataframe tbody tr th:only-of-type {\n",
       "        vertical-align: middle;\n",
       "    }\n",
       "\n",
       "    .dataframe tbody tr th {\n",
       "        vertical-align: top;\n",
       "    }\n",
       "\n",
       "    .dataframe thead th {\n",
       "        text-align: right;\n",
       "    }\n",
       "</style>\n",
       "<table border=\"1\" class=\"dataframe\">\n",
       "  <thead>\n",
       "    <tr style=\"text-align: right;\">\n",
       "      <th></th>\n",
       "      <th>y</th>\n",
       "      <th>y_interp</th>\n",
       "    </tr>\n",
       "  </thead>\n",
       "  <tbody>\n",
       "    <tr>\n",
       "      <td>0</td>\n",
       "      <td>0.7</td>\n",
       "      <td>0.833517</td>\n",
       "    </tr>\n",
       "    <tr>\n",
       "      <td>1</td>\n",
       "      <td>0.4</td>\n",
       "      <td>0.410106</td>\n",
       "    </tr>\n",
       "    <tr>\n",
       "      <td>2</td>\n",
       "      <td>1.4</td>\n",
       "      <td>0.633778</td>\n",
       "    </tr>\n",
       "  </tbody>\n",
       "</table>\n",
       "</div>"
      ],
      "text/plain": [
       "     y  y_interp\n",
       "0  0.7  0.833517\n",
       "1  0.4  0.410106\n",
       "2  1.4  0.633778"
      ]
     },
     "execution_count": 58,
     "metadata": {},
     "output_type": "execute_result"
    }
   ],
   "source": [
    "NOWA = pd.merge(df_t,df11, how='inner', left_index=True, right_index=True)\n",
    "NOWA.head(3)"
   ]
  },
  {
   "cell_type": "code",
   "execution_count": 59,
   "metadata": {},
   "outputs": [],
   "source": [
    "NOWA.to_csv('/home/wojciech/Pulpit/7/NOWA.csv')"
   ]
  },
  {
   "cell_type": "code",
   "execution_count": 60,
   "metadata": {},
   "outputs": [
    {
     "data": {
      "text/plain": [
       "Text(0.5, 1.0, 'COURSE OF THE PROJECTING PROCESS ON THE TEST SET')"
      ]
     },
     "execution_count": 60,
     "metadata": {},
     "output_type": "execute_result"
    },
    {
     "data": {
      "image/png": "[encoded data removed]",
      "text/plain": [
       "<Figure size 1152x144 with 1 Axes>"
      ]
     },
     "metadata": {
      "needs_background": "light"
     },
     "output_type": "display_data"
    }
   ],
   "source": [
    "fig, ax = plt.subplots( figsize=(16, 2))\n",
    "for ewa in ['y', 'y_interp']:\n",
    "    ax.plot(NOWA, label=ewa)\n",
    "    \n",
    "ax.set_xlim(13, 150)\n",
    "#ax.legend()\n",
    "ax.set_ylabel('Parameter')\n",
    "ax.set_title('COURSE OF THE PROJECTING PROCESS ON THE TEST SET')"
   ]
  },
  {
   "cell_type": "code",
   "execution_count": 61,
   "metadata": {},
   "outputs": [
    {
     "data": {
      "text/plain": [
       "<seaborn.axisgrid.FacetGrid at 0x7f6412c40390>"
      ]
     },
     "execution_count": 61,
     "metadata": {},
     "output_type": "execute_result"
    },
    {
     "data": {
      "text/plain": [
       "<Figure size 432x288 with 0 Axes>"
      ]
     },
     "metadata": {},
     "output_type": "display_data"
    },
    {
     "data": {
      "image/png": "[encoded data removed]",
      "text/plain": [
       "<Figure size 1152x360 with 2 Axes>"
      ]
     },
     "metadata": {
      "needs_background": "light"
     },
     "output_type": "display_data"
    },
    {
     "data": {
      "image/png": "[encoded data removed]",
      "text/plain": [
       "<Figure size 360x360 with 1 Axes>"
      ]
     },
     "metadata": {
      "needs_background": "light"
     },
     "output_type": "display_data"
    }
   ],
   "source": [
    "## marginesy\n",
    "plt.subplots_adjust( left = None , bottom = None , right = None , top = None , wspace = None , hspace = None )\n",
    "plt.figure(figsize=(16,5))\n",
    "ax = plt.subplot(1, 2, 1)\n",
    "NOWA.plot.kde(ax=ax, legend=True, title='Histogram: y vs. y_interp')\n",
    "NOWA.plot.hist(density=True,bins=40, ax=ax, alpha=0.3)\n",
    "ax.set_title(\"Dystributions\")\n",
    "\n",
    "ax = plt.subplot(1, 2, 2)\n",
    "sns.boxplot(data = NOWA)\n",
    "plt.xticks(rotation=-90)\n",
    "ax.set_title(\"Boxes\")\n",
    "\n",
    "\n",
    "sns.lmplot(data=NOWA, x='y', y='y_interp')"
   ]
  },
  {
   "cell_type": "markdown",
   "metadata": {},
   "source": [
    "# Regression_Assessment"
   ]
  },
  {
   "cell_type": "code",
   "execution_count": 62,
   "metadata": {},
   "outputs": [],
   "source": [
    "## Robi ocenę tylko dla jednej zmiennej\n",
    "\n",
    "def Regression_Assessment(y, y_pred):\n",
    "    \n",
    "    from sklearn.metrics import r2_score \n",
    "    import scipy.stats as stats\n",
    "    from statsmodels.graphics.gofplots import qqplot\n",
    "    from matplotlib import pyplot\n",
    "       \n",
    "    print('-----two methods--------------')\n",
    "    SS_Residual = sum((y-y_pred)**2)       \n",
    "    SS_Total = sum((y-np.mean(y))**2)     \n",
    "    r_squared = 1 - (float(SS_Residual))/SS_Total\n",
    "    adjusted_r_squared = 1 - (1-r_squared)*(len(y)-1)/(len(y)-X.shape[1]-1)\n",
    "    print('r2_score:           %0.3f' % r_squared)\n",
    "    #print('adjusted_r_squared: %0.3f' % adjusted_r_squared)\n",
    "    #print('----r2_score------secound-method--------')  \n",
    "    print('r2_score:           %0.3f' % r2_score(y, y_pred))  \n",
    "    print()\n",
    "    print('-------------------------------')\n",
    "    MAE = (abs(y-y_pred)).mean()\n",
    "    print('Mean absolute error     MAE:  %0.2f ' %  MAE)\n",
    "    RMSE = np.sqrt(((y-y_pred)**2).mean())\n",
    "    print('Root mean squared error RMSE: %0.2f ' %  RMSE)\n",
    "    pt = (100*(y-y_pred))/y\n",
    "    MAPE = (abs(pt)).mean()\n",
    "    print('Mean absolute error     MAPE: %0.2f ' %  MAPE)\n",
    "    print('-------------------------------')\n",
    "    \n",
    "    stat,pvalue0 = stats.ttest_1samp(a=(y-y_pred),popmean=0.0)\n",
    "\n",
    "    if pvalue0 > 0.01:\n",
    "        print('t-test H0: the sum of the model residuals is zero')\n",
    "        print('OKAY! Model remains do not differ from zero - pvalue:% 0.4f> 0.01 (we do NOT reject H0)'% pvalue0) \n",
    "    else:     \n",
    "        print('Bad - Model remains DIFFERENT FROM ZERO - pvalue:% 0.4f <0.01 (We reject H0)'% pvalue0)  \n",
    "    print('--------------------------------------------------------------------------------------------') \n",
    "  \n",
    "       \n",
    "    stat,pvalue2_1 = stats.shapiro(y)\n",
    "    stat,pvalue2_2 = stats.shapiro(y_pred)\n",
    "\n",
    "    if pvalue2_1 > 0.01:\n",
    "        #print('Shapiro-Wilk H0: y have normal distribution?--------------------------------')\n",
    "        print('OK Shapiro-Wolf! y have normal distribution - pvalue:% 0.4f> 0.01 (we do NOT reject H0)'% pvalue2_1) \n",
    "    else:     \n",
    "        print('Bad Shapiro-Wilk - y NO NORMAL DISTRIBUTION - pvalue:% 0.4f <0.01 (We reject H0)'% pvalue2_1)  \n",
    "        print('--------------------------------------------------------------------------------------------')\n",
    "    if pvalue2_2 > 0.01:\n",
    "        #print('Shapiro-Wilk: y_pred have a normal distribution?--')\n",
    "        print('OK Shapiro-Wolf! y_pred has a normal distribution - pvalue:% 0.4f> 0.01 (we do NOT reject h0)'% pvalue2_2) \n",
    "    else:     \n",
    "        print('Bad Shapiro-Wilk y_pred NO NORMAL DISTRIBUTION - pvalue:% 0.4f <0.01 (We reject H0)'% pvalue2_2)  \n",
    "    \n",
    "    qqplot(y, line='s')\n",
    "    pyplot.show()\n",
    "\n",
    "    qqplot(y_pred, line='s')\n",
    "    pyplot.show()\n",
    "       \n",
    "    print('--------------------------------------------------------------------------------------------')\n",
    "        \n",
    "    stat,pvalue3 = stats.kruskal(y_pred,y)\n",
    "    stat,pvalue4 = stats.f_oneway(y_pred,y)\n",
    "\n",
    "    if pvalue2_1 < 0.01 or pvalue2_2 < 0.01:\n",
    "        print('Шапиро-Вилк: Переменные не имеют нормального распределения! Не могу сделать анализ ANOV')\n",
    "     \n",
    "        if pvalue3 > 0.01:\n",
    "            print('Kruskal-Wallis NON-PARAMETRIC TEST: whether empirical forecast and observations. have equal means?')\n",
    "            print('OKAY! Kruskal-Wallis H0: forecast and observations empir. have equal means - pvalue:% 0.4f> 0.01 (we do NOT reject H0)'% pvalue3) \n",
    "        else:     \n",
    "            print('Bad - Kruskal-Wallis: forecast and observations empir. DO NOT HAVE EQUAL Averages - pvalue:% 0.4f <0.01 (We reject H0)'% pvalue3)  \n",
    "    \n",
    "    else:\n",
    "\n",
    "        if pvalue4 > 0.01:\n",
    "            print('F-test (ANOVA): whether empirical forecast and observations. have equal means?--------------------------------')\n",
    "            print('OKAY! forecast and observations empir. have equal means - pvalue:% 0.4f> 0.01 (we do NOT reject H0)'% pvalue4) \n",
    "        else:     \n",
    "            print('Bad - forecast and observations empir. DO NOT HAVE EQUAL Averages - pvalue:% 0.4f <0.01 (We reject H0)'% pvalue4)  \n",
    "    print('--------------------------------------------------------------------------------------------')"
   ]
  },
  {
   "cell_type": "code",
   "execution_count": 63,
   "metadata": {},
   "outputs": [
    {
     "name": "stdout",
     "output_type": "stream",
     "text": [
      "-----two methods--------------\n"
     ]
    },
    {
     "ename": "NameError",
     "evalue": "name 'X' is not defined",
     "output_type": "error",
     "traceback": [
      "\u001b[0;31m---------------------------------------------------------------------------\u001b[0m",
      "\u001b[0;31mNameError\u001b[0m                                 Traceback (most recent call last)",
      "\u001b[0;32m<ipython-input-63-95a5a474a600>\u001b[0m in \u001b[0;36m<module>\u001b[0;34m\u001b[0m\n\u001b[1;32m      2\u001b[0m \u001b[0my_interp\u001b[0m \u001b[0;34m=\u001b[0m \u001b[0mNOWA\u001b[0m\u001b[0;34m[\u001b[0m\u001b[0;34m'y_interp'\u001b[0m\u001b[0;34m]\u001b[0m\u001b[0;34m\u001b[0m\u001b[0;34m\u001b[0m\u001b[0m\n\u001b[1;32m      3\u001b[0m \u001b[0;34m\u001b[0m\u001b[0m\n\u001b[0;32m----> 4\u001b[0;31m \u001b[0mRegression_Assessment\u001b[0m\u001b[0;34m(\u001b[0m\u001b[0my\u001b[0m\u001b[0;34m,\u001b[0m \u001b[0my_interp\u001b[0m\u001b[0;34m)\u001b[0m\u001b[0;34m\u001b[0m\u001b[0;34m\u001b[0m\u001b[0m\n\u001b[0m",
      "\u001b[0;32m<ipython-input-62-ea333495e901>\u001b[0m in \u001b[0;36mRegression_Assessment\u001b[0;34m(y, y_pred)\u001b[0m\n\u001b[1;32m     12\u001b[0m     \u001b[0mSS_Total\u001b[0m \u001b[0;34m=\u001b[0m \u001b[0msum\u001b[0m\u001b[0;34m(\u001b[0m\u001b[0;34m(\u001b[0m\u001b[0my\u001b[0m\u001b[0;34m-\u001b[0m\u001b[0mnp\u001b[0m\u001b[0;34m.\u001b[0m\u001b[0mmean\u001b[0m\u001b[0;34m(\u001b[0m\u001b[0my\u001b[0m\u001b[0;34m)\u001b[0m\u001b[0;34m)\u001b[0m\u001b[0;34m**\u001b[0m\u001b[0;36m2\u001b[0m\u001b[0;34m)\u001b[0m\u001b[0;34m\u001b[0m\u001b[0;34m\u001b[0m\u001b[0m\n\u001b[1;32m     13\u001b[0m     \u001b[0mr_squared\u001b[0m \u001b[0;34m=\u001b[0m \u001b[0;36m1\u001b[0m \u001b[0;34m-\u001b[0m \u001b[0;34m(\u001b[0m\u001b[0mfloat\u001b[0m\u001b[0;34m(\u001b[0m\u001b[0mSS_Residual\u001b[0m\u001b[0;34m)\u001b[0m\u001b[0;34m)\u001b[0m\u001b[0;34m/\u001b[0m\u001b[0mSS_Total\u001b[0m\u001b[0;34m\u001b[0m\u001b[0;34m\u001b[0m\u001b[0m\n\u001b[0;32m---> 14\u001b[0;31m     \u001b[0madjusted_r_squared\u001b[0m \u001b[0;34m=\u001b[0m \u001b[0;36m1\u001b[0m \u001b[0;34m-\u001b[0m \u001b[0;34m(\u001b[0m\u001b[0;36m1\u001b[0m\u001b[0;34m-\u001b[0m\u001b[0mr_squared\u001b[0m\u001b[0;34m)\u001b[0m\u001b[0;34m*\u001b[0m\u001b[0;34m(\u001b[0m\u001b[0mlen\u001b[0m\u001b[0;34m(\u001b[0m\u001b[0my\u001b[0m\u001b[0;34m)\u001b[0m\u001b[0;34m-\u001b[0m\u001b[0;36m1\u001b[0m\u001b[0;34m)\u001b[0m\u001b[0;34m/\u001b[0m\u001b[0;34m(\u001b[0m\u001b[0mlen\u001b[0m\u001b[0;34m(\u001b[0m\u001b[0my\u001b[0m\u001b[0;34m)\u001b[0m\u001b[0;34m-\u001b[0m\u001b[0mX\u001b[0m\u001b[0;34m.\u001b[0m\u001b[0mshape\u001b[0m\u001b[0;34m[\u001b[0m\u001b[0;36m1\u001b[0m\u001b[0;34m]\u001b[0m\u001b[0;34m-\u001b[0m\u001b[0;36m1\u001b[0m\u001b[0;34m)\u001b[0m\u001b[0;34m\u001b[0m\u001b[0;34m\u001b[0m\u001b[0m\n\u001b[0m\u001b[1;32m     15\u001b[0m     \u001b[0mprint\u001b[0m\u001b[0;34m(\u001b[0m\u001b[0;34m'r2_score:           %0.3f'\u001b[0m \u001b[0;34m%\u001b[0m \u001b[0mr_squared\u001b[0m\u001b[0;34m)\u001b[0m\u001b[0;34m\u001b[0m\u001b[0;34m\u001b[0m\u001b[0m\n\u001b[1;32m     16\u001b[0m     \u001b[0;31m#print('adjusted_r_squared: %0.3f' % adjusted_r_squared)\u001b[0m\u001b[0;34m\u001b[0m\u001b[0;34m\u001b[0m\u001b[0;34m\u001b[0m\u001b[0m\n",
      "\u001b[0;31mNameError\u001b[0m: name 'X' is not defined"
     ]
    }
   ],
   "source": [
    "y = NOWA['y']\n",
    "y_interp = NOWA['y_interp']\n",
    "\n",
    "Regression_Assessment(y, y_interp)"
   ]
  },
  {
   "cell_type": "markdown",
   "metadata": {},
   "source": [
    "# Sprawdzenie na odłożonym miesiącu 12 miesiąc\n"
   ]
  },
  {
   "cell_type": "code",
   "execution_count": null,
   "metadata": {},
   "outputs": [],
   "source": [
    "gf = df[df['mnth']==12]\n",
    "print(gf.shape)\n",
    "gf.head(4)"
   ]
  },
  {
   "cell_type": "code",
   "execution_count": null,
   "metadata": {},
   "outputs": [],
   "source": [
    "X12 = gf.drop(['cnt','registered','casual'],1)\n",
    "y12 = gf['cnt']"
   ]
  },
  {
   "cell_type": "code",
   "execution_count": null,
   "metadata": {},
   "outputs": [],
   "source": []
  },
  {
   "cell_type": "markdown",
   "metadata": {},
   "source": [
    "Normalizacja 12- tego miesiąca"
   ]
  },
  {
   "cell_type": "code",
   "execution_count": null,
   "metadata": {},
   "outputs": [],
   "source": [
    "from sklearn.preprocessing import StandardScaler\n",
    "\n",
    "sc = StandardScaler()\n",
    "X12 = sc.fit_transform(X12)\n",
    "\n",
    "print(np.round(X12.std(), decimals=2), np.round(X12.mean(), decimals=2))"
   ]
  },
  {
   "cell_type": "code",
   "execution_count": null,
   "metadata": {},
   "outputs": [],
   "source": [
    "X12 = torch.tensor(X12)\n",
    "X12 = X12.type(torch.FloatTensor)\n",
    "print(X12[:3])"
   ]
  },
  {
   "cell_type": "code",
   "execution_count": null,
   "metadata": {},
   "outputs": [],
   "source": [
    "y12 = (y12/ 100)  # max test score is 100\n",
    "print(y.head(3))\n",
    "print('---------------------')\n",
    "print(np.round(y12.std(), decimals=2), np.round(y12.mean(), decimals=2))"
   ]
  },
  {
   "cell_type": "code",
   "execution_count": null,
   "metadata": {},
   "outputs": [],
   "source": [
    "y12.shape"
   ]
  },
  {
   "cell_type": "code",
   "execution_count": null,
   "metadata": {},
   "outputs": [],
   "source": [
    "y12 = y12.values"
   ]
  },
  {
   "cell_type": "code",
   "execution_count": null,
   "metadata": {},
   "outputs": [],
   "source": [
    "y12 = torch.tensor(y12)\n",
    "print(y12[:3])"
   ]
  },
  {
   "cell_type": "raw",
   "metadata": {},
   "source": [
    "y12 = y12.view(y.shape[0],1)\n",
    "y12[:5]"
   ]
  },
  {
   "cell_type": "code",
   "execution_count": null,
   "metadata": {},
   "outputs": [],
   "source": [
    "y12 = y12.type(torch.FloatTensor)"
   ]
  },
  {
   "cell_type": "code",
   "execution_count": null,
   "metadata": {},
   "outputs": [],
   "source": []
  },
  {
   "cell_type": "code",
   "execution_count": null,
   "metadata": {},
   "outputs": [],
   "source": []
  },
  {
   "cell_type": "code",
   "execution_count": null,
   "metadata": {},
   "outputs": [],
   "source": []
  },
  {
   "cell_type": "code",
   "execution_count": null,
   "metadata": {},
   "outputs": [],
   "source": []
  },
  {
   "cell_type": "code",
   "execution_count": null,
   "metadata": {},
   "outputs": [],
   "source": [
    "print('X12:',X12.shape)\n",
    "print('y12:',y12.shape)"
   ]
  },
  {
   "cell_type": "markdown",
   "metadata": {},
   "source": [
    "bez sensu"
   ]
  },
  {
   "cell_type": "code",
   "execution_count": null,
   "metadata": {},
   "outputs": [],
   "source": [
    "with torch.no_grad():\n",
    "    y_model = KOT(X12)  \n",
    "    loss = (y_model - y12).pow(2).sum()\n",
    "\n",
    "    print(f'Loss train_set: {loss:.8f}')"
   ]
  },
  {
   "cell_type": "raw",
   "metadata": {},
   "source": [
    "STOP"
   ]
  },
  {
   "cell_type": "code",
   "execution_count": null,
   "metadata": {},
   "outputs": [],
   "source": [
    "y_model = y_model*100\n",
    "foka = y_model.cpu().detach().numpy()\n",
    "df11 = pd.DataFrame(foka)\n",
    "df11.columns = ['y_model']\n",
    "df11=np.round(df11.y_model)\n",
    "df11.head(3)"
   ]
  },
  {
   "cell_type": "code",
   "execution_count": null,
   "metadata": {},
   "outputs": [],
   "source": [
    "df11 = pd.DataFrame(df11)\n",
    "df11.head(5)"
   ]
  },
  {
   "cell_type": "code",
   "execution_count": null,
   "metadata": {},
   "outputs": [],
   "source": [
    "y12 = y12*100\n",
    "y12 = np.round(y12)\n",
    "foka = y12.cpu().detach().numpy()\n",
    "df_t = pd.DataFrame(foka)\n",
    "df_t.columns = ['y12']\n",
    "df_t.head(5)"
   ]
  },
  {
   "cell_type": "code",
   "execution_count": null,
   "metadata": {},
   "outputs": [],
   "source": []
  },
  {
   "cell_type": "code",
   "execution_count": null,
   "metadata": {},
   "outputs": [],
   "source": [
    "Super_NOWA = pd.merge(df_t,df11, how='inner', left_index=True, right_index=True)\n",
    "Super_NOWA.head(3)"
   ]
  },
  {
   "cell_type": "code",
   "execution_count": null,
   "metadata": {},
   "outputs": [],
   "source": [
    "fig, ax = plt.subplots( figsize=(16, 2))\n",
    "for ewa in ['y12', 'y_model']:\n",
    "    ax.plot(Super_NOWA, label=ewa)\n",
    "    \n",
    "ax.set_xlim(1000, 1300)\n",
    "#ax.legend()\n",
    "ax.set_ylabel('Parameter')\n",
    "ax.set_title('COURSE OF THE PROJECTING PROCESS ON THE TEST SET')"
   ]
  },
  {
   "cell_type": "code",
   "execution_count": null,
   "metadata": {},
   "outputs": [],
   "source": [
    "## marginesy\n",
    "plt.subplots_adjust( left = None , bottom = None , right = None , top = None , wspace = None , hspace = None )\n",
    "plt.figure(figsize=(16,5))\n",
    "ax = plt.subplot(1, 2, 1)\n",
    "Super_NOWA.plot.kde(ax=ax, legend=True, title='Histogram: y12 vs. y_model')\n",
    "Super_NOWA.plot.hist(density=True,bins=40, ax=ax, alpha=0.3)\n",
    "ax.set_title(\"Dystributions\")\n",
    "\n",
    "ax = plt.subplot(1, 2, 2)\n",
    "sns.boxplot(data = Super_NOWA)\n",
    "plt.xticks(rotation=-90)\n",
    "ax.set_title(\"Boxes\")\n",
    "\n",
    "\n",
    "sns.lmplot(data=Super_NOWA, x='y12', y='y_model')"
   ]
  },
  {
   "cell_type": "code",
   "execution_count": null,
   "metadata": {},
   "outputs": [],
   "source": [
    "y = Super_NOWA['y12']\n",
    "y_pred = Super_NOWA['y_model']\n",
    "\n",
    "Regression_Assessment(y, y_pred)"
   ]
  },
  {
   "cell_type": "code",
   "execution_count": null,
   "metadata": {},
   "outputs": [],
   "source": []
  }
 ],
 "metadata": {
  "kernelspec": {
   "display_name": "Python 3",
   "language": "python",
   "name": "python3"
  },
  "language_info": {
   "codemirror_mode": {
    "name": "ipython",
    "version": 3
   },
   "file_extension": ".py",
   "mimetype": "text/x-python",
   "name": "python",
   "nbconvert_exporter": "python",
   "pygments_lexer": "ipython3",
   "version": "3.7.4"
  }
 },
 "nbformat": 4,
 "nbformat_minor": 2
}
