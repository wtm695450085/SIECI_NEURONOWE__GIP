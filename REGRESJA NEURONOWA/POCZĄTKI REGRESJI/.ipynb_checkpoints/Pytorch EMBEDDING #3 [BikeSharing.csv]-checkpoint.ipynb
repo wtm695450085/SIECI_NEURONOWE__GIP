{
 "cells": [
  {
   "cell_type": "markdown",
   "metadata": {},
   "source": [
    "<span style=\"font-size: 220%;color:#1155cc\"> Pytorch: EMBEDDING #3 [BikeSharing.csv] REGRESJA\n",
    "    \n",
    "    \n",
    "<span style=\"font-size: 180%;color:red\"> 20.09.2020   NIE WIEM DLACZEGO MODEL SIĘ NIE UCZY   \n",
    "\n",
    "Classification Example using a neural network with embedding"
   ]
  },
  {
   "cell_type": "code",
   "execution_count": 1,
   "metadata": {},
   "outputs": [
    {
     "name": "stdout",
     "output_type": "stream",
     "text": [
      "Tue Mar 30 07:46:46 2021\n"
     ]
    }
   ],
   "source": [
    "import time\n",
    "start_time = time.time() ## pomiar czasu: start pomiaru czasu\n",
    "print(time.ctime())"
   ]
  },
  {
   "cell_type": "code",
   "execution_count": 2,
   "metadata": {},
   "outputs": [],
   "source": [
    "import torch\n",
    "import torch.nn as nn\n",
    "import numpy as np\n",
    "import pandas as pd\n",
    "import matplotlib.pyplot as plt\n",
    "import seaborn as sns\n",
    "%matplotlib inline"
   ]
  },
  {
   "cell_type": "markdown",
   "metadata": {},
   "source": [
    "### I import data"
   ]
  },
  {
   "cell_type": "code",
   "execution_count": 3,
   "metadata": {},
   "outputs": [
    {
     "name": "stdout",
     "output_type": "stream",
     "text": [
      "\u001b[32minstant         int64\n",
      "dteday         object\n",
      "season          int64\n",
      "yr              int64\n",
      "mnth            int64\n",
      "hr              int64\n",
      "holiday         int64\n",
      "weekday         int64\n",
      "workingday      int64\n",
      "weathersit      int64\n",
      "temp          float64\n",
      "atemp         float64\n",
      "hum           float64\n",
      "windspeed     float64\n",
      "casual          int64\n",
      "registered      int64\n",
      "cnt             int64\n",
      "dtype: object\u001b[0m\n",
      "\n",
      "\n",
      "(17379, 17)\n"
     ]
    },
    {
     "data": {
      "text/html": [
       "<div>\n",
       "<style scoped>\n",
       "    .dataframe tbody tr th:only-of-type {\n",
       "        vertical-align: middle;\n",
       "    }\n",
       "\n",
       "    .dataframe tbody tr th {\n",
       "        vertical-align: top;\n",
       "    }\n",
       "\n",
       "    .dataframe thead th {\n",
       "        text-align: right;\n",
       "    }\n",
       "</style>\n",
       "<table border=\"1\" class=\"dataframe\">\n",
       "  <thead>\n",
       "    <tr style=\"text-align: right;\">\n",
       "      <th></th>\n",
       "      <th>instant</th>\n",
       "      <th>dteday</th>\n",
       "      <th>season</th>\n",
       "      <th>yr</th>\n",
       "      <th>mnth</th>\n",
       "      <th>hr</th>\n",
       "      <th>holiday</th>\n",
       "      <th>weekday</th>\n",
       "      <th>workingday</th>\n",
       "      <th>weathersit</th>\n",
       "      <th>temp</th>\n",
       "      <th>atemp</th>\n",
       "      <th>hum</th>\n",
       "      <th>windspeed</th>\n",
       "      <th>casual</th>\n",
       "      <th>registered</th>\n",
       "      <th>cnt</th>\n",
       "    </tr>\n",
       "  </thead>\n",
       "  <tbody>\n",
       "    <tr>\n",
       "      <td>0</td>\n",
       "      <td>1</td>\n",
       "      <td>2011-01-01</td>\n",
       "      <td>1</td>\n",
       "      <td>0</td>\n",
       "      <td>1</td>\n",
       "      <td>0</td>\n",
       "      <td>0</td>\n",
       "      <td>6</td>\n",
       "      <td>0</td>\n",
       "      <td>1</td>\n",
       "      <td>0.24</td>\n",
       "      <td>0.2879</td>\n",
       "      <td>0.81</td>\n",
       "      <td>0.0</td>\n",
       "      <td>3</td>\n",
       "      <td>13</td>\n",
       "      <td>16</td>\n",
       "    </tr>\n",
       "    <tr>\n",
       "      <td>1</td>\n",
       "      <td>2</td>\n",
       "      <td>2011-01-01</td>\n",
       "      <td>1</td>\n",
       "      <td>0</td>\n",
       "      <td>1</td>\n",
       "      <td>1</td>\n",
       "      <td>0</td>\n",
       "      <td>6</td>\n",
       "      <td>0</td>\n",
       "      <td>1</td>\n",
       "      <td>0.22</td>\n",
       "      <td>0.2727</td>\n",
       "      <td>0.80</td>\n",
       "      <td>0.0</td>\n",
       "      <td>8</td>\n",
       "      <td>32</td>\n",
       "      <td>40</td>\n",
       "    </tr>\n",
       "    <tr>\n",
       "      <td>2</td>\n",
       "      <td>3</td>\n",
       "      <td>2011-01-01</td>\n",
       "      <td>1</td>\n",
       "      <td>0</td>\n",
       "      <td>1</td>\n",
       "      <td>2</td>\n",
       "      <td>0</td>\n",
       "      <td>6</td>\n",
       "      <td>0</td>\n",
       "      <td>1</td>\n",
       "      <td>0.22</td>\n",
       "      <td>0.2727</td>\n",
       "      <td>0.80</td>\n",
       "      <td>0.0</td>\n",
       "      <td>5</td>\n",
       "      <td>27</td>\n",
       "      <td>32</td>\n",
       "    </tr>\n",
       "    <tr>\n",
       "      <td>3</td>\n",
       "      <td>4</td>\n",
       "      <td>2011-01-01</td>\n",
       "      <td>1</td>\n",
       "      <td>0</td>\n",
       "      <td>1</td>\n",
       "      <td>3</td>\n",
       "      <td>0</td>\n",
       "      <td>6</td>\n",
       "      <td>0</td>\n",
       "      <td>1</td>\n",
       "      <td>0.24</td>\n",
       "      <td>0.2879</td>\n",
       "      <td>0.75</td>\n",
       "      <td>0.0</td>\n",
       "      <td>3</td>\n",
       "      <td>10</td>\n",
       "      <td>13</td>\n",
       "    </tr>\n",
       "  </tbody>\n",
       "</table>\n",
       "</div>"
      ],
      "text/plain": [
       "   instant      dteday  season  yr  mnth  hr  holiday  weekday  workingday  \\\n",
       "0        1  2011-01-01       1   0     1   0        0        6           0   \n",
       "1        2  2011-01-01       1   0     1   1        0        6           0   \n",
       "2        3  2011-01-01       1   0     1   2        0        6           0   \n",
       "3        4  2011-01-01       1   0     1   3        0        6           0   \n",
       "\n",
       "   weathersit  temp   atemp   hum  windspeed  casual  registered  cnt  \n",
       "0           1  0.24  0.2879  0.81        0.0       3          13   16  \n",
       "1           1  0.22  0.2727  0.80        0.0       8          32   40  \n",
       "2           1  0.22  0.2727  0.80        0.0       5          27   32  \n",
       "3           1  0.24  0.2879  0.75        0.0       3          10   13  "
      ]
     },
     "execution_count": 3,
     "metadata": {},
     "output_type": "execute_result"
    }
   ],
   "source": [
    "df = pd.read_csv('/home/wojciech/Pulpit/11/hour.csv')\n",
    "\n",
    "def green(text):\n",
    "     print('\\033[32m', text, '\\033[0m', sep='') \n",
    "\n",
    "green(df.dtypes)\n",
    "print()\n",
    "print()\n",
    "print(df.shape)\n",
    "\n",
    "df.head(4)"
   ]
  },
  {
   "cell_type": "markdown",
   "metadata": {},
   "source": [
    "# Spis zmiennych:\n",
    "\n",
    "- <span style=\"font-size: 130%;color:#1155cc\"> instant: </span>indeks rekordu\n",
    "- <span style=\"font-size: 130%;color:#1155cc\">dteday:</span> data\n",
    "- <span style=\"font-size: 130%;color:#1155cc\">season:</span> sezon (1: wiosenny, 2: lato, 3: jesień, 4: zima)\n",
    "- <span style=\"font-size: 130%;color:#1155cc\">yr:</span> rok (0: 2011, 1: 2012)\n",
    "- <span style=\"font-size: 130%;color:#1155cc\">mnth:</span> miesiąc (od 1 do 12)\n",
    "- <span style=\"font-size: 130%;color:#1155cc\">hr .: </span>godzina (od 0 do 23)\n",
    "- <span style=\"font-size: 130%;color:#1155cc\">holiday: </span>pogoda jest dniem świątecznym lub nie (pobrane z http://dchr.dc.gov/page/holiday-schedule)\n",
    "- <span style=\"font-size: 130%;color:#1155cc\">weekday: </span>dzień tygodnia\n",
    "- <span style=\"font-size: 130%;color:#1155cc\">workingday: </span>jeśli dzień nie jest ani weekendem, ani dniem wolnym od pracy wynosi 1, w przeciwnym razie wynosi 0.\n",
    "+ <span style=\"font-size: 130%;color:#1155cc\">weathersit:</span>\n",
    "    - 1: Bezchmurnie, Niewiele chmur, Częściowe zachmurzenie, Częściowe zachmurzenie\n",
    "    - 2: Mgła + Pochmurno, Mgła + Przerwane chmury, Mgła + Kilka chmur, Mgła\n",
    "    - 3: lekki śnieg, lekki deszcz + burza z piorunami + rozproszone chmury, lekki deszcz + rozproszone chmury\n",
    "    - 4: ulewny deszcz + lodowe palety + burza z piorunami + mgła, śnieg + mgła\n",
    "- <span style=\"font-size: 130%;color:#1155cc\">temp: </span>Znormalizowana temperatura w stopniach Celsjusza. Wartości są podzielone na 41 (maks.)\n",
    "- <span style=\"font-size: 130%;color:#1155cc\">atemp: </span>Znormalizowana temperatura odczuwania w stopniach Celsjusza. Wartości są podzielone na 50 (maks.)\n",
    "- <span style=\"font-size: 130%;color:#1155cc\">hum: </span>znormalizowana wilgotność. Wartości są podzielone na 100 (maks.)\n",
    "- <span style=\"font-size: 130%;color:#1155cc\">windspeed: </span>znormalizowana prędkość wiatru. Wartości są podzielone na 67 (maks.)\n",
    "- <span style=\"font-size: 150%;background:#ff00ff\"> casual:</span> liczba przypadkowych użytkowników\n",
    "- <span style=\"font-size: 150%;background:#ff00ff\">registered:</span> liczba zarejestrowanych użytkowników\n",
    "- <span style=\"font-size: 130%;color:red\">cnt: liczba wszystkich wypożyczonych rowerów, w tym zarówno zwykłych, jak i zarejestrowanych\n",
    "    \n",
    "    ![obraz.png](attachment:obraz.png)"
   ]
  },
  {
   "cell_type": "markdown",
   "metadata": {},
   "source": [
    "<span style=\"font-size: 130%;color:#1155cc\">Narzedzie do ograniczenia wielkości próby"
   ]
  },
  {
   "cell_type": "code",
   "execution_count": 4,
   "metadata": {},
   "outputs": [
    {
     "data": {
      "text/plain": [
       "(17379, 17)"
      ]
     },
     "execution_count": 4,
     "metadata": {},
     "output_type": "execute_result"
    }
   ],
   "source": [
    "df = df.sample(frac = 1.00, random_state=148)\n",
    "df.shape"
   ]
  },
  {
   "cell_type": "markdown",
   "metadata": {},
   "source": [
    "<span style=\"font-size: 110%;color:#1155cc\"> Sprawdzam czy są braki w danych."
   ]
  },
  {
   "cell_type": "code",
   "execution_count": 5,
   "metadata": {},
   "outputs": [
    {
     "data": {
      "text/plain": [
       "instant       0\n",
       "dteday        0\n",
       "season        0\n",
       "yr            0\n",
       "mnth          0\n",
       "hr            0\n",
       "holiday       0\n",
       "weekday       0\n",
       "workingday    0\n",
       "weathersit    0\n",
       "temp          0\n",
       "atemp         0\n",
       "hum           0\n",
       "windspeed     0\n",
       "casual        0\n",
       "registered    0\n",
       "cnt           0\n",
       "dtype: int64"
      ]
     },
     "execution_count": 5,
     "metadata": {},
     "output_type": "execute_result"
    }
   ],
   "source": [
    "df.isnull().sum()"
   ]
  },
  {
   "cell_type": "markdown",
   "metadata": {},
   "source": [
    "<span style=\"font-size: 110%;color:#1155cc\">Dane nie mają braków. Szukam czy nie ma błędów. Zmienne nie mają błędów."
   ]
  },
  {
   "cell_type": "code",
   "execution_count": 6,
   "metadata": {},
   "outputs": [
    {
     "data": {
      "text/html": [
       "<div>\n",
       "<style scoped>\n",
       "    .dataframe tbody tr th:only-of-type {\n",
       "        vertical-align: middle;\n",
       "    }\n",
       "\n",
       "    .dataframe tbody tr th {\n",
       "        vertical-align: top;\n",
       "    }\n",
       "\n",
       "    .dataframe thead th {\n",
       "        text-align: right;\n",
       "    }\n",
       "</style>\n",
       "<table border=\"1\" class=\"dataframe\">\n",
       "  <thead>\n",
       "    <tr style=\"text-align: right;\">\n",
       "      <th></th>\n",
       "      <th>instant</th>\n",
       "      <th>dteday</th>\n",
       "      <th>season</th>\n",
       "      <th>yr</th>\n",
       "      <th>mnth</th>\n",
       "      <th>hr</th>\n",
       "      <th>holiday</th>\n",
       "      <th>weekday</th>\n",
       "      <th>workingday</th>\n",
       "      <th>weathersit</th>\n",
       "      <th>temp</th>\n",
       "      <th>atemp</th>\n",
       "      <th>hum</th>\n",
       "      <th>windspeed</th>\n",
       "      <th>casual</th>\n",
       "      <th>registered</th>\n",
       "      <th>cnt</th>\n",
       "    </tr>\n",
       "  </thead>\n",
       "  <tbody>\n",
       "    <tr>\n",
       "      <td>min</td>\n",
       "      <td>1.0</td>\n",
       "      <td>2011-01-01</td>\n",
       "      <td>1.00000</td>\n",
       "      <td>0.000000</td>\n",
       "      <td>1.000000</td>\n",
       "      <td>0.000000</td>\n",
       "      <td>0.00000</td>\n",
       "      <td>0.000000</td>\n",
       "      <td>0.000000</td>\n",
       "      <td>1.000000</td>\n",
       "      <td>0.020000</td>\n",
       "      <td>0.000000</td>\n",
       "      <td>0.000000</td>\n",
       "      <td>0.000000</td>\n",
       "      <td>0.000000</td>\n",
       "      <td>0.000000</td>\n",
       "      <td>1.000000</td>\n",
       "    </tr>\n",
       "    <tr>\n",
       "      <td>max</td>\n",
       "      <td>17379.0</td>\n",
       "      <td>2012-12-31</td>\n",
       "      <td>4.00000</td>\n",
       "      <td>1.000000</td>\n",
       "      <td>12.000000</td>\n",
       "      <td>23.000000</td>\n",
       "      <td>1.00000</td>\n",
       "      <td>6.000000</td>\n",
       "      <td>1.000000</td>\n",
       "      <td>4.000000</td>\n",
       "      <td>1.000000</td>\n",
       "      <td>1.000000</td>\n",
       "      <td>1.000000</td>\n",
       "      <td>0.850700</td>\n",
       "      <td>367.000000</td>\n",
       "      <td>886.000000</td>\n",
       "      <td>977.000000</td>\n",
       "    </tr>\n",
       "    <tr>\n",
       "      <td>mean</td>\n",
       "      <td>8690.0</td>\n",
       "      <td>NaN</td>\n",
       "      <td>2.50164</td>\n",
       "      <td>0.502561</td>\n",
       "      <td>6.537775</td>\n",
       "      <td>11.546752</td>\n",
       "      <td>0.02877</td>\n",
       "      <td>3.003683</td>\n",
       "      <td>0.682721</td>\n",
       "      <td>1.425283</td>\n",
       "      <td>0.496987</td>\n",
       "      <td>0.475775</td>\n",
       "      <td>0.627229</td>\n",
       "      <td>0.190098</td>\n",
       "      <td>35.676218</td>\n",
       "      <td>153.786869</td>\n",
       "      <td>189.463088</td>\n",
       "    </tr>\n",
       "    <tr>\n",
       "      <td>median</td>\n",
       "      <td>8690.0</td>\n",
       "      <td>NaN</td>\n",
       "      <td>3.00000</td>\n",
       "      <td>1.000000</td>\n",
       "      <td>7.000000</td>\n",
       "      <td>12.000000</td>\n",
       "      <td>0.00000</td>\n",
       "      <td>3.000000</td>\n",
       "      <td>1.000000</td>\n",
       "      <td>1.000000</td>\n",
       "      <td>0.500000</td>\n",
       "      <td>0.484800</td>\n",
       "      <td>0.630000</td>\n",
       "      <td>0.194000</td>\n",
       "      <td>17.000000</td>\n",
       "      <td>115.000000</td>\n",
       "      <td>142.000000</td>\n",
       "    </tr>\n",
       "  </tbody>\n",
       "</table>\n",
       "</div>"
      ],
      "text/plain": [
       "        instant      dteday   season        yr       mnth         hr  holiday  \\\n",
       "min         1.0  2011-01-01  1.00000  0.000000   1.000000   0.000000  0.00000   \n",
       "max     17379.0  2012-12-31  4.00000  1.000000  12.000000  23.000000  1.00000   \n",
       "mean     8690.0         NaN  2.50164  0.502561   6.537775  11.546752  0.02877   \n",
       "median   8690.0         NaN  3.00000  1.000000   7.000000  12.000000  0.00000   \n",
       "\n",
       "         weekday  workingday  weathersit      temp     atemp       hum  \\\n",
       "min     0.000000    0.000000    1.000000  0.020000  0.000000  0.000000   \n",
       "max     6.000000    1.000000    4.000000  1.000000  1.000000  1.000000   \n",
       "mean    3.003683    0.682721    1.425283  0.496987  0.475775  0.627229   \n",
       "median  3.000000    1.000000    1.000000  0.500000  0.484800  0.630000   \n",
       "\n",
       "        windspeed      casual  registered         cnt  \n",
       "min      0.000000    0.000000    0.000000    1.000000  \n",
       "max      0.850700  367.000000  886.000000  977.000000  \n",
       "mean     0.190098   35.676218  153.786869  189.463088  \n",
       "median   0.194000   17.000000  115.000000  142.000000  "
      ]
     },
     "execution_count": 6,
     "metadata": {},
     "output_type": "execute_result"
    }
   ],
   "source": [
    "df.agg(['min', 'max', 'mean', 'median'])"
   ]
  },
  {
   "cell_type": "markdown",
   "metadata": {},
   "source": [
    "<span style=\"font-size: 110%;color:#1155cc\"> Kasuje niepotrzebne dane\n"
   ]
  },
  {
   "cell_type": "code",
   "execution_count": 7,
   "metadata": {},
   "outputs": [],
   "source": [
    "#del df['Unnamed: 0']\n",
    "del df['casual']\n",
    "del df['registered']\n",
    "del df['instant']\n",
    "del df['dteday']"
   ]
  },
  {
   "cell_type": "code",
   "execution_count": 8,
   "metadata": {},
   "outputs": [
    {
     "data": {
      "text/plain": [
       "season        0\n",
       "yr            0\n",
       "mnth          0\n",
       "hr            0\n",
       "holiday       0\n",
       "weekday       0\n",
       "workingday    0\n",
       "weathersit    0\n",
       "temp          0\n",
       "atemp         0\n",
       "hum           0\n",
       "windspeed     0\n",
       "cnt           0\n",
       "dtype: int64"
      ]
     },
     "execution_count": 8,
     "metadata": {},
     "output_type": "execute_result"
    }
   ],
   "source": [
    "df.isnull().sum()"
   ]
  },
  {
   "cell_type": "markdown",
   "metadata": {},
   "source": [
    "<span style=\"font-size: 220%;color:#1155cc\"> Układ kolumn z danymi kategorycznymi i ciągłymi"
   ]
  },
  {
   "cell_type": "code",
   "execution_count": 9,
   "metadata": {},
   "outputs": [
    {
     "data": {
      "text/plain": [
       "Index(['season', 'yr', 'mnth', 'hr', 'holiday', 'weekday', 'workingday',\n",
       "       'weathersit', 'temp', 'atemp', 'hum', 'windspeed', 'cnt'],\n",
       "      dtype='object')"
      ]
     },
     "execution_count": 9,
     "metadata": {},
     "output_type": "execute_result"
    }
   ],
   "source": [
    "df.columns"
   ]
  },
  {
   "cell_type": "markdown",
   "metadata": {},
   "source": [
    "<span style=\"font-size: 150%;color:#1155cc\"> Prosta wersja podziału na dyskretne i ciągłe"
   ]
  },
  {
   "cell_type": "raw",
   "metadata": {},
   "source": [
    "data.describe(include=[\"object\"]).columns"
   ]
  },
  {
   "cell_type": "raw",
   "metadata": {},
   "source": [
    "import numpy as np\n",
    "data.describe(include=[np.number]).columns"
   ]
  },
  {
   "cell_type": "markdown",
   "metadata": {},
   "source": [
    "<span style=\"font-size: 150%;color:#1155cc\"> Mojej produkcji podziału na dyskretne i ciągłe\n",
    "    \n",
    "    \n",
    "Które z tych funkcji są kategoryczne?\n",
    "\n",
    "Stawiam dwa warunki: \n",
    "\n",
    "1. funkcja jest kategoryczna bo ma format 'object'\n",
    "2. funkcja jest kategoryczna bo ma do 24 unikalnych wartości"
   ]
  },
  {
   "cell_type": "code",
   "execution_count": 10,
   "metadata": {},
   "outputs": [
    {
     "name": "stdout",
     "output_type": "stream",
     "text": [
      "ONLY DISCRETE FUNCTION\n",
      "----------------------\n",
      "season --- int64 --- 4\n",
      "yr --- int64 --- 2\n",
      "mnth --- int64 --- 12\n",
      "hr --- int64 --- 24\n",
      "holiday --- int64 --- 2\n",
      "weekday --- int64 --- 7\n",
      "workingday --- int64 --- 2\n",
      "weathersit --- int64 --- 4\n"
     ]
    }
   ],
   "source": [
    "a,b = df.shape     #<- ile mamy kolumn\n",
    "b\n",
    "\n",
    "print('ONLY DISCRETE FUNCTION')\n",
    "print('----------------------')\n",
    "for i in range(0,b):\n",
    "    i = df.columns[i]\n",
    "    f = df[i].dtypes\n",
    "    h = df[i].nunique()\n",
    "    \n",
    "    if f == np.object or h<=24:\n",
    "        print(i,\"---\",f,\"---\",h)"
   ]
  },
  {
   "cell_type": "code",
   "execution_count": 11,
   "metadata": {},
   "outputs": [
    {
     "data": {
      "text/plain": [
       "Index(['season', 'yr', 'mnth', 'hr', 'holiday', 'weekday', 'workingday',\n",
       "       'weathersit', 'temp', 'atemp', 'hum', 'windspeed', 'cnt'],\n",
       "      dtype='object')"
      ]
     },
     "execution_count": 11,
     "metadata": {},
     "output_type": "execute_result"
    }
   ],
   "source": [
    "df.columns"
   ]
  },
  {
   "cell_type": "markdown",
   "metadata": {},
   "source": [
    "<span style=\"font-size: 150%;color:#1155cc\"> Robie to ręcznie - może potem zrobie do tego automat\n",
    "    \n",
    "    Ręcznie przyporządkowuje kolumny do kategorii zmiennych dyskretnych (categorycznych) i zmiennych ciągłych (numerycznych)"
   ]
  },
  {
   "cell_type": "code",
   "execution_count": 12,
   "metadata": {},
   "outputs": [],
   "source": [
    "categorical_columns = ['season','yr','mnth','hr','holiday','weekday','workingday','weathersit']\n",
    "numerical_columns = ['temp','atemp','hum','windspeed']"
   ]
  },
  {
   "cell_type": "code",
   "execution_count": 13,
   "metadata": {},
   "outputs": [
    {
     "data": {
      "text/plain": [
       "0.88    657\n",
       "0.83    630\n",
       "0.94    560\n",
       "0.87    488\n",
       "0.70    430\n",
       "       ... \n",
       "0.13      1\n",
       "0.12      1\n",
       "0.08      1\n",
       "0.10      1\n",
       "0.91      1\n",
       "Name: hum, Length: 89, dtype: int64"
      ]
     },
     "execution_count": 13,
     "metadata": {},
     "output_type": "execute_result"
    }
   ],
   "source": [
    "df['hum'].value_counts()"
   ]
  },
  {
   "cell_type": "markdown",
   "metadata": {},
   "source": [
    "<span style=\"font-size: 150%;color:#1155cc\"> Wskazuje na zmienną wynikową"
   ]
  },
  {
   "cell_type": "code",
   "execution_count": 14,
   "metadata": {},
   "outputs": [],
   "source": [
    "outputs = ['cnt']"
   ]
  },
  {
   "cell_type": "markdown",
   "metadata": {},
   "source": [
    "### Digitization of text variables"
   ]
  },
  {
   "cell_type": "code",
   "execution_count": 15,
   "metadata": {},
   "outputs": [
    {
     "data": {
      "text/plain": [
       "season          int64\n",
       "yr              int64\n",
       "mnth            int64\n",
       "hr              int64\n",
       "holiday         int64\n",
       "weekday         int64\n",
       "workingday      int64\n",
       "weathersit      int64\n",
       "temp          float64\n",
       "atemp         float64\n",
       "hum           float64\n",
       "windspeed     float64\n",
       "cnt             int64\n",
       "dtype: object"
      ]
     },
     "execution_count": 15,
     "metadata": {},
     "output_type": "execute_result"
    }
   ],
   "source": [
    "df.dtypes"
   ]
  },
  {
   "cell_type": "markdown",
   "metadata": {},
   "source": [
    "We need to convert types for qualitative columns to category. We can do this using the astype () function, as shown below:"
   ]
  },
  {
   "cell_type": "markdown",
   "metadata": {},
   "source": [
    "<span style=\"font-size: 150%;color:#1155cc\"> Zmieniam format zmiennych kategorycznych na type: 'category'</span>"
   ]
  },
  {
   "cell_type": "code",
   "execution_count": 16,
   "metadata": {},
   "outputs": [],
   "source": [
    "for category in categorical_columns:\n",
    "    df[category] = df[category].astype('category')"
   ]
  },
  {
   "cell_type": "code",
   "execution_count": 17,
   "metadata": {},
   "outputs": [
    {
     "data": {
      "text/plain": [
       "season        category\n",
       "yr            category\n",
       "mnth          category\n",
       "hr            category\n",
       "holiday       category\n",
       "weekday       category\n",
       "workingday    category\n",
       "weathersit    category\n",
       "temp           float64\n",
       "atemp          float64\n",
       "hum            float64\n",
       "windspeed      float64\n",
       "cnt              int64\n",
       "dtype: object"
      ]
     },
     "execution_count": 17,
     "metadata": {},
     "output_type": "execute_result"
    }
   ],
   "source": [
    "df.dtypes"
   ]
  },
  {
   "cell_type": "markdown",
   "metadata": {},
   "source": [
    "<span style=\"font-size: 150%;color:#1155cc\"> Cyfryzacja zmiennych kategorycznych</span>"
   ]
  },
  {
   "cell_type": "markdown",
   "metadata": {},
   "source": [
    "### Why did we digitize data in the format?"
   ]
  },
  {
   "cell_type": "markdown",
   "metadata": {},
   "source": [
    "Podstawowym celem oddzielania kolumn kategorialnych od kolumn liczbowych jest to, że wartości w kolumnie liczbowej mogą być bezpośrednio wprowadzane do sieci neuronowych. Jednak wartości kolumn skategoryzowanych należy najpierw przekonwertować na typ liczbowy."
   ]
  },
  {
   "cell_type": "code",
   "execution_count": 18,
   "metadata": {},
   "outputs": [
    {
     "data": {
      "text/plain": [
       "['season',\n",
       " 'yr',\n",
       " 'mnth',\n",
       " 'hr',\n",
       " 'holiday',\n",
       " 'weekday',\n",
       " 'workingday',\n",
       " 'weathersit']"
      ]
     },
     "execution_count": 18,
     "metadata": {},
     "output_type": "execute_result"
    }
   ],
   "source": [
    "categorical_columns"
   ]
  },
  {
   "cell_type": "markdown",
   "metadata": {},
   "source": [
    "<span style=\"font-size: 150%;color:#1155cc\"> Conversion of categorical variables to Numpy matrix\n",
    "    \n",
    "    robie to ręcznie - może potem zrobie do tego automat"
   ]
  },
  {
   "cell_type": "code",
   "execution_count": 19,
   "metadata": {},
   "outputs": [
    {
     "data": {
      "text/plain": [
       "array([[ 0,  1,  1, 22,  0,  2,  1,  1],\n",
       "       [ 3,  0, 10, 10,  0,  4,  1,  1],\n",
       "       [ 3,  1,  9,  3,  0,  0,  0,  1],\n",
       "       [ 1,  1,  5,  5,  0,  4,  1,  0],\n",
       "       [ 3,  0, 10, 17,  1,  5,  0,  0],\n",
       "       [ 2,  0,  5,  5,  0,  2,  1,  1],\n",
       "       [ 3,  0, 10,  5,  0,  0,  0,  0],\n",
       "       [ 3,  1,  9,  1,  0,  4,  1,  1],\n",
       "       [ 1,  1,  4, 15,  0,  6,  0,  0],\n",
       "       [ 0,  1,  1,  4,  0,  4,  1,  2]], dtype=int8)"
      ]
     },
     "execution_count": 19,
     "metadata": {},
     "output_type": "execute_result"
    }
   ],
   "source": [
    "p1 = df['season'].cat.codes.values\n",
    "p2 = df['yr'].cat.codes.values\n",
    "p3 = df['mnth'].cat.codes.values\n",
    "p4 = df['hr'].cat.codes.values\n",
    "p5 = df['holiday'].cat.codes.values\n",
    "p6 = df['weekday'].cat.codes.values\n",
    "p7 = df['workingday'].cat.codes.values\n",
    "p8 = df['weathersit'].cat.codes.values\n",
    "\n",
    "\n",
    "NumP_matrix = np.stack([p1,p2,p3,p4,p5,p6,p7,p8], 1)   \n",
    "\n",
    "NumP_matrix[:10]\n"
   ]
  },
  {
   "cell_type": "markdown",
   "metadata": {},
   "source": [
    "<span style=\"font-size: 150%;color:#1155cc\"> Odpalam karte graficzną GPU"
   ]
  },
  {
   "cell_type": "raw",
   "metadata": {},
   "source": [
    "#device = torch.device('cpu') # obliczenia robie na CPU\n",
    "device = torch.device('cuda') # obliczenia robie na GPU"
   ]
  },
  {
   "cell_type": "markdown",
   "metadata": {},
   "source": [
    "automatyczna wersja tego co powyżej"
   ]
  },
  {
   "cell_type": "code",
   "execution_count": 20,
   "metadata": {},
   "outputs": [],
   "source": [
    "device = torch.device('cuda' if torch.cuda.is_available() else 'cpu')"
   ]
  },
  {
   "cell_type": "markdown",
   "metadata": {},
   "source": [
    "### Creating a Pytorch tensor from the Numpy matrix"
   ]
  },
  {
   "cell_type": "code",
   "execution_count": 21,
   "metadata": {},
   "outputs": [
    {
     "data": {
      "text/plain": [
       "tensor([[ 0,  1,  1, 22,  0,  2,  1,  1],\n",
       "        [ 3,  0, 10, 10,  0,  4,  1,  1],\n",
       "        [ 3,  1,  9,  3,  0,  0,  0,  1],\n",
       "        [ 1,  1,  5,  5,  0,  4,  1,  0],\n",
       "        [ 3,  0, 10, 17,  1,  5,  0,  0],\n",
       "        [ 2,  0,  5,  5,  0,  2,  1,  1],\n",
       "        [ 3,  0, 10,  5,  0,  0,  0,  0],\n",
       "        [ 3,  1,  9,  1,  0,  4,  1,  1],\n",
       "        [ 1,  1,  4, 15,  0,  6,  0,  0],\n",
       "        [ 0,  1,  1,  4,  0,  4,  1,  2]], device='cuda:0')"
      ]
     },
     "execution_count": 21,
     "metadata": {},
     "output_type": "execute_result"
    }
   ],
   "source": [
    "categorical_data = torch.tensor(NumP_matrix, dtype=torch.int64, device=device)\n",
    "categorical_data[:10]"
   ]
  },
  {
   "cell_type": "markdown",
   "metadata": {},
   "source": [
    "### Conversion of DataFrame numeric columns to a Pytorch tensor"
   ]
  },
  {
   "cell_type": "code",
   "execution_count": 22,
   "metadata": {},
   "outputs": [
    {
     "data": {
      "text/plain": [
       "tensor([[0.3400, 0.3333, 0.7100, 0.1940],\n",
       "        [0.4400, 0.4394, 0.8800, 0.2239],\n",
       "        [0.5000, 0.4848, 0.6300, 0.3284],\n",
       "        [0.4800, 0.4697, 0.8200, 0.0896],\n",
       "        [0.3400, 0.3030, 0.3900, 0.3284]], device='cuda:0')"
      ]
     },
     "execution_count": 22,
     "metadata": {},
     "output_type": "execute_result"
    }
   ],
   "source": [
    "numerical_data = np.stack([df[col].values for col in numerical_columns], 1)\n",
    "numerical_data = torch.tensor(numerical_data, dtype=torch.float, device=device)\n",
    "numerical_data[:5]"
   ]
  },
  {
   "cell_type": "markdown",
   "metadata": {},
   "source": [
    "### Convert result variables to the Pytorch tensor"
   ]
  },
  {
   "cell_type": "code",
   "execution_count": 23,
   "metadata": {},
   "outputs": [
    {
     "name": "stderr",
     "output_type": "stream",
     "text": [
      "/home/wojciech/anaconda3/lib/python3.7/site-packages/ipykernel_launcher.py:2: UserWarning: To copy construct from a tensor, it is recommended to use sourceTensor.clone().detach() or sourceTensor.clone().detach().requires_grad_(True), rather than torch.tensor(sourceTensor).\n",
      "  \n"
     ]
    },
    {
     "data": {
      "text/plain": [
       "tensor([100, 117,  79,  34, 310], device='cuda:0')"
      ]
     },
     "execution_count": 23,
     "metadata": {},
     "output_type": "execute_result"
    }
   ],
   "source": [
    "outputs = torch.tensor(df[outputs].values).flatten()\n",
    "outputs = torch.tensor(outputs, device=device)\n",
    "outputs[:5]"
   ]
  },
  {
   "cell_type": "markdown",
   "metadata": {},
   "source": [
    "### Let's sum up the tensors"
   ]
  },
  {
   "cell_type": "code",
   "execution_count": 24,
   "metadata": {},
   "outputs": [
    {
     "name": "stdout",
     "output_type": "stream",
     "text": [
      "categorical_data:  torch.Size([17379, 8])\n",
      "numerical_data:    torch.Size([17379, 4])\n",
      "outputs:           torch.Size([17379])\n"
     ]
    }
   ],
   "source": [
    "print('categorical_data: ',categorical_data.shape)\n",
    "print('numerical_data:   ',numerical_data.shape)\n",
    "print('outputs:          ',outputs.shape)"
   ]
  },
  {
   "cell_type": "markdown",
   "metadata": {},
   "source": [
    "## <span style=\"color:red\">settlement</span>\n",
    "Przekształciliśmy nasze kolumny kategorialne na liczbowe, w których unikalną wartość reprezentuje jedna liczba całkowita (cyfryzacja - np. Palacz to 1). Na podstawie takiej kolumny (zmiennej) możemy trenować model, ale jest lepszy sposób ...\n",
    "\n",
    "Lepszym sposobem jest przedstawienie wartości w kolumnie jakościowej jako N-wymiarowego wektora zamiast pojedynczej liczby całkowitej. Ten proces nazywa się osadzaniem. Wektor jest w stanie uchwycić więcej informacji i może znaleźć relacje między różnymi wartościami kategorialnymi w bardziej odpowiedni sposób. Dlatego będziemy przedstawiać wartości w kolumnach kategorialnych w postaci wektorów N-wymiarowych.\n",
    "\n",
    "Musimy zdefiniować rozmiar osadzania (wymiary wektora) dla wszystkich kolumn jakościowych. Nie ma sztywnej zasady dotyczącej liczby wymiarów. Dobrą zasadą definiowania rozmiaru osadzania dla kolumny jest podzielenie liczby unikalnych wartości w kolumnie przez 2 (ale nie więcej niż 50).\n",
    "\n",
    "Poniższy skrypt tworzy krotkę zawierającą liczbę unikalnych wartości i rozmiary wymiarów dla wszystkich kolumn jakościowych (dyskretnych).\n",
    "\n",
    "Zasada jest prosta: w matrycy osadzającej (categorical_embedding_sizes) musi zawsze znajdować się liczba wierszy większa niż zakres zmiennych w liczbie wierszy: dlatego dodałem col_size + 2, to duży zapas."
   ]
  },
  {
   "cell_type": "code",
   "execution_count": 25,
   "metadata": {},
   "outputs": [
    {
     "name": "stdout",
     "output_type": "stream",
     "text": [
      "[(6, 4), (4, 3), (14, 8), (26, 14), (4, 3), (9, 6), (4, 3), (6, 4)]\n"
     ]
    }
   ],
   "source": [
    "categorical_column_sizes = [len(df[column].cat.categories) for column in categorical_columns]\n",
    "categorical_embedding_sizes = [(col_size+2, min(50, (col_size+5)//2)) for col_size in categorical_column_sizes]\n",
    "print(categorical_embedding_sizes)"
   ]
  },
  {
   "cell_type": "markdown",
   "metadata": {},
   "source": [
    "<span style=\"font-size: 150%;color:#1155cc\"> Dzielenie zestawu na szkoleniowy i testowy"
   ]
  },
  {
   "cell_type": "code",
   "execution_count": 26,
   "metadata": {},
   "outputs": [],
   "source": [
    "total_records = df['season'].count()\n",
    "test_records = int(total_records * .2)   # to 20% będzie zbiorem tesowym\n",
    "\n",
    "categorical_train_data = categorical_data[:total_records-test_records]\n",
    "categorical_test_data = categorical_data[total_records-test_records:total_records]\n",
    "numerical_train_data = numerical_data[:total_records-test_records]\n",
    "numerical_test_data = numerical_data[total_records-test_records:total_records]\n",
    "train_outputs = outputs[:total_records-test_records]\n",
    "test_outputs = outputs[total_records-test_records:total_records]"
   ]
  },
  {
   "cell_type": "markdown",
   "metadata": {},
   "source": [
    "Aby sprawdzić, czy poprawnie podzieliliśmy dane na zestawy treningów i testów, wydrukujmy długości rekordów szkolenia i testów:"
   ]
  },
  {
   "cell_type": "code",
   "execution_count": 27,
   "metadata": {},
   "outputs": [
    {
     "name": "stdout",
     "output_type": "stream",
     "text": [
      "categorical_train_data:  torch.Size([13904, 8])\n",
      "numerical_train_data:    torch.Size([13904, 4])\n",
      "train_outputs:           torch.Size([13904])\n",
      "----------------------------------------------------\n",
      "categorical_test_data:   torch.Size([3475, 8])\n",
      "numerical_test_data:     torch.Size([3475, 4])\n",
      "test_outputs:            torch.Size([3475])\n"
     ]
    }
   ],
   "source": [
    "print('categorical_train_data: ',categorical_train_data.shape)\n",
    "print('numerical_train_data:   ',numerical_train_data.shape)\n",
    "print('train_outputs:          ', train_outputs.shape)\n",
    "print('----------------------------------------------------')\n",
    "print('categorical_test_data:  ',categorical_test_data.shape)\n",
    "print('numerical_test_data:    ',numerical_test_data.shape)\n",
    "print('test_outputs:           ',test_outputs.shape)"
   ]
  },
  {
   "cell_type": "markdown",
   "metadata": {},
   "source": [
    "### Sprawdzam czy wszędzie są CUDA"
   ]
  },
  {
   "cell_type": "code",
   "execution_count": 28,
   "metadata": {},
   "outputs": [
    {
     "data": {
      "text/plain": [
       "tensor([[ 0,  1,  1, 22,  0,  2,  1,  1]], device='cuda:0')"
      ]
     },
     "execution_count": 28,
     "metadata": {},
     "output_type": "execute_result"
    }
   ],
   "source": [
    "categorical_train_data[:1]"
   ]
  },
  {
   "cell_type": "code",
   "execution_count": 29,
   "metadata": {},
   "outputs": [
    {
     "data": {
      "text/plain": [
       "tensor([[0.3400, 0.3333, 0.7100, 0.1940]], device='cuda:0')"
      ]
     },
     "execution_count": 29,
     "metadata": {},
     "output_type": "execute_result"
    }
   ],
   "source": [
    "numerical_train_data[:1]"
   ]
  },
  {
   "cell_type": "code",
   "execution_count": 30,
   "metadata": {},
   "outputs": [
    {
     "data": {
      "text/plain": [
       "tensor([100], device='cuda:0')"
      ]
     },
     "execution_count": 30,
     "metadata": {},
     "output_type": "execute_result"
    }
   ],
   "source": [
    "train_outputs[:1]"
   ]
  },
  {
   "cell_type": "code",
   "execution_count": 31,
   "metadata": {},
   "outputs": [
    {
     "data": {
      "text/plain": [
       "tensor([[2, 0, 7, 8, 0, 2, 1, 0]], device='cuda:0')"
      ]
     },
     "execution_count": 31,
     "metadata": {},
     "output_type": "execute_result"
    }
   ],
   "source": [
    "categorical_test_data[:1]"
   ]
  },
  {
   "cell_type": "code",
   "execution_count": 32,
   "metadata": {},
   "outputs": [
    {
     "data": {
      "text/plain": [
       "tensor([[0.6200, 0.6212, 0.5700, 0.1343]], device='cuda:0')"
      ]
     },
     "execution_count": 32,
     "metadata": {},
     "output_type": "execute_result"
    }
   ],
   "source": [
    "numerical_test_data[:1]"
   ]
  },
  {
   "cell_type": "code",
   "execution_count": 33,
   "metadata": {},
   "outputs": [
    {
     "data": {
      "text/plain": [
       "tensor([493], device='cuda:0')"
      ]
     },
     "execution_count": 33,
     "metadata": {},
     "output_type": "execute_result"
    }
   ],
   "source": [
    "test_outputs[:1]"
   ]
  },
  {
   "cell_type": "markdown",
   "metadata": {},
   "source": [
    "<span style=\"font-size: 130%;color:#1155cc\"> Model sieci neuronwej (rozbudowany)"
   ]
  },
  {
   "cell_type": "code",
   "execution_count": 34,
   "metadata": {},
   "outputs": [],
   "source": [
    "class Model(nn.Module):\n",
    "\n",
    "    def __init__(self, embedding_size, num_numerical_cols, output_size, layers, p=0.4):\n",
    "        super().__init__()\n",
    "        self.all_embeddings = nn.ModuleList([nn.Embedding(ni, nf) for ni, nf in embedding_size])\n",
    "        self.embedding_dropout = nn.Dropout(p)\n",
    "        self.batch_norm_num = nn.BatchNorm1d(num_numerical_cols)\n",
    "\n",
    "        all_layers = []\n",
    "        num_categorical_cols = sum((nf for ni, nf in embedding_size))\n",
    "        input_size = num_categorical_cols + num_numerical_cols\n",
    "\n",
    "        for i in layers:\n",
    "            all_layers.append(nn.Linear(input_size, i))\n",
    "            all_layers.append(nn.ReLU(inplace=True))\n",
    "            all_layers.append(nn.BatchNorm1d(i))\n",
    "            all_layers.append(nn.Dropout(p))\n",
    "            input_size = i\n",
    "\n",
    "        all_layers.append(nn.Linear(layers[-1], output_size))\n",
    "\n",
    "        self.layers = nn.Sequential(*all_layers)\n",
    "\n",
    "    def forward(self, x_categorical, x_numerical):\n",
    "        embeddings = []\n",
    "        for i,e in enumerate(self.all_embeddings):\n",
    "            embeddings.append(e(x_categorical[:,i]))\n",
    "        x = torch.cat(embeddings, 1)\n",
    "        x = self.embedding_dropout(x)\n",
    "\n",
    "        x_numerical = self.batch_norm_num(x_numerical)\n",
    "        x = torch.cat([x, x_numerical], 1)\n",
    "        x = self.layers(x)\n",
    "        return x"
   ]
  },
  {
   "cell_type": "code",
   "execution_count": 35,
   "metadata": {},
   "outputs": [
    {
     "name": "stdout",
     "output_type": "stream",
     "text": [
      "categorical_embedding_sizes:   [(6, 4), (4, 3), (14, 8), (26, 14), (4, 3), (9, 6), (4, 3), (6, 4)]\n",
      "4\n"
     ]
    }
   ],
   "source": [
    "print('categorical_embedding_sizes:  ',categorical_embedding_sizes)\n",
    "print(numerical_data.shape[1])"
   ]
  },
  {
   "cell_type": "markdown",
   "metadata": {},
   "source": [
    "## Deklaruje model jako CUDA"
   ]
  },
  {
   "cell_type": "code",
   "execution_count": 36,
   "metadata": {},
   "outputs": [],
   "source": [
    "model = Model(categorical_embedding_sizes, numerical_data.shape[1], 2, [200,100,50], p=0.4).to(device)"
   ]
  },
  {
   "cell_type": "raw",
   "metadata": {},
   "source": [
    "device = torch.device('cuda' if torch.cuda.is_available() else 'cpu'\n",
    "model = FeedForwardNN(emb_dims, no_of_cont=4, lin_layer_sizes=[50, 100],\n",
    "                          output_size=1, emb_dropout=0.04,\n",
    "                          lin_layer_dropouts=[0.001,0.01]).to(device)"
   ]
  },
  {
   "cell_type": "code",
   "execution_count": 37,
   "metadata": {},
   "outputs": [
    {
     "name": "stdout",
     "output_type": "stream",
     "text": [
      "Model(\n",
      "  (all_embeddings): ModuleList(\n",
      "    (0): Embedding(6, 4)\n",
      "    (1): Embedding(4, 3)\n",
      "    (2): Embedding(14, 8)\n",
      "    (3): Embedding(26, 14)\n",
      "    (4): Embedding(4, 3)\n",
      "    (5): Embedding(9, 6)\n",
      "    (6): Embedding(4, 3)\n",
      "    (7): Embedding(6, 4)\n",
      "  )\n",
      "  (embedding_dropout): Dropout(p=0.4, inplace=False)\n",
      "  (batch_norm_num): BatchNorm1d(4, eps=1e-05, momentum=0.1, affine=True, track_running_stats=True)\n",
      "  (layers): Sequential(\n",
      "    (0): Linear(in_features=49, out_features=200, bias=True)\n",
      "    (1): ReLU(inplace=True)\n",
      "    (2): BatchNorm1d(200, eps=1e-05, momentum=0.1, affine=True, track_running_stats=True)\n",
      "    (3): Dropout(p=0.4, inplace=False)\n",
      "    (4): Linear(in_features=200, out_features=100, bias=True)\n",
      "    (5): ReLU(inplace=True)\n",
      "    (6): BatchNorm1d(100, eps=1e-05, momentum=0.1, affine=True, track_running_stats=True)\n",
      "    (7): Dropout(p=0.4, inplace=False)\n",
      "    (8): Linear(in_features=100, out_features=50, bias=True)\n",
      "    (9): ReLU(inplace=True)\n",
      "    (10): BatchNorm1d(50, eps=1e-05, momentum=0.1, affine=True, track_running_stats=True)\n",
      "    (11): Dropout(p=0.4, inplace=False)\n",
      "    (12): Linear(in_features=50, out_features=2, bias=True)\n",
      "  )\n",
      ")\n"
     ]
    }
   ],
   "source": [
    "print(model)"
   ]
  },
  {
   "cell_type": "markdown",
   "metadata": {},
   "source": [
    "<span style=\"font-size: 280%;color:#1155cc\"> Funkcja straty"
   ]
  },
  {
   "cell_type": "code",
   "execution_count": 38,
   "metadata": {},
   "outputs": [],
   "source": [
    "#loss_function = torch.nn.MSELoss(reduction='sum')\n",
    "loss_function = nn.CrossEntropyLoss()\n",
    "#loss_function = nn.BCEWithLogitsLoss()"
   ]
  },
  {
   "cell_type": "markdown",
   "metadata": {},
   "source": [
    "<span style=\"font-size: 280%;color:#1155cc\"> Optymalizer"
   ]
  },
  {
   "cell_type": "code",
   "execution_count": 39,
   "metadata": {},
   "outputs": [],
   "source": [
    "#optimizer = torch.optim.Adam(model.parameters(), lr=0.0005)\n",
    "optimizer = torch.optim.SGD(model.parameters(), lr=0.05)\n",
    "#optimizer = torch.optim.Rprop(model.parameters(), lr=0.05, etas=(0.5, 1.2), step_sizes=(1e-06, 50))"
   ]
  },
  {
   "cell_type": "code",
   "execution_count": 40,
   "metadata": {},
   "outputs": [
    {
     "name": "stdout",
     "output_type": "stream",
     "text": [
      "categorical_embedding_sizes:   [(6, 4), (4, 3), (14, 8), (26, 14), (4, 3), (9, 6), (4, 3), (6, 4)]\n",
      "4\n",
      "categorical_train_data:  torch.Size([13904, 8])\n",
      "numerical_train_data:    torch.Size([13904, 4])\n",
      "outputs:                 torch.Size([13904])\n"
     ]
    }
   ],
   "source": [
    "print('categorical_embedding_sizes:  ',categorical_embedding_sizes)\n",
    "print(numerical_data.shape[1])\n",
    "print('categorical_train_data: ',categorical_train_data.shape)\n",
    "print('numerical_train_data:   ',numerical_train_data.shape)\n",
    "print('outputs:                ',train_outputs.shape)"
   ]
  },
  {
   "cell_type": "code",
   "execution_count": 41,
   "metadata": {},
   "outputs": [],
   "source": [
    "y_pred = model(categorical_train_data, numerical_train_data)"
   ]
  },
  {
   "cell_type": "code",
   "execution_count": 42,
   "metadata": {},
   "outputs": [
    {
     "name": "stdout",
     "output_type": "stream",
     "text": [
      "epoch:   1 loss: 0.80357456\n",
      "epoch:  41 loss: 0.70356631\n",
      "epoch:  81 loss: 0.69130546\n",
      "epoch: 121 loss: 0.68769306\n",
      "epoch: 161 loss: 0.68708599\n",
      "epoch: 201 loss: 0.68723696\n",
      "epoch: 241 loss: 0.68696499\n",
      "epoch: 281 loss: 0.68719018\n",
      "epoch: 321 loss: 0.68730760\n",
      "epoch: 361 loss: 0.68708068\n",
      "epoch: 401 loss: 0.68705457\n",
      "epoch: 441 loss: 0.68732017\n",
      "epoch: 481 loss: 0.68694824\n",
      "epoch: 521 loss: 0.68706292\n",
      "epoch: 561 loss: 0.68694520\n",
      "epoch: 601 loss: 0.68690312\n",
      "epoch: 641 loss: 0.68741846\n",
      "epoch: 681 loss: 0.68693936\n",
      "epoch: 721 loss: 0.68729854\n",
      "epoch: 761 loss: 0.68715101\n",
      "epoch: 801 loss: 0.68697786\n",
      "epoch: 841 loss: 0.68719018\n",
      "epoch: 881 loss: 0.68679070\n",
      "epoch: 921 loss: 0.68690670\n",
      "epoch: 961 loss: 0.68692034\n",
      "epoch: 1000 loss: 0.6866115332\n"
     ]
    }
   ],
   "source": [
    "epochs = 1000\n",
    "aggregated_losses = []\n",
    "\n",
    "for i in range(epochs):\n",
    "    i += 1\n",
    "    y_pred = model(categorical_train_data, numerical_train_data)\n",
    "    \n",
    "    single_loss = loss_function(y_pred, train_outputs)\n",
    "    aggregated_losses.append(single_loss)\n",
    "\n",
    "    if i%40 == 1:\n",
    "        print(f'epoch: {i:3} loss: {single_loss.item():10.8f}')\n",
    "\n",
    "    optimizer.zero_grad()\n",
    "    single_loss.backward()\n",
    "    optimizer.step()\n",
    "\n",
    "print(f'epoch: {i:3} loss: {single_loss.item():10.10f}')"
   ]
  },
  {
   "cell_type": "code",
   "execution_count": 43,
   "metadata": {},
   "outputs": [
    {
     "data": {
      "image/png": "[encoded data removed]",
      "text/plain": [
       "<Figure size 432x288 with 1 Axes>"
      ]
     },
     "metadata": {
      "needs_background": "light"
     },
     "output_type": "display_data"
    }
   ],
   "source": [
    "plt.plot(range(epochs), aggregated_losses, color='r')\n",
    "plt.ylabel('Loss')\n",
    "plt.xlabel('epoch');"
   ]
  },
  {
   "cell_type": "markdown",
   "metadata": {},
   "source": [
    "### Forecast based on the model"
   ]
  },
  {
   "cell_type": "code",
   "execution_count": 44,
   "metadata": {},
   "outputs": [
    {
     "name": "stdout",
     "output_type": "stream",
     "text": [
      "Loss train_set: 0.68608749\n"
     ]
    }
   ],
   "source": [
    "with torch.no_grad():\n",
    "    y_val_train = model(categorical_train_data, numerical_train_data)\n",
    "    loss = loss_function( y_val_train, train_outputs)\n",
    "print(f'Loss train_set: {loss:.8f}')"
   ]
  },
  {
   "cell_type": "code",
   "execution_count": 45,
   "metadata": {},
   "outputs": [
    {
     "name": "stdout",
     "output_type": "stream",
     "text": [
      "Loss: 0.67494118\n"
     ]
    }
   ],
   "source": [
    "with torch.no_grad():\n",
    "    y_val = model(categorical_test_data, numerical_test_data)\n",
    "    loss = loss_function(y_val, test_outputs)\n",
    "print(f'Loss: {loss:.8f}')"
   ]
  },
  {
   "cell_type": "markdown",
   "metadata": {},
   "source": [
    "NIE POWINNO SIĘ PORÓWNYWAĆ y_val (wynik modelu), KTÓRY MA format ZMIENNYCH FLOAD do test_outputs który ma format zero-jedynkowy. \n",
    "\n",
    "Ponieważ ustaliliśmy, że nasza warstwa wyjściowa będzie zawierała 2 neurony, każda prognoza będzie zawierała 2 wartości. Na przykład pierwsze 5 przewidywanych wartości to:"
   ]
  },
  {
   "cell_type": "code",
   "execution_count": 46,
   "metadata": {},
   "outputs": [
    {
     "name": "stdout",
     "output_type": "stream",
     "text": [
      "tensor([493,   4,  75, 125, 905], device='cuda:0')\n"
     ]
    }
   ],
   "source": [
    "print(test_outputs[:5])"
   ]
  },
  {
   "cell_type": "code",
   "execution_count": 47,
   "metadata": {},
   "outputs": [
    {
     "name": "stdout",
     "output_type": "stream",
     "text": [
      "tensor([[-1.1411, -1.1810],\n",
      "        [-0.7827, -0.8044],\n",
      "        [-0.2126, -0.1944],\n",
      "        [-0.2576, -0.2323],\n",
      "        [ 0.9478,  0.9633]], device='cuda:0')\n"
     ]
    }
   ],
   "source": [
    "print(y_val[:5])"
   ]
  },
  {
   "cell_type": "markdown",
   "metadata": {},
   "source": [
    "### ZMIANA FORMATU WYNIKÓW Z FORMATU FLOAT NA FORMAT BINARNY\n",
    "\n",
    "Celem takich prognoz jest to, że jeśli faktyczny wynik wynosi 0, wartość wskaźnika 0 powinna być wyższa niż wartość wskaźnika 1 i odwrotnie. Możemy uzyskać największy indeks wartości z listy za pomocą następującego skryptu:"
   ]
  },
  {
   "cell_type": "markdown",
   "metadata": {},
   "source": [
    "<span style=\"font-size: 180%;color:#1155cc\"> Najpier kopiuje tensor y_val z CUDA do CPU"
   ]
  },
  {
   "cell_type": "code",
   "execution_count": 48,
   "metadata": {},
   "outputs": [
    {
     "data": {
      "text/plain": [
       "tensor([[-1.1411, -1.1810]], device='cuda:0')"
      ]
     },
     "execution_count": 48,
     "metadata": {},
     "output_type": "execute_result"
    }
   ],
   "source": [
    "y_val[:1]"
   ]
  },
  {
   "cell_type": "code",
   "execution_count": 49,
   "metadata": {},
   "outputs": [],
   "source": [
    "y_val = y_val.cpu().data.numpy()"
   ]
  },
  {
   "cell_type": "code",
   "execution_count": 50,
   "metadata": {},
   "outputs": [],
   "source": [
    "y_val = np.argmax(y_val, axis=1)"
   ]
  },
  {
   "cell_type": "markdown",
   "metadata": {},
   "source": [
    "Powyższe równanie zwraca maksymalne wskaźniki wartości wzdłuż osi."
   ]
  },
  {
   "cell_type": "code",
   "execution_count": 51,
   "metadata": {},
   "outputs": [
    {
     "name": "stdout",
     "output_type": "stream",
     "text": [
      "[0 0 1 1 1 0 1 0 0 1 0 0 1 0 1 0 1 0 1 0]\n"
     ]
    }
   ],
   "source": [
    "print(y_val[:20])"
   ]
  },
  {
   "cell_type": "markdown",
   "metadata": {},
   "source": [
    "Ponieważ na liście pierwotnie przewidywanych wyników dla pierwszych pięciu rekordów wartości indeksów zerowych są większe niż wartości w pierwszych indeksach, możemy zobaczyć 0 w pierwszych pięciu wierszach przetworzonych danych wyjściowych."
   ]
  },
  {
   "cell_type": "markdown",
   "metadata": {},
   "source": [
    "<span style=\"font-size: 180%;color:#1155cc\"> Kopiujemy tensor 'test_outputs' z CUDA do CPU"
   ]
  },
  {
   "cell_type": "code",
   "execution_count": 52,
   "metadata": {},
   "outputs": [],
   "source": [
    "test_outputs = test_outputs.cpu().data.numpy()"
   ]
  },
  {
   "cell_type": "markdown",
   "metadata": {},
   "source": [
    "<span style=\"font-size: 180%;color:#1155cc\"> Sprawdzamy jaki jest poziom klasyfikacji modelu"
   ]
  },
  {
   "cell_type": "code",
   "execution_count": 53,
   "metadata": {},
   "outputs": [
    {
     "name": "stdout",
     "output_type": "stream",
     "text": [
      "[[ 0  0  0 ...  0  0  0]\n",
      " [10 15  0 ...  0  0  0]\n",
      " [26 17  0 ...  0  0  0]\n",
      " ...\n",
      " [ 1  0  0 ...  0  0  0]\n",
      " [ 0  1  0 ...  0  0  0]\n",
      " [ 1  0  0 ...  0  0  0]]\n",
      "              precision    recall  f1-score   support\n",
      "\n",
      "           0       0.00      0.00      0.00         0\n",
      "           1       0.01      0.60      0.02        25\n",
      "           2       0.00      0.00      0.00        43\n",
      "           3       0.00      0.00      0.00        45\n",
      "           4       0.00      0.00      0.00        47\n",
      "           5       0.00      0.00      0.00        50\n",
      "           6       0.00      0.00      0.00        53\n",
      "           7       0.00      0.00      0.00        44\n",
      "           8       0.00      0.00      0.00        34\n",
      "           9       0.00      0.00      0.00        21\n",
      "          10       0.00      0.00      0.00        28\n",
      "          11       0.00      0.00      0.00        39\n",
      "          12       0.00      0.00      0.00        29\n",
      "          13       0.00      0.00      0.00        22\n",
      "          14       0.00      0.00      0.00        26\n",
      "          15       0.00      0.00      0.00        16\n",
      "          16       0.00      0.00      0.00        26\n",
      "          17       0.00      0.00      0.00        19\n",
      "          18       0.00      0.00      0.00        17\n",
      "          19       0.00      0.00      0.00        13\n",
      "          20       0.00      0.00      0.00        16\n",
      "          21       0.00      0.00      0.00        18\n",
      "          22       0.00      0.00      0.00         9\n",
      "          23       0.00      0.00      0.00        15\n",
      "          24       0.00      0.00      0.00        15\n",
      "          25       0.00      0.00      0.00        14\n",
      "          26       0.00      0.00      0.00        27\n",
      "          27       0.00      0.00      0.00        14\n",
      "          28       0.00      0.00      0.00        15\n",
      "          29       0.00      0.00      0.00        13\n",
      "          30       0.00      0.00      0.00        10\n",
      "          31       0.00      0.00      0.00        17\n",
      "          32       0.00      0.00      0.00        21\n",
      "          33       0.00      0.00      0.00        15\n",
      "          34       0.00      0.00      0.00        12\n",
      "          35       0.00      0.00      0.00        11\n",
      "          36       0.00      0.00      0.00        16\n",
      "          37       0.00      0.00      0.00        10\n",
      "          38       0.00      0.00      0.00         9\n",
      "          39       0.00      0.00      0.00        10\n",
      "          40       0.00      0.00      0.00        15\n",
      "          41       0.00      0.00      0.00        12\n",
      "          42       0.00      0.00      0.00        11\n",
      "          43       0.00      0.00      0.00         8\n",
      "          44       0.00      0.00      0.00         5\n",
      "          45       0.00      0.00      0.00         8\n",
      "          46       0.00      0.00      0.00         9\n",
      "          47       0.00      0.00      0.00        13\n",
      "          48       0.00      0.00      0.00         9\n",
      "          49       0.00      0.00      0.00         8\n",
      "          50       0.00      0.00      0.00        11\n",
      "          51       0.00      0.00      0.00        11\n",
      "          52       0.00      0.00      0.00         4\n",
      "          53       0.00      0.00      0.00         7\n",
      "          54       0.00      0.00      0.00         9\n",
      "          55       0.00      0.00      0.00         6\n",
      "          56       0.00      0.00      0.00        10\n",
      "          57       0.00      0.00      0.00         9\n",
      "          58       0.00      0.00      0.00         6\n",
      "          59       0.00      0.00      0.00        11\n",
      "          60       0.00      0.00      0.00        10\n",
      "          61       0.00      0.00      0.00         7\n",
      "          62       0.00      0.00      0.00        13\n",
      "          63       0.00      0.00      0.00         4\n",
      "          64       0.00      0.00      0.00         8\n",
      "          65       0.00      0.00      0.00         7\n",
      "          66       0.00      0.00      0.00        11\n",
      "          67       0.00      0.00      0.00         9\n",
      "          68       0.00      0.00      0.00         9\n",
      "          69       0.00      0.00      0.00        10\n",
      "          70       0.00      0.00      0.00         9\n",
      "          71       0.00      0.00      0.00        16\n",
      "          72       0.00      0.00      0.00         3\n",
      "          73       0.00      0.00      0.00         4\n",
      "          74       0.00      0.00      0.00         8\n",
      "          75       0.00      0.00      0.00        10\n",
      "          76       0.00      0.00      0.00        10\n",
      "          77       0.00      0.00      0.00         7\n",
      "          78       0.00      0.00      0.00        13\n",
      "          79       0.00      0.00      0.00         8\n",
      "          80       0.00      0.00      0.00         7\n",
      "          81       0.00      0.00      0.00         5\n",
      "          82       0.00      0.00      0.00         3\n",
      "          83       0.00      0.00      0.00         5\n",
      "          84       0.00      0.00      0.00         7\n",
      "          85       0.00      0.00      0.00        10\n",
      "          86       0.00      0.00      0.00         8\n",
      "          87       0.00      0.00      0.00        10\n",
      "          88       0.00      0.00      0.00         7\n",
      "          89       0.00      0.00      0.00        15\n",
      "          90       0.00      0.00      0.00        10\n",
      "          91       0.00      0.00      0.00        11\n",
      "          92       0.00      0.00      0.00        13\n",
      "          93       0.00      0.00      0.00         7\n",
      "          94       0.00      0.00      0.00        18\n",
      "          95       0.00      0.00      0.00         4\n",
      "          96       0.00      0.00      0.00         9\n",
      "          97       0.00      0.00      0.00         7\n",
      "          98       0.00      0.00      0.00         9\n",
      "          99       0.00      0.00      0.00        16\n",
      "         100       0.00      0.00      0.00         4\n",
      "         101       0.00      0.00      0.00         5\n",
      "         102       0.00      0.00      0.00         9\n",
      "         103       0.00      0.00      0.00         9\n",
      "         104       0.00      0.00      0.00        12\n",
      "         105       0.00      0.00      0.00        10\n",
      "         106       0.00      0.00      0.00         8\n",
      "         107       0.00      0.00      0.00         5\n",
      "         108       0.00      0.00      0.00         6\n",
      "         109       0.00      0.00      0.00         6\n",
      "         110       0.00      0.00      0.00         6\n",
      "         111       0.00      0.00      0.00         4\n",
      "         112       0.00      0.00      0.00         5\n",
      "         113       0.00      0.00      0.00         8\n",
      "         114       0.00      0.00      0.00         7\n",
      "         115       0.00      0.00      0.00         6\n",
      "         116       0.00      0.00      0.00        10\n",
      "         117       0.00      0.00      0.00         4\n",
      "         118       0.00      0.00      0.00         5\n",
      "         119       0.00      0.00      0.00         3\n",
      "         120       0.00      0.00      0.00        12\n",
      "         121       0.00      0.00      0.00         5\n",
      "         122       0.00      0.00      0.00         6\n",
      "         123       0.00      0.00      0.00        10\n",
      "         124       0.00      0.00      0.00        14\n",
      "         125       0.00      0.00      0.00         6\n",
      "         126       0.00      0.00      0.00         7\n",
      "         127       0.00      0.00      0.00         8\n",
      "         128       0.00      0.00      0.00         2\n",
      "         129       0.00      0.00      0.00         9\n",
      "         130       0.00      0.00      0.00         9\n",
      "         131       0.00      0.00      0.00         4\n",
      "         132       0.00      0.00      0.00         4\n",
      "         133       0.00      0.00      0.00         5\n",
      "         134       0.00      0.00      0.00         5\n",
      "         135       0.00      0.00      0.00         8\n",
      "         136       0.00      0.00      0.00        10\n",
      "         137       0.00      0.00      0.00         6\n",
      "         138       0.00      0.00      0.00        13\n",
      "         139       0.00      0.00      0.00         6\n",
      "         140       0.00      0.00      0.00         5\n",
      "         141       0.00      0.00      0.00         9\n",
      "         142       0.00      0.00      0.00         8\n",
      "         143       0.00      0.00      0.00         9\n",
      "         144       0.00      0.00      0.00         7\n",
      "         145       0.00      0.00      0.00        13\n",
      "         146       0.00      0.00      0.00         4\n",
      "         147       0.00      0.00      0.00        11\n",
      "         148       0.00      0.00      0.00         6\n",
      "         149       0.00      0.00      0.00         7\n",
      "         150       0.00      0.00      0.00        11\n",
      "         151       0.00      0.00      0.00         8\n",
      "         152       0.00      0.00      0.00         6\n",
      "         153       0.00      0.00      0.00        14\n",
      "         154       0.00      0.00      0.00        11\n",
      "         155       0.00      0.00      0.00         5\n",
      "         156       0.00      0.00      0.00         2\n",
      "         157       0.00      0.00      0.00         4\n",
      "         158       0.00      0.00      0.00         9\n",
      "         159       0.00      0.00      0.00         5\n",
      "         160       0.00      0.00      0.00         9\n",
      "         161       0.00      0.00      0.00         1\n",
      "         162       0.00      0.00      0.00        11\n",
      "         163       0.00      0.00      0.00         7\n",
      "         164       0.00      0.00      0.00         8\n",
      "         165       0.00      0.00      0.00        10\n",
      "         166       0.00      0.00      0.00        10\n",
      "         167       0.00      0.00      0.00         9\n",
      "         168       0.00      0.00      0.00         7\n",
      "         169       0.00      0.00      0.00         4\n",
      "         170       0.00      0.00      0.00         9\n",
      "         171       0.00      0.00      0.00        12\n",
      "         172       0.00      0.00      0.00         7\n",
      "         173       0.00      0.00      0.00         6\n",
      "         174       0.00      0.00      0.00         6\n",
      "         175       0.00      0.00      0.00        11\n",
      "         176       0.00      0.00      0.00         6\n",
      "         177       0.00      0.00      0.00         8\n",
      "         178       0.00      0.00      0.00         8\n",
      "         179       0.00      0.00      0.00         7\n",
      "         180       0.00      0.00      0.00         8\n",
      "         181       0.00      0.00      0.00        11\n",
      "         182       0.00      0.00      0.00        11\n",
      "         183       0.00      0.00      0.00         6\n",
      "         184       0.00      0.00      0.00         6\n",
      "         185       0.00      0.00      0.00         7\n",
      "         186       0.00      0.00      0.00         5\n",
      "         187       0.00      0.00      0.00         6\n",
      "         188       0.00      0.00      0.00        11\n",
      "         189       0.00      0.00      0.00         9\n",
      "         190       0.00      0.00      0.00        10\n",
      "         191       0.00      0.00      0.00         6\n",
      "         192       0.00      0.00      0.00         8\n",
      "         193       0.00      0.00      0.00         6\n",
      "         194       0.00      0.00      0.00         6\n",
      "         195       0.00      0.00      0.00         6\n",
      "         196       0.00      0.00      0.00         7\n",
      "         197       0.00      0.00      0.00         3\n",
      "         198       0.00      0.00      0.00         9\n",
      "         199       0.00      0.00      0.00         9\n",
      "         200       0.00      0.00      0.00         1\n",
      "         201       0.00      0.00      0.00         6\n",
      "         202       0.00      0.00      0.00         7\n",
      "         203       0.00      0.00      0.00         4\n",
      "         204       0.00      0.00      0.00         5\n",
      "         205       0.00      0.00      0.00        14\n",
      "         206       0.00      0.00      0.00         6\n",
      "         207       0.00      0.00      0.00         6\n",
      "         208       0.00      0.00      0.00         5\n",
      "         209       0.00      0.00      0.00         6\n",
      "         210       0.00      0.00      0.00         6\n",
      "         211       0.00      0.00      0.00         8\n",
      "         212       0.00      0.00      0.00         5\n",
      "         213       0.00      0.00      0.00         8\n",
      "         214       0.00      0.00      0.00         8\n",
      "         215       0.00      0.00      0.00         9\n",
      "         216       0.00      0.00      0.00         6\n",
      "         217       0.00      0.00      0.00         4\n",
      "         218       0.00      0.00      0.00         4\n",
      "         219       0.00      0.00      0.00         2\n",
      "         220       0.00      0.00      0.00         3\n",
      "         221       0.00      0.00      0.00         6\n",
      "         222       0.00      0.00      0.00         8\n",
      "         223       0.00      0.00      0.00         4\n",
      "         224       0.00      0.00      0.00        11\n",
      "         225       0.00      0.00      0.00         6\n",
      "         226       0.00      0.00      0.00         6\n",
      "         227       0.00      0.00      0.00         3\n",
      "         228       0.00      0.00      0.00         6\n",
      "         229       0.00      0.00      0.00         4\n",
      "         230       0.00      0.00      0.00        14\n",
      "         231       0.00      0.00      0.00         3\n",
      "         232       0.00      0.00      0.00         4\n",
      "         233       0.00      0.00      0.00         8\n",
      "         234       0.00      0.00      0.00        10\n",
      "         235       0.00      0.00      0.00         7\n",
      "         236       0.00      0.00      0.00         4\n",
      "         237       0.00      0.00      0.00         7\n",
      "         238       0.00      0.00      0.00         8\n",
      "         239       0.00      0.00      0.00         6\n",
      "         240       0.00      0.00      0.00         5\n",
      "         241       0.00      0.00      0.00         1\n",
      "         242       0.00      0.00      0.00         3\n",
      "         243       0.00      0.00      0.00         5\n",
      "         244       0.00      0.00      0.00         3\n",
      "         245       0.00      0.00      0.00         7\n",
      "         246       0.00      0.00      0.00         2\n",
      "         247       0.00      0.00      0.00         5\n",
      "         248       0.00      0.00      0.00         8\n",
      "         249       0.00      0.00      0.00         5\n",
      "         250       0.00      0.00      0.00         2\n",
      "         251       0.00      0.00      0.00         4\n",
      "         252       0.00      0.00      0.00         1\n",
      "         253       0.00      0.00      0.00         4\n",
      "         254       0.00      0.00      0.00         5\n",
      "         255       0.00      0.00      0.00         2\n",
      "         256       0.00      0.00      0.00         4\n",
      "         257       0.00      0.00      0.00         7\n",
      "         258       0.00      0.00      0.00         6\n",
      "         259       0.00      0.00      0.00         3\n",
      "         260       0.00      0.00      0.00         4\n",
      "         261       0.00      0.00      0.00         4\n",
      "         262       0.00      0.00      0.00         3\n",
      "         263       0.00      0.00      0.00         6\n",
      "         264       0.00      0.00      0.00         3\n",
      "         265       0.00      0.00      0.00         5\n",
      "         266       0.00      0.00      0.00         2\n",
      "         267       0.00      0.00      0.00         7\n",
      "         268       0.00      0.00      0.00         2\n",
      "         269       0.00      0.00      0.00         4\n",
      "         270       0.00      0.00      0.00         6\n",
      "         271       0.00      0.00      0.00         2\n",
      "         272       0.00      0.00      0.00         7\n",
      "         273       0.00      0.00      0.00         6\n",
      "         274       0.00      0.00      0.00         8\n",
      "         275       0.00      0.00      0.00         5\n",
      "         276       0.00      0.00      0.00         6\n",
      "         277       0.00      0.00      0.00         2\n",
      "         278       0.00      0.00      0.00         3\n",
      "         279       0.00      0.00      0.00         4\n",
      "         280       0.00      0.00      0.00         5\n",
      "         281       0.00      0.00      0.00         8\n",
      "         282       0.00      0.00      0.00         4\n",
      "         283       0.00      0.00      0.00         3\n",
      "         284       0.00      0.00      0.00         6\n",
      "         285       0.00      0.00      0.00         4\n",
      "         286       0.00      0.00      0.00         7\n",
      "         287       0.00      0.00      0.00         4\n",
      "         288       0.00      0.00      0.00         4\n",
      "         289       0.00      0.00      0.00         3\n",
      "         290       0.00      0.00      0.00         6\n",
      "         291       0.00      0.00      0.00         7\n",
      "         292       0.00      0.00      0.00         2\n",
      "         293       0.00      0.00      0.00         4\n",
      "         294       0.00      0.00      0.00         5\n",
      "         295       0.00      0.00      0.00         4\n",
      "         296       0.00      0.00      0.00         4\n",
      "         297       0.00      0.00      0.00         6\n",
      "         298       0.00      0.00      0.00         6\n",
      "         299       0.00      0.00      0.00        10\n",
      "         300       0.00      0.00      0.00         3\n",
      "         301       0.00      0.00      0.00         2\n",
      "         302       0.00      0.00      0.00         7\n",
      "         303       0.00      0.00      0.00         5\n",
      "         304       0.00      0.00      0.00         4\n",
      "         305       0.00      0.00      0.00         1\n",
      "         306       0.00      0.00      0.00         8\n",
      "         307       0.00      0.00      0.00         2\n",
      "         308       0.00      0.00      0.00         7\n",
      "         309       0.00      0.00      0.00         7\n",
      "         310       0.00      0.00      0.00         5\n",
      "         311       0.00      0.00      0.00         4\n",
      "         312       0.00      0.00      0.00         7\n",
      "         313       0.00      0.00      0.00         5\n",
      "         314       0.00      0.00      0.00         3\n",
      "         315       0.00      0.00      0.00         3\n",
      "         316       0.00      0.00      0.00         3\n",
      "         317       0.00      0.00      0.00         4\n",
      "         318       0.00      0.00      0.00         4\n",
      "         319       0.00      0.00      0.00         4\n",
      "         320       0.00      0.00      0.00         2\n",
      "         321       0.00      0.00      0.00         5\n",
      "         322       0.00      0.00      0.00         5\n",
      "         323       0.00      0.00      0.00         5\n",
      "         324       0.00      0.00      0.00         2\n",
      "         325       0.00      0.00      0.00         3\n",
      "         326       0.00      0.00      0.00         2\n",
      "         327       0.00      0.00      0.00         5\n",
      "         328       0.00      0.00      0.00         5\n",
      "         329       0.00      0.00      0.00         1\n",
      "         330       0.00      0.00      0.00         8\n",
      "         331       0.00      0.00      0.00         5\n",
      "         332       0.00      0.00      0.00         4\n",
      "         333       0.00      0.00      0.00         2\n",
      "         334       0.00      0.00      0.00         5\n",
      "         336       0.00      0.00      0.00         2\n",
      "         337       0.00      0.00      0.00         3\n",
      "         338       0.00      0.00      0.00         5\n",
      "         339       0.00      0.00      0.00         3\n",
      "         340       0.00      0.00      0.00         1\n",
      "         341       0.00      0.00      0.00         5\n",
      "         342       0.00      0.00      0.00         7\n",
      "         343       0.00      0.00      0.00         5\n",
      "         344       0.00      0.00      0.00         1\n",
      "         345       0.00      0.00      0.00         2\n",
      "         346       0.00      0.00      0.00         4\n",
      "         347       0.00      0.00      0.00         2\n",
      "         348       0.00      0.00      0.00         3\n",
      "         349       0.00      0.00      0.00         4\n",
      "         350       0.00      0.00      0.00         2\n",
      "         351       0.00      0.00      0.00         1\n",
      "         352       0.00      0.00      0.00         1\n",
      "         353       0.00      0.00      0.00         2\n",
      "         354       0.00      0.00      0.00         3\n",
      "         355       0.00      0.00      0.00         6\n",
      "         356       0.00      0.00      0.00         5\n",
      "         357       0.00      0.00      0.00         2\n",
      "         358       0.00      0.00      0.00         2\n",
      "         359       0.00      0.00      0.00         3\n",
      "         360       0.00      0.00      0.00         1\n",
      "         361       0.00      0.00      0.00         4\n",
      "         362       0.00      0.00      0.00         3\n",
      "         363       0.00      0.00      0.00         7\n",
      "         364       0.00      0.00      0.00         2\n",
      "         365       0.00      0.00      0.00         3\n",
      "         366       0.00      0.00      0.00         2\n",
      "         367       0.00      0.00      0.00         8\n",
      "         368       0.00      0.00      0.00         2\n",
      "         369       0.00      0.00      0.00         3\n",
      "         370       0.00      0.00      0.00         2\n",
      "         371       0.00      0.00      0.00         4\n",
      "         372       0.00      0.00      0.00         4\n",
      "         373       0.00      0.00      0.00         3\n",
      "         374       0.00      0.00      0.00         3\n",
      "         375       0.00      0.00      0.00         3\n",
      "         376       0.00      0.00      0.00         4\n",
      "         377       0.00      0.00      0.00         2\n",
      "         378       0.00      0.00      0.00         4\n",
      "         379       0.00      0.00      0.00         1\n",
      "         380       0.00      0.00      0.00         4\n",
      "         381       0.00      0.00      0.00         1\n",
      "         382       0.00      0.00      0.00         5\n",
      "         383       0.00      0.00      0.00         5\n",
      "         384       0.00      0.00      0.00         2\n",
      "         385       0.00      0.00      0.00         3\n",
      "         386       0.00      0.00      0.00         2\n",
      "         387       0.00      0.00      0.00         3\n",
      "         388       0.00      0.00      0.00         1\n",
      "         389       0.00      0.00      0.00         2\n",
      "         390       0.00      0.00      0.00         3\n",
      "         391       0.00      0.00      0.00         4\n",
      "         392       0.00      0.00      0.00         2\n",
      "         393       0.00      0.00      0.00         2\n",
      "         394       0.00      0.00      0.00         3\n",
      "         395       0.00      0.00      0.00         4\n",
      "         396       0.00      0.00      0.00         2\n",
      "         397       0.00      0.00      0.00         1\n",
      "         398       0.00      0.00      0.00         5\n",
      "         399       0.00      0.00      0.00         1\n",
      "         401       0.00      0.00      0.00         1\n",
      "         402       0.00      0.00      0.00         1\n",
      "         404       0.00      0.00      0.00         6\n",
      "         405       0.00      0.00      0.00         5\n",
      "         406       0.00      0.00      0.00         1\n",
      "         407       0.00      0.00      0.00         2\n",
      "         408       0.00      0.00      0.00         5\n",
      "         409       0.00      0.00      0.00         4\n",
      "         410       0.00      0.00      0.00         5\n",
      "         411       0.00      0.00      0.00         3\n",
      "         412       0.00      0.00      0.00         4\n",
      "         413       0.00      0.00      0.00         4\n",
      "         414       0.00      0.00      0.00         4\n",
      "         416       0.00      0.00      0.00         1\n",
      "         417       0.00      0.00      0.00         2\n",
      "         418       0.00      0.00      0.00         3\n",
      "         419       0.00      0.00      0.00         3\n",
      "         420       0.00      0.00      0.00         3\n",
      "         421       0.00      0.00      0.00         4\n",
      "         422       0.00      0.00      0.00         1\n",
      "         423       0.00      0.00      0.00         3\n",
      "         424       0.00      0.00      0.00         2\n",
      "         425       0.00      0.00      0.00         1\n",
      "         426       0.00      0.00      0.00         1\n",
      "         427       0.00      0.00      0.00         3\n",
      "         428       0.00      0.00      0.00         5\n",
      "         429       0.00      0.00      0.00         1\n",
      "         430       0.00      0.00      0.00         1\n",
      "         431       0.00      0.00      0.00         3\n",
      "         432       0.00      0.00      0.00         3\n",
      "         433       0.00      0.00      0.00         1\n",
      "         434       0.00      0.00      0.00         2\n",
      "         435       0.00      0.00      0.00         2\n",
      "         436       0.00      0.00      0.00         1\n",
      "         438       0.00      0.00      0.00         1\n",
      "         439       0.00      0.00      0.00         1\n",
      "         440       0.00      0.00      0.00         4\n",
      "         441       0.00      0.00      0.00         6\n",
      "         442       0.00      0.00      0.00         1\n",
      "         444       0.00      0.00      0.00         1\n",
      "         445       0.00      0.00      0.00         2\n",
      "         446       0.00      0.00      0.00         1\n",
      "         447       0.00      0.00      0.00         3\n",
      "         449       0.00      0.00      0.00         1\n",
      "         450       0.00      0.00      0.00         2\n",
      "         451       0.00      0.00      0.00         1\n",
      "         452       0.00      0.00      0.00         4\n",
      "         453       0.00      0.00      0.00         2\n",
      "         454       0.00      0.00      0.00         1\n",
      "         455       0.00      0.00      0.00         2\n",
      "         456       0.00      0.00      0.00         7\n",
      "         457       0.00      0.00      0.00         1\n",
      "         458       0.00      0.00      0.00         3\n",
      "         459       0.00      0.00      0.00         1\n",
      "         460       0.00      0.00      0.00         2\n",
      "         461       0.00      0.00      0.00         1\n",
      "         462       0.00      0.00      0.00         1\n",
      "         463       0.00      0.00      0.00         3\n",
      "         464       0.00      0.00      0.00         3\n",
      "         465       0.00      0.00      0.00         1\n",
      "         466       0.00      0.00      0.00         2\n",
      "         467       0.00      0.00      0.00         1\n",
      "         468       0.00      0.00      0.00         3\n",
      "         469       0.00      0.00      0.00         1\n",
      "         470       0.00      0.00      0.00         3\n",
      "         471       0.00      0.00      0.00         1\n",
      "         472       0.00      0.00      0.00         3\n",
      "         473       0.00      0.00      0.00         2\n",
      "         474       0.00      0.00      0.00         1\n",
      "         475       0.00      0.00      0.00         1\n",
      "         476       0.00      0.00      0.00         2\n",
      "         478       0.00      0.00      0.00         2\n",
      "         479       0.00      0.00      0.00         2\n",
      "         480       0.00      0.00      0.00         3\n",
      "         481       0.00      0.00      0.00         1\n",
      "         482       0.00      0.00      0.00         1\n",
      "         483       0.00      0.00      0.00         6\n",
      "         486       0.00      0.00      0.00         1\n",
      "         487       0.00      0.00      0.00         2\n",
      "         488       0.00      0.00      0.00         2\n",
      "         489       0.00      0.00      0.00         2\n",
      "         490       0.00      0.00      0.00         1\n",
      "         491       0.00      0.00      0.00         1\n",
      "         492       0.00      0.00      0.00         5\n",
      "         493       0.00      0.00      0.00         1\n",
      "         494       0.00      0.00      0.00         1\n",
      "         496       0.00      0.00      0.00         1\n",
      "         497       0.00      0.00      0.00         2\n",
      "         498       0.00      0.00      0.00         6\n",
      "         499       0.00      0.00      0.00         2\n",
      "         501       0.00      0.00      0.00         2\n",
      "         502       0.00      0.00      0.00         2\n",
      "         503       0.00      0.00      0.00         2\n",
      "         504       0.00      0.00      0.00         3\n",
      "         505       0.00      0.00      0.00         2\n",
      "         508       0.00      0.00      0.00         3\n",
      "         509       0.00      0.00      0.00         1\n",
      "         511       0.00      0.00      0.00         1\n",
      "         512       0.00      0.00      0.00         2\n",
      "         513       0.00      0.00      0.00         3\n",
      "         514       0.00      0.00      0.00         2\n",
      "         515       0.00      0.00      0.00         1\n",
      "         516       0.00      0.00      0.00         1\n",
      "         517       0.00      0.00      0.00         2\n",
      "         518       0.00      0.00      0.00         2\n",
      "         519       0.00      0.00      0.00         1\n",
      "         520       0.00      0.00      0.00         1\n",
      "         521       0.00      0.00      0.00         1\n",
      "         522       0.00      0.00      0.00         1\n",
      "         524       0.00      0.00      0.00         2\n",
      "         525       0.00      0.00      0.00         1\n",
      "         526       0.00      0.00      0.00         4\n",
      "         528       0.00      0.00      0.00         2\n",
      "         529       0.00      0.00      0.00         3\n",
      "         530       0.00      0.00      0.00         1\n",
      "         531       0.00      0.00      0.00         3\n",
      "         532       0.00      0.00      0.00         1\n",
      "         535       0.00      0.00      0.00         1\n",
      "         536       0.00      0.00      0.00         1\n",
      "         537       0.00      0.00      0.00         2\n",
      "         538       0.00      0.00      0.00         1\n",
      "         539       0.00      0.00      0.00         3\n",
      "         540       0.00      0.00      0.00         1\n",
      "         542       0.00      0.00      0.00         1\n",
      "         543       0.00      0.00      0.00         2\n",
      "         544       0.00      0.00      0.00         2\n",
      "         551       0.00      0.00      0.00         2\n",
      "         554       0.00      0.00      0.00         3\n",
      "         555       0.00      0.00      0.00         2\n",
      "         558       0.00      0.00      0.00         2\n",
      "         559       0.00      0.00      0.00         1\n",
      "         560       0.00      0.00      0.00         1\n",
      "         563       0.00      0.00      0.00         4\n",
      "         564       0.00      0.00      0.00         1\n",
      "         565       0.00      0.00      0.00         2\n",
      "         566       0.00      0.00      0.00         4\n",
      "         567       0.00      0.00      0.00         1\n",
      "         568       0.00      0.00      0.00         2\n",
      "         569       0.00      0.00      0.00         2\n",
      "         570       0.00      0.00      0.00         1\n",
      "         572       0.00      0.00      0.00         1\n",
      "         573       0.00      0.00      0.00         1\n",
      "         576       0.00      0.00      0.00         2\n",
      "         577       0.00      0.00      0.00         1\n",
      "         578       0.00      0.00      0.00         1\n",
      "         579       0.00      0.00      0.00         2\n",
      "         580       0.00      0.00      0.00         1\n",
      "         581       0.00      0.00      0.00         1\n",
      "         582       0.00      0.00      0.00         2\n",
      "         584       0.00      0.00      0.00         2\n",
      "         585       0.00      0.00      0.00         1\n",
      "         586       0.00      0.00      0.00         2\n",
      "         590       0.00      0.00      0.00         3\n",
      "         591       0.00      0.00      0.00         3\n",
      "         593       0.00      0.00      0.00         1\n",
      "         594       0.00      0.00      0.00         2\n",
      "         595       0.00      0.00      0.00         1\n",
      "         597       0.00      0.00      0.00         1\n",
      "         601       0.00      0.00      0.00         2\n",
      "         602       0.00      0.00      0.00         1\n",
      "         605       0.00      0.00      0.00         2\n",
      "         607       0.00      0.00      0.00         2\n",
      "         608       0.00      0.00      0.00         2\n",
      "         611       0.00      0.00      0.00         1\n",
      "         612       0.00      0.00      0.00         1\n",
      "         613       0.00      0.00      0.00         1\n",
      "         614       0.00      0.00      0.00         1\n",
      "         615       0.00      0.00      0.00         1\n",
      "         619       0.00      0.00      0.00         2\n",
      "         620       0.00      0.00      0.00         1\n",
      "         621       0.00      0.00      0.00         1\n",
      "         624       0.00      0.00      0.00         1\n",
      "         625       0.00      0.00      0.00         1\n",
      "         626       0.00      0.00      0.00         3\n",
      "         628       0.00      0.00      0.00         1\n",
      "         630       0.00      0.00      0.00         1\n",
      "         632       0.00      0.00      0.00         2\n",
      "         633       0.00      0.00      0.00         2\n",
      "         634       0.00      0.00      0.00         1\n",
      "         638       0.00      0.00      0.00         1\n",
      "         640       0.00      0.00      0.00         4\n",
      "         642       0.00      0.00      0.00         1\n",
      "         643       0.00      0.00      0.00         1\n",
      "         644       0.00      0.00      0.00         1\n",
      "         646       0.00      0.00      0.00         2\n",
      "         649       0.00      0.00      0.00         2\n",
      "         651       0.00      0.00      0.00         1\n",
      "         654       0.00      0.00      0.00         1\n",
      "         658       0.00      0.00      0.00         1\n",
      "         659       0.00      0.00      0.00         1\n",
      "         664       0.00      0.00      0.00         1\n",
      "         666       0.00      0.00      0.00         1\n",
      "         667       0.00      0.00      0.00         1\n",
      "         668       0.00      0.00      0.00         1\n",
      "         669       0.00      0.00      0.00         1\n",
      "         671       0.00      0.00      0.00         1\n",
      "         673       0.00      0.00      0.00         1\n",
      "         676       0.00      0.00      0.00         1\n",
      "         677       0.00      0.00      0.00         1\n",
      "         678       0.00      0.00      0.00         1\n",
      "         680       0.00      0.00      0.00         1\n",
      "         682       0.00      0.00      0.00         1\n",
      "         684       0.00      0.00      0.00         1\n",
      "         686       0.00      0.00      0.00         2\n",
      "         689       0.00      0.00      0.00         1\n",
      "         698       0.00      0.00      0.00         1\n",
      "         699       0.00      0.00      0.00         1\n",
      "         700       0.00      0.00      0.00         1\n",
      "         702       0.00      0.00      0.00         1\n",
      "         704       0.00      0.00      0.00         1\n",
      "         707       0.00      0.00      0.00         1\n",
      "         717       0.00      0.00      0.00         1\n",
      "         722       0.00      0.00      0.00         1\n",
      "         723       0.00      0.00      0.00         1\n",
      "         724       0.00      0.00      0.00         1\n",
      "         728       0.00      0.00      0.00         1\n",
      "         729       0.00      0.00      0.00         1\n",
      "         737       0.00      0.00      0.00         1\n",
      "         738       0.00      0.00      0.00         1\n",
      "         740       0.00      0.00      0.00         1\n",
      "         741       0.00      0.00      0.00         1\n",
      "         743       0.00      0.00      0.00         1\n",
      "         744       0.00      0.00      0.00         2\n",
      "         751       0.00      0.00      0.00         1\n",
      "         755       0.00      0.00      0.00         1\n",
      "         757       0.00      0.00      0.00         3\n",
      "         758       0.00      0.00      0.00         1\n",
      "         759       0.00      0.00      0.00         1\n",
      "         770       0.00      0.00      0.00         1\n",
      "         774       0.00      0.00      0.00         1\n",
      "         779       0.00      0.00      0.00         2\n",
      "         781       0.00      0.00      0.00         1\n",
      "         782       0.00      0.00      0.00         1\n",
      "         785       0.00      0.00      0.00         1\n",
      "         790       0.00      0.00      0.00         1\n",
      "         792       0.00      0.00      0.00         1\n",
      "         793       0.00      0.00      0.00         1\n",
      "         797       0.00      0.00      0.00         1\n",
      "         808       0.00      0.00      0.00         1\n",
      "         812       0.00      0.00      0.00         1\n",
      "         817       0.00      0.00      0.00         1\n",
      "         823       0.00      0.00      0.00         1\n",
      "         832       0.00      0.00      0.00         1\n",
      "         839       0.00      0.00      0.00         1\n",
      "         842       0.00      0.00      0.00         1\n",
      "         843       0.00      0.00      0.00         1\n",
      "         847       0.00      0.00      0.00         1\n",
      "         862       0.00      0.00      0.00         1\n",
      "         868       0.00      0.00      0.00         1\n",
      "         884       0.00      0.00      0.00         1\n",
      "         886       0.00      0.00      0.00         1\n",
      "         887       0.00      0.00      0.00         1\n",
      "         888       0.00      0.00      0.00         1\n",
      "         897       0.00      0.00      0.00         1\n",
      "         901       0.00      0.00      0.00         1\n",
      "         905       0.00      0.00      0.00         1\n",
      "         922       0.00      0.00      0.00         1\n",
      "         925       0.00      0.00      0.00         1\n",
      "         968       0.00      0.00      0.00         1\n",
      "\n",
      "    accuracy                           0.00      3475\n",
      "   macro avg       0.00      0.00      0.00      3475\n",
      "weighted avg       0.00      0.00      0.00      3475\n",
      "\n",
      "accuracy_score: 0.004316546762589928\n"
     ]
    },
    {
     "name": "stderr",
     "output_type": "stream",
     "text": [
      "/home/wojciech/anaconda3/lib/python3.7/site-packages/sklearn/metrics/_classification.py:1221: UndefinedMetricWarning: Precision and F-score are ill-defined and being set to 0.0 in labels with no predicted samples. Use `zero_division` parameter to control this behavior.\n",
      "  _warn_prf(average, modifier, msg_start, len(result))\n",
      "/home/wojciech/anaconda3/lib/python3.7/site-packages/sklearn/metrics/_classification.py:1221: UndefinedMetricWarning: Recall and F-score are ill-defined and being set to 0.0 in labels with no true samples. Use `zero_division` parameter to control this behavior.\n",
      "  _warn_prf(average, modifier, msg_start, len(result))\n"
     ]
    }
   ],
   "source": [
    "from sklearn.metrics import classification_report, confusion_matrix, accuracy_score\n",
    "\n",
    "print(confusion_matrix(test_outputs,y_val))\n",
    "print(classification_report(test_outputs,y_val))\n",
    "print('accuracy_score:',accuracy_score(test_outputs, y_val))"
   ]
  },
  {
   "cell_type": "markdown",
   "metadata": {},
   "source": [
    "<span style=\"font-size: 150%;background:#ffd966\">We save the whole model</span>  "
   ]
  },
  {
   "cell_type": "code",
   "execution_count": 54,
   "metadata": {},
   "outputs": [
    {
     "name": "stderr",
     "output_type": "stream",
     "text": [
      "/home/wojciech/anaconda3/lib/python3.7/site-packages/torch/serialization.py:402: UserWarning: Couldn't retrieve source code for container of type Model. It won't be checked for correctness upon loading.\n",
      "  \"type \" + obj.__name__ + \". It won't be checked \"\n"
     ]
    }
   ],
   "source": [
    "torch.save(model,'/home/wojciech/Pulpit/3/byk2.pb')"
   ]
  },
  {
   "cell_type": "markdown",
   "metadata": {},
   "source": [
    "<span style=\"font-size: 150%;background:#ffd966\"> We play the whole model"
   ]
  },
  {
   "cell_type": "code",
   "execution_count": 55,
   "metadata": {},
   "outputs": [
    {
     "data": {
      "text/plain": [
       "Model(\n",
       "  (all_embeddings): ModuleList(\n",
       "    (0): Embedding(6, 4)\n",
       "    (1): Embedding(4, 3)\n",
       "    (2): Embedding(14, 8)\n",
       "    (3): Embedding(26, 14)\n",
       "    (4): Embedding(4, 3)\n",
       "    (5): Embedding(9, 6)\n",
       "    (6): Embedding(4, 3)\n",
       "    (7): Embedding(6, 4)\n",
       "  )\n",
       "  (embedding_dropout): Dropout(p=0.4, inplace=False)\n",
       "  (batch_norm_num): BatchNorm1d(4, eps=1e-05, momentum=0.1, affine=True, track_running_stats=True)\n",
       "  (layers): Sequential(\n",
       "    (0): Linear(in_features=49, out_features=200, bias=True)\n",
       "    (1): ReLU(inplace=True)\n",
       "    (2): BatchNorm1d(200, eps=1e-05, momentum=0.1, affine=True, track_running_stats=True)\n",
       "    (3): Dropout(p=0.4, inplace=False)\n",
       "    (4): Linear(in_features=200, out_features=100, bias=True)\n",
       "    (5): ReLU(inplace=True)\n",
       "    (6): BatchNorm1d(100, eps=1e-05, momentum=0.1, affine=True, track_running_stats=True)\n",
       "    (7): Dropout(p=0.4, inplace=False)\n",
       "    (8): Linear(in_features=100, out_features=50, bias=True)\n",
       "    (9): ReLU(inplace=True)\n",
       "    (10): BatchNorm1d(50, eps=1e-05, momentum=0.1, affine=True, track_running_stats=True)\n",
       "    (11): Dropout(p=0.4, inplace=False)\n",
       "    (12): Linear(in_features=50, out_features=2, bias=True)\n",
       "  )\n",
       ")"
      ]
     },
     "execution_count": 55,
     "metadata": {},
     "output_type": "execute_result"
    }
   ],
   "source": [
    "KOT = torch.load('/home/wojciech/Pulpit/3/byk2.pb')\n",
    "KOT.eval()"
   ]
  },
  {
   "cell_type": "markdown",
   "metadata": {},
   "source": [
    "<span style=\"font-size: 190%;background:#d9ead3\">Bierzemy nasze zmienne testowe - które na początku wydzielilismy przed oversampling"
   ]
  },
  {
   "cell_type": "code",
   "execution_count": 56,
   "metadata": {},
   "outputs": [
    {
     "ename": "NameError",
     "evalue": "name 'X_test' is not defined",
     "output_type": "error",
     "traceback": [
      "\u001b[0;31m---------------------------------------------------------------------------\u001b[0m",
      "\u001b[0;31mNameError\u001b[0m                                 Traceback (most recent call last)",
      "\u001b[0;32m<ipython-input-56-cf290153e199>\u001b[0m in \u001b[0;36m<module>\u001b[0;34m\u001b[0m\n\u001b[0;32m----> 1\u001b[0;31m \u001b[0mX_test\u001b[0m\u001b[0;34m.\u001b[0m\u001b[0mshape\u001b[0m\u001b[0;34m\u001b[0m\u001b[0;34m\u001b[0m\u001b[0m\n\u001b[0m",
      "\u001b[0;31mNameError\u001b[0m: name 'X_test' is not defined"
     ]
    }
   ],
   "source": [
    "X_test.shape"
   ]
  },
  {
   "cell_type": "code",
   "execution_count": null,
   "metadata": {},
   "outputs": [],
   "source": [
    "df2 = pd.merge(X_test,y_test, how='inner', left_index=True, right_index=True)"
   ]
  },
  {
   "cell_type": "markdown",
   "metadata": {},
   "source": [
    "Znowu musimy przygotować dane TESTOWE do wrzucenia w model. Model sieci neuronowych jest juz wykonany ale trzeba przygotować dane, niby nowe dane, dane które wydzieliliśmy na początku. To najlepszy sposób na sprawdzenie na ile model jest dobry. To co jest poniżej to tylko kopia działań, które zrobiłem wyżej aby przygotować dane treningowe przed uruchomieniem modelu    "
   ]
  },
  {
   "cell_type": "markdown",
   "metadata": {},
   "source": [
    "<span style=\"font-size: 150%;color:#1155cc\"> Mojej produkcji podziału na dyskretne i ciągłe\n",
    "    \n",
    "    \n",
    "Które z tych funkcji są kategoryczne?\n",
    "\n",
    "Stawiam dwa warunki: \n",
    "\n",
    "1. funkcja jest kategoryczna bo ma format 'object'\n",
    "2. funkcja jest kategoryczna bo ma do 24 unikalnych wartości"
   ]
  },
  {
   "cell_type": "code",
   "execution_count": null,
   "metadata": {},
   "outputs": [],
   "source": [
    "a,b = df2.shape     #<- ile mamy kolumn\n",
    "b\n",
    "\n",
    "print('ONLY DISCRETE FUNCTION')\n",
    "print('----------------------')\n",
    "for i in range(0,b):\n",
    "    i = df2.columns[i]\n",
    "    f = df2[i].dtypes\n",
    "    h = df2[i].nunique()\n",
    "    \n",
    "    if f == np.object or h<=24:\n",
    "        print(i,\"---\",f,\"---\",h)"
   ]
  },
  {
   "cell_type": "code",
   "execution_count": null,
   "metadata": {},
   "outputs": [],
   "source": [
    "df2.columns"
   ]
  },
  {
   "cell_type": "code",
   "execution_count": null,
   "metadata": {},
   "outputs": [],
   "source": []
  },
  {
   "cell_type": "markdown",
   "metadata": {},
   "source": [
    "<span style=\"font-size: 150%;color:#1155cc\"> Robie to ręcznie - może potem zrobie do tego automat"
   ]
  },
  {
   "cell_type": "code",
   "execution_count": null,
   "metadata": {},
   "outputs": [],
   "source": [
    "categorical_columns = ['Gender', 'Hypertension', 'Heart_Disease', 'Ever_Married', 'Type_Of_Work',\n",
    "       'Residence','Smoking_Status']\n",
    "numerical_columns = ['Age_In_Days', 'Avg_Glucose','BMI']"
   ]
  },
  {
   "cell_type": "code",
   "execution_count": null,
   "metadata": {},
   "outputs": [],
   "source": [
    "df2['Age_In_Days'].value_counts()"
   ]
  },
  {
   "cell_type": "markdown",
   "metadata": {},
   "source": [
    "### We determine that the output variable is the 'Stroke' column"
   ]
  },
  {
   "cell_type": "code",
   "execution_count": null,
   "metadata": {},
   "outputs": [],
   "source": [
    "outputs = ['Stroke']"
   ]
  },
  {
   "cell_type": "markdown",
   "metadata": {},
   "source": [
    "### Digitization of text variables"
   ]
  },
  {
   "cell_type": "code",
   "execution_count": null,
   "metadata": {},
   "outputs": [],
   "source": [
    "df2.dtypes"
   ]
  },
  {
   "cell_type": "markdown",
   "metadata": {},
   "source": [
    "We need to convert types for qualitative columns to category. We can do this using the astype () function, as shown below:"
   ]
  },
  {
   "cell_type": "markdown",
   "metadata": {},
   "source": [
    "<span style=\"font-size: 150%;color:#1155cc\"> Zmieniam format zmiennych kategorycznych type: 'category'</span>"
   ]
  },
  {
   "cell_type": "code",
   "execution_count": null,
   "metadata": {},
   "outputs": [],
   "source": [
    "for category in categorical_columns:\n",
    "    df2[category] = df2[category].astype('category')"
   ]
  },
  {
   "cell_type": "code",
   "execution_count": null,
   "metadata": {},
   "outputs": [],
   "source": [
    "df2.dtypes"
   ]
  },
  {
   "cell_type": "markdown",
   "metadata": {},
   "source": [
    "### Digitization of data"
   ]
  },
  {
   "cell_type": "markdown",
   "metadata": {},
   "source": [
    "### Why did we digitize data in the format?"
   ]
  },
  {
   "cell_type": "markdown",
   "metadata": {},
   "source": [
    "The basic purpose of separating categorical columns from numeric columns is that the values in the numeric column can be directly input into neural networks. However, categorized column values must first be converted to numeric types."
   ]
  },
  {
   "cell_type": "code",
   "execution_count": null,
   "metadata": {},
   "outputs": [],
   "source": [
    "categorical_columns"
   ]
  },
  {
   "cell_type": "markdown",
   "metadata": {},
   "source": [
    "### Conversion of categorical variables to Numpy matrix"
   ]
  },
  {
   "cell_type": "code",
   "execution_count": null,
   "metadata": {},
   "outputs": [],
   "source": [
    "p1 = df2['Gender'].cat.codes.values\n",
    "p2 = df2['Hypertension'].cat.codes.values\n",
    "p3 = df2['Heart_Disease'].cat.codes.values\n",
    "p4 = df2['Ever_Married'].cat.codes.values\n",
    "p5 = df2['Type_Of_Work'].cat.codes.values\n",
    "p6 = df2['Residence'].cat.codes.values\n",
    "p7 = df2['Smoking_Status'].cat.codes.values\n",
    "\n",
    "\n",
    "NumP_matrix = np.stack([p1,p2,p3,p4,p5,p6,p7], 1)   \n",
    "\n",
    "NumP_matrix[:10]\n"
   ]
  },
  {
   "cell_type": "markdown",
   "metadata": {},
   "source": [
    "### Odpalam karte graficzną GPU"
   ]
  },
  {
   "cell_type": "raw",
   "metadata": {},
   "source": [
    "#device = torch.device('cpu') # obliczenia robie na CPU\n",
    "device = torch.device('cuda') # obliczenia robie na GPU"
   ]
  },
  {
   "cell_type": "code",
   "execution_count": null,
   "metadata": {},
   "outputs": [],
   "source": [
    "device = torch.device('cuda' if torch.cuda.is_available() else 'cpu')"
   ]
  },
  {
   "cell_type": "markdown",
   "metadata": {},
   "source": [
    "### Creating a Pytorch tensor from the Numpy matrix"
   ]
  },
  {
   "cell_type": "code",
   "execution_count": null,
   "metadata": {},
   "outputs": [],
   "source": [
    "categorical_data = torch.tensor(NumP_matrix, dtype=torch.int64, device=device)\n",
    "categorical_data[:10]"
   ]
  },
  {
   "cell_type": "markdown",
   "metadata": {},
   "source": [
    "### Conversion of DataFrame numeric columns to a Pytorch tensor"
   ]
  },
  {
   "cell_type": "code",
   "execution_count": null,
   "metadata": {},
   "outputs": [],
   "source": [
    "numerical_data = np.stack([df2[col].values for col in numerical_columns], 1)\n",
    "numerical_data = torch.tensor(numerical_data, dtype=torch.float, device=device)\n",
    "numerical_data[:5]"
   ]
  },
  {
   "cell_type": "markdown",
   "metadata": {},
   "source": [
    "### Convert result variables to the Pytorch tensor"
   ]
  },
  {
   "cell_type": "code",
   "execution_count": null,
   "metadata": {},
   "outputs": [],
   "source": [
    "outputs = torch.tensor(df2[outputs].values).flatten()\n",
    "outputs = torch.tensor(outputs, device=device)\n",
    "outputs[:5]"
   ]
  },
  {
   "cell_type": "markdown",
   "metadata": {},
   "source": [
    "### Let's sum up the tensors"
   ]
  },
  {
   "cell_type": "code",
   "execution_count": null,
   "metadata": {},
   "outputs": [],
   "source": [
    "print('categorical_data: ',categorical_data.shape)\n",
    "print('numerical_data:   ',numerical_data.shape)\n",
    "print('outputs:          ',outputs.shape)"
   ]
  },
  {
   "cell_type": "markdown",
   "metadata": {},
   "source": [
    "## <span style=\"color:red\">settlement</span>\n",
    "Przekształciliśmy nasze kolumny kategorialne na liczbowe, w których unikalną wartość reprezentuje jedna liczba całkowita (cyfryzacja - np. Palacz to 1). Na podstawie takiej kolumny (zmiennej) możemy trenować model, ale jest lepszy sposób ...\n",
    "\n",
    "Lepszym sposobem jest przedstawienie wartości w kolumnie jakościowej jako N-wymiarowego wektora zamiast pojedynczej liczby całkowitej. Ten proces nazywa się osadzaniem. Wektor jest w stanie uchwycić więcej informacji i może znaleźć relacje między różnymi wartościami kategorialnymi w bardziej odpowiedni sposób. Dlatego będziemy przedstawiać wartości w kolumnach kategorialnych w postaci wektorów N-wymiarowych.\n",
    "\n",
    "Musimy zdefiniować rozmiar osadzania (wymiary wektora) dla wszystkich kolumn jakościowych. Nie ma sztywnej zasady dotyczącej liczby wymiarów. Dobrą zasadą definiowania rozmiaru osadzania dla kolumny jest podzielenie liczby unikalnych wartości w kolumnie przez 2 (ale nie więcej niż 50).\n",
    "\n",
    "Poniższy skrypt tworzy krotkę zawierającą liczbę unikalnych wartości i rozmiary wymiarów dla wszystkich kolumn jakościowych (dyskretnych).\n",
    "\n",
    "Zasada jest prosta: w matrycy osadzającej (categorical_embedding_sizes) musi zawsze znajdować się liczba wierszy większa niż zakres zmiennych w liczbie wierszy: dlatego dodałem col_size + 2, to duży zapas."
   ]
  },
  {
   "cell_type": "code",
   "execution_count": null,
   "metadata": {},
   "outputs": [],
   "source": [
    "categorical_column_sizes = [len(df2[column].cat.categories) for column in categorical_columns]\n",
    "categorical_embedding_sizes = [(col_size+2, min(50, (col_size+5)//2)) for col_size in categorical_column_sizes]\n",
    "print(categorical_embedding_sizes)"
   ]
  },
  {
   "cell_type": "code",
   "execution_count": null,
   "metadata": {},
   "outputs": [],
   "source": [
    "A = categorical_data\n",
    "A[:4]"
   ]
  },
  {
   "cell_type": "code",
   "execution_count": null,
   "metadata": {},
   "outputs": [],
   "source": [
    "B = numerical_data\n",
    "B[:4]"
   ]
  },
  {
   "cell_type": "code",
   "execution_count": null,
   "metadata": {},
   "outputs": [],
   "source": [
    "y = outputs"
   ]
  },
  {
   "cell_type": "markdown",
   "metadata": {},
   "source": [
    "<span style=\"font-size: 190%;background:#d9ead3\"> Teraz podstawiamy te wartości do wgranego modelu KOT\n",
    "    \n",
    "    wynik modelu to y_pred_AB"
   ]
  },
  {
   "cell_type": "code",
   "execution_count": null,
   "metadata": {},
   "outputs": [],
   "source": [
    "A.shape"
   ]
  },
  {
   "cell_type": "code",
   "execution_count": null,
   "metadata": {},
   "outputs": [],
   "source": [
    "B.shape"
   ]
  },
  {
   "cell_type": "code",
   "execution_count": null,
   "metadata": {},
   "outputs": [],
   "source": [
    "y_pred_AB = KOT(A, B)\n",
    "y_pred_AB[:10]"
   ]
  },
  {
   "cell_type": "code",
   "execution_count": null,
   "metadata": {},
   "outputs": [],
   "source": [
    "with torch.no_grad():\n",
    "    y_val_AB = KOT(A,B)\n",
    "    loss = loss_function( y_val_AB, y)\n",
    "print(f'Loss train_set: {loss:.8f}')"
   ]
  },
  {
   "cell_type": "markdown",
   "metadata": {},
   "source": [
    "przerabiamy z CUDA na CPU"
   ]
  },
  {
   "cell_type": "code",
   "execution_count": null,
   "metadata": {},
   "outputs": [],
   "source": [
    "y_val_AB = y_val_AB.cpu().data.numpy()\n",
    "y = y.cpu().data.numpy()"
   ]
  },
  {
   "cell_type": "code",
   "execution_count": null,
   "metadata": {},
   "outputs": [],
   "source": [
    "y_val_AB = np.argmax(y_val_AB, axis=1)"
   ]
  },
  {
   "cell_type": "code",
   "execution_count": null,
   "metadata": {},
   "outputs": [],
   "source": [
    "from sklearn.metrics import classification_report, confusion_matrix, accuracy_score\n",
    "\n",
    "print(confusion_matrix(y,y_val_AB))\n",
    "print(classification_report(y,y_val_AB))\n",
    "print(\"Accuracy_score:\" ,accuracy_score(y, y_val_AB))"
   ]
  },
  {
   "attachments": {
    "obraz.png": {
     "image/png": "[encoded data removed]"
    }
   },
   "cell_type": "markdown",
   "metadata": {},
   "source": [
    "<span style=\"font-size: 100%;color:#999999\">loss_function = torch.nn.MSELoss(reduction='sum')\n",
    "\n",
    "loss_function = nn.CrossEntropyLoss()\n",
    "\n",
    "<span style=\"font-size: 100%;color:#999999\">loss_function = nn.BCEWithLogitsLoss()\n",
    "\n",
    "optimizer = torch.optim.Adam(model.parameters(), lr=0.01)\n",
    "\n",
    "<span style=\"font-size: 100%;color:#999999\">optimizer = torch.optim.SGD(model.parameters(), lr=0.001)\n",
    "\n",
    "<span style=\"font-size: 100%;color:#999999\">optimizer = torch.optim.Rprop(model.parameters(), lr=0.001, etas=(0.5, 1.2), step_sizes=(1e-06, 50))\n",
    "\n",
    "![obraz.png](attachment:obraz.png)"
   ]
  },
  {
   "cell_type": "code",
   "execution_count": null,
   "metadata": {},
   "outputs": [],
   "source": [
    "print('Measuring the time to complete this task:')\n",
    "print((time.time() - start_time)/60) ## koniec pomiaru czasu"
   ]
  }
 ],
 "metadata": {
  "kernelspec": {
   "display_name": "Python 3",
   "language": "python",
   "name": "python3"
  },
  "language_info": {
   "codemirror_mode": {
    "name": "ipython",
    "version": 3
   },
   "file_extension": ".py",
   "mimetype": "text/x-python",
   "name": "python",
   "nbconvert_exporter": "python",
   "pygments_lexer": "ipython3",
   "version": "3.7.4"
  }
 },
 "nbformat": 4,
 "nbformat_minor": 2
}
