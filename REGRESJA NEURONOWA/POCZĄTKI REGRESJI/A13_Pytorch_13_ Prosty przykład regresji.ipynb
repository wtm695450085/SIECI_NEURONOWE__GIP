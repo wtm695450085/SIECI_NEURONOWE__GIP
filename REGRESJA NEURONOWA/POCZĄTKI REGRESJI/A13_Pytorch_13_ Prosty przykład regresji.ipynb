{
 "cells": [
  {
   "cell_type": "markdown",
   "metadata": {},
   "source": [
    "<span style=\"font-size: 280%;color:#1155cc\"> Pytorch_13_ Prosty przykład regresji\n",
    "\n",
    "<span style=\"font-size: 180%;color:red\"> 17.09.2020  "
   ]
  },
  {
   "cell_type": "code",
   "execution_count": 1,
   "metadata": {},
   "outputs": [],
   "source": [
    "import torch\n",
    "from torch.autograd import Variable\n",
    "import torch.nn.functional as F\n",
    "import torch.utils.data as Data\n",
    "\n",
    "import matplotlib.pyplot as plt\n",
    "%matplotlib inline\n",
    "\n",
    "import numpy as np\n",
    "import imageio"
   ]
  },
  {
   "cell_type": "markdown",
   "metadata": {},
   "source": [
    "### Krok 1. Tworzenie zbioru danych\n"
   ]
  },
  {
   "cell_type": "code",
   "execution_count": 2,
   "metadata": {},
   "outputs": [
    {
     "name": "stdout",
     "output_type": "stream",
     "text": [
      "(29062, 20)\n",
      "Unnamed: 0            int64\n",
      "ID                    int64\n",
      "Gender               object\n",
      "Hypertension          int64\n",
      "Heart_Disease         int64\n",
      "Ever_Married         object\n",
      "Type_Of_Work         object\n",
      "Residence            object\n",
      "Avg_Glucose         float64\n",
      "BMI                 float64\n",
      "Smoking_Status       object\n",
      "Stroke                int64\n",
      "Age_years           float64\n",
      "Age_years_10         object\n",
      "Gender_C              int64\n",
      "Ever_Married_C        int64\n",
      "Type_Of_Work_C        int64\n",
      "Residence_C           int64\n",
      "Smoking_Status_C      int64\n",
      "Age_years_10_C        int64\n",
      "dtype: object\n",
      "29061\n",
      "Index(['Unnamed: 0', 'ID', 'Gender', 'Hypertension', 'Heart_Disease',\n",
      "       'Ever_Married', 'Type_Of_Work', 'Residence', 'Avg_Glucose', 'BMI',\n",
      "       'Smoking_Status', 'Stroke', 'Age_years', 'Age_years_10', 'Gender_C',\n",
      "       'Ever_Married_C', 'Type_Of_Work_C', 'Residence_C', 'Smoking_Status_C',\n",
      "       'Age_years_10_C'],\n",
      "      dtype='object')\n"
     ]
    },
    {
     "data": {
      "text/html": [
       "<div>\n",
       "<style scoped>\n",
       "    .dataframe tbody tr th:only-of-type {\n",
       "        vertical-align: middle;\n",
       "    }\n",
       "\n",
       "    .dataframe tbody tr th {\n",
       "        vertical-align: top;\n",
       "    }\n",
       "\n",
       "    .dataframe thead th {\n",
       "        text-align: right;\n",
       "    }\n",
       "</style>\n",
       "<table border=\"1\" class=\"dataframe\">\n",
       "  <thead>\n",
       "    <tr style=\"text-align: right;\">\n",
       "      <th></th>\n",
       "      <th>Unnamed: 0</th>\n",
       "      <th>ID</th>\n",
       "      <th>Gender</th>\n",
       "      <th>Hypertension</th>\n",
       "      <th>Heart_Disease</th>\n",
       "      <th>Ever_Married</th>\n",
       "      <th>Type_Of_Work</th>\n",
       "      <th>Residence</th>\n",
       "      <th>Avg_Glucose</th>\n",
       "      <th>BMI</th>\n",
       "      <th>Smoking_Status</th>\n",
       "      <th>Stroke</th>\n",
       "      <th>Age_years</th>\n",
       "      <th>Age_years_10</th>\n",
       "      <th>Gender_C</th>\n",
       "      <th>Ever_Married_C</th>\n",
       "      <th>Type_Of_Work_C</th>\n",
       "      <th>Residence_C</th>\n",
       "      <th>Smoking_Status_C</th>\n",
       "      <th>Age_years_10_C</th>\n",
       "    </tr>\n",
       "  </thead>\n",
       "  <tbody>\n",
       "    <tr>\n",
       "      <td>0</td>\n",
       "      <td>0</td>\n",
       "      <td>30650</td>\n",
       "      <td>Male</td>\n",
       "      <td>1</td>\n",
       "      <td>0</td>\n",
       "      <td>Yes</td>\n",
       "      <td>Private</td>\n",
       "      <td>Urban</td>\n",
       "      <td>87.96</td>\n",
       "      <td>39.2</td>\n",
       "      <td>never smoked</td>\n",
       "      <td>0</td>\n",
       "      <td>58.093151</td>\n",
       "      <td>(53.126, 59.076]</td>\n",
       "      <td>1</td>\n",
       "      <td>1</td>\n",
       "      <td>2</td>\n",
       "      <td>1</td>\n",
       "      <td>1</td>\n",
       "      <td>5</td>\n",
       "    </tr>\n",
       "    <tr>\n",
       "      <td>1</td>\n",
       "      <td>1</td>\n",
       "      <td>57008</td>\n",
       "      <td>Female</td>\n",
       "      <td>0</td>\n",
       "      <td>0</td>\n",
       "      <td>Yes</td>\n",
       "      <td>Private</td>\n",
       "      <td>Rural</td>\n",
       "      <td>69.04</td>\n",
       "      <td>35.9</td>\n",
       "      <td>formerly smoked</td>\n",
       "      <td>0</td>\n",
       "      <td>70.076712</td>\n",
       "      <td>(65.121, 74.11]</td>\n",
       "      <td>0</td>\n",
       "      <td>1</td>\n",
       "      <td>2</td>\n",
       "      <td>0</td>\n",
       "      <td>0</td>\n",
       "      <td>7</td>\n",
       "    </tr>\n",
       "    <tr>\n",
       "      <td>2</td>\n",
       "      <td>2</td>\n",
       "      <td>53725</td>\n",
       "      <td>Female</td>\n",
       "      <td>0</td>\n",
       "      <td>0</td>\n",
       "      <td>Yes</td>\n",
       "      <td>Private</td>\n",
       "      <td>Urban</td>\n",
       "      <td>77.59</td>\n",
       "      <td>17.7</td>\n",
       "      <td>formerly smoked</td>\n",
       "      <td>0</td>\n",
       "      <td>52.041096</td>\n",
       "      <td>(48.082, 53.126]</td>\n",
       "      <td>0</td>\n",
       "      <td>1</td>\n",
       "      <td>2</td>\n",
       "      <td>1</td>\n",
       "      <td>0</td>\n",
       "      <td>4</td>\n",
       "    </tr>\n",
       "  </tbody>\n",
       "</table>\n",
       "</div>"
      ],
      "text/plain": [
       "   Unnamed: 0     ID  Gender  Hypertension  Heart_Disease Ever_Married  \\\n",
       "0           0  30650    Male             1              0          Yes   \n",
       "1           1  57008  Female             0              0          Yes   \n",
       "2           2  53725  Female             0              0          Yes   \n",
       "\n",
       "  Type_Of_Work Residence  Avg_Glucose   BMI   Smoking_Status  Stroke  \\\n",
       "0      Private     Urban        87.96  39.2     never smoked       0   \n",
       "1      Private     Rural        69.04  35.9  formerly smoked       0   \n",
       "2      Private     Urban        77.59  17.7  formerly smoked       0   \n",
       "\n",
       "   Age_years      Age_years_10  Gender_C  Ever_Married_C  Type_Of_Work_C  \\\n",
       "0  58.093151  (53.126, 59.076]         1               1               2   \n",
       "1  70.076712   (65.121, 74.11]         0               1               2   \n",
       "2  52.041096  (48.082, 53.126]         0               1               2   \n",
       "\n",
       "   Residence_C  Smoking_Status_C  Age_years_10_C  \n",
       "0            1                 1               5  \n",
       "1            0                 0               7  \n",
       "2            1                 0               4  "
      ]
     },
     "execution_count": 2,
     "metadata": {},
     "output_type": "execute_result"
    }
   ],
   "source": [
    "import pandas as pd\n",
    "\n",
    "df = pd.read_csv('/home/wojciech/Pulpit/1/Stroke_Prediction_NUM.csv')\n",
    "#  , nrows=1000,parse_dates=['Date'],usecols = ['Unnamed: 0','Date','Consumption']\n",
    "\n",
    "print(df.shape)\n",
    "print(df.dtypes)\n",
    "print(df['Unnamed: 0'].max())\n",
    "print(df.columns)\n",
    "df.head(3)"
   ]
  },
  {
   "cell_type": "code",
   "execution_count": 3,
   "metadata": {},
   "outputs": [
    {
     "data": {
      "text/plain": [
       "Index(['Unnamed: 0', 'ID', 'Hypertension', 'Heart_Disease', 'Avg_Glucose',\n",
       "       'BMI', 'Stroke', 'Age_years', 'Gender_C', 'Ever_Married_C',\n",
       "       'Type_Of_Work_C', 'Residence_C', 'Smoking_Status_C', 'Age_years_10_C'],\n",
       "      dtype='object')"
      ]
     },
     "execution_count": 3,
     "metadata": {},
     "output_type": "execute_result"
    }
   ],
   "source": [
    "df.describe(include=[np.number]).columns"
   ]
  },
  {
   "cell_type": "code",
   "execution_count": 4,
   "metadata": {},
   "outputs": [],
   "source": [
    "import torch\n",
    "import torch.nn as nn\n",
    "\n",
    "# Create dummy input and target tensors (data)\n",
    "x = torch.tensor((df['Hypertension'],df['Heart_Disease'],df['Avg_Glucose'],df['BMI'],df['Age_years'],df['Gender_C'],df['Ever_Married_C'],df['Type_Of_Work_C'],df['Residence_C'],df['Smoking_Status_C'],df['Age_years_10_C']), dtype=torch.float)\n",
    "y = torch.tensor(df['Stroke'], dtype=torch.float)"
   ]
  },
  {
   "cell_type": "code",
   "execution_count": 5,
   "metadata": {},
   "outputs": [],
   "source": [
    "x =torch.transpose(x.flip(0),0,1)\n",
    "y = y.reshape(-1,1)\n",
    "y = y.view(y.shape[0],1)"
   ]
  },
  {
   "cell_type": "code",
   "execution_count": 6,
   "metadata": {},
   "outputs": [
    {
     "data": {
      "text/plain": [
       "tensor([[ 5.0000,  1.0000,  1.0000,  ..., 87.9600,  0.0000,  1.0000],\n",
       "        [ 7.0000,  0.0000,  0.0000,  ..., 69.0400,  0.0000,  0.0000],\n",
       "        [ 4.0000,  0.0000,  1.0000,  ..., 77.5900,  0.0000,  0.0000],\n",
       "        ...,\n",
       "        [ 8.0000,  0.0000,  1.0000,  ..., 91.9400,  0.0000,  1.0000],\n",
       "        [ 2.0000,  1.0000,  1.0000,  ..., 99.1600,  0.0000,  0.0000],\n",
       "        [ 8.0000,  1.0000,  1.0000,  ..., 79.4800,  0.0000,  0.0000]])"
      ]
     },
     "execution_count": 6,
     "metadata": {},
     "output_type": "execute_result"
    }
   ],
   "source": [
    "x"
   ]
  },
  {
   "cell_type": "code",
   "execution_count": 7,
   "metadata": {},
   "outputs": [
    {
     "data": {
      "text/plain": [
       "tensor([[0.],\n",
       "        [0.],\n",
       "        [0.],\n",
       "        ...,\n",
       "        [0.],\n",
       "        [0.],\n",
       "        [0.]])"
      ]
     },
     "execution_count": 7,
     "metadata": {},
     "output_type": "execute_result"
    }
   ],
   "source": [
    "y"
   ]
  },
  {
   "cell_type": "code",
   "execution_count": 8,
   "metadata": {},
   "outputs": [
    {
     "name": "stdout",
     "output_type": "stream",
     "text": [
      "x.shape:  torch.Size([29062, 11])\n",
      "y.shape:  torch.Size([29062, 1])\n"
     ]
    }
   ],
   "source": [
    "print('x.shape: ',x.shape)\n",
    "print('y.shape: ',y.shape)"
   ]
  },
  {
   "cell_type": "markdown",
   "metadata": {},
   "source": [
    "<span style=\"font-size: 130%;color:#1155cc\"> Model sieci neuronwej"
   ]
  },
  {
   "cell_type": "code",
   "execution_count": 9,
   "metadata": {},
   "outputs": [],
   "source": [
    "# Create a model\n",
    "model = nn.Sequential(nn.Linear(11, 21),\n",
    "                     nn.ReLU(),\n",
    "                     nn.Linear(21, 1),\n",
    "                     nn.Sigmoid())"
   ]
  },
  {
   "cell_type": "markdown",
   "metadata": {},
   "source": [
    "<span style=\"font-size: 130%;color:#1155cc\"> Funkcja straty i optymalizer"
   ]
  },
  {
   "cell_type": "code",
   "execution_count": 10,
   "metadata": {},
   "outputs": [],
   "source": [
    "# Construct the loss function\n",
    "loss_fn = torch.nn.MSELoss()\n",
    "\n",
    "# Construct the optimizer (Stochastic Gradient Descent in this case)\n",
    "optimizer = torch.optim.SGD(model.parameters(), lr=0.001)"
   ]
  },
  {
   "cell_type": "code",
   "execution_count": 11,
   "metadata": {},
   "outputs": [
    {
     "name": "stdout",
     "output_type": "stream",
     "text": [
      "epoch:  0  loss:  0.8225976824760437\n",
      "epoch:  1  loss:  0.7691650986671448\n",
      "epoch:  2  loss:  0.6910985708236694\n",
      "epoch:  3  loss:  0.5857616066932678\n",
      "epoch:  4  loss:  0.46188119053840637\n",
      "epoch:  5  loss:  0.3330153524875641\n",
      "epoch:  6  loss:  0.2104237824678421\n",
      "epoch:  7  loss:  0.12341126799583435\n",
      "epoch:  8  loss:  0.08310915529727936\n",
      "epoch:  9  loss:  0.06468737870454788\n",
      "epoch:  10  loss:  0.054524533450603485\n",
      "epoch:  11  loss:  0.048081353306770325\n",
      "epoch:  12  loss:  0.04361414536833763\n",
      "epoch:  13  loss:  0.04032546654343605\n",
      "epoch:  14  loss:  0.037799108773469925\n",
      "epoch:  15  loss:  0.035795941948890686\n",
      "epoch:  16  loss:  0.03416825085878372\n",
      "epoch:  17  loss:  0.03281950205564499\n",
      "epoch:  18  loss:  0.03168383613228798\n",
      "epoch:  19  loss:  0.03071467950940132\n",
      "epoch:  20  loss:  0.029878154397010803\n",
      "epoch:  21  loss:  0.02914898470044136\n",
      "epoch:  22  loss:  0.02850792557001114\n",
      "epoch:  23  loss:  0.027940047904849052\n",
      "epoch:  24  loss:  0.027433620765805244\n",
      "epoch:  25  loss:  0.02697930857539177\n",
      "epoch:  26  loss:  0.026569535955786705\n",
      "epoch:  27  loss:  0.02619812823832035\n",
      "epoch:  28  loss:  0.025859970599412918\n",
      "epoch:  29  loss:  0.025550860911607742\n",
      "epoch:  30  loss:  0.02526724338531494\n",
      "epoch:  31  loss:  0.025006121024489403\n",
      "epoch:  32  loss:  0.024764955043792725\n",
      "epoch:  33  loss:  0.02454155683517456\n",
      "epoch:  34  loss:  0.024334054440259933\n",
      "epoch:  35  loss:  0.024140827357769012\n",
      "epoch:  36  loss:  0.023960480466485023\n",
      "epoch:  37  loss:  0.023791775107383728\n",
      "epoch:  38  loss:  0.023633627220988274\n",
      "epoch:  39  loss:  0.023485086858272552\n",
      "epoch:  40  loss:  0.02334531582891941\n",
      "epoch:  41  loss:  0.023213563486933708\n",
      "epoch:  42  loss:  0.023089172318577766\n",
      "epoch:  43  loss:  0.022971540689468384\n",
      "epoch:  44  loss:  0.022860141471028328\n",
      "epoch:  45  loss:  0.022754501551389694\n",
      "epoch:  46  loss:  0.02265419065952301\n",
      "epoch:  47  loss:  0.02255881205201149\n",
      "epoch:  48  loss:  0.02246801368892193\n",
      "epoch:  49  loss:  0.022381488233804703\n",
      "epoch:  50  loss:  0.02229893207550049\n",
      "epoch:  51  loss:  0.022220086306333542\n",
      "epoch:  52  loss:  0.022144699469208717\n",
      "epoch:  53  loss:  0.022072559222579002\n",
      "epoch:  54  loss:  0.02200346067547798\n",
      "epoch:  55  loss:  0.021937217563390732\n",
      "epoch:  56  loss:  0.021873658522963524\n",
      "epoch:  57  loss:  0.021812623366713524\n",
      "epoch:  58  loss:  0.021753961220383644\n",
      "epoch:  59  loss:  0.021697552874684334\n",
      "epoch:  60  loss:  0.021643254905939102\n",
      "epoch:  61  loss:  0.02159096486866474\n",
      "epoch:  62  loss:  0.021540567278862\n",
      "epoch:  63  loss:  0.021491963416337967\n",
      "epoch:  64  loss:  0.02144506201148033\n",
      "epoch:  65  loss:  0.021399768069386482\n",
      "epoch:  66  loss:  0.021356012672185898\n",
      "epoch:  67  loss:  0.021313710138201714\n",
      "epoch:  68  loss:  0.021272791549563408\n",
      "epoch:  69  loss:  0.021233191713690758\n",
      "epoch:  70  loss:  0.021194854751229286\n",
      "epoch:  71  loss:  0.02115771733224392\n",
      "epoch:  72  loss:  0.021121716126799583\n",
      "epoch:  73  loss:  0.021086808294057846\n",
      "epoch:  74  loss:  0.021052949130535126\n",
      "epoch:  75  loss:  0.021020077168941498\n",
      "epoch:  76  loss:  0.020988166332244873\n",
      "epoch:  77  loss:  0.02095717005431652\n",
      "epoch:  78  loss:  0.02092704363167286\n",
      "epoch:  79  loss:  0.02089775912463665\n",
      "epoch:  80  loss:  0.020869281142950058\n",
      "epoch:  81  loss:  0.0208415687084198\n",
      "epoch:  82  loss:  0.02081460691988468\n",
      "epoch:  83  loss:  0.02078835666179657\n",
      "epoch:  84  loss:  0.020762793719768524\n",
      "epoch:  85  loss:  0.02073788270354271\n",
      "epoch:  86  loss:  0.02071361057460308\n",
      "epoch:  87  loss:  0.020689941942691803\n",
      "epoch:  88  loss:  0.02066686935722828\n",
      "epoch:  89  loss:  0.020644355565309525\n",
      "epoch:  90  loss:  0.020622387528419495\n",
      "epoch:  91  loss:  0.020600946620106697\n",
      "epoch:  92  loss:  0.02058001235127449\n",
      "epoch:  93  loss:  0.02055957168340683\n",
      "epoch:  94  loss:  0.020539604127407074\n",
      "epoch:  95  loss:  0.020520087331533432\n",
      "epoch:  96  loss:  0.020501011982560158\n",
      "epoch:  97  loss:  0.020482368767261505\n",
      "epoch:  98  loss:  0.020464137196540833\n",
      "epoch:  99  loss:  0.020446298643946648\n"
     ]
    }
   ],
   "source": [
    "# Gradient Descent\n",
    "for epoch in range(100):\n",
    "    # Forward pass: Compute predicted y by passing x to the model\n",
    "    y_pred = model(x)\n",
    "\n",
    "    # Compute and print loss\n",
    "    loss = loss_fn(y_pred, y)\n",
    "    print('epoch: ', epoch,' loss: ', loss.item())\n",
    "\n",
    "    # Zero gradients, perform a backward pass, and update the weights.\n",
    "    optimizer.zero_grad()\n",
    "    \n",
    "    # perform a backward pass (backpropagation)\n",
    "    loss.backward()\n",
    "    \n",
    "    # Update the parameters\n",
    "    optimizer.step()"
   ]
  },
  {
   "cell_type": "code",
   "execution_count": 12,
   "metadata": {},
   "outputs": [
    {
     "data": {
      "text/plain": [
       "tensor([[0.0036],\n",
       "        [0.0028],\n",
       "        [0.0091],\n",
       "        ...,\n",
       "        [0.0010],\n",
       "        [0.0122],\n",
       "        [0.0023]], grad_fn=<SigmoidBackward>)"
      ]
     },
     "execution_count": 12,
     "metadata": {},
     "output_type": "execute_result"
    }
   ],
   "source": [
    " y_pred"
   ]
  },
  {
   "cell_type": "code",
   "execution_count": null,
   "metadata": {},
   "outputs": [],
   "source": []
  },
  {
   "cell_type": "code",
   "execution_count": null,
   "metadata": {},
   "outputs": [],
   "source": []
  }
 ],
 "metadata": {
  "kernelspec": {
   "display_name": "Python 3",
   "language": "python",
   "name": "python3"
  },
  "language_info": {
   "codemirror_mode": {
    "name": "ipython",
    "version": 3
   },
   "file_extension": ".py",
   "mimetype": "text/x-python",
   "name": "python",
   "nbconvert_exporter": "python",
   "pygments_lexer": "ipython3",
   "version": "3.7.4"
  }
 },
 "nbformat": 4,
 "nbformat_minor": 2
}
